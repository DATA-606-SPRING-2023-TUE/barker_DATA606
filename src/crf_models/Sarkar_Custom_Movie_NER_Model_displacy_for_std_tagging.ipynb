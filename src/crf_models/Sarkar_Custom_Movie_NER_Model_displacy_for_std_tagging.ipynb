{
  "nbformat": 4,
  "nbformat_minor": 0,
  "metadata": {
    "colab": {
      "provenance": []
    },
    "kernelspec": {
      "name": "python3",
      "display_name": "Python 3"
    },
    "language_info": {
      "name": "python"
    }
  },
  "cells": [
    {
      "cell_type": "markdown",
      "source": [
        "<a target=\"_blank\" href=\"https://colab.research.google.com/github/wbfrench1/barker_DATA606/blob/main/src/crf_models/Sarkar_Custom_Movie_NER_Model.ipynb\">\n",
        "  <img src=\"https://colab.research.google.com/assets/colab-badge.svg\" alt=\"Open In Colab\"/>\n",
        "</a>"
      ],
      "metadata": {
        "id": "3mGhTY6bqOeI"
      }
    },
    {
      "cell_type": "code",
      "source": [
        "# Ran into the following error: AttributeError: 'CRF' object has no attribute 'keep_tempfiles'\n",
        "# Used below resolution\n",
        "#https://github.com/TeamHG-Memex/sklearn-crfsuite/issues/60\n",
        "!pip install -U 'scikit-learn<0.24'\n",
        "!pip install sklearn-crfsuite"
      ],
      "metadata": {
        "colab": {
          "base_uri": "https://localhost:8080/"
        },
        "id": "VwTGakZNAoDT",
        "outputId": "452b18a7-b96a-4b05-ee33-b1c01eec2d13"
      },
      "execution_count": 1,
      "outputs": [
        {
          "output_type": "stream",
          "name": "stdout",
          "text": [
            "Looking in indexes: https://pypi.org/simple, https://us-python.pkg.dev/colab-wheels/public/simple/\n",
            "Collecting scikit-learn<0.24\n",
            "  Downloading scikit-learn-0.23.2.tar.gz (7.2 MB)\n",
            "\u001b[2K     \u001b[90m━━━━━━━━━━━━━━━━━━━━━━━━━━━━━━━━━━━━━━━━\u001b[0m \u001b[32m7.2/7.2 MB\u001b[0m \u001b[31m26.3 MB/s\u001b[0m eta \u001b[36m0:00:00\u001b[0m\n",
            "\u001b[?25h  Installing build dependencies ... \u001b[?25l\u001b[?25hdone\n",
            "  Getting requirements to build wheel ... \u001b[?25l\u001b[?25hdone\n",
            "  Preparing metadata (pyproject.toml) ... \u001b[?25l\u001b[?25hdone\n",
            "Requirement already satisfied: scipy>=0.19.1 in /usr/local/lib/python3.9/dist-packages (from scikit-learn<0.24) (1.10.1)\n",
            "Requirement already satisfied: numpy>=1.13.3 in /usr/local/lib/python3.9/dist-packages (from scikit-learn<0.24) (1.22.4)\n",
            "Requirement already satisfied: joblib>=0.11 in /usr/local/lib/python3.9/dist-packages (from scikit-learn<0.24) (1.2.0)\n",
            "Requirement already satisfied: threadpoolctl>=2.0.0 in /usr/local/lib/python3.9/dist-packages (from scikit-learn<0.24) (3.1.0)\n",
            "Building wheels for collected packages: scikit-learn\n",
            "  Building wheel for scikit-learn (pyproject.toml) ... \u001b[?25l\u001b[?25hdone\n",
            "  Created wheel for scikit-learn: filename=scikit_learn-0.23.2-cp39-cp39-linux_x86_64.whl size=24678623 sha256=2f3b2add41728b775573274bc0de3499447ce67af0cf05ebebd35ae13b85e890\n",
            "  Stored in directory: /root/.cache/pip/wheels/5e/74/24/7e235ccf01765c0daa089c98cc823e9dc1383da5fe0ed7e224\n",
            "Successfully built scikit-learn\n",
            "Installing collected packages: scikit-learn\n",
            "  Attempting uninstall: scikit-learn\n",
            "    Found existing installation: scikit-learn 1.2.2\n",
            "    Uninstalling scikit-learn-1.2.2:\n",
            "      Successfully uninstalled scikit-learn-1.2.2\n",
            "\u001b[31mERROR: pip's dependency resolver does not currently take into account all the packages that are installed. This behaviour is the source of the following dependency conflicts.\n",
            "yellowbrick 1.5 requires scikit-learn>=1.0.0, but you have scikit-learn 0.23.2 which is incompatible.\n",
            "imbalanced-learn 0.10.1 requires scikit-learn>=1.0.2, but you have scikit-learn 0.23.2 which is incompatible.\u001b[0m\u001b[31m\n",
            "\u001b[0mSuccessfully installed scikit-learn-0.23.2\n",
            "Looking in indexes: https://pypi.org/simple, https://us-python.pkg.dev/colab-wheels/public/simple/\n",
            "Collecting sklearn-crfsuite\n",
            "  Downloading sklearn_crfsuite-0.3.6-py2.py3-none-any.whl (12 kB)\n",
            "Requirement already satisfied: tqdm>=2.0 in /usr/local/lib/python3.9/dist-packages (from sklearn-crfsuite) (4.65.0)\n",
            "Collecting python-crfsuite>=0.8.3\n",
            "  Downloading python_crfsuite-0.9.9-cp39-cp39-manylinux_2_17_x86_64.manylinux2014_x86_64.whl (1.0 MB)\n",
            "\u001b[2K     \u001b[90m━━━━━━━━━━━━━━━━━━━━━━━━━━━━━━━━━━━━━━━━\u001b[0m \u001b[32m1.0/1.0 MB\u001b[0m \u001b[31m13.3 MB/s\u001b[0m eta \u001b[36m0:00:00\u001b[0m\n",
            "\u001b[?25hRequirement already satisfied: tabulate in /usr/local/lib/python3.9/dist-packages (from sklearn-crfsuite) (0.8.10)\n",
            "Requirement already satisfied: six in /usr/local/lib/python3.9/dist-packages (from sklearn-crfsuite) (1.16.0)\n",
            "Installing collected packages: python-crfsuite, sklearn-crfsuite\n",
            "Successfully installed python-crfsuite-0.9.9 sklearn-crfsuite-0.3.6\n"
          ]
        }
      ]
    },
    {
      "cell_type": "code",
      "execution_count": 2,
      "metadata": {
        "id": "SWizKsZZ11O3",
        "colab": {
          "base_uri": "https://localhost:8080/"
        },
        "outputId": "12b9c96d-f38b-49a1-b8f2-6f7fff1deb1b"
      },
      "outputs": [
        {
          "output_type": "stream",
          "name": "stderr",
          "text": [
            "[nltk_data] Downloading package averaged_perceptron_tagger to\n",
            "[nltk_data]     /root/nltk_data...\n",
            "[nltk_data]   Unzipping taggers/averaged_perceptron_tagger.zip.\n"
          ]
        }
      ],
      "source": [
        "from google.colab import drive\n",
        "import requests\n",
        "import pandas as pd\n",
        "import random\n",
        "import numpy as np\n",
        "pd.set_option('display.max_rows', 300)\n",
        "pd.set_option('display.max_columns', 100)\n",
        "pd.set_option('display.width', 150)\n",
        "from sklearn.model_selection import train_test_split\n",
        "import sklearn_crfsuite\n",
        "import joblib\n",
        "from sklearn_crfsuite import metrics as crf_metrics\n",
        "import nltk\n",
        "nltk.download('averaged_perceptron_tagger')\n",
        "import seaborn as sns\n",
        "import matplotlib.pyplot as plt\n",
        "import urllib\n",
        "import pickle"
      ]
    },
    {
      "cell_type": "markdown",
      "source": [
        "# 1. Read in the Data\n",
        "\n",
        "##   1.a. Read in the Sarkar data\n",
        "##   1.b. Read in the movie data\n"
      ],
      "metadata": {
        "id": "6S8J_XQk2bP8"
      }
    },
    {
      "cell_type": "code",
      "source": [
        "df_ex = pd.read_csv('https://github.com/wbfrench1/barker_DATA606/blob/05c1c56275fcaf7e4df300b578f65f62127dad18/data/ner_dataset.csv.gz?raw=true',\n",
        "                    encoding='latin1',compression='gzip')\n",
        "df = pd.read_csv('https://github.com/wbfrench1/barker_DATA606/blob/05c1c56275fcaf7e4df300b578f65f62127dad18/data/movie_data.csv?raw=true')"
      ],
      "metadata": {
        "id": "8sM0bvPCqa27"
      },
      "execution_count": 3,
      "outputs": []
    },
    {
      "cell_type": "code",
      "source": [
        "# bring the Sentence label forward to each word in the sentence\n",
        "df_ex['Sentence #'].ffill(inplace=True)"
      ],
      "metadata": {
        "id": "2QMOS_DtEMIk"
      },
      "execution_count": 4,
      "outputs": []
    },
    {
      "cell_type": "markdown",
      "source": [
        "# 2. Explore the Data"
      ],
      "metadata": {
        "id": "fih93riC2wMx"
      }
    },
    {
      "cell_type": "code",
      "source": [
        "df_ex.info()"
      ],
      "metadata": {
        "colab": {
          "base_uri": "https://localhost:8080/"
        },
        "id": "RKx2h76vEwez",
        "outputId": "14190a79-a8ad-4892-9ad7-b639633df6b5"
      },
      "execution_count": 5,
      "outputs": [
        {
          "output_type": "stream",
          "name": "stdout",
          "text": [
            "<class 'pandas.core.frame.DataFrame'>\n",
            "RangeIndex: 1048575 entries, 0 to 1048574\n",
            "Data columns (total 4 columns):\n",
            " #   Column      Non-Null Count    Dtype \n",
            "---  ------      --------------    ----- \n",
            " 0   Sentence #  1048575 non-null  object\n",
            " 1   Word        1048575 non-null  object\n",
            " 2   POS         1048575 non-null  object\n",
            " 3   Tag         1048575 non-null  object\n",
            "dtypes: object(4)\n",
            "memory usage: 32.0+ MB\n"
          ]
        }
      ]
    },
    {
      "cell_type": "code",
      "source": [
        "df_ex['Sentence #'].nunique(), df_ex['Word'].nunique(), df_ex['POS'].nunique(), df_ex['Tag'].nunique()"
      ],
      "metadata": {
        "colab": {
          "base_uri": "https://localhost:8080/"
        },
        "id": "mvgkIrQgE5M8",
        "outputId": "b79681fe-f057-4809-a421-be8eb42edace"
      },
      "execution_count": 6,
      "outputs": [
        {
          "output_type": "execute_result",
          "data": {
            "text/plain": [
              "(47959, 35178, 42, 17)"
            ]
          },
          "metadata": {},
          "execution_count": 6
        }
      ]
    },
    {
      "cell_type": "code",
      "source": [
        "df_ex.Tag.value_counts()"
      ],
      "metadata": {
        "colab": {
          "base_uri": "https://localhost:8080/"
        },
        "id": "xC2GYQLeFPCx",
        "outputId": "27356442-c721-48b1-8eef-9800efcb7f48"
      },
      "execution_count": 7,
      "outputs": [
        {
          "output_type": "execute_result",
          "data": {
            "text/plain": [
              "O        887908\n",
              "B-geo     37644\n",
              "B-tim     20333\n",
              "B-org     20143\n",
              "I-per     17251\n",
              "B-per     16990\n",
              "I-org     16784\n",
              "B-gpe     15870\n",
              "I-geo      7414\n",
              "I-tim      6528\n",
              "B-art       402\n",
              "B-eve       308\n",
              "I-art       297\n",
              "I-eve       253\n",
              "B-nat       201\n",
              "I-gpe       198\n",
              "I-nat        51\n",
              "Name: Tag, dtype: int64"
            ]
          },
          "metadata": {},
          "execution_count": 7
        }
      ]
    },
    {
      "cell_type": "code",
      "source": [
        "df_ex.head(10)"
      ],
      "metadata": {
        "colab": {
          "base_uri": "https://localhost:8080/",
          "height": 363
        },
        "id": "I4OKsPeJIHqF",
        "outputId": "3f144824-f614-4292-eb16-9941e14cc129"
      },
      "execution_count": 8,
      "outputs": [
        {
          "output_type": "execute_result",
          "data": {
            "text/plain": [
              "    Sentence #           Word  POS    Tag\n",
              "0  Sentence: 1      Thousands  NNS      O\n",
              "1  Sentence: 1             of   IN      O\n",
              "2  Sentence: 1  demonstrators  NNS      O\n",
              "3  Sentence: 1           have  VBP      O\n",
              "4  Sentence: 1        marched  VBN      O\n",
              "5  Sentence: 1        through   IN      O\n",
              "6  Sentence: 1         London  NNP  B-geo\n",
              "7  Sentence: 1             to   TO      O\n",
              "8  Sentence: 1        protest   VB      O\n",
              "9  Sentence: 1            the   DT      O"
            ],
            "text/html": [
              "\n",
              "  <div id=\"df-71928173-b894-4827-be34-fe1ccb369064\">\n",
              "    <div class=\"colab-df-container\">\n",
              "      <div>\n",
              "<style scoped>\n",
              "    .dataframe tbody tr th:only-of-type {\n",
              "        vertical-align: middle;\n",
              "    }\n",
              "\n",
              "    .dataframe tbody tr th {\n",
              "        vertical-align: top;\n",
              "    }\n",
              "\n",
              "    .dataframe thead th {\n",
              "        text-align: right;\n",
              "    }\n",
              "</style>\n",
              "<table border=\"1\" class=\"dataframe\">\n",
              "  <thead>\n",
              "    <tr style=\"text-align: right;\">\n",
              "      <th></th>\n",
              "      <th>Sentence #</th>\n",
              "      <th>Word</th>\n",
              "      <th>POS</th>\n",
              "      <th>Tag</th>\n",
              "    </tr>\n",
              "  </thead>\n",
              "  <tbody>\n",
              "    <tr>\n",
              "      <th>0</th>\n",
              "      <td>Sentence: 1</td>\n",
              "      <td>Thousands</td>\n",
              "      <td>NNS</td>\n",
              "      <td>O</td>\n",
              "    </tr>\n",
              "    <tr>\n",
              "      <th>1</th>\n",
              "      <td>Sentence: 1</td>\n",
              "      <td>of</td>\n",
              "      <td>IN</td>\n",
              "      <td>O</td>\n",
              "    </tr>\n",
              "    <tr>\n",
              "      <th>2</th>\n",
              "      <td>Sentence: 1</td>\n",
              "      <td>demonstrators</td>\n",
              "      <td>NNS</td>\n",
              "      <td>O</td>\n",
              "    </tr>\n",
              "    <tr>\n",
              "      <th>3</th>\n",
              "      <td>Sentence: 1</td>\n",
              "      <td>have</td>\n",
              "      <td>VBP</td>\n",
              "      <td>O</td>\n",
              "    </tr>\n",
              "    <tr>\n",
              "      <th>4</th>\n",
              "      <td>Sentence: 1</td>\n",
              "      <td>marched</td>\n",
              "      <td>VBN</td>\n",
              "      <td>O</td>\n",
              "    </tr>\n",
              "    <tr>\n",
              "      <th>5</th>\n",
              "      <td>Sentence: 1</td>\n",
              "      <td>through</td>\n",
              "      <td>IN</td>\n",
              "      <td>O</td>\n",
              "    </tr>\n",
              "    <tr>\n",
              "      <th>6</th>\n",
              "      <td>Sentence: 1</td>\n",
              "      <td>London</td>\n",
              "      <td>NNP</td>\n",
              "      <td>B-geo</td>\n",
              "    </tr>\n",
              "    <tr>\n",
              "      <th>7</th>\n",
              "      <td>Sentence: 1</td>\n",
              "      <td>to</td>\n",
              "      <td>TO</td>\n",
              "      <td>O</td>\n",
              "    </tr>\n",
              "    <tr>\n",
              "      <th>8</th>\n",
              "      <td>Sentence: 1</td>\n",
              "      <td>protest</td>\n",
              "      <td>VB</td>\n",
              "      <td>O</td>\n",
              "    </tr>\n",
              "    <tr>\n",
              "      <th>9</th>\n",
              "      <td>Sentence: 1</td>\n",
              "      <td>the</td>\n",
              "      <td>DT</td>\n",
              "      <td>O</td>\n",
              "    </tr>\n",
              "  </tbody>\n",
              "</table>\n",
              "</div>\n",
              "      <button class=\"colab-df-convert\" onclick=\"convertToInteractive('df-71928173-b894-4827-be34-fe1ccb369064')\"\n",
              "              title=\"Convert this dataframe to an interactive table.\"\n",
              "              style=\"display:none;\">\n",
              "        \n",
              "  <svg xmlns=\"http://www.w3.org/2000/svg\" height=\"24px\"viewBox=\"0 0 24 24\"\n",
              "       width=\"24px\">\n",
              "    <path d=\"M0 0h24v24H0V0z\" fill=\"none\"/>\n",
              "    <path d=\"M18.56 5.44l.94 2.06.94-2.06 2.06-.94-2.06-.94-.94-2.06-.94 2.06-2.06.94zm-11 1L8.5 8.5l.94-2.06 2.06-.94-2.06-.94L8.5 2.5l-.94 2.06-2.06.94zm10 10l.94 2.06.94-2.06 2.06-.94-2.06-.94-.94-2.06-.94 2.06-2.06.94z\"/><path d=\"M17.41 7.96l-1.37-1.37c-.4-.4-.92-.59-1.43-.59-.52 0-1.04.2-1.43.59L10.3 9.45l-7.72 7.72c-.78.78-.78 2.05 0 2.83L4 21.41c.39.39.9.59 1.41.59.51 0 1.02-.2 1.41-.59l7.78-7.78 2.81-2.81c.8-.78.8-2.07 0-2.86zM5.41 20L4 18.59l7.72-7.72 1.47 1.35L5.41 20z\"/>\n",
              "  </svg>\n",
              "      </button>\n",
              "      \n",
              "  <style>\n",
              "    .colab-df-container {\n",
              "      display:flex;\n",
              "      flex-wrap:wrap;\n",
              "      gap: 12px;\n",
              "    }\n",
              "\n",
              "    .colab-df-convert {\n",
              "      background-color: #E8F0FE;\n",
              "      border: none;\n",
              "      border-radius: 50%;\n",
              "      cursor: pointer;\n",
              "      display: none;\n",
              "      fill: #1967D2;\n",
              "      height: 32px;\n",
              "      padding: 0 0 0 0;\n",
              "      width: 32px;\n",
              "    }\n",
              "\n",
              "    .colab-df-convert:hover {\n",
              "      background-color: #E2EBFA;\n",
              "      box-shadow: 0px 1px 2px rgba(60, 64, 67, 0.3), 0px 1px 3px 1px rgba(60, 64, 67, 0.15);\n",
              "      fill: #174EA6;\n",
              "    }\n",
              "\n",
              "    [theme=dark] .colab-df-convert {\n",
              "      background-color: #3B4455;\n",
              "      fill: #D2E3FC;\n",
              "    }\n",
              "\n",
              "    [theme=dark] .colab-df-convert:hover {\n",
              "      background-color: #434B5C;\n",
              "      box-shadow: 0px 1px 3px 1px rgba(0, 0, 0, 0.15);\n",
              "      filter: drop-shadow(0px 1px 2px rgba(0, 0, 0, 0.3));\n",
              "      fill: #FFFFFF;\n",
              "    }\n",
              "  </style>\n",
              "\n",
              "      <script>\n",
              "        const buttonEl =\n",
              "          document.querySelector('#df-71928173-b894-4827-be34-fe1ccb369064 button.colab-df-convert');\n",
              "        buttonEl.style.display =\n",
              "          google.colab.kernel.accessAllowed ? 'block' : 'none';\n",
              "\n",
              "        async function convertToInteractive(key) {\n",
              "          const element = document.querySelector('#df-71928173-b894-4827-be34-fe1ccb369064');\n",
              "          const dataTable =\n",
              "            await google.colab.kernel.invokeFunction('convertToInteractive',\n",
              "                                                     [key], {});\n",
              "          if (!dataTable) return;\n",
              "\n",
              "          const docLinkHtml = 'Like what you see? Visit the ' +\n",
              "            '<a target=\"_blank\" href=https://colab.research.google.com/notebooks/data_table.ipynb>data table notebook</a>'\n",
              "            + ' to learn more about interactive tables.';\n",
              "          element.innerHTML = '';\n",
              "          dataTable['output_type'] = 'display_data';\n",
              "          await google.colab.output.renderOutput(dataTable, element);\n",
              "          const docLink = document.createElement('div');\n",
              "          docLink.innerHTML = docLinkHtml;\n",
              "          element.appendChild(docLink);\n",
              "        }\n",
              "      </script>\n",
              "    </div>\n",
              "  </div>\n",
              "  "
            ]
          },
          "metadata": {},
          "execution_count": 8
        }
      ]
    },
    {
      "cell_type": "code",
      "source": [
        "# Differentiate the question columns.  q_num is absoloute, while\n",
        "## q_num_by_src is a numbering for each of the four, movie data\n",
        "### sets\n",
        "df.rename(columns={'quest_num':'q_num_by_src',\n",
        "                   'label': 'postag',\n",
        "                   'entity' : 'tag'}, inplace=True)"
      ],
      "metadata": {
        "id": "wx7wq5Kw50dy"
      },
      "execution_count": 9,
      "outputs": []
    },
    {
      "cell_type": "code",
      "source": [
        "df.head()"
      ],
      "metadata": {
        "colab": {
          "base_uri": "https://localhost:8080/",
          "height": 206
        },
        "id": "KXaajJym52AR",
        "outputId": "5017cb0f-9a52-4919-e820-f42467ef85f9"
      },
      "execution_count": 10,
      "outputs": [
        {
          "output_type": "execute_result",
          "data": {
            "text/plain": [
              "   q_num_by_src     postag    word pos      tag     source  q_num\n",
              "0             1  o-outside    what   o  outside  eng_train      1\n",
              "1             1  o-outside  movies   o  outside  eng_train      1\n",
              "2             1  o-outside    star   o  outside  eng_train      1\n",
              "3             1    b-actor   bruce   b    actor  eng_train      1\n",
              "4             1    i-actor  willis   i    actor  eng_train      1"
            ],
            "text/html": [
              "\n",
              "  <div id=\"df-8b02ffc1-ae7e-44a3-8eff-90b26338c9ec\">\n",
              "    <div class=\"colab-df-container\">\n",
              "      <div>\n",
              "<style scoped>\n",
              "    .dataframe tbody tr th:only-of-type {\n",
              "        vertical-align: middle;\n",
              "    }\n",
              "\n",
              "    .dataframe tbody tr th {\n",
              "        vertical-align: top;\n",
              "    }\n",
              "\n",
              "    .dataframe thead th {\n",
              "        text-align: right;\n",
              "    }\n",
              "</style>\n",
              "<table border=\"1\" class=\"dataframe\">\n",
              "  <thead>\n",
              "    <tr style=\"text-align: right;\">\n",
              "      <th></th>\n",
              "      <th>q_num_by_src</th>\n",
              "      <th>postag</th>\n",
              "      <th>word</th>\n",
              "      <th>pos</th>\n",
              "      <th>tag</th>\n",
              "      <th>source</th>\n",
              "      <th>q_num</th>\n",
              "    </tr>\n",
              "  </thead>\n",
              "  <tbody>\n",
              "    <tr>\n",
              "      <th>0</th>\n",
              "      <td>1</td>\n",
              "      <td>o-outside</td>\n",
              "      <td>what</td>\n",
              "      <td>o</td>\n",
              "      <td>outside</td>\n",
              "      <td>eng_train</td>\n",
              "      <td>1</td>\n",
              "    </tr>\n",
              "    <tr>\n",
              "      <th>1</th>\n",
              "      <td>1</td>\n",
              "      <td>o-outside</td>\n",
              "      <td>movies</td>\n",
              "      <td>o</td>\n",
              "      <td>outside</td>\n",
              "      <td>eng_train</td>\n",
              "      <td>1</td>\n",
              "    </tr>\n",
              "    <tr>\n",
              "      <th>2</th>\n",
              "      <td>1</td>\n",
              "      <td>o-outside</td>\n",
              "      <td>star</td>\n",
              "      <td>o</td>\n",
              "      <td>outside</td>\n",
              "      <td>eng_train</td>\n",
              "      <td>1</td>\n",
              "    </tr>\n",
              "    <tr>\n",
              "      <th>3</th>\n",
              "      <td>1</td>\n",
              "      <td>b-actor</td>\n",
              "      <td>bruce</td>\n",
              "      <td>b</td>\n",
              "      <td>actor</td>\n",
              "      <td>eng_train</td>\n",
              "      <td>1</td>\n",
              "    </tr>\n",
              "    <tr>\n",
              "      <th>4</th>\n",
              "      <td>1</td>\n",
              "      <td>i-actor</td>\n",
              "      <td>willis</td>\n",
              "      <td>i</td>\n",
              "      <td>actor</td>\n",
              "      <td>eng_train</td>\n",
              "      <td>1</td>\n",
              "    </tr>\n",
              "  </tbody>\n",
              "</table>\n",
              "</div>\n",
              "      <button class=\"colab-df-convert\" onclick=\"convertToInteractive('df-8b02ffc1-ae7e-44a3-8eff-90b26338c9ec')\"\n",
              "              title=\"Convert this dataframe to an interactive table.\"\n",
              "              style=\"display:none;\">\n",
              "        \n",
              "  <svg xmlns=\"http://www.w3.org/2000/svg\" height=\"24px\"viewBox=\"0 0 24 24\"\n",
              "       width=\"24px\">\n",
              "    <path d=\"M0 0h24v24H0V0z\" fill=\"none\"/>\n",
              "    <path d=\"M18.56 5.44l.94 2.06.94-2.06 2.06-.94-2.06-.94-.94-2.06-.94 2.06-2.06.94zm-11 1L8.5 8.5l.94-2.06 2.06-.94-2.06-.94L8.5 2.5l-.94 2.06-2.06.94zm10 10l.94 2.06.94-2.06 2.06-.94-2.06-.94-.94-2.06-.94 2.06-2.06.94z\"/><path d=\"M17.41 7.96l-1.37-1.37c-.4-.4-.92-.59-1.43-.59-.52 0-1.04.2-1.43.59L10.3 9.45l-7.72 7.72c-.78.78-.78 2.05 0 2.83L4 21.41c.39.39.9.59 1.41.59.51 0 1.02-.2 1.41-.59l7.78-7.78 2.81-2.81c.8-.78.8-2.07 0-2.86zM5.41 20L4 18.59l7.72-7.72 1.47 1.35L5.41 20z\"/>\n",
              "  </svg>\n",
              "      </button>\n",
              "      \n",
              "  <style>\n",
              "    .colab-df-container {\n",
              "      display:flex;\n",
              "      flex-wrap:wrap;\n",
              "      gap: 12px;\n",
              "    }\n",
              "\n",
              "    .colab-df-convert {\n",
              "      background-color: #E8F0FE;\n",
              "      border: none;\n",
              "      border-radius: 50%;\n",
              "      cursor: pointer;\n",
              "      display: none;\n",
              "      fill: #1967D2;\n",
              "      height: 32px;\n",
              "      padding: 0 0 0 0;\n",
              "      width: 32px;\n",
              "    }\n",
              "\n",
              "    .colab-df-convert:hover {\n",
              "      background-color: #E2EBFA;\n",
              "      box-shadow: 0px 1px 2px rgba(60, 64, 67, 0.3), 0px 1px 3px 1px rgba(60, 64, 67, 0.15);\n",
              "      fill: #174EA6;\n",
              "    }\n",
              "\n",
              "    [theme=dark] .colab-df-convert {\n",
              "      background-color: #3B4455;\n",
              "      fill: #D2E3FC;\n",
              "    }\n",
              "\n",
              "    [theme=dark] .colab-df-convert:hover {\n",
              "      background-color: #434B5C;\n",
              "      box-shadow: 0px 1px 3px 1px rgba(0, 0, 0, 0.15);\n",
              "      filter: drop-shadow(0px 1px 2px rgba(0, 0, 0, 0.3));\n",
              "      fill: #FFFFFF;\n",
              "    }\n",
              "  </style>\n",
              "\n",
              "      <script>\n",
              "        const buttonEl =\n",
              "          document.querySelector('#df-8b02ffc1-ae7e-44a3-8eff-90b26338c9ec button.colab-df-convert');\n",
              "        buttonEl.style.display =\n",
              "          google.colab.kernel.accessAllowed ? 'block' : 'none';\n",
              "\n",
              "        async function convertToInteractive(key) {\n",
              "          const element = document.querySelector('#df-8b02ffc1-ae7e-44a3-8eff-90b26338c9ec');\n",
              "          const dataTable =\n",
              "            await google.colab.kernel.invokeFunction('convertToInteractive',\n",
              "                                                     [key], {});\n",
              "          if (!dataTable) return;\n",
              "\n",
              "          const docLinkHtml = 'Like what you see? Visit the ' +\n",
              "            '<a target=\"_blank\" href=https://colab.research.google.com/notebooks/data_table.ipynb>data table notebook</a>'\n",
              "            + ' to learn more about interactive tables.';\n",
              "          element.innerHTML = '';\n",
              "          dataTable['output_type'] = 'display_data';\n",
              "          await google.colab.output.renderOutput(dataTable, element);\n",
              "          const docLink = document.createElement('div');\n",
              "          docLink.innerHTML = docLinkHtml;\n",
              "          element.appendChild(docLink);\n",
              "        }\n",
              "      </script>\n",
              "    </div>\n",
              "  </div>\n",
              "  "
            ]
          },
          "metadata": {},
          "execution_count": 10
        }
      ]
    },
    {
      "cell_type": "code",
      "source": [
        "df.info()"
      ],
      "metadata": {
        "colab": {
          "base_uri": "https://localhost:8080/"
        },
        "id": "fEJXlNya6QJA",
        "outputId": "fa99b761-801e-433e-eab4-93a83acfd14b"
      },
      "execution_count": 11,
      "outputs": [
        {
          "output_type": "stream",
          "name": "stdout",
          "text": [
            "<class 'pandas.core.frame.DataFrame'>\n",
            "RangeIndex: 322035 entries, 0 to 322034\n",
            "Data columns (total 7 columns):\n",
            " #   Column        Non-Null Count   Dtype \n",
            "---  ------        --------------   ----- \n",
            " 0   q_num_by_src  322035 non-null  int64 \n",
            " 1   postag        322035 non-null  object\n",
            " 2   word          322034 non-null  object\n",
            " 3   pos           322035 non-null  object\n",
            " 4   tag           322035 non-null  object\n",
            " 5   source        322035 non-null  object\n",
            " 6   q_num         322035 non-null  int64 \n",
            "dtypes: int64(2), object(5)\n",
            "memory usage: 17.2+ MB\n"
          ]
        }
      ]
    },
    {
      "cell_type": "markdown",
      "source": [
        "# 3. Create features in the data"
      ],
      "metadata": {
        "id": "gwKAOI0C3bCt"
      }
    },
    {
      "cell_type": "code",
      "source": [
        "def word2features(l_sent: list, i) -> dict:\n",
        "\n",
        "    '''   Description:  Takes a list of sentence tuples and an integer \n",
        "                        identifying the word the function will work on and\n",
        "                        returns a dictionary containing the words in\n",
        "                        each sentence and corresponding features.\n",
        "                        \n",
        "                        l_sents: is formatted as a list of tuples where each \n",
        "                                 tuple is a:\n",
        "                                   word in the sentence, \n",
        "                                   a part of speech tag,\n",
        "                                   and an NER tag\n",
        "\n",
        "                                   (word:str, POS:str, NER:str)\n",
        "        \n",
        "          Returns:      a dictionary, where each dictionary contains\n",
        "                        features for one word in one sentence.\n",
        "    \n",
        "    '''\n",
        "    word = l_sent[i][0]\n",
        "    postag = l_sent[i][1]\n",
        "\n",
        "    features = {'bias': 1.0,\n",
        "                'word.lower()': word.lower(),\n",
        "                'word[-3:]': word[-3:],\n",
        "                'word[-2:]': word[-2:],\n",
        "                'word.isupper': word.isupper(),\n",
        "                'word.istitle()': word.istitle(),\n",
        "                'word.isdigit()': word.isdigit(),\n",
        "                'postag': postag,\n",
        "                'postag[:2]': postag[:2]\n",
        "                }\n",
        "    \n",
        "    if i > 0:\n",
        "        word1 = l_sent[i - 1][0]\n",
        "        postag1 = l_sent[i - 1][1]\n",
        "        features.update( {'-1:word.lower()': word1.lower(),\n",
        "                          '-1:word.istitle()': word1.istitle(),\n",
        "                          '-1:word.isupper': word1.isupper(),\n",
        "                          '-1:postag': postag1,\n",
        "                          '-1:postag[:2]': postag1[:2]\n",
        "                          }\n",
        "                        )\n",
        "    \n",
        "    else:\n",
        "        features['BOS'] = True\n",
        "\n",
        "    if i < len(l_sent) - 1:\n",
        "        word1 = l_sent[i + 1][0]\n",
        "        postag1 = l_sent[i + 1][1]\n",
        "        features.update({'+1:word.lower()': word1.lower(),\n",
        "                         '+1:word.istitle()': word1.istitle(),\n",
        "                         '+1:word.isupper': word1.isupper(),\n",
        "                         '+1:postag': postag1,\n",
        "                         '+1:postag[:2]': postag1[:2]\n",
        "                         }\n",
        "                        )\n",
        "    else:\n",
        "        features['EOS'] = True\n",
        "    \n",
        "    return features"
      ],
      "metadata": {
        "id": "e-LKNXBL6k-Q"
      },
      "execution_count": 12,
      "outputs": []
    },
    {
      "cell_type": "code",
      "source": [
        "def sent2features(l_sent:list ) -> list:\n",
        "    '''   Description:  Takes a sentence as a list of word tuples and returns a\n",
        "                        list of dictionaries. The list contains tuples of\n",
        "                        sentences, where each tuple is broken up into a word in\n",
        "                        the sentence, a part of speech tag, and an NER tag.  \n",
        "                        \n",
        "                        l_sents: is formatted as a list of tuples where each \n",
        "                                 tuple contains a word in the sentence, the \n",
        "                                 word's part of speech tag, and an NER tag:  \n",
        "                                 (word:str, POS:str, NER:str)\n",
        "        \n",
        "          Returns:      list of dictionaries of word features\n",
        "    \n",
        "    '''\n",
        "\n",
        "    return [ word2features(l_sent, i) for i in range(len(l_sent))]"
      ],
      "metadata": {
        "id": "mBCGqZdr-qmV"
      },
      "execution_count": 13,
      "outputs": []
    },
    {
      "cell_type": "code",
      "source": [
        "def sent2labels(l_sent: list) -> list:\n",
        "    '''   Description:  Takes a list of sentence word tuples and returns the ner \n",
        "                        label from each word tuple. \n",
        "                        \n",
        "                        l_sents is formatted as a list of tuples where each \n",
        "                                 tuple contains a word in the sentence, the \n",
        "                                 word's part of speech tag, and an NER tag:  \n",
        "                                 (word:str, POS:str, NER:str)\n",
        "\n",
        "          Returns:      list of dictionaries of word features\n",
        "    \n",
        "    '''\n",
        "\n",
        "    return [label for token, postag, label in l_sent]"
      ],
      "metadata": {
        "id": "TxbTzP8NF4YU"
      },
      "execution_count": 14,
      "outputs": []
    },
    {
      "cell_type": "code",
      "source": [
        "agg_func = lambda s: [(w,p,t) for w, p, t in zip(s['Word'].values.tolist(),\n",
        "                                                 s['POS'].values.tolist(),\n",
        "                                                 s['Tag'].values.tolist()\n",
        "                                                 )\n",
        "                                                 ]"
      ],
      "metadata": {
        "id": "8RxF5zsfGLnU"
      },
      "execution_count": 15,
      "outputs": []
    },
    {
      "cell_type": "code",
      "source": [
        "grouped_df = df_ex.groupby('Sentence #').apply(agg_func)"
      ],
      "metadata": {
        "id": "4uwFjhESHxv7"
      },
      "execution_count": 16,
      "outputs": []
    },
    {
      "cell_type": "code",
      "source": [
        "grouped_df.head()"
      ],
      "metadata": {
        "colab": {
          "base_uri": "https://localhost:8080/"
        },
        "id": "v01O5VE6LaND",
        "outputId": "ff5707ca-b2f0-46ae-e399-22d8bb886378"
      },
      "execution_count": 17,
      "outputs": [
        {
          "output_type": "execute_result",
          "data": {
            "text/plain": [
              "Sentence #\n",
              "Sentence: 1        [(Thousands, NNS, O), (of, IN, O), (demonstrat...\n",
              "Sentence: 10       [(Iranian, JJ, B-gpe), (officials, NNS, O), (s...\n",
              "Sentence: 100      [(Helicopter, NN, O), (gunships, NNS, O), (Sat...\n",
              "Sentence: 1000     [(They, PRP, O), (left, VBD, O), (after, IN, O...\n",
              "Sentence: 10000    [(U.N., NNP, B-geo), (relief, NN, O), (coordin...\n",
              "dtype: object"
            ]
          },
          "metadata": {},
          "execution_count": 17
        }
      ]
    },
    {
      "cell_type": "code",
      "source": [
        "df_ex.head()"
      ],
      "metadata": {
        "colab": {
          "base_uri": "https://localhost:8080/",
          "height": 206
        },
        "id": "oWKlIwaZLkC6",
        "outputId": "15055e13-7006-4638-a727-fa8b204ba19b"
      },
      "execution_count": 18,
      "outputs": [
        {
          "output_type": "execute_result",
          "data": {
            "text/plain": [
              "    Sentence #           Word  POS Tag\n",
              "0  Sentence: 1      Thousands  NNS   O\n",
              "1  Sentence: 1             of   IN   O\n",
              "2  Sentence: 1  demonstrators  NNS   O\n",
              "3  Sentence: 1           have  VBP   O\n",
              "4  Sentence: 1        marched  VBN   O"
            ],
            "text/html": [
              "\n",
              "  <div id=\"df-615c71b7-5727-43cb-8538-fc74826bc03c\">\n",
              "    <div class=\"colab-df-container\">\n",
              "      <div>\n",
              "<style scoped>\n",
              "    .dataframe tbody tr th:only-of-type {\n",
              "        vertical-align: middle;\n",
              "    }\n",
              "\n",
              "    .dataframe tbody tr th {\n",
              "        vertical-align: top;\n",
              "    }\n",
              "\n",
              "    .dataframe thead th {\n",
              "        text-align: right;\n",
              "    }\n",
              "</style>\n",
              "<table border=\"1\" class=\"dataframe\">\n",
              "  <thead>\n",
              "    <tr style=\"text-align: right;\">\n",
              "      <th></th>\n",
              "      <th>Sentence #</th>\n",
              "      <th>Word</th>\n",
              "      <th>POS</th>\n",
              "      <th>Tag</th>\n",
              "    </tr>\n",
              "  </thead>\n",
              "  <tbody>\n",
              "    <tr>\n",
              "      <th>0</th>\n",
              "      <td>Sentence: 1</td>\n",
              "      <td>Thousands</td>\n",
              "      <td>NNS</td>\n",
              "      <td>O</td>\n",
              "    </tr>\n",
              "    <tr>\n",
              "      <th>1</th>\n",
              "      <td>Sentence: 1</td>\n",
              "      <td>of</td>\n",
              "      <td>IN</td>\n",
              "      <td>O</td>\n",
              "    </tr>\n",
              "    <tr>\n",
              "      <th>2</th>\n",
              "      <td>Sentence: 1</td>\n",
              "      <td>demonstrators</td>\n",
              "      <td>NNS</td>\n",
              "      <td>O</td>\n",
              "    </tr>\n",
              "    <tr>\n",
              "      <th>3</th>\n",
              "      <td>Sentence: 1</td>\n",
              "      <td>have</td>\n",
              "      <td>VBP</td>\n",
              "      <td>O</td>\n",
              "    </tr>\n",
              "    <tr>\n",
              "      <th>4</th>\n",
              "      <td>Sentence: 1</td>\n",
              "      <td>marched</td>\n",
              "      <td>VBN</td>\n",
              "      <td>O</td>\n",
              "    </tr>\n",
              "  </tbody>\n",
              "</table>\n",
              "</div>\n",
              "      <button class=\"colab-df-convert\" onclick=\"convertToInteractive('df-615c71b7-5727-43cb-8538-fc74826bc03c')\"\n",
              "              title=\"Convert this dataframe to an interactive table.\"\n",
              "              style=\"display:none;\">\n",
              "        \n",
              "  <svg xmlns=\"http://www.w3.org/2000/svg\" height=\"24px\"viewBox=\"0 0 24 24\"\n",
              "       width=\"24px\">\n",
              "    <path d=\"M0 0h24v24H0V0z\" fill=\"none\"/>\n",
              "    <path d=\"M18.56 5.44l.94 2.06.94-2.06 2.06-.94-2.06-.94-.94-2.06-.94 2.06-2.06.94zm-11 1L8.5 8.5l.94-2.06 2.06-.94-2.06-.94L8.5 2.5l-.94 2.06-2.06.94zm10 10l.94 2.06.94-2.06 2.06-.94-2.06-.94-.94-2.06-.94 2.06-2.06.94z\"/><path d=\"M17.41 7.96l-1.37-1.37c-.4-.4-.92-.59-1.43-.59-.52 0-1.04.2-1.43.59L10.3 9.45l-7.72 7.72c-.78.78-.78 2.05 0 2.83L4 21.41c.39.39.9.59 1.41.59.51 0 1.02-.2 1.41-.59l7.78-7.78 2.81-2.81c.8-.78.8-2.07 0-2.86zM5.41 20L4 18.59l7.72-7.72 1.47 1.35L5.41 20z\"/>\n",
              "  </svg>\n",
              "      </button>\n",
              "      \n",
              "  <style>\n",
              "    .colab-df-container {\n",
              "      display:flex;\n",
              "      flex-wrap:wrap;\n",
              "      gap: 12px;\n",
              "    }\n",
              "\n",
              "    .colab-df-convert {\n",
              "      background-color: #E8F0FE;\n",
              "      border: none;\n",
              "      border-radius: 50%;\n",
              "      cursor: pointer;\n",
              "      display: none;\n",
              "      fill: #1967D2;\n",
              "      height: 32px;\n",
              "      padding: 0 0 0 0;\n",
              "      width: 32px;\n",
              "    }\n",
              "\n",
              "    .colab-df-convert:hover {\n",
              "      background-color: #E2EBFA;\n",
              "      box-shadow: 0px 1px 2px rgba(60, 64, 67, 0.3), 0px 1px 3px 1px rgba(60, 64, 67, 0.15);\n",
              "      fill: #174EA6;\n",
              "    }\n",
              "\n",
              "    [theme=dark] .colab-df-convert {\n",
              "      background-color: #3B4455;\n",
              "      fill: #D2E3FC;\n",
              "    }\n",
              "\n",
              "    [theme=dark] .colab-df-convert:hover {\n",
              "      background-color: #434B5C;\n",
              "      box-shadow: 0px 1px 3px 1px rgba(0, 0, 0, 0.15);\n",
              "      filter: drop-shadow(0px 1px 2px rgba(0, 0, 0, 0.3));\n",
              "      fill: #FFFFFF;\n",
              "    }\n",
              "  </style>\n",
              "\n",
              "      <script>\n",
              "        const buttonEl =\n",
              "          document.querySelector('#df-615c71b7-5727-43cb-8538-fc74826bc03c button.colab-df-convert');\n",
              "        buttonEl.style.display =\n",
              "          google.colab.kernel.accessAllowed ? 'block' : 'none';\n",
              "\n",
              "        async function convertToInteractive(key) {\n",
              "          const element = document.querySelector('#df-615c71b7-5727-43cb-8538-fc74826bc03c');\n",
              "          const dataTable =\n",
              "            await google.colab.kernel.invokeFunction('convertToInteractive',\n",
              "                                                     [key], {});\n",
              "          if (!dataTable) return;\n",
              "\n",
              "          const docLinkHtml = 'Like what you see? Visit the ' +\n",
              "            '<a target=\"_blank\" href=https://colab.research.google.com/notebooks/data_table.ipynb>data table notebook</a>'\n",
              "            + ' to learn more about interactive tables.';\n",
              "          element.innerHTML = '';\n",
              "          dataTable['output_type'] = 'display_data';\n",
              "          await google.colab.output.renderOutput(dataTable, element);\n",
              "          const docLink = document.createElement('div');\n",
              "          docLink.innerHTML = docLinkHtml;\n",
              "          element.appendChild(docLink);\n",
              "        }\n",
              "      </script>\n",
              "    </div>\n",
              "  </div>\n",
              "  "
            ]
          },
          "metadata": {},
          "execution_count": 18
        }
      ]
    },
    {
      "cell_type": "code",
      "source": [],
      "metadata": {
        "id": "3zhatLUrdgvj"
      },
      "execution_count": null,
      "outputs": []
    },
    {
      "cell_type": "code",
      "source": [
        "# Standard tokenized sentence with POS and NER tags\n",
        "# list of lists of tuples, where the list contains lists of sentences.\n",
        "# Each sentence list contains a word in the sentence along with the POS and NER\n",
        "l_sentences = [s for s in grouped_df]\n",
        "l_sentences[0]"
      ],
      "metadata": {
        "colab": {
          "base_uri": "https://localhost:8080/"
        },
        "id": "wcDbukyTL0MR",
        "outputId": "16501c37-da74-46e5-8584-96b8a30c74ac"
      },
      "execution_count": 19,
      "outputs": [
        {
          "output_type": "execute_result",
          "data": {
            "text/plain": [
              "[('Thousands', 'NNS', 'O'),\n",
              " ('of', 'IN', 'O'),\n",
              " ('demonstrators', 'NNS', 'O'),\n",
              " ('have', 'VBP', 'O'),\n",
              " ('marched', 'VBN', 'O'),\n",
              " ('through', 'IN', 'O'),\n",
              " ('London', 'NNP', 'B-geo'),\n",
              " ('to', 'TO', 'O'),\n",
              " ('protest', 'VB', 'O'),\n",
              " ('the', 'DT', 'O'),\n",
              " ('war', 'NN', 'O'),\n",
              " ('in', 'IN', 'O'),\n",
              " ('Iraq', 'NNP', 'B-geo'),\n",
              " ('and', 'CC', 'O'),\n",
              " ('demand', 'VB', 'O'),\n",
              " ('the', 'DT', 'O'),\n",
              " ('withdrawal', 'NN', 'O'),\n",
              " ('of', 'IN', 'O'),\n",
              " ('British', 'JJ', 'B-gpe'),\n",
              " ('troops', 'NNS', 'O'),\n",
              " ('from', 'IN', 'O'),\n",
              " ('that', 'DT', 'O'),\n",
              " ('country', 'NN', 'O'),\n",
              " ('.', '.', 'O')]"
            ]
          },
          "metadata": {},
          "execution_count": 19
        }
      ]
    },
    {
      "cell_type": "code",
      "source": [
        "word2features(l_sentences[0], 1)"
      ],
      "metadata": {
        "colab": {
          "base_uri": "https://localhost:8080/"
        },
        "id": "bl5CtBYI--kP",
        "outputId": "58a73c56-4648-4afc-bf66-d6af16e43b88"
      },
      "execution_count": 20,
      "outputs": [
        {
          "output_type": "execute_result",
          "data": {
            "text/plain": [
              "{'bias': 1.0,\n",
              " 'word.lower()': 'of',\n",
              " 'word[-3:]': 'of',\n",
              " 'word[-2:]': 'of',\n",
              " 'word.isupper': False,\n",
              " 'word.istitle()': False,\n",
              " 'word.isdigit()': False,\n",
              " 'postag': 'IN',\n",
              " 'postag[:2]': 'IN',\n",
              " '-1:word.lower()': 'thousands',\n",
              " '-1:word.istitle()': True,\n",
              " '-1:word.isupper': False,\n",
              " '-1:postag': 'NNS',\n",
              " '-1:postag[:2]': 'NN',\n",
              " '+1:word.lower()': 'demonstrators',\n",
              " '+1:word.istitle()': False,\n",
              " '+1:word.isupper': False,\n",
              " '+1:postag': 'NNS',\n",
              " '+1:postag[:2]': 'NN'}"
            ]
          },
          "metadata": {},
          "execution_count": 20
        }
      ]
    },
    {
      "cell_type": "code",
      "source": [
        "sent2features(l_sentences[0][5:7])"
      ],
      "metadata": {
        "id": "6eBz-cAnMKQB",
        "colab": {
          "base_uri": "https://localhost:8080/"
        },
        "outputId": "563bfad7-b0f5-4d9b-986d-4eca1f1a33ad"
      },
      "execution_count": 21,
      "outputs": [
        {
          "output_type": "execute_result",
          "data": {
            "text/plain": [
              "[{'bias': 1.0,\n",
              "  'word.lower()': 'through',\n",
              "  'word[-3:]': 'ugh',\n",
              "  'word[-2:]': 'gh',\n",
              "  'word.isupper': False,\n",
              "  'word.istitle()': False,\n",
              "  'word.isdigit()': False,\n",
              "  'postag': 'IN',\n",
              "  'postag[:2]': 'IN',\n",
              "  'BOS': True,\n",
              "  '+1:word.lower()': 'london',\n",
              "  '+1:word.istitle()': True,\n",
              "  '+1:word.isupper': False,\n",
              "  '+1:postag': 'NNP',\n",
              "  '+1:postag[:2]': 'NN'},\n",
              " {'bias': 1.0,\n",
              "  'word.lower()': 'london',\n",
              "  'word[-3:]': 'don',\n",
              "  'word[-2:]': 'on',\n",
              "  'word.isupper': False,\n",
              "  'word.istitle()': True,\n",
              "  'word.isdigit()': False,\n",
              "  'postag': 'NNP',\n",
              "  'postag[:2]': 'NN',\n",
              "  '-1:word.lower()': 'through',\n",
              "  '-1:word.istitle()': False,\n",
              "  '-1:word.isupper': False,\n",
              "  '-1:postag': 'IN',\n",
              "  '-1:postag[:2]': 'IN',\n",
              "  'EOS': True}]"
            ]
          },
          "metadata": {},
          "execution_count": 21
        }
      ]
    },
    {
      "cell_type": "code",
      "source": [
        "# this function gets the ner label of each word feature dictionary\n",
        "sent2labels(l_sentences[0][5:7])"
      ],
      "metadata": {
        "colab": {
          "base_uri": "https://localhost:8080/"
        },
        "id": "9BwfMW5y38Uh",
        "outputId": "6045ea4a-3086-4046-9e6b-3a4c895c1dcb"
      },
      "execution_count": 22,
      "outputs": [
        {
          "output_type": "execute_result",
          "data": {
            "text/plain": [
              "['O', 'B-geo']"
            ]
          },
          "metadata": {},
          "execution_count": 22
        }
      ]
    },
    {
      "cell_type": "markdown",
      "source": [
        "# 4. Make Train/Test Datasets"
      ],
      "metadata": {
        "id": "KsOlYSAU0sv3"
      }
    },
    {
      "cell_type": "code",
      "source": [
        "# make the feature set\n",
        "X = np.array([sent2features(s) for s in l_sentences], dtype=object)\n",
        "# make the label set\n",
        "y = np.array([sent2labels(s) for s in l_sentences], dtype=object)"
      ],
      "metadata": {
        "id": "WZ9Rhlfn30cq"
      },
      "execution_count": 23,
      "outputs": []
    },
    {
      "cell_type": "code",
      "source": [
        "X_train, X_test, y_train, y_test = train_test_split(X, y, test_size=0.25, random_state= 42)"
      ],
      "metadata": {
        "id": "7Fxcc0jd_D6p"
      },
      "execution_count": 24,
      "outputs": []
    },
    {
      "cell_type": "code",
      "source": [
        "X_train.shape, X_test.shape"
      ],
      "metadata": {
        "colab": {
          "base_uri": "https://localhost:8080/"
        },
        "id": "aLNRvKwB_2Js",
        "outputId": "80ac6d0a-d5eb-4492-fbb4-71b78fa3512f"
      },
      "execution_count": 25,
      "outputs": [
        {
          "output_type": "execute_result",
          "data": {
            "text/plain": [
              "((35969,), (11990,))"
            ]
          },
          "metadata": {},
          "execution_count": 25
        }
      ]
    },
    {
      "cell_type": "markdown",
      "source": [
        "# 5. Train the Model"
      ],
      "metadata": {
        "id": "k6fRgveUAFRz"
      }
    },
    {
      "cell_type": "code",
      "source": [
        "crf = sklearn_crfsuite.CRF(algorithm='lbfgs',\n",
        "                           c1= 0.1,\n",
        "                           c2= 0.1,\n",
        "                           max_iterations= 100,\n",
        "                           all_possible_transitions= True,\n",
        "                           verbose= True)\n",
        "\n",
        "crf.fit(X_train, y_train)"
      ],
      "metadata": {
        "id": "gapfjSiwA1tc",
        "colab": {
          "base_uri": "https://localhost:8080/"
        },
        "outputId": "47d8b2bb-4daa-4049-fbb5-28418bf4a987"
      },
      "execution_count": 26,
      "outputs": [
        {
          "output_type": "stream",
          "name": "stderr",
          "text": [
            "loading training data to CRFsuite: 100%|██████████| 35969/35969 [00:18<00:00, 1993.85it/s]\n"
          ]
        },
        {
          "output_type": "stream",
          "name": "stdout",
          "text": [
            "\n",
            "Feature generation\n",
            "type: CRF1d\n",
            "feature.minfreq: 0.000000\n",
            "feature.possible_states: 0\n",
            "feature.possible_transitions: 1\n",
            "0....1....2....3....4....5....6....7....8....9....10\n",
            "Number of features: 133629\n",
            "Seconds required: 2.706\n",
            "\n",
            "L-BFGS optimization\n",
            "c1: 0.100000\n",
            "c2: 0.100000\n",
            "num_memories: 6\n",
            "max_iterations: 100\n",
            "epsilon: 0.000010\n",
            "stop: 10\n",
            "delta: 0.000010\n",
            "linesearch: MoreThuente\n",
            "linesearch.max_iterations: 20\n",
            "\n",
            "Iter 1   time=3.97  loss=1264028.26 active=132637 feature_norm=1.00\n",
            "Iter 2   time=4.76  loss=994059.01 active=131294 feature_norm=4.42\n",
            "Iter 3   time=2.41  loss=776413.87 active=125970 feature_norm=3.87\n",
            "Iter 4   time=10.56 loss=422143.40 active=127018 feature_norm=3.24\n",
            "Iter 5   time=2.55  loss=355775.44 active=129029 feature_norm=4.04\n",
            "Iter 6   time=1.98  loss=264125.22 active=124046 feature_norm=6.10\n",
            "Iter 7   time=2.00  loss=222304.71 active=117183 feature_norm=7.69\n",
            "Iter 8   time=1.99  loss=197827.17 active=110838 feature_norm=8.75\n",
            "Iter 9   time=1.98  loss=176877.92 active=105650 feature_norm=10.41\n",
            "Iter 10  time=2.51  loss=158997.61 active=103459 feature_norm=11.60\n",
            "Iter 11  time=2.68  loss=146328.53 active=100247 feature_norm=13.41\n",
            "Iter 12  time=1.99  loss=137671.14 active=98635 feature_norm=14.69\n",
            "Iter 13  time=2.02  loss=130471.62 active=97462 feature_norm=15.45\n",
            "Iter 14  time=1.97  loss=118841.84 active=94124 feature_norm=17.81\n",
            "Iter 15  time=1.97  loss=112928.42 active=92178 feature_norm=20.21\n",
            "Iter 16  time=2.32  loss=105499.44 active=91978 feature_norm=22.27\n",
            "Iter 17  time=2.84  loss=101994.76 active=91940 feature_norm=23.34\n",
            "Iter 18  time=2.00  loss=96362.28 active=89453 feature_norm=26.63\n",
            "Iter 19  time=1.99  loss=90647.28 active=89021 feature_norm=28.85\n",
            "Iter 20  time=1.97  loss=85521.13 active=87547 feature_norm=32.66\n",
            "Iter 21  time=1.97  loss=81239.75 active=87184 feature_norm=36.05\n",
            "Iter 22  time=2.14  loss=77980.98 active=86649 feature_norm=39.45\n",
            "Iter 23  time=2.96  loss=75036.81 active=86300 feature_norm=41.33\n",
            "Iter 24  time=1.97  loss=70028.55 active=82924 feature_norm=47.18\n",
            "Iter 25  time=3.94  loss=67859.30 active=82277 feature_norm=51.09\n",
            "Iter 26  time=1.97  loss=64640.62 active=81815 feature_norm=54.83\n",
            "Iter 27  time=1.96  loss=61783.61 active=80545 feature_norm=60.05\n",
            "Iter 28  time=3.05  loss=59095.29 active=79506 feature_norm=66.46\n",
            "Iter 29  time=2.11  loss=56799.57 active=79733 feature_norm=70.47\n",
            "Iter 30  time=1.99  loss=54812.68 active=79492 feature_norm=75.32\n",
            "Iter 31  time=1.98  loss=52807.07 active=78965 feature_norm=80.24\n",
            "Iter 32  time=2.36  loss=50790.16 active=78225 feature_norm=88.16\n",
            "Iter 33  time=2.76  loss=49548.49 active=78456 feature_norm=90.54\n",
            "Iter 34  time=2.38  loss=48303.45 active=78007 feature_norm=94.98\n",
            "Iter 35  time=1.96  loss=46171.65 active=76442 feature_norm=106.16\n",
            "Iter 36  time=1.98  loss=45327.99 active=75732 feature_norm=115.55\n",
            "Iter 37  time=1.99  loss=43822.08 active=75408 feature_norm=118.88\n",
            "Iter 38  time=1.98  loss=42688.21 active=74715 feature_norm=125.25\n",
            "Iter 39  time=2.57  loss=41275.71 active=73716 feature_norm=139.21\n",
            "Iter 40  time=2.58  loss=40047.55 active=73576 feature_norm=147.46\n",
            "Iter 41  time=1.97  loss=39265.28 active=73554 feature_norm=151.63\n",
            "Iter 42  time=1.98  loss=38403.33 active=72721 feature_norm=159.70\n",
            "Iter 43  time=1.97  loss=37608.69 active=72627 feature_norm=165.70\n",
            "Iter 44  time=1.99  loss=36823.99 active=71771 feature_norm=172.98\n",
            "Iter 45  time=2.38  loss=36326.35 active=70178 feature_norm=184.40\n",
            "Iter 46  time=2.74  loss=35883.80 active=69283 feature_norm=186.01\n",
            "Iter 47  time=1.98  loss=35560.99 active=68923 feature_norm=190.20\n",
            "Iter 48  time=1.96  loss=35404.76 active=67538 feature_norm=199.98\n",
            "Iter 49  time=1.96  loss=35012.55 active=67985 feature_norm=200.64\n",
            "Iter 50  time=1.97  loss=34929.44 active=68033 feature_norm=200.67\n",
            "Iter 51  time=2.18  loss=34693.21 active=67122 feature_norm=201.84\n",
            "Iter 52  time=4.92  loss=34629.25 active=66830 feature_norm=201.25\n",
            "Iter 53  time=1.97  loss=34459.64 active=66761 feature_norm=202.56\n",
            "Iter 54  time=1.99  loss=34344.14 active=66577 feature_norm=203.72\n",
            "Iter 55  time=2.00  loss=34165.12 active=66051 feature_norm=205.31\n",
            "Iter 56  time=2.02  loss=34162.67 active=64890 feature_norm=206.81\n",
            "Iter 57  time=3.03  loss=33943.85 active=65312 feature_norm=207.03\n",
            "Iter 58  time=2.05  loss=33886.19 active=64897 feature_norm=207.50\n",
            "Iter 59  time=1.96  loss=33780.88 active=64020 feature_norm=208.77\n",
            "Iter 60  time=1.99  loss=33666.08 active=63580 feature_norm=209.40\n",
            "Iter 61  time=1.98  loss=33571.12 active=63159 feature_norm=210.40\n",
            "Iter 62  time=1.99  loss=33488.40 active=63013 feature_norm=210.87\n",
            "Iter 63  time=2.85  loss=33397.52 active=62694 feature_norm=211.68\n",
            "Iter 64  time=2.31  loss=33317.69 active=62488 feature_norm=212.22\n",
            "Iter 65  time=1.97  loss=33247.01 active=62238 feature_norm=212.80\n",
            "Iter 66  time=1.99  loss=33173.26 active=62029 feature_norm=213.27\n",
            "Iter 67  time=2.02  loss=33108.73 active=61781 feature_norm=213.91\n",
            "Iter 68  time=1.98  loss=33052.25 active=61575 feature_norm=214.27\n",
            "Iter 69  time=2.68  loss=32996.19 active=61366 feature_norm=214.76\n",
            "Iter 70  time=2.46  loss=32941.28 active=61153 feature_norm=215.10\n",
            "Iter 71  time=1.97  loss=32894.22 active=60966 feature_norm=215.53\n",
            "Iter 72  time=2.01  loss=32853.09 active=60815 feature_norm=215.78\n",
            "Iter 73  time=1.96  loss=32814.22 active=60658 feature_norm=216.15\n",
            "Iter 74  time=1.96  loss=32778.22 active=60513 feature_norm=216.37\n",
            "Iter 75  time=2.47  loss=32743.64 active=60336 feature_norm=216.67\n",
            "Iter 76  time=2.64  loss=32711.92 active=60185 feature_norm=216.86\n",
            "Iter 77  time=1.99  loss=32682.08 active=60090 feature_norm=217.11\n",
            "Iter 78  time=1.99  loss=32654.10 active=59916 feature_norm=217.27\n",
            "Iter 79  time=1.98  loss=32627.76 active=59768 feature_norm=217.54\n",
            "Iter 80  time=1.97  loss=32603.13 active=59701 feature_norm=217.65\n",
            "Iter 81  time=2.35  loss=32580.63 active=59546 feature_norm=217.85\n",
            "Iter 82  time=2.81  loss=32559.76 active=59413 feature_norm=217.96\n",
            "Iter 83  time=2.02  loss=32538.88 active=59278 feature_norm=218.17\n",
            "Iter 84  time=2.01  loss=32520.71 active=59165 feature_norm=218.27\n",
            "Iter 85  time=1.98  loss=32501.10 active=59088 feature_norm=218.47\n",
            "Iter 86  time=1.97  loss=32484.14 active=58988 feature_norm=218.56\n",
            "Iter 87  time=2.21  loss=32467.58 active=58909 feature_norm=218.71\n",
            "Iter 88  time=2.94  loss=32452.86 active=58808 feature_norm=218.80\n",
            "Iter 89  time=1.97  loss=32437.92 active=58717 feature_norm=218.98\n",
            "Iter 90  time=1.98  loss=32424.99 active=58671 feature_norm=219.06\n",
            "Iter 91  time=1.98  loss=32411.01 active=58618 feature_norm=219.21\n",
            "Iter 92  time=1.97  loss=32399.15 active=58552 feature_norm=219.29\n",
            "Iter 93  time=2.02  loss=32386.63 active=58490 feature_norm=219.40\n",
            "Iter 94  time=3.07  loss=32375.74 active=58448 feature_norm=219.48\n",
            "Iter 95  time=2.08  loss=32364.54 active=58374 feature_norm=219.60\n",
            "Iter 96  time=1.99  loss=32354.96 active=58381 feature_norm=219.68\n",
            "Iter 97  time=2.00  loss=32344.27 active=58343 feature_norm=219.80\n",
            "Iter 98  time=1.96  loss=32335.08 active=58304 feature_norm=219.87\n",
            "Iter 99  time=1.99  loss=32324.92 active=58249 feature_norm=219.98\n",
            "Iter 100 time=2.92  loss=32316.67 active=58226 feature_norm=220.04\n",
            "L-BFGS terminated with the maximum number of iterations\n",
            "Total seconds required for training: 235.457\n",
            "\n",
            "Storing the model\n",
            "Number of active features: 58226 (133629)\n",
            "Number of active attributes: 29279 (90250)\n",
            "Number of active labels: 17 (17)\n",
            "Writing labels\n",
            "Writing attributes\n",
            "Writing feature references for transitions\n",
            "Writing feature references for attributes\n",
            "Seconds required: 0.052\n",
            "\n"
          ]
        },
        {
          "output_type": "stream",
          "name": "stderr",
          "text": [
            "/usr/local/lib/python3.9/dist-packages/sklearn/base.py:209: FutureWarning: From version 0.24, get_params will raise an AttributeError if a parameter cannot be retrieved as an instance attribute. Previously it would return None.\n",
            "  warnings.warn('From version 0.24, get_params will raise an '\n"
          ]
        },
        {
          "output_type": "execute_result",
          "data": {
            "text/plain": [
              "CRF(algorithm='lbfgs', all_possible_transitions=True, c1=0.1, c2=0.1,\n",
              "    keep_tempfiles=None, max_iterations=100, verbose=True)"
            ]
          },
          "metadata": {},
          "execution_count": 26
        }
      ]
    },
    {
      "cell_type": "markdown",
      "source": [
        "joblib.dump()"
      ],
      "metadata": {
        "id": "BJ7ehhzlE8YU"
      }
    },
    {
      "cell_type": "code",
      "source": [
        "joblib.dump(crf, 'crf_ner_model.pkl')"
      ],
      "metadata": {
        "id": "yrGXm3TRBdfG",
        "colab": {
          "base_uri": "https://localhost:8080/"
        },
        "outputId": "654cfa0d-33dc-4a8b-9f9a-68f489c8e8c9"
      },
      "execution_count": null,
      "outputs": [
        {
          "output_type": "execute_result",
          "data": {
            "text/plain": [
              "['crf_ner_model.pkl']"
            ]
          },
          "metadata": {},
          "execution_count": 27
        }
      ]
    },
    {
      "cell_type": "code",
      "source": [
        "#crf = pickle.load(urllib.request.urlopen(\"https://github.com/wbfrench1/barker_DATA606/blob/434a10498fddd9f62c9f0de38b56b8c7b338b18f/src/crf_models/crf_ner_model.pkl?raw=true\"))"
      ],
      "metadata": {
        "id": "DPGNF8Gp5QO2"
      },
      "execution_count": null,
      "outputs": []
    },
    {
      "cell_type": "code",
      "source": [
        "#crf = joblib.load('/content/drive/MyDrive/Colab Notebooks/0. Data 606 - Capstone/Models/crf_ner_model.pkl')"
      ],
      "metadata": {
        "id": "dBa2-64XE46I"
      },
      "execution_count": null,
      "outputs": []
    },
    {
      "cell_type": "code",
      "source": [
        "y_pred = crf.predict(X_test)"
      ],
      "metadata": {
        "id": "0vi1PeFxFTGq"
      },
      "execution_count": null,
      "outputs": []
    },
    {
      "cell_type": "code",
      "source": [
        "labels = crf.classes_\n",
        "labels.remove('O')\n",
        "print(crf_metrics.flat_classification_report(y_test,y_pred, labels=labels))"
      ],
      "metadata": {
        "colab": {
          "base_uri": "https://localhost:8080/"
        },
        "id": "gTgnTz1cFYf7",
        "outputId": "8fff0807-fe4f-488e-f1b9-49b1e948b4aa"
      },
      "execution_count": null,
      "outputs": [
        {
          "output_type": "stream",
          "name": "stderr",
          "text": [
            "/usr/local/lib/python3.9/dist-packages/sklearn/utils/validation.py:67: FutureWarning: Pass labels=['B-org', 'B-per', 'I-per', 'B-geo', 'I-geo', 'B-tim', 'I-org', 'B-gpe', 'I-tim', 'B-nat', 'B-eve', 'B-art', 'I-art', 'I-eve', 'I-gpe', 'I-nat'] as keyword args. From version 0.25 passing these as positional arguments will result in an error\n",
            "  warnings.warn(\"Pass {} as keyword args. From version 0.25 \"\n"
          ]
        },
        {
          "output_type": "stream",
          "name": "stdout",
          "text": [
            "              precision    recall  f1-score   support\n",
            "\n",
            "       B-org       0.81      0.73      0.77      5116\n",
            "       B-per       0.85      0.84      0.84      4239\n",
            "       I-per       0.85      0.90      0.88      4273\n",
            "       B-geo       0.86      0.91      0.89      9403\n",
            "       I-geo       0.81      0.80      0.81      1826\n",
            "       B-tim       0.93      0.89      0.91      5095\n",
            "       I-org       0.82      0.79      0.80      4195\n",
            "       B-gpe       0.97      0.94      0.96      3961\n",
            "       I-tim       0.84      0.81      0.82      1604\n",
            "       B-nat       0.50      0.24      0.32        55\n",
            "       B-eve       0.51      0.33      0.40        80\n",
            "       B-art       0.36      0.14      0.20       102\n",
            "       I-art       0.24      0.07      0.10        90\n",
            "       I-eve       0.45      0.19      0.27        74\n",
            "       I-gpe       0.86      0.53      0.66        36\n",
            "       I-nat       0.57      0.22      0.32        18\n",
            "\n",
            "   micro avg       0.86      0.85      0.86     40167\n",
            "   macro avg       0.70      0.58      0.62     40167\n",
            "weighted avg       0.86      0.85      0.85     40167\n",
            "\n"
          ]
        }
      ]
    },
    {
      "cell_type": "markdown",
      "source": [
        "# 6. Implement Model for Movie Data"
      ],
      "metadata": {
        "id": "Jh5vuHx_FlnT"
      }
    },
    {
      "cell_type": "markdown",
      "source": [
        "## 6.1 Convert Movie Data Format"
      ],
      "metadata": {
        "id": "CilVpTOhGS8F"
      }
    },
    {
      "cell_type": "code",
      "source": [
        "df.head()"
      ],
      "metadata": {
        "colab": {
          "base_uri": "https://localhost:8080/",
          "height": 206
        },
        "id": "8QOxzsfJGazk",
        "outputId": "3b5b3c82-429e-4e66-e4e7-84644c590562"
      },
      "execution_count": null,
      "outputs": [
        {
          "output_type": "execute_result",
          "data": {
            "text/plain": [
              "   q_num_by_src     postag    word pos      tag     source  q_num\n",
              "0             1  o-outside    what   o  outside  eng_train      1\n",
              "1             1  o-outside  movies   o  outside  eng_train      1\n",
              "2             1  o-outside    star   o  outside  eng_train      1\n",
              "3             1    b-actor   bruce   b    actor  eng_train      1\n",
              "4             1    i-actor  willis   i    actor  eng_train      1"
            ],
            "text/html": [
              "\n",
              "  <div id=\"df-f398f196-06dd-4f9a-a344-ed92c6b9a1d9\">\n",
              "    <div class=\"colab-df-container\">\n",
              "      <div>\n",
              "<style scoped>\n",
              "    .dataframe tbody tr th:only-of-type {\n",
              "        vertical-align: middle;\n",
              "    }\n",
              "\n",
              "    .dataframe tbody tr th {\n",
              "        vertical-align: top;\n",
              "    }\n",
              "\n",
              "    .dataframe thead th {\n",
              "        text-align: right;\n",
              "    }\n",
              "</style>\n",
              "<table border=\"1\" class=\"dataframe\">\n",
              "  <thead>\n",
              "    <tr style=\"text-align: right;\">\n",
              "      <th></th>\n",
              "      <th>q_num_by_src</th>\n",
              "      <th>postag</th>\n",
              "      <th>word</th>\n",
              "      <th>pos</th>\n",
              "      <th>tag</th>\n",
              "      <th>source</th>\n",
              "      <th>q_num</th>\n",
              "    </tr>\n",
              "  </thead>\n",
              "  <tbody>\n",
              "    <tr>\n",
              "      <th>0</th>\n",
              "      <td>1</td>\n",
              "      <td>o-outside</td>\n",
              "      <td>what</td>\n",
              "      <td>o</td>\n",
              "      <td>outside</td>\n",
              "      <td>eng_train</td>\n",
              "      <td>1</td>\n",
              "    </tr>\n",
              "    <tr>\n",
              "      <th>1</th>\n",
              "      <td>1</td>\n",
              "      <td>o-outside</td>\n",
              "      <td>movies</td>\n",
              "      <td>o</td>\n",
              "      <td>outside</td>\n",
              "      <td>eng_train</td>\n",
              "      <td>1</td>\n",
              "    </tr>\n",
              "    <tr>\n",
              "      <th>2</th>\n",
              "      <td>1</td>\n",
              "      <td>o-outside</td>\n",
              "      <td>star</td>\n",
              "      <td>o</td>\n",
              "      <td>outside</td>\n",
              "      <td>eng_train</td>\n",
              "      <td>1</td>\n",
              "    </tr>\n",
              "    <tr>\n",
              "      <th>3</th>\n",
              "      <td>1</td>\n",
              "      <td>b-actor</td>\n",
              "      <td>bruce</td>\n",
              "      <td>b</td>\n",
              "      <td>actor</td>\n",
              "      <td>eng_train</td>\n",
              "      <td>1</td>\n",
              "    </tr>\n",
              "    <tr>\n",
              "      <th>4</th>\n",
              "      <td>1</td>\n",
              "      <td>i-actor</td>\n",
              "      <td>willis</td>\n",
              "      <td>i</td>\n",
              "      <td>actor</td>\n",
              "      <td>eng_train</td>\n",
              "      <td>1</td>\n",
              "    </tr>\n",
              "  </tbody>\n",
              "</table>\n",
              "</div>\n",
              "      <button class=\"colab-df-convert\" onclick=\"convertToInteractive('df-f398f196-06dd-4f9a-a344-ed92c6b9a1d9')\"\n",
              "              title=\"Convert this dataframe to an interactive table.\"\n",
              "              style=\"display:none;\">\n",
              "        \n",
              "  <svg xmlns=\"http://www.w3.org/2000/svg\" height=\"24px\"viewBox=\"0 0 24 24\"\n",
              "       width=\"24px\">\n",
              "    <path d=\"M0 0h24v24H0V0z\" fill=\"none\"/>\n",
              "    <path d=\"M18.56 5.44l.94 2.06.94-2.06 2.06-.94-2.06-.94-.94-2.06-.94 2.06-2.06.94zm-11 1L8.5 8.5l.94-2.06 2.06-.94-2.06-.94L8.5 2.5l-.94 2.06-2.06.94zm10 10l.94 2.06.94-2.06 2.06-.94-2.06-.94-.94-2.06-.94 2.06-2.06.94z\"/><path d=\"M17.41 7.96l-1.37-1.37c-.4-.4-.92-.59-1.43-.59-.52 0-1.04.2-1.43.59L10.3 9.45l-7.72 7.72c-.78.78-.78 2.05 0 2.83L4 21.41c.39.39.9.59 1.41.59.51 0 1.02-.2 1.41-.59l7.78-7.78 2.81-2.81c.8-.78.8-2.07 0-2.86zM5.41 20L4 18.59l7.72-7.72 1.47 1.35L5.41 20z\"/>\n",
              "  </svg>\n",
              "      </button>\n",
              "      \n",
              "  <style>\n",
              "    .colab-df-container {\n",
              "      display:flex;\n",
              "      flex-wrap:wrap;\n",
              "      gap: 12px;\n",
              "    }\n",
              "\n",
              "    .colab-df-convert {\n",
              "      background-color: #E8F0FE;\n",
              "      border: none;\n",
              "      border-radius: 50%;\n",
              "      cursor: pointer;\n",
              "      display: none;\n",
              "      fill: #1967D2;\n",
              "      height: 32px;\n",
              "      padding: 0 0 0 0;\n",
              "      width: 32px;\n",
              "    }\n",
              "\n",
              "    .colab-df-convert:hover {\n",
              "      background-color: #E2EBFA;\n",
              "      box-shadow: 0px 1px 2px rgba(60, 64, 67, 0.3), 0px 1px 3px 1px rgba(60, 64, 67, 0.15);\n",
              "      fill: #174EA6;\n",
              "    }\n",
              "\n",
              "    [theme=dark] .colab-df-convert {\n",
              "      background-color: #3B4455;\n",
              "      fill: #D2E3FC;\n",
              "    }\n",
              "\n",
              "    [theme=dark] .colab-df-convert:hover {\n",
              "      background-color: #434B5C;\n",
              "      box-shadow: 0px 1px 3px 1px rgba(0, 0, 0, 0.15);\n",
              "      filter: drop-shadow(0px 1px 2px rgba(0, 0, 0, 0.3));\n",
              "      fill: #FFFFFF;\n",
              "    }\n",
              "  </style>\n",
              "\n",
              "      <script>\n",
              "        const buttonEl =\n",
              "          document.querySelector('#df-f398f196-06dd-4f9a-a344-ed92c6b9a1d9 button.colab-df-convert');\n",
              "        buttonEl.style.display =\n",
              "          google.colab.kernel.accessAllowed ? 'block' : 'none';\n",
              "\n",
              "        async function convertToInteractive(key) {\n",
              "          const element = document.querySelector('#df-f398f196-06dd-4f9a-a344-ed92c6b9a1d9');\n",
              "          const dataTable =\n",
              "            await google.colab.kernel.invokeFunction('convertToInteractive',\n",
              "                                                     [key], {});\n",
              "          if (!dataTable) return;\n",
              "\n",
              "          const docLinkHtml = 'Like what you see? Visit the ' +\n",
              "            '<a target=\"_blank\" href=https://colab.research.google.com/notebooks/data_table.ipynb>data table notebook</a>'\n",
              "            + ' to learn more about interactive tables.';\n",
              "          element.innerHTML = '';\n",
              "          dataTable['output_type'] = 'display_data';\n",
              "          await google.colab.output.renderOutput(dataTable, element);\n",
              "          const docLink = document.createElement('div');\n",
              "          docLink.innerHTML = docLinkHtml;\n",
              "          element.appendChild(docLink);\n",
              "        }\n",
              "      </script>\n",
              "    </div>\n",
              "  </div>\n",
              "  "
            ]
          },
          "metadata": {},
          "execution_count": 32
        }
      ]
    },
    {
      "cell_type": "code",
      "source": [
        "# copy original data\n",
        "df1 = df.copy()"
      ],
      "metadata": {
        "id": "Gq6_B6hVGyLN"
      },
      "execution_count": null,
      "outputs": []
    },
    {
      "cell_type": "code",
      "source": [
        "df1.columns"
      ],
      "metadata": {
        "colab": {
          "base_uri": "https://localhost:8080/"
        },
        "id": "IHNvIcagHFxv",
        "outputId": "6b1a4a06-138c-43d8-f346-91dfb22db08a"
      },
      "execution_count": null,
      "outputs": [
        {
          "output_type": "execute_result",
          "data": {
            "text/plain": [
              "Index(['q_num_by_src', 'postag', 'word', 'pos', 'tag', 'source', 'q_num'], dtype='object')"
            ]
          },
          "metadata": {},
          "execution_count": 34
        }
      ]
    },
    {
      "cell_type": "code",
      "source": [
        "# remove the extra columns\n",
        "df1.drop(columns=['q_num_by_src', 'pos', 'tag', 'source'], inplace=True)"
      ],
      "metadata": {
        "id": "Dm39wGn7G4ZG"
      },
      "execution_count": null,
      "outputs": []
    },
    {
      "cell_type": "code",
      "source": [
        "df1.head()"
      ],
      "metadata": {
        "colab": {
          "base_uri": "https://localhost:8080/",
          "height": 206
        },
        "id": "57a1FSV5HPhe",
        "outputId": "0a6ca6f5-9eb3-4613-c54c-1e4b873077b7"
      },
      "execution_count": null,
      "outputs": [
        {
          "output_type": "execute_result",
          "data": {
            "text/plain": [
              "      postag    word  q_num\n",
              "0  o-outside    what      1\n",
              "1  o-outside  movies      1\n",
              "2  o-outside    star      1\n",
              "3    b-actor   bruce      1\n",
              "4    i-actor  willis      1"
            ],
            "text/html": [
              "\n",
              "  <div id=\"df-c1b6a4cb-b85b-40b2-9a58-3c6c95a1beed\">\n",
              "    <div class=\"colab-df-container\">\n",
              "      <div>\n",
              "<style scoped>\n",
              "    .dataframe tbody tr th:only-of-type {\n",
              "        vertical-align: middle;\n",
              "    }\n",
              "\n",
              "    .dataframe tbody tr th {\n",
              "        vertical-align: top;\n",
              "    }\n",
              "\n",
              "    .dataframe thead th {\n",
              "        text-align: right;\n",
              "    }\n",
              "</style>\n",
              "<table border=\"1\" class=\"dataframe\">\n",
              "  <thead>\n",
              "    <tr style=\"text-align: right;\">\n",
              "      <th></th>\n",
              "      <th>postag</th>\n",
              "      <th>word</th>\n",
              "      <th>q_num</th>\n",
              "    </tr>\n",
              "  </thead>\n",
              "  <tbody>\n",
              "    <tr>\n",
              "      <th>0</th>\n",
              "      <td>o-outside</td>\n",
              "      <td>what</td>\n",
              "      <td>1</td>\n",
              "    </tr>\n",
              "    <tr>\n",
              "      <th>1</th>\n",
              "      <td>o-outside</td>\n",
              "      <td>movies</td>\n",
              "      <td>1</td>\n",
              "    </tr>\n",
              "    <tr>\n",
              "      <th>2</th>\n",
              "      <td>o-outside</td>\n",
              "      <td>star</td>\n",
              "      <td>1</td>\n",
              "    </tr>\n",
              "    <tr>\n",
              "      <th>3</th>\n",
              "      <td>b-actor</td>\n",
              "      <td>bruce</td>\n",
              "      <td>1</td>\n",
              "    </tr>\n",
              "    <tr>\n",
              "      <th>4</th>\n",
              "      <td>i-actor</td>\n",
              "      <td>willis</td>\n",
              "      <td>1</td>\n",
              "    </tr>\n",
              "  </tbody>\n",
              "</table>\n",
              "</div>\n",
              "      <button class=\"colab-df-convert\" onclick=\"convertToInteractive('df-c1b6a4cb-b85b-40b2-9a58-3c6c95a1beed')\"\n",
              "              title=\"Convert this dataframe to an interactive table.\"\n",
              "              style=\"display:none;\">\n",
              "        \n",
              "  <svg xmlns=\"http://www.w3.org/2000/svg\" height=\"24px\"viewBox=\"0 0 24 24\"\n",
              "       width=\"24px\">\n",
              "    <path d=\"M0 0h24v24H0V0z\" fill=\"none\"/>\n",
              "    <path d=\"M18.56 5.44l.94 2.06.94-2.06 2.06-.94-2.06-.94-.94-2.06-.94 2.06-2.06.94zm-11 1L8.5 8.5l.94-2.06 2.06-.94-2.06-.94L8.5 2.5l-.94 2.06-2.06.94zm10 10l.94 2.06.94-2.06 2.06-.94-2.06-.94-.94-2.06-.94 2.06-2.06.94z\"/><path d=\"M17.41 7.96l-1.37-1.37c-.4-.4-.92-.59-1.43-.59-.52 0-1.04.2-1.43.59L10.3 9.45l-7.72 7.72c-.78.78-.78 2.05 0 2.83L4 21.41c.39.39.9.59 1.41.59.51 0 1.02-.2 1.41-.59l7.78-7.78 2.81-2.81c.8-.78.8-2.07 0-2.86zM5.41 20L4 18.59l7.72-7.72 1.47 1.35L5.41 20z\"/>\n",
              "  </svg>\n",
              "      </button>\n",
              "      \n",
              "  <style>\n",
              "    .colab-df-container {\n",
              "      display:flex;\n",
              "      flex-wrap:wrap;\n",
              "      gap: 12px;\n",
              "    }\n",
              "\n",
              "    .colab-df-convert {\n",
              "      background-color: #E8F0FE;\n",
              "      border: none;\n",
              "      border-radius: 50%;\n",
              "      cursor: pointer;\n",
              "      display: none;\n",
              "      fill: #1967D2;\n",
              "      height: 32px;\n",
              "      padding: 0 0 0 0;\n",
              "      width: 32px;\n",
              "    }\n",
              "\n",
              "    .colab-df-convert:hover {\n",
              "      background-color: #E2EBFA;\n",
              "      box-shadow: 0px 1px 2px rgba(60, 64, 67, 0.3), 0px 1px 3px 1px rgba(60, 64, 67, 0.15);\n",
              "      fill: #174EA6;\n",
              "    }\n",
              "\n",
              "    [theme=dark] .colab-df-convert {\n",
              "      background-color: #3B4455;\n",
              "      fill: #D2E3FC;\n",
              "    }\n",
              "\n",
              "    [theme=dark] .colab-df-convert:hover {\n",
              "      background-color: #434B5C;\n",
              "      box-shadow: 0px 1px 3px 1px rgba(0, 0, 0, 0.15);\n",
              "      filter: drop-shadow(0px 1px 2px rgba(0, 0, 0, 0.3));\n",
              "      fill: #FFFFFF;\n",
              "    }\n",
              "  </style>\n",
              "\n",
              "      <script>\n",
              "        const buttonEl =\n",
              "          document.querySelector('#df-c1b6a4cb-b85b-40b2-9a58-3c6c95a1beed button.colab-df-convert');\n",
              "        buttonEl.style.display =\n",
              "          google.colab.kernel.accessAllowed ? 'block' : 'none';\n",
              "\n",
              "        async function convertToInteractive(key) {\n",
              "          const element = document.querySelector('#df-c1b6a4cb-b85b-40b2-9a58-3c6c95a1beed');\n",
              "          const dataTable =\n",
              "            await google.colab.kernel.invokeFunction('convertToInteractive',\n",
              "                                                     [key], {});\n",
              "          if (!dataTable) return;\n",
              "\n",
              "          const docLinkHtml = 'Like what you see? Visit the ' +\n",
              "            '<a target=\"_blank\" href=https://colab.research.google.com/notebooks/data_table.ipynb>data table notebook</a>'\n",
              "            + ' to learn more about interactive tables.';\n",
              "          element.innerHTML = '';\n",
              "          dataTable['output_type'] = 'display_data';\n",
              "          await google.colab.output.renderOutput(dataTable, element);\n",
              "          const docLink = document.createElement('div');\n",
              "          docLink.innerHTML = docLinkHtml;\n",
              "          element.appendChild(docLink);\n",
              "        }\n",
              "      </script>\n",
              "    </div>\n",
              "  </div>\n",
              "  "
            ]
          },
          "metadata": {},
          "execution_count": 36
        }
      ]
    },
    {
      "cell_type": "code",
      "source": [
        "#convert the word format to string\n",
        "#rename the columns to match the Sarkar Tool\n",
        "df1.word = df1.word.astype(str)\n",
        "df1.rename(columns={'q_num': 'Sentence #',\n",
        "                    'word': 'Word',\n",
        "                    'postag': 'Tag'}, inplace=True)"
      ],
      "metadata": {
        "id": "X-UmH4LMHscz"
      },
      "execution_count": null,
      "outputs": []
    },
    {
      "cell_type": "code",
      "source": [
        "# check for null values\n",
        "df1.loc[df1.Word.isnull()]"
      ],
      "metadata": {
        "colab": {
          "base_uri": "https://localhost:8080/",
          "height": 49
        },
        "id": "Y1xHJ3btH4vN",
        "outputId": "89e45ed6-3bf5-4abb-cb14-309bb9b33627"
      },
      "execution_count": null,
      "outputs": [
        {
          "output_type": "execute_result",
          "data": {
            "text/plain": [
              "Empty DataFrame\n",
              "Columns: [Tag, Word, Sentence #]\n",
              "Index: []"
            ],
            "text/html": [
              "\n",
              "  <div id=\"df-58151e99-8ae1-4c65-9756-63408e79c559\">\n",
              "    <div class=\"colab-df-container\">\n",
              "      <div>\n",
              "<style scoped>\n",
              "    .dataframe tbody tr th:only-of-type {\n",
              "        vertical-align: middle;\n",
              "    }\n",
              "\n",
              "    .dataframe tbody tr th {\n",
              "        vertical-align: top;\n",
              "    }\n",
              "\n",
              "    .dataframe thead th {\n",
              "        text-align: right;\n",
              "    }\n",
              "</style>\n",
              "<table border=\"1\" class=\"dataframe\">\n",
              "  <thead>\n",
              "    <tr style=\"text-align: right;\">\n",
              "      <th></th>\n",
              "      <th>Tag</th>\n",
              "      <th>Word</th>\n",
              "      <th>Sentence #</th>\n",
              "    </tr>\n",
              "  </thead>\n",
              "  <tbody>\n",
              "  </tbody>\n",
              "</table>\n",
              "</div>\n",
              "      <button class=\"colab-df-convert\" onclick=\"convertToInteractive('df-58151e99-8ae1-4c65-9756-63408e79c559')\"\n",
              "              title=\"Convert this dataframe to an interactive table.\"\n",
              "              style=\"display:none;\">\n",
              "        \n",
              "  <svg xmlns=\"http://www.w3.org/2000/svg\" height=\"24px\"viewBox=\"0 0 24 24\"\n",
              "       width=\"24px\">\n",
              "    <path d=\"M0 0h24v24H0V0z\" fill=\"none\"/>\n",
              "    <path d=\"M18.56 5.44l.94 2.06.94-2.06 2.06-.94-2.06-.94-.94-2.06-.94 2.06-2.06.94zm-11 1L8.5 8.5l.94-2.06 2.06-.94-2.06-.94L8.5 2.5l-.94 2.06-2.06.94zm10 10l.94 2.06.94-2.06 2.06-.94-2.06-.94-.94-2.06-.94 2.06-2.06.94z\"/><path d=\"M17.41 7.96l-1.37-1.37c-.4-.4-.92-.59-1.43-.59-.52 0-1.04.2-1.43.59L10.3 9.45l-7.72 7.72c-.78.78-.78 2.05 0 2.83L4 21.41c.39.39.9.59 1.41.59.51 0 1.02-.2 1.41-.59l7.78-7.78 2.81-2.81c.8-.78.8-2.07 0-2.86zM5.41 20L4 18.59l7.72-7.72 1.47 1.35L5.41 20z\"/>\n",
              "  </svg>\n",
              "      </button>\n",
              "      \n",
              "  <style>\n",
              "    .colab-df-container {\n",
              "      display:flex;\n",
              "      flex-wrap:wrap;\n",
              "      gap: 12px;\n",
              "    }\n",
              "\n",
              "    .colab-df-convert {\n",
              "      background-color: #E8F0FE;\n",
              "      border: none;\n",
              "      border-radius: 50%;\n",
              "      cursor: pointer;\n",
              "      display: none;\n",
              "      fill: #1967D2;\n",
              "      height: 32px;\n",
              "      padding: 0 0 0 0;\n",
              "      width: 32px;\n",
              "    }\n",
              "\n",
              "    .colab-df-convert:hover {\n",
              "      background-color: #E2EBFA;\n",
              "      box-shadow: 0px 1px 2px rgba(60, 64, 67, 0.3), 0px 1px 3px 1px rgba(60, 64, 67, 0.15);\n",
              "      fill: #174EA6;\n",
              "    }\n",
              "\n",
              "    [theme=dark] .colab-df-convert {\n",
              "      background-color: #3B4455;\n",
              "      fill: #D2E3FC;\n",
              "    }\n",
              "\n",
              "    [theme=dark] .colab-df-convert:hover {\n",
              "      background-color: #434B5C;\n",
              "      box-shadow: 0px 1px 3px 1px rgba(0, 0, 0, 0.15);\n",
              "      filter: drop-shadow(0px 1px 2px rgba(0, 0, 0, 0.3));\n",
              "      fill: #FFFFFF;\n",
              "    }\n",
              "  </style>\n",
              "\n",
              "      <script>\n",
              "        const buttonEl =\n",
              "          document.querySelector('#df-58151e99-8ae1-4c65-9756-63408e79c559 button.colab-df-convert');\n",
              "        buttonEl.style.display =\n",
              "          google.colab.kernel.accessAllowed ? 'block' : 'none';\n",
              "\n",
              "        async function convertToInteractive(key) {\n",
              "          const element = document.querySelector('#df-58151e99-8ae1-4c65-9756-63408e79c559');\n",
              "          const dataTable =\n",
              "            await google.colab.kernel.invokeFunction('convertToInteractive',\n",
              "                                                     [key], {});\n",
              "          if (!dataTable) return;\n",
              "\n",
              "          const docLinkHtml = 'Like what you see? Visit the ' +\n",
              "            '<a target=\"_blank\" href=https://colab.research.google.com/notebooks/data_table.ipynb>data table notebook</a>'\n",
              "            + ' to learn more about interactive tables.';\n",
              "          element.innerHTML = '';\n",
              "          dataTable['output_type'] = 'display_data';\n",
              "          await google.colab.output.renderOutput(dataTable, element);\n",
              "          const docLink = document.createElement('div');\n",
              "          docLink.innerHTML = docLinkHtml;\n",
              "          element.appendChild(docLink);\n",
              "        }\n",
              "      </script>\n",
              "    </div>\n",
              "  </div>\n",
              "  "
            ]
          },
          "metadata": {},
          "execution_count": 38
        }
      ]
    },
    {
      "cell_type": "code",
      "source": [
        "df1.dropna(inplace=True)"
      ],
      "metadata": {
        "id": "6f-s2pCtIDoX"
      },
      "execution_count": null,
      "outputs": []
    },
    {
      "cell_type": "code",
      "source": [
        "# create the part of speech (POS) variable\n",
        "df1['POS'] = [pos for word, pos in nltk.pos_tag(df1['Word'])]"
      ],
      "metadata": {
        "id": "aKgdIeuaHQXl"
      },
      "execution_count": null,
      "outputs": []
    },
    {
      "cell_type": "code",
      "source": [
        "df1['Tag'].replace({'o-outside': 'o'}, inplace=True)"
      ],
      "metadata": {
        "id": "tS3rhxm-4U1d"
      },
      "execution_count": null,
      "outputs": []
    },
    {
      "cell_type": "code",
      "source": [
        "df1.head()"
      ],
      "metadata": {
        "colab": {
          "base_uri": "https://localhost:8080/",
          "height": 206
        },
        "id": "cmp4GZlZHiJr",
        "outputId": "69b39b1f-19c1-45d5-adb6-724775e617ee"
      },
      "execution_count": null,
      "outputs": [
        {
          "output_type": "execute_result",
          "data": {
            "text/plain": [
              "       Tag    Word  Sentence #  POS\n",
              "0        o    what           1   WP\n",
              "1        o  movies           1  NNS\n",
              "2        o    star           1  VBP\n",
              "3  b-actor   bruce           1   NN\n",
              "4  i-actor  willis           1   NN"
            ],
            "text/html": [
              "\n",
              "  <div id=\"df-0c3702e0-5c01-4b6f-a88f-7e33fc717eec\">\n",
              "    <div class=\"colab-df-container\">\n",
              "      <div>\n",
              "<style scoped>\n",
              "    .dataframe tbody tr th:only-of-type {\n",
              "        vertical-align: middle;\n",
              "    }\n",
              "\n",
              "    .dataframe tbody tr th {\n",
              "        vertical-align: top;\n",
              "    }\n",
              "\n",
              "    .dataframe thead th {\n",
              "        text-align: right;\n",
              "    }\n",
              "</style>\n",
              "<table border=\"1\" class=\"dataframe\">\n",
              "  <thead>\n",
              "    <tr style=\"text-align: right;\">\n",
              "      <th></th>\n",
              "      <th>Tag</th>\n",
              "      <th>Word</th>\n",
              "      <th>Sentence #</th>\n",
              "      <th>POS</th>\n",
              "    </tr>\n",
              "  </thead>\n",
              "  <tbody>\n",
              "    <tr>\n",
              "      <th>0</th>\n",
              "      <td>o</td>\n",
              "      <td>what</td>\n",
              "      <td>1</td>\n",
              "      <td>WP</td>\n",
              "    </tr>\n",
              "    <tr>\n",
              "      <th>1</th>\n",
              "      <td>o</td>\n",
              "      <td>movies</td>\n",
              "      <td>1</td>\n",
              "      <td>NNS</td>\n",
              "    </tr>\n",
              "    <tr>\n",
              "      <th>2</th>\n",
              "      <td>o</td>\n",
              "      <td>star</td>\n",
              "      <td>1</td>\n",
              "      <td>VBP</td>\n",
              "    </tr>\n",
              "    <tr>\n",
              "      <th>3</th>\n",
              "      <td>b-actor</td>\n",
              "      <td>bruce</td>\n",
              "      <td>1</td>\n",
              "      <td>NN</td>\n",
              "    </tr>\n",
              "    <tr>\n",
              "      <th>4</th>\n",
              "      <td>i-actor</td>\n",
              "      <td>willis</td>\n",
              "      <td>1</td>\n",
              "      <td>NN</td>\n",
              "    </tr>\n",
              "  </tbody>\n",
              "</table>\n",
              "</div>\n",
              "      <button class=\"colab-df-convert\" onclick=\"convertToInteractive('df-0c3702e0-5c01-4b6f-a88f-7e33fc717eec')\"\n",
              "              title=\"Convert this dataframe to an interactive table.\"\n",
              "              style=\"display:none;\">\n",
              "        \n",
              "  <svg xmlns=\"http://www.w3.org/2000/svg\" height=\"24px\"viewBox=\"0 0 24 24\"\n",
              "       width=\"24px\">\n",
              "    <path d=\"M0 0h24v24H0V0z\" fill=\"none\"/>\n",
              "    <path d=\"M18.56 5.44l.94 2.06.94-2.06 2.06-.94-2.06-.94-.94-2.06-.94 2.06-2.06.94zm-11 1L8.5 8.5l.94-2.06 2.06-.94-2.06-.94L8.5 2.5l-.94 2.06-2.06.94zm10 10l.94 2.06.94-2.06 2.06-.94-2.06-.94-.94-2.06-.94 2.06-2.06.94z\"/><path d=\"M17.41 7.96l-1.37-1.37c-.4-.4-.92-.59-1.43-.59-.52 0-1.04.2-1.43.59L10.3 9.45l-7.72 7.72c-.78.78-.78 2.05 0 2.83L4 21.41c.39.39.9.59 1.41.59.51 0 1.02-.2 1.41-.59l7.78-7.78 2.81-2.81c.8-.78.8-2.07 0-2.86zM5.41 20L4 18.59l7.72-7.72 1.47 1.35L5.41 20z\"/>\n",
              "  </svg>\n",
              "      </button>\n",
              "      \n",
              "  <style>\n",
              "    .colab-df-container {\n",
              "      display:flex;\n",
              "      flex-wrap:wrap;\n",
              "      gap: 12px;\n",
              "    }\n",
              "\n",
              "    .colab-df-convert {\n",
              "      background-color: #E8F0FE;\n",
              "      border: none;\n",
              "      border-radius: 50%;\n",
              "      cursor: pointer;\n",
              "      display: none;\n",
              "      fill: #1967D2;\n",
              "      height: 32px;\n",
              "      padding: 0 0 0 0;\n",
              "      width: 32px;\n",
              "    }\n",
              "\n",
              "    .colab-df-convert:hover {\n",
              "      background-color: #E2EBFA;\n",
              "      box-shadow: 0px 1px 2px rgba(60, 64, 67, 0.3), 0px 1px 3px 1px rgba(60, 64, 67, 0.15);\n",
              "      fill: #174EA6;\n",
              "    }\n",
              "\n",
              "    [theme=dark] .colab-df-convert {\n",
              "      background-color: #3B4455;\n",
              "      fill: #D2E3FC;\n",
              "    }\n",
              "\n",
              "    [theme=dark] .colab-df-convert:hover {\n",
              "      background-color: #434B5C;\n",
              "      box-shadow: 0px 1px 3px 1px rgba(0, 0, 0, 0.15);\n",
              "      filter: drop-shadow(0px 1px 2px rgba(0, 0, 0, 0.3));\n",
              "      fill: #FFFFFF;\n",
              "    }\n",
              "  </style>\n",
              "\n",
              "      <script>\n",
              "        const buttonEl =\n",
              "          document.querySelector('#df-0c3702e0-5c01-4b6f-a88f-7e33fc717eec button.colab-df-convert');\n",
              "        buttonEl.style.display =\n",
              "          google.colab.kernel.accessAllowed ? 'block' : 'none';\n",
              "\n",
              "        async function convertToInteractive(key) {\n",
              "          const element = document.querySelector('#df-0c3702e0-5c01-4b6f-a88f-7e33fc717eec');\n",
              "          const dataTable =\n",
              "            await google.colab.kernel.invokeFunction('convertToInteractive',\n",
              "                                                     [key], {});\n",
              "          if (!dataTable) return;\n",
              "\n",
              "          const docLinkHtml = 'Like what you see? Visit the ' +\n",
              "            '<a target=\"_blank\" href=https://colab.research.google.com/notebooks/data_table.ipynb>data table notebook</a>'\n",
              "            + ' to learn more about interactive tables.';\n",
              "          element.innerHTML = '';\n",
              "          dataTable['output_type'] = 'display_data';\n",
              "          await google.colab.output.renderOutput(dataTable, element);\n",
              "          const docLink = document.createElement('div');\n",
              "          docLink.innerHTML = docLinkHtml;\n",
              "          element.appendChild(docLink);\n",
              "        }\n",
              "      </script>\n",
              "    </div>\n",
              "  </div>\n",
              "  "
            ]
          },
          "metadata": {},
          "execution_count": 42
        }
      ]
    },
    {
      "cell_type": "markdown",
      "source": [
        "#### Create the spaCy dataset format"
      ],
      "metadata": {
        "id": "nPStZOc-8zyX"
      }
    },
    {
      "cell_type": "code",
      "source": [
        "df_word_pos_iob = df1[['Sentence #', 'Word', 'POS', 'Tag' ]].copy()"
      ],
      "metadata": {
        "id": "rdQJzzhg4N1C"
      },
      "execution_count": null,
      "outputs": []
    },
    {
      "cell_type": "code",
      "source": [
        "df_word_pos_iob.to_csv('https://github.com/wbfrench1/barker_DATA606/blob/3656b0de75f401fc5df1957f5d6ada41fe41a2fb/data/movie_data_word_pos_iob_w_space_sep.iob?raw=true', sep= ' ',index=False)"
      ],
      "metadata": {
        "id": "WXmymXT043XU"
      },
      "execution_count": null,
      "outputs": []
    },
    {
      "cell_type": "markdown",
      "source": [
        "#### End - Create the spaCy dataset format"
      ],
      "metadata": {
        "id": "z-gCXyGS87ZX"
      }
    },
    {
      "cell_type": "code",
      "source": [
        "# create the initial data format list of tuples (Word, POS, Tag)\n",
        "grouped_df1 = df1.groupby('Sentence #').apply(agg_func)\n",
        "l_sentences = [s for s in grouped_df1]"
      ],
      "metadata": {
        "id": "mNOk8WWrIw8A"
      },
      "execution_count": null,
      "outputs": []
    },
    {
      "cell_type": "code",
      "source": [
        "l_sentences[0]"
      ],
      "metadata": {
        "colab": {
          "base_uri": "https://localhost:8080/"
        },
        "id": "hMmCqK98Jdc5",
        "outputId": "fdb97651-7118-4a95-940f-1fce9552c509"
      },
      "execution_count": null,
      "outputs": [
        {
          "output_type": "execute_result",
          "data": {
            "text/plain": [
              "[('what', 'WP', 'o'),\n",
              " ('movies', 'NNS', 'o'),\n",
              " ('star', 'VBP', 'o'),\n",
              " ('bruce', 'NN', 'b-actor'),\n",
              " ('willis', 'NN', 'i-actor')]"
            ]
          },
          "metadata": {},
          "execution_count": 46
        }
      ]
    },
    {
      "cell_type": "code",
      "source": [
        "# make the feature set\n",
        "X = np.array([sent2features(s) for s in l_sentences], dtype=object)\n",
        "# make the label set\n",
        "y = np.array([sent2labels(s) for s in l_sentences], dtype=object)"
      ],
      "metadata": {
        "id": "9fUIVZYEJhkx"
      },
      "execution_count": null,
      "outputs": []
    },
    {
      "cell_type": "code",
      "source": [
        "X_train, X_test, y_train, y_test = train_test_split(X, y, test_size=0.25, random_state= 42)\n",
        "X_train.shape, X_test.shape"
      ],
      "metadata": {
        "colab": {
          "base_uri": "https://localhost:8080/"
        },
        "id": "mphVx5yN7uXt",
        "outputId": "d1570f41-7ee4-4508-a949-d3366053de4f"
      },
      "execution_count": null,
      "outputs": [
        {
          "output_type": "execute_result",
          "data": {
            "text/plain": [
              "((16490,), (5497,))"
            ]
          },
          "metadata": {},
          "execution_count": 48
        }
      ]
    },
    {
      "cell_type": "code",
      "source": [
        "X_train[0]"
      ],
      "metadata": {
        "colab": {
          "base_uri": "https://localhost:8080/"
        },
        "id": "ZDSEUyS_8-ro",
        "outputId": "f8037853-8051-4084-895e-5baf4608402d"
      },
      "execution_count": null,
      "outputs": [
        {
          "output_type": "execute_result",
          "data": {
            "text/plain": [
              "[{'bias': 1.0,\n",
              "  'word.lower()': 'are',\n",
              "  'word[-3:]': 'are',\n",
              "  'word[-2:]': 're',\n",
              "  'word.isupper': False,\n",
              "  'word.istitle()': False,\n",
              "  'word.isdigit()': False,\n",
              "  'postag': 'VBP',\n",
              "  'postag[:2]': 'VB',\n",
              "  'BOS': True,\n",
              "  '+1:word.lower()': 'there',\n",
              "  '+1:word.istitle()': False,\n",
              "  '+1:word.isupper': False,\n",
              "  '+1:postag': 'RB',\n",
              "  '+1:postag[:2]': 'RB'},\n",
              " {'bias': 1.0,\n",
              "  'word.lower()': 'there',\n",
              "  'word[-3:]': 'ere',\n",
              "  'word[-2:]': 're',\n",
              "  'word.isupper': False,\n",
              "  'word.istitle()': False,\n",
              "  'word.isdigit()': False,\n",
              "  'postag': 'RB',\n",
              "  'postag[:2]': 'RB',\n",
              "  '-1:word.lower()': 'are',\n",
              "  '-1:word.istitle()': False,\n",
              "  '-1:word.isupper': False,\n",
              "  '-1:postag': 'VBP',\n",
              "  '-1:postag[:2]': 'VB',\n",
              "  '+1:word.lower()': 'any',\n",
              "  '+1:word.istitle()': False,\n",
              "  '+1:word.isupper': False,\n",
              "  '+1:postag': 'DT',\n",
              "  '+1:postag[:2]': 'DT'},\n",
              " {'bias': 1.0,\n",
              "  'word.lower()': 'any',\n",
              "  'word[-3:]': 'any',\n",
              "  'word[-2:]': 'ny',\n",
              "  'word.isupper': False,\n",
              "  'word.istitle()': False,\n",
              "  'word.isdigit()': False,\n",
              "  'postag': 'DT',\n",
              "  'postag[:2]': 'DT',\n",
              "  '-1:word.lower()': 'there',\n",
              "  '-1:word.istitle()': False,\n",
              "  '-1:word.isupper': False,\n",
              "  '-1:postag': 'RB',\n",
              "  '-1:postag[:2]': 'RB',\n",
              "  '+1:word.lower()': 'western',\n",
              "  '+1:word.istitle()': False,\n",
              "  '+1:word.isupper': False,\n",
              "  '+1:postag': 'JJ',\n",
              "  '+1:postag[:2]': 'JJ'},\n",
              " {'bias': 1.0,\n",
              "  'word.lower()': 'western',\n",
              "  'word[-3:]': 'ern',\n",
              "  'word[-2:]': 'rn',\n",
              "  'word.isupper': False,\n",
              "  'word.istitle()': False,\n",
              "  'word.isdigit()': False,\n",
              "  'postag': 'JJ',\n",
              "  'postag[:2]': 'JJ',\n",
              "  '-1:word.lower()': 'any',\n",
              "  '-1:word.istitle()': False,\n",
              "  '-1:word.isupper': False,\n",
              "  '-1:postag': 'DT',\n",
              "  '-1:postag[:2]': 'DT',\n",
              "  '+1:word.lower()': 'movies',\n",
              "  '+1:word.istitle()': False,\n",
              "  '+1:word.isupper': False,\n",
              "  '+1:postag': 'NNS',\n",
              "  '+1:postag[:2]': 'NN'},\n",
              " {'bias': 1.0,\n",
              "  'word.lower()': 'movies',\n",
              "  'word[-3:]': 'ies',\n",
              "  'word[-2:]': 'es',\n",
              "  'word.isupper': False,\n",
              "  'word.istitle()': False,\n",
              "  'word.isdigit()': False,\n",
              "  'postag': 'NNS',\n",
              "  'postag[:2]': 'NN',\n",
              "  '-1:word.lower()': 'western',\n",
              "  '-1:word.istitle()': False,\n",
              "  '-1:word.isupper': False,\n",
              "  '-1:postag': 'JJ',\n",
              "  '-1:postag[:2]': 'JJ',\n",
              "  '+1:word.lower()': 'directed',\n",
              "  '+1:word.istitle()': False,\n",
              "  '+1:word.isupper': False,\n",
              "  '+1:postag': 'VBN',\n",
              "  '+1:postag[:2]': 'VB'},\n",
              " {'bias': 1.0,\n",
              "  'word.lower()': 'directed',\n",
              "  'word[-3:]': 'ted',\n",
              "  'word[-2:]': 'ed',\n",
              "  'word.isupper': False,\n",
              "  'word.istitle()': False,\n",
              "  'word.isdigit()': False,\n",
              "  'postag': 'VBN',\n",
              "  'postag[:2]': 'VB',\n",
              "  '-1:word.lower()': 'movies',\n",
              "  '-1:word.istitle()': False,\n",
              "  '-1:word.isupper': False,\n",
              "  '-1:postag': 'NNS',\n",
              "  '-1:postag[:2]': 'NN',\n",
              "  '+1:word.lower()': 'by',\n",
              "  '+1:word.istitle()': False,\n",
              "  '+1:word.isupper': False,\n",
              "  '+1:postag': 'IN',\n",
              "  '+1:postag[:2]': 'IN'},\n",
              " {'bias': 1.0,\n",
              "  'word.lower()': 'by',\n",
              "  'word[-3:]': 'by',\n",
              "  'word[-2:]': 'by',\n",
              "  'word.isupper': False,\n",
              "  'word.istitle()': False,\n",
              "  'word.isdigit()': False,\n",
              "  'postag': 'IN',\n",
              "  'postag[:2]': 'IN',\n",
              "  '-1:word.lower()': 'directed',\n",
              "  '-1:word.istitle()': False,\n",
              "  '-1:word.isupper': False,\n",
              "  '-1:postag': 'VBN',\n",
              "  '-1:postag[:2]': 'VB',\n",
              "  '+1:word.lower()': 'tim',\n",
              "  '+1:word.istitle()': False,\n",
              "  '+1:word.isupper': False,\n",
              "  '+1:postag': 'JJ',\n",
              "  '+1:postag[:2]': 'JJ'},\n",
              " {'bias': 1.0,\n",
              "  'word.lower()': 'tim',\n",
              "  'word[-3:]': 'tim',\n",
              "  'word[-2:]': 'im',\n",
              "  'word.isupper': False,\n",
              "  'word.istitle()': False,\n",
              "  'word.isdigit()': False,\n",
              "  'postag': 'JJ',\n",
              "  'postag[:2]': 'JJ',\n",
              "  '-1:word.lower()': 'by',\n",
              "  '-1:word.istitle()': False,\n",
              "  '-1:word.isupper': False,\n",
              "  '-1:postag': 'IN',\n",
              "  '-1:postag[:2]': 'IN',\n",
              "  '+1:word.lower()': 'burton',\n",
              "  '+1:word.istitle()': False,\n",
              "  '+1:word.isupper': False,\n",
              "  '+1:postag': 'NN',\n",
              "  '+1:postag[:2]': 'NN'},\n",
              " {'bias': 1.0,\n",
              "  'word.lower()': 'burton',\n",
              "  'word[-3:]': 'ton',\n",
              "  'word[-2:]': 'on',\n",
              "  'word.isupper': False,\n",
              "  'word.istitle()': False,\n",
              "  'word.isdigit()': False,\n",
              "  'postag': 'NN',\n",
              "  'postag[:2]': 'NN',\n",
              "  '-1:word.lower()': 'tim',\n",
              "  '-1:word.istitle()': False,\n",
              "  '-1:word.isupper': False,\n",
              "  '-1:postag': 'JJ',\n",
              "  '-1:postag[:2]': 'JJ',\n",
              "  'EOS': True}]"
            ]
          },
          "metadata": {},
          "execution_count": 49
        }
      ]
    },
    {
      "cell_type": "code",
      "source": [
        "crf = sklearn_crfsuite.CRF(algorithm='lbfgs', c1= 0.1, c2= 0.1, max_iterations= 100, all_possible_transitions= True, verbose= True)\n",
        "crf.fit(X_train, y_train)"
      ],
      "metadata": {
        "colab": {
          "base_uri": "https://localhost:8080/"
        },
        "id": "ffjfQ28C8StG",
        "outputId": "e2859296-8d2d-4a15-b914-6b949afb1412"
      },
      "execution_count": null,
      "outputs": [
        {
          "output_type": "stream",
          "name": "stderr",
          "text": [
            "loading training data to CRFsuite: 100%|██████████| 16490/16490 [00:04<00:00, 3863.47it/s]\n"
          ]
        },
        {
          "output_type": "stream",
          "name": "stdout",
          "text": [
            "\n",
            "Feature generation\n",
            "type: CRF1d\n",
            "feature.minfreq: 0.000000\n",
            "feature.possible_states: 0\n",
            "feature.possible_transitions: 1\n",
            "0....1....2....3....4....5....6....7....8....9....10\n",
            "Number of features: 91322\n",
            "Seconds required: 1.010\n",
            "\n",
            "L-BFGS optimization\n",
            "c1: 0.100000\n",
            "c2: 0.100000\n",
            "num_memories: 6\n",
            "max_iterations: 100\n",
            "epsilon: 0.000010\n",
            "stop: 10\n",
            "delta: 0.000010\n",
            "linesearch: MoreThuente\n",
            "linesearch.max_iterations: 20\n",
            "\n",
            "Iter 1   time=2.15  loss=650159.30 active=89841 feature_norm=1.00\n",
            "Iter 2   time=4.55  loss=454812.58 active=88609 feature_norm=3.73\n",
            "Iter 3   time=1.10  loss=415481.49 active=85123 feature_norm=3.86\n",
            "Iter 4   time=1.09  loss=385990.76 active=88472 feature_norm=3.48\n",
            "Iter 5   time=1.08  loss=372468.08 active=88805 feature_norm=3.63\n",
            "Iter 6   time=1.09  loss=355992.18 active=89412 feature_norm=4.16\n",
            "Iter 7   time=1.08  loss=329547.71 active=90067 feature_norm=4.36\n",
            "Iter 8   time=1.06  loss=278664.42 active=89461 feature_norm=5.97\n",
            "Iter 9   time=1.09  loss=271178.94 active=89478 feature_norm=7.59\n",
            "Iter 10  time=1.09  loss=253134.39 active=90337 feature_norm=8.57\n",
            "Iter 11  time=1.08  loss=240829.96 active=90608 feature_norm=8.70\n",
            "Iter 12  time=1.61  loss=232200.19 active=90450 feature_norm=9.18\n",
            "Iter 13  time=1.84  loss=218194.07 active=90453 feature_norm=9.98\n",
            "Iter 14  time=1.11  loss=201163.81 active=89957 feature_norm=12.25\n",
            "Iter 15  time=1.08  loss=178313.33 active=90144 feature_norm=14.56\n",
            "Iter 16  time=1.09  loss=167425.73 active=90524 feature_norm=15.85\n",
            "Iter 17  time=1.09  loss=153727.09 active=90310 feature_norm=19.66\n",
            "Iter 18  time=1.08  loss=146138.08 active=90637 feature_norm=19.55\n",
            "Iter 19  time=1.11  loss=139540.79 active=90546 feature_norm=20.87\n",
            "Iter 20  time=1.07  loss=126133.30 active=89445 feature_norm=25.86\n",
            "Iter 21  time=1.08  loss=117540.83 active=90001 feature_norm=27.58\n",
            "Iter 22  time=1.08  loss=110624.05 active=90190 feature_norm=29.46\n",
            "Iter 23  time=1.57  loss=101601.85 active=89547 feature_norm=34.80\n",
            "Iter 24  time=1.86  loss=96672.27 active=90184 feature_norm=36.18\n",
            "Iter 25  time=1.14  loss=90935.19 active=89727 feature_norm=40.17\n",
            "Iter 26  time=1.09  loss=85618.39 active=89903 feature_norm=41.95\n",
            "Iter 27  time=1.10  loss=84908.98 active=89107 feature_norm=46.39\n",
            "Iter 28  time=1.10  loss=79292.52 active=89489 feature_norm=44.72\n",
            "Iter 29  time=1.09  loss=77904.31 active=89910 feature_norm=45.54\n",
            "Iter 30  time=2.17  loss=76182.60 active=88555 feature_norm=50.70\n",
            "Iter 31  time=1.08  loss=70725.71 active=88438 feature_norm=53.70\n",
            "Iter 32  time=1.09  loss=69032.92 active=88806 feature_norm=54.50\n",
            "Iter 33  time=1.61  loss=67497.71 active=88850 feature_norm=55.56\n",
            "Iter 34  time=1.82  loss=65084.39 active=87899 feature_norm=58.19\n",
            "Iter 35  time=1.10  loss=62492.76 active=87353 feature_norm=61.05\n",
            "Iter 36  time=1.07  loss=59234.19 active=86558 feature_norm=66.21\n",
            "Iter 37  time=2.13  loss=57419.07 active=85982 feature_norm=69.92\n",
            "Iter 38  time=1.06  loss=55082.68 active=86110 feature_norm=73.21\n",
            "Iter 39  time=1.07  loss=52673.63 active=85584 feature_norm=79.78\n",
            "Iter 40  time=1.07  loss=50715.52 active=85328 feature_norm=84.69\n",
            "Iter 41  time=1.06  loss=48560.57 active=84809 feature_norm=91.03\n",
            "Iter 42  time=1.07  loss=46418.29 active=84281 feature_norm=98.97\n",
            "Iter 43  time=1.53  loss=45074.23 active=84011 feature_norm=105.60\n",
            "Iter 44  time=1.82  loss=43636.67 active=84366 feature_norm=108.52\n",
            "Iter 45  time=1.22  loss=42624.44 active=84147 feature_norm=111.95\n",
            "Iter 46  time=1.06  loss=40639.71 active=83519 feature_norm=120.77\n",
            "Iter 47  time=1.07  loss=39867.66 active=82740 feature_norm=126.87\n",
            "Iter 48  time=1.07  loss=38391.07 active=82865 feature_norm=133.12\n",
            "Iter 49  time=1.06  loss=37290.93 active=82656 feature_norm=139.80\n",
            "Iter 50  time=1.07  loss=35901.09 active=82116 feature_norm=149.44\n",
            "Iter 51  time=1.08  loss=34658.07 active=81446 feature_norm=159.04\n",
            "Iter 52  time=1.06  loss=33734.48 active=80297 feature_norm=167.77\n",
            "Iter 53  time=1.06  loss=32968.08 active=79356 feature_norm=177.58\n",
            "Iter 54  time=1.36  loss=32319.82 active=79012 feature_norm=187.90\n",
            "Iter 55  time=1.82  loss=31981.36 active=78938 feature_norm=190.01\n",
            "Iter 56  time=1.32  loss=31555.28 active=78205 feature_norm=195.71\n",
            "Iter 57  time=1.06  loss=31251.08 active=77135 feature_norm=200.74\n",
            "Iter 58  time=1.07  loss=31033.62 active=77537 feature_norm=201.24\n",
            "Iter 59  time=1.91  loss=30853.57 active=77299 feature_norm=202.76\n",
            "Iter 60  time=1.29  loss=30620.41 active=76951 feature_norm=205.23\n",
            "Iter 61  time=1.28  loss=30422.03 active=76141 feature_norm=206.12\n",
            "Iter 62  time=1.46  loss=30238.89 active=75191 feature_norm=207.81\n",
            "Iter 63  time=1.32  loss=30073.16 active=75076 feature_norm=208.28\n",
            "Iter 64  time=1.83  loss=29896.73 active=74438 feature_norm=209.36\n",
            "Iter 65  time=1.76  loss=29735.66 active=73758 feature_norm=210.14\n",
            "Iter 66  time=1.08  loss=29599.76 active=73450 feature_norm=211.08\n",
            "Iter 67  time=1.07  loss=29462.67 active=72750 feature_norm=211.90\n",
            "Iter 68  time=1.07  loss=29335.90 active=72473 feature_norm=212.94\n",
            "Iter 69  time=1.09  loss=29229.38 active=72355 feature_norm=213.51\n",
            "Iter 70  time=1.08  loss=29129.18 active=72075 feature_norm=214.20\n",
            "Iter 71  time=1.08  loss=29034.53 active=71861 feature_norm=214.80\n",
            "Iter 72  time=1.09  loss=28952.18 active=71680 feature_norm=215.40\n",
            "Iter 73  time=1.08  loss=28873.62 active=71394 feature_norm=215.94\n",
            "Iter 74  time=1.08  loss=28796.69 active=71165 feature_norm=216.49\n",
            "Iter 75  time=1.71  loss=28728.60 active=71011 feature_norm=216.92\n",
            "Iter 76  time=1.77  loss=28669.15 active=70820 feature_norm=217.32\n",
            "Iter 77  time=1.08  loss=28610.47 active=70625 feature_norm=217.59\n",
            "Iter 78  time=1.08  loss=28553.28 active=70367 feature_norm=217.82\n",
            "Iter 79  time=1.08  loss=28500.18 active=69908 feature_norm=217.98\n",
            "Iter 80  time=1.09  loss=28454.01 active=69670 feature_norm=218.14\n",
            "Iter 81  time=1.08  loss=28407.23 active=69489 feature_norm=218.24\n",
            "Iter 82  time=1.08  loss=28363.34 active=69289 feature_norm=218.39\n",
            "Iter 83  time=1.08  loss=28322.87 active=69148 feature_norm=218.43\n",
            "Iter 84  time=1.08  loss=28285.61 active=68996 feature_norm=218.49\n",
            "Iter 85  time=1.07  loss=28251.22 active=68806 feature_norm=218.47\n",
            "Iter 86  time=1.68  loss=28218.72 active=68607 feature_norm=218.51\n",
            "Iter 87  time=1.80  loss=28190.87 active=68450 feature_norm=218.51\n",
            "Iter 88  time=1.08  loss=28165.27 active=68319 feature_norm=218.53\n",
            "Iter 89  time=1.06  loss=28141.01 active=68251 feature_norm=218.52\n",
            "Iter 90  time=1.08  loss=28115.94 active=68088 feature_norm=218.53\n",
            "Iter 91  time=1.07  loss=28090.33 active=67910 feature_norm=218.49\n",
            "Iter 92  time=1.06  loss=28068.01 active=67742 feature_norm=218.51\n",
            "Iter 93  time=1.08  loss=28046.77 active=67706 feature_norm=218.48\n",
            "Iter 94  time=1.07  loss=28026.28 active=67619 feature_norm=218.52\n",
            "Iter 95  time=1.05  loss=28006.00 active=67459 feature_norm=218.49\n",
            "Iter 96  time=1.05  loss=27987.72 active=67375 feature_norm=218.56\n",
            "Iter 97  time=1.54  loss=27969.38 active=67326 feature_norm=218.56\n",
            "Iter 98  time=1.82  loss=27953.50 active=67271 feature_norm=218.61\n",
            "Iter 99  time=1.15  loss=27937.10 active=67177 feature_norm=218.62\n",
            "Iter 100 time=1.08  loss=27921.79 active=67053 feature_norm=218.67\n",
            "L-BFGS terminated with the maximum number of iterations\n",
            "Total seconds required for training: 128.317\n",
            "\n",
            "Storing the model\n",
            "Number of active features: 67053 (91322)\n",
            "Number of active attributes: 28362 (42108)\n",
            "Number of active labels: 31 (31)\n",
            "Writing labels\n",
            "Writing attributes\n",
            "Writing feature references for transitions\n",
            "Writing feature references for attributes\n",
            "Seconds required: 0.032\n",
            "\n"
          ]
        },
        {
          "output_type": "stream",
          "name": "stderr",
          "text": [
            "/usr/local/lib/python3.9/dist-packages/sklearn/base.py:209: FutureWarning: From version 0.24, get_params will raise an AttributeError if a parameter cannot be retrieved as an instance attribute. Previously it would return None.\n",
            "  warnings.warn('From version 0.24, get_params will raise an '\n"
          ]
        },
        {
          "output_type": "execute_result",
          "data": {
            "text/plain": [
              "CRF(algorithm='lbfgs', all_possible_transitions=True, c1=0.1, c2=0.1,\n",
              "    keep_tempfiles=None, max_iterations=100, verbose=True)"
            ]
          },
          "metadata": {},
          "execution_count": 50
        }
      ]
    },
    {
      "cell_type": "code",
      "source": [
        "#joblib.dump(crf, '/content/drive/MyDrive/Colab Notebooks/0. Data 606 - Capstone/Models/crf_ner_movie_model.pkl')"
      ],
      "metadata": {
        "id": "MCZjt_vc8bev"
      },
      "execution_count": null,
      "outputs": []
    },
    {
      "cell_type": "code",
      "source": [
        "y_pred = crf.predict(X_test)"
      ],
      "metadata": {
        "id": "Wk5QcNQ68yM2"
      },
      "execution_count": null,
      "outputs": []
    },
    {
      "cell_type": "code",
      "source": [
        "labels = crf.classes_\n",
        "labels"
      ],
      "metadata": {
        "colab": {
          "base_uri": "https://localhost:8080/"
        },
        "id": "-DS0ID5y85am",
        "outputId": "29067875-800b-41cd-9007-dd5cbdad63be"
      },
      "execution_count": null,
      "outputs": [
        {
          "output_type": "execute_result",
          "data": {
            "text/plain": [
              "['o',\n",
              " 'b-genre',\n",
              " 'b-director',\n",
              " 'i-director',\n",
              " 'b-title',\n",
              " 'i-title',\n",
              " 'b-year',\n",
              " 'i-genre',\n",
              " 'b-award',\n",
              " 'i-award',\n",
              " 'b-review',\n",
              " 'b-plot',\n",
              " 'i-plot',\n",
              " 'i-review',\n",
              " 'b-rating',\n",
              " 'i-rating',\n",
              " 'b-actor',\n",
              " 'i-actor',\n",
              " 'b-relationship',\n",
              " 'i-year',\n",
              " 'b-character',\n",
              " 'i-character',\n",
              " 'i-relationship',\n",
              " 'b-origin',\n",
              " 'i-origin',\n",
              " 'b-quote',\n",
              " 'i-quote',\n",
              " 'b-song',\n",
              " 'i-song',\n",
              " 'b-trailer',\n",
              " 'i-trailer']"
            ]
          },
          "metadata": {},
          "execution_count": 53
        }
      ]
    },
    {
      "cell_type": "code",
      "source": [
        "if 'o-outside' in labels:\n",
        "    labels.remove('o-outside')\n",
        "str_class_report = (crf_metrics.flat_classification_report(y_test,y_pred, labels=labels))\n",
        "print(str_class_report)"
      ],
      "metadata": {
        "colab": {
          "base_uri": "https://localhost:8080/"
        },
        "id": "Xl-HIy8Y9BJ6",
        "outputId": "69ce6ae2-0ce4-4738-83d4-c3699280b142"
      },
      "execution_count": null,
      "outputs": [
        {
          "output_type": "stream",
          "name": "stderr",
          "text": [
            "/usr/local/lib/python3.9/dist-packages/sklearn/utils/validation.py:67: FutureWarning: Pass labels=['o', 'b-genre', 'b-director', 'i-director', 'b-title', 'i-title', 'b-year', 'i-genre', 'b-award', 'i-award', 'b-review', 'b-plot', 'i-plot', 'i-review', 'b-rating', 'i-rating', 'b-actor', 'i-actor', 'b-relationship', 'i-year', 'b-character', 'i-character', 'i-relationship', 'b-origin', 'i-origin', 'b-quote', 'i-quote', 'b-song', 'i-song', 'b-trailer', 'i-trailer'] as keyword args. From version 0.25 passing these as positional arguments will result in an error\n",
            "  warnings.warn(\"Pass {} as keyword args. From version 0.25 \"\n",
            "/usr/local/lib/python3.9/dist-packages/sklearn/metrics/_classification.py:1221: UndefinedMetricWarning: Precision and F-score are ill-defined and being set to 0.0 in labels with no predicted samples. Use `zero_division` parameter to control this behavior.\n",
            "  _warn_prf(average, modifier, msg_start, len(result))\n"
          ]
        },
        {
          "output_type": "stream",
          "name": "stdout",
          "text": [
            "                precision    recall  f1-score   support\n",
            "\n",
            "             o       0.91      0.90      0.91     36962\n",
            "       b-genre       0.89      0.89      0.89      2416\n",
            "    b-director       0.87      0.83      0.85      1076\n",
            "    i-director       0.90      0.83      0.87      1096\n",
            "       b-title       0.81      0.68      0.74       735\n",
            "       i-title       0.83      0.65      0.73      1082\n",
            "        b-year       0.96      0.96      0.96      1722\n",
            "       i-genre       0.75      0.73      0.74       876\n",
            "       b-award       0.60      0.52      0.56       110\n",
            "       i-award       0.66      0.71      0.69       267\n",
            "      b-review       0.78      0.71      0.74       935\n",
            "        b-plot       0.50      0.48      0.49      2565\n",
            "        i-plot       0.84      0.92      0.88     19162\n",
            "      i-review       0.74      0.71      0.73       725\n",
            "      b-rating       0.98      0.97      0.98       647\n",
            "      i-rating       0.96      0.86      0.91       278\n",
            "       b-actor       0.92      0.94      0.93      2576\n",
            "       i-actor       0.92      0.93      0.93      3010\n",
            "b-relationship       0.65      0.44      0.53       201\n",
            "        i-year       0.93      0.95      0.94       887\n",
            "   b-character       0.71      0.49      0.58       448\n",
            "   i-character       0.69      0.56      0.62       345\n",
            "i-relationship       0.55      0.35      0.43       377\n",
            "      b-origin       0.38      0.31      0.34       220\n",
            "      i-origin       0.64      0.58      0.61       961\n",
            "       b-quote       0.45      0.26      0.33        39\n",
            "       i-quote       0.68      0.47      0.56       276\n",
            "        b-song       0.78      0.43      0.56        92\n",
            "        i-song       0.79      0.33      0.46       215\n",
            "     b-trailer       0.65      0.71      0.68        31\n",
            "     i-trailer       0.00      0.00      0.00         6\n",
            "\n",
            "      accuracy                           0.87     80338\n",
            "     macro avg       0.73      0.65      0.68     80338\n",
            "  weighted avg       0.86      0.87      0.86     80338\n",
            "\n"
          ]
        }
      ]
    },
    {
      "cell_type": "code",
      "source": [
        "dict_class_report = dict(crf_metrics.flat_classification_report(y_test,y_pred, labels=labels, output_dict=True))"
      ],
      "metadata": {
        "id": "QiVHOi5D9M3G"
      },
      "execution_count": null,
      "outputs": []
    },
    {
      "cell_type": "code",
      "source": [],
      "metadata": {
        "id": "WYznGw4GAUAI"
      },
      "execution_count": null,
      "outputs": []
    },
    {
      "cell_type": "code",
      "source": [
        "df_metrics = pd.DataFrame(dict_class_report).T\n",
        "df_metrics.rename(index={'index': 'Tag'}, inplace=True)\n",
        "df_metrics.head()"
      ],
      "metadata": {
        "colab": {
          "base_uri": "https://localhost:8080/",
          "height": 206
        },
        "id": "tU0h6TYu_wZd",
        "outputId": "2d10236c-09a1-4a11-bcbd-20af3262256c"
      },
      "execution_count": null,
      "outputs": [
        {
          "output_type": "execute_result",
          "data": {
            "text/plain": [
              "            precision    recall  f1-score  support\n",
              "o            0.908528  0.901818  0.905161  36962.0\n",
              "b-genre      0.890586  0.892798  0.891691   2416.0\n",
              "b-director   0.874140  0.826208  0.849498   1076.0\n",
              "i-director   0.904055  0.833942  0.867584   1096.0\n",
              "b-title      0.810373  0.680272  0.739645    735.0"
            ],
            "text/html": [
              "\n",
              "  <div id=\"df-b25ac47a-5033-47f4-9e9b-9fe04e5fc141\">\n",
              "    <div class=\"colab-df-container\">\n",
              "      <div>\n",
              "<style scoped>\n",
              "    .dataframe tbody tr th:only-of-type {\n",
              "        vertical-align: middle;\n",
              "    }\n",
              "\n",
              "    .dataframe tbody tr th {\n",
              "        vertical-align: top;\n",
              "    }\n",
              "\n",
              "    .dataframe thead th {\n",
              "        text-align: right;\n",
              "    }\n",
              "</style>\n",
              "<table border=\"1\" class=\"dataframe\">\n",
              "  <thead>\n",
              "    <tr style=\"text-align: right;\">\n",
              "      <th></th>\n",
              "      <th>precision</th>\n",
              "      <th>recall</th>\n",
              "      <th>f1-score</th>\n",
              "      <th>support</th>\n",
              "    </tr>\n",
              "  </thead>\n",
              "  <tbody>\n",
              "    <tr>\n",
              "      <th>o</th>\n",
              "      <td>0.908528</td>\n",
              "      <td>0.901818</td>\n",
              "      <td>0.905161</td>\n",
              "      <td>36962.0</td>\n",
              "    </tr>\n",
              "    <tr>\n",
              "      <th>b-genre</th>\n",
              "      <td>0.890586</td>\n",
              "      <td>0.892798</td>\n",
              "      <td>0.891691</td>\n",
              "      <td>2416.0</td>\n",
              "    </tr>\n",
              "    <tr>\n",
              "      <th>b-director</th>\n",
              "      <td>0.874140</td>\n",
              "      <td>0.826208</td>\n",
              "      <td>0.849498</td>\n",
              "      <td>1076.0</td>\n",
              "    </tr>\n",
              "    <tr>\n",
              "      <th>i-director</th>\n",
              "      <td>0.904055</td>\n",
              "      <td>0.833942</td>\n",
              "      <td>0.867584</td>\n",
              "      <td>1096.0</td>\n",
              "    </tr>\n",
              "    <tr>\n",
              "      <th>b-title</th>\n",
              "      <td>0.810373</td>\n",
              "      <td>0.680272</td>\n",
              "      <td>0.739645</td>\n",
              "      <td>735.0</td>\n",
              "    </tr>\n",
              "  </tbody>\n",
              "</table>\n",
              "</div>\n",
              "      <button class=\"colab-df-convert\" onclick=\"convertToInteractive('df-b25ac47a-5033-47f4-9e9b-9fe04e5fc141')\"\n",
              "              title=\"Convert this dataframe to an interactive table.\"\n",
              "              style=\"display:none;\">\n",
              "        \n",
              "  <svg xmlns=\"http://www.w3.org/2000/svg\" height=\"24px\"viewBox=\"0 0 24 24\"\n",
              "       width=\"24px\">\n",
              "    <path d=\"M0 0h24v24H0V0z\" fill=\"none\"/>\n",
              "    <path d=\"M18.56 5.44l.94 2.06.94-2.06 2.06-.94-2.06-.94-.94-2.06-.94 2.06-2.06.94zm-11 1L8.5 8.5l.94-2.06 2.06-.94-2.06-.94L8.5 2.5l-.94 2.06-2.06.94zm10 10l.94 2.06.94-2.06 2.06-.94-2.06-.94-.94-2.06-.94 2.06-2.06.94z\"/><path d=\"M17.41 7.96l-1.37-1.37c-.4-.4-.92-.59-1.43-.59-.52 0-1.04.2-1.43.59L10.3 9.45l-7.72 7.72c-.78.78-.78 2.05 0 2.83L4 21.41c.39.39.9.59 1.41.59.51 0 1.02-.2 1.41-.59l7.78-7.78 2.81-2.81c.8-.78.8-2.07 0-2.86zM5.41 20L4 18.59l7.72-7.72 1.47 1.35L5.41 20z\"/>\n",
              "  </svg>\n",
              "      </button>\n",
              "      \n",
              "  <style>\n",
              "    .colab-df-container {\n",
              "      display:flex;\n",
              "      flex-wrap:wrap;\n",
              "      gap: 12px;\n",
              "    }\n",
              "\n",
              "    .colab-df-convert {\n",
              "      background-color: #E8F0FE;\n",
              "      border: none;\n",
              "      border-radius: 50%;\n",
              "      cursor: pointer;\n",
              "      display: none;\n",
              "      fill: #1967D2;\n",
              "      height: 32px;\n",
              "      padding: 0 0 0 0;\n",
              "      width: 32px;\n",
              "    }\n",
              "\n",
              "    .colab-df-convert:hover {\n",
              "      background-color: #E2EBFA;\n",
              "      box-shadow: 0px 1px 2px rgba(60, 64, 67, 0.3), 0px 1px 3px 1px rgba(60, 64, 67, 0.15);\n",
              "      fill: #174EA6;\n",
              "    }\n",
              "\n",
              "    [theme=dark] .colab-df-convert {\n",
              "      background-color: #3B4455;\n",
              "      fill: #D2E3FC;\n",
              "    }\n",
              "\n",
              "    [theme=dark] .colab-df-convert:hover {\n",
              "      background-color: #434B5C;\n",
              "      box-shadow: 0px 1px 3px 1px rgba(0, 0, 0, 0.15);\n",
              "      filter: drop-shadow(0px 1px 2px rgba(0, 0, 0, 0.3));\n",
              "      fill: #FFFFFF;\n",
              "    }\n",
              "  </style>\n",
              "\n",
              "      <script>\n",
              "        const buttonEl =\n",
              "          document.querySelector('#df-b25ac47a-5033-47f4-9e9b-9fe04e5fc141 button.colab-df-convert');\n",
              "        buttonEl.style.display =\n",
              "          google.colab.kernel.accessAllowed ? 'block' : 'none';\n",
              "\n",
              "        async function convertToInteractive(key) {\n",
              "          const element = document.querySelector('#df-b25ac47a-5033-47f4-9e9b-9fe04e5fc141');\n",
              "          const dataTable =\n",
              "            await google.colab.kernel.invokeFunction('convertToInteractive',\n",
              "                                                     [key], {});\n",
              "          if (!dataTable) return;\n",
              "\n",
              "          const docLinkHtml = 'Like what you see? Visit the ' +\n",
              "            '<a target=\"_blank\" href=https://colab.research.google.com/notebooks/data_table.ipynb>data table notebook</a>'\n",
              "            + ' to learn more about interactive tables.';\n",
              "          element.innerHTML = '';\n",
              "          dataTable['output_type'] = 'display_data';\n",
              "          await google.colab.output.renderOutput(dataTable, element);\n",
              "          const docLink = document.createElement('div');\n",
              "          docLink.innerHTML = docLinkHtml;\n",
              "          element.appendChild(docLink);\n",
              "        }\n",
              "      </script>\n",
              "    </div>\n",
              "  </div>\n",
              "  "
            ]
          },
          "metadata": {},
          "execution_count": 56
        }
      ]
    },
    {
      "cell_type": "code",
      "source": [
        "# https://stackoverflow.com/questions/28200786/how-to-plot-scikit-learn-classification-report\n",
        "#https://stackoverflow.com/questions/38913965/make-the-size-of-a-heatmap-bigger-with-seaborn\n",
        "fig, ax = plt.subplots(figsize=(10,10))         # Sample figsize in inches\n",
        "sns.heatmap(df_metrics.iloc[:,:-1], annot=True, linewidths=.5, ax=ax)"
      ],
      "metadata": {
        "colab": {
          "base_uri": "https://localhost:8080/",
          "height": 848
        },
        "id": "38uiCZZwBIfX",
        "outputId": "b33a602f-a96a-427a-cdb1-847147657b54"
      },
      "execution_count": null,
      "outputs": [
        {
          "output_type": "execute_result",
          "data": {
            "text/plain": [
              "<Axes: >"
            ]
          },
          "metadata": {},
          "execution_count": 57
        },
        {
          "output_type": "display_data",
          "data": {
            "text/plain": [
              "<Figure size 1000x1000 with 2 Axes>"
            ],
            "image/png": "[encoded data removed]"
          },
          "metadata": {}
        }
      ]
    },
    {
      "cell_type": "markdown",
      "source": [
        "# Word2Vec Features"
      ],
      "metadata": {
        "id": "FjGVyxGyCeji"
      }
    },
    {
      "cell_type": "code",
      "source": [
        "from gensim.models import word2vec\n",
        "from sklearn.cluster import KMeans\n",
        "from sklearn.metrics import silhouette_score"
      ],
      "metadata": {
        "id": "29diSI8D9pHN"
      },
      "execution_count": null,
      "outputs": []
    },
    {
      "cell_type": "code",
      "source": [
        "l_sents = [[tup[0] for tup in l_sent] for l_sent in l_sentences[0:]]"
      ],
      "metadata": {
        "id": "4H036Wn_Cgf2"
      },
      "execution_count": null,
      "outputs": []
    },
    {
      "cell_type": "code",
      "source": [
        "l_sents[0]"
      ],
      "metadata": {
        "colab": {
          "base_uri": "https://localhost:8080/"
        },
        "id": "Al0MYsuLSPAn",
        "outputId": "7cba3e02-7aba-4632-a51d-251d67250d59"
      },
      "execution_count": null,
      "outputs": [
        {
          "output_type": "execute_result",
          "data": {
            "text/plain": [
              "['what', 'movies', 'star', 'bruce', 'willis']"
            ]
          },
          "metadata": {},
          "execution_count": 60
        }
      ]
    },
    {
      "cell_type": "code",
      "source": [
        "feature_size = 10\n",
        "window_context = 30\n",
        "min_word_count = 1\n",
        "sample = 1e-3"
      ],
      "metadata": {
        "id": "55M_liyPDqW5"
      },
      "execution_count": null,
      "outputs": []
    },
    {
      "cell_type": "code",
      "source": [
        "word2vec.Word2Vec()"
      ],
      "metadata": {
        "colab": {
          "base_uri": "https://localhost:8080/"
        },
        "id": "3PrX2KdWEDvu",
        "outputId": "b3fd2b55-8594-4d16-a4e0-bffd29c66c42"
      },
      "execution_count": null,
      "outputs": [
        {
          "output_type": "execute_result",
          "data": {
            "text/plain": [
              "<gensim.models.word2vec.Word2Vec at 0x7f8f0bfadd60>"
            ]
          },
          "metadata": {},
          "execution_count": 142
        }
      ]
    },
    {
      "cell_type": "code",
      "source": [
        "w2v_model = word2vec.Word2Vec(l_sents, \n",
        "                  vector_size= feature_size,\n",
        "                  window = window_context,\n",
        "                  min_count= min_word_count,\n",
        "                  sample = sample,\n",
        "                  )"
      ],
      "metadata": {
        "id": "dimywx9vCrqe"
      },
      "execution_count": null,
      "outputs": []
    },
    {
      "cell_type": "code",
      "source": [
        "w2v_model.wv['what']"
      ],
      "metadata": {
        "colab": {
          "base_uri": "https://localhost:8080/"
        },
        "id": "av8KDMwQo1Bw",
        "outputId": "edbd1f6a-046e-48b3-c241-3720f992a726"
      },
      "execution_count": null,
      "outputs": [
        {
          "output_type": "execute_result",
          "data": {
            "text/plain": [
              "array([-0.74624395, -2.0799072 ,  2.7820344 ,  2.3366523 ,  0.8598433 ,\n",
              "       -2.438018  ,  4.426962  ,  2.5536156 , -3.4388788 ,  0.58279073],\n",
              "      dtype=float32)"
            ]
          },
          "metadata": {},
          "execution_count": 144
        }
      ]
    },
    {
      "cell_type": "code",
      "source": [
        "w2v_model.wv.get_normed_vectors()"
      ],
      "metadata": {
        "colab": {
          "base_uri": "https://localhost:8080/"
        },
        "id": "l43PvNhcEehB",
        "outputId": "88ee51a9-739a-49eb-b3fb-799187eeac60"
      },
      "execution_count": null,
      "outputs": [
        {
          "output_type": "execute_result",
          "data": {
            "text/plain": [
              "array([[ 0.3485286 ,  0.19099167,  0.21500267, ...,  0.15718336,\n",
              "        -0.6853779 , -0.02767766],\n",
              "       [ 0.1644625 ,  0.12457786,  0.31098494, ...,  0.02415733,\n",
              "        -0.58021986, -0.24330224],\n",
              "       [ 0.1401228 ,  0.18386719,  0.26360768, ...,  0.08248157,\n",
              "        -0.74818116, -0.04645745],\n",
              "       ...,\n",
              "       [-0.4139171 , -0.0938723 ,  0.22036943, ..., -0.31681028,\n",
              "        -0.33627483,  0.2530463 ],\n",
              "       [-0.18095791,  0.19722268, -0.04799867, ...,  0.28897056,\n",
              "        -0.4697312 , -0.19120072],\n",
              "       [ 0.20157555, -0.4232857 , -0.26113537, ..., -0.44267875,\n",
              "        -0.03474994, -0.12938505]], dtype=float32)"
            ]
          },
          "metadata": {},
          "execution_count": 145
        }
      ]
    },
    {
      "cell_type": "code",
      "source": [
        "from sklearn.cluster import KMeans"
      ],
      "metadata": {
        "id": "pPawkn9BlLbI"
      },
      "execution_count": null,
      "outputs": []
    },
    {
      "cell_type": "code",
      "source": [
        "l_vectors = []\n",
        "\n",
        "for word in w2v_model.wv.index_to_key:\n",
        "    l_vectors.append(w2v_model.wv.get_vector(word))"
      ],
      "metadata": {
        "id": "Q8sdY29Ay7Ct"
      },
      "execution_count": null,
      "outputs": []
    },
    {
      "cell_type": "code",
      "source": [
        "l_num_clus = []\n",
        "l_silhouette_scores = []\n",
        "\n",
        "for num_clus in [10, 20, 50, 100, 250, 500, 1000]:\n",
        "    print(num_clus)\n",
        "    kmeans = KMeans(n_clusters= num_clus)\n",
        "    kmeans.fit_predict(l_vectors)\n",
        "    l_num_clus.append(num_clus)\n",
        "    l_silhouette_scores.append(silhouette_score(l_vectors, kmeans.labels_))"
      ],
      "metadata": {
        "colab": {
          "base_uri": "https://localhost:8080/"
        },
        "id": "pvafg1ePj4S-",
        "outputId": "dcf5da99-c930-4a74-f37e-1c69c9fca03d"
      },
      "execution_count": null,
      "outputs": [
        {
          "output_type": "stream",
          "name": "stdout",
          "text": [
            "10\n",
            "20\n",
            "50\n",
            "100\n",
            "250\n",
            "500\n",
            "1000\n"
          ]
        }
      ]
    },
    {
      "cell_type": "code",
      "source": [
        "# create a word to cluster dictionary\n",
        "\n",
        "# create a list to hold the words in the word2vec object\n",
        "l_word_to_cluster = []\n",
        "for word in w2v_model.wv.index_to_key:\n",
        "    l_word_to_cluster.append(word)\n",
        "\n",
        "dict_word_cluster = dict(zip(l_word_to_cluster,l_silhouette_scores))"
      ],
      "metadata": {
        "id": "0_wgbqmsoa0B"
      },
      "execution_count": null,
      "outputs": []
    },
    {
      "cell_type": "code",
      "source": [
        "kmeans."
      ],
      "metadata": {
        "colab": {
          "base_uri": "https://localhost:8080/"
        },
        "id": "CoA0CTEDpoAP",
        "outputId": "53d79f62-c8c2-4cd5-b35f-d50cd4979bab"
      },
      "execution_count": null,
      "outputs": [
        {
          "output_type": "execute_result",
          "data": {
            "text/plain": [
              "1000"
            ]
          },
          "metadata": {},
          "execution_count": 100
        }
      ]
    },
    {
      "cell_type": "code",
      "source": [
        "dict_word_cluster"
      ],
      "metadata": {
        "colab": {
          "base_uri": "https://localhost:8080/"
        },
        "id": "optxXqkQpf_e",
        "outputId": "52085b8d-5bb1-4042-c142-c05c2d5ebe55"
      },
      "execution_count": null,
      "outputs": [
        {
          "output_type": "execute_result",
          "data": {
            "text/plain": [
              "{'the': 0.48699227,\n",
              " 'a': 0.30858973,\n",
              " 'movie': 0.099854395,\n",
              " 'what': 0.07514213,\n",
              " 'in': 0.0404902,\n",
              " 'is': 0.03207697,\n",
              " 'of': 0.031650122}"
            ]
          },
          "metadata": {},
          "execution_count": 93
        }
      ]
    },
    {
      "cell_type": "code",
      "source": [
        "import matplotlib.pyplot as plt\n",
        "plt.plot(l_num_clus,l_silhouette_scores)"
      ],
      "metadata": {
        "colab": {
          "base_uri": "https://localhost:8080/",
          "height": 448
        },
        "id": "BY9k61fUtI_b",
        "outputId": "b1848656-c7dc-4d99-cc7f-e34b949517dc"
      },
      "execution_count": null,
      "outputs": [
        {
          "output_type": "execute_result",
          "data": {
            "text/plain": [
              "[<matplotlib.lines.Line2D at 0x7f8f09daec10>]"
            ]
          },
          "metadata": {},
          "execution_count": 71
        },
        {
          "output_type": "display_data",
          "data": {
            "text/plain": [
              "<Figure size 640x480 with 1 Axes>"
            ],
            "image/png": "[encoded data removed]"
          },
          "metadata": {}
        }
      ]
    },
    {
      "cell_type": "code",
      "source": [
        "w2v_model.wv.similarity('fire', 'star')"
      ],
      "metadata": {
        "id": "9nJgaLFRSS3z",
        "colab": {
          "base_uri": "https://localhost:8080/"
        },
        "outputId": "9c7fccd4-dbf4-4731-aff2-d5a5b9b0fcad"
      },
      "execution_count": null,
      "outputs": [
        {
          "output_type": "execute_result",
          "data": {
            "text/plain": [
              "0.6647839"
            ]
          },
          "metadata": {},
          "execution_count": 146
        }
      ]
    },
    {
      "cell_type": "code",
      "source": [
        "def create_w2v_feature_dict (word2vec_model, word):\n",
        "    dict_w2v = {}\n",
        "    for sub_feat_num in range(len(word2vec_model.wv[word])):\n",
        "        dict_w2v.update({'w2v_' + str(sub_feat_num): word2vec_model.wv[word][sub_feat_num]})\n",
        "    return dict_w2v"
      ],
      "metadata": {
        "id": "uqAjGj_j4woN"
      },
      "execution_count": null,
      "outputs": []
    },
    {
      "cell_type": "code",
      "source": [
        "w2v_model.wv.most_similar('bruce')"
      ],
      "metadata": {
        "id": "hiLV9qpBTrnN",
        "colab": {
          "base_uri": "https://localhost:8080/"
        },
        "outputId": "6e747e0b-ddac-465b-add3-a0520cce0962"
      },
      "execution_count": null,
      "outputs": [
        {
          "output_type": "execute_result",
          "data": {
            "text/plain": [
              "[('morgan', 0.9906564354896545),\n",
              " ('beatty', 0.9891349673271179),\n",
              " ('freeman', 0.9868821501731873),\n",
              " ('weaver', 0.98685222864151),\n",
              " ('fisher', 0.9867677092552185),\n",
              " ('wrote', 0.9863390326499939),\n",
              " ('l', 0.9861729145050049),\n",
              " ('penn', 0.9826823472976685),\n",
              " ('statham', 0.9811477065086365),\n",
              " ('al', 0.9803164601325989)]"
            ]
          },
          "metadata": {},
          "execution_count": 148
        }
      ]
    },
    {
      "cell_type": "markdown",
      "source": [
        "# Word2Vec: Create features in the data include W2V"
      ],
      "metadata": {
        "id": "B2faRJTFvBhV"
      }
    },
    {
      "cell_type": "code",
      "source": [
        "def word2features_w2v(l_sent: list, i, word2vec_model) -> dict:\n",
        "\n",
        "    '''   Description:  Takes a sentence represented as a list of word tuples \n",
        "                        and an integer identifying the word tuple the function\n",
        "                        will work on and returns a dictionary containing the \n",
        "                        words in each sentence and the corresponding features.\n",
        "                        \n",
        "                        l_sent: is formatted as a list of tuples where each \n",
        "                                 tuple is a:\n",
        "                                   word in the sentence, \n",
        "                                   a part of speech tag,\n",
        "                                   and an NER tag\n",
        "\n",
        "                                   (word:str, POS:str, NER:str)\n",
        "        \n",
        "          Returns:      a dictionary, where each dictionary contains\n",
        "                        features for one word in one sentence.\n",
        "    \n",
        "    '''\n",
        "    word = l_sent[i][0]\n",
        "    postag = l_sent[i][1]\n",
        "\n",
        "    features = {'bias': 1.0,\n",
        "                'word.lower()': word.lower(),\n",
        "                'word[-3:]': word[-3:],\n",
        "                'word[-2:]': word[-2:],\n",
        "                'word.isupper': word.isupper(),\n",
        "                'word.istitle()': word.istitle(),\n",
        "                'word.isdigit()': word.isdigit(),\n",
        "                'postag': postag,\n",
        "                'postag[:2]': postag[:2],\n",
        "               }\n",
        "    \n",
        "    features.update( create_w2v_feature_dict(w2v_model, word) )\n",
        "\n",
        "    if i > 0:\n",
        "        word1 = l_sent[i - 1][0]\n",
        "        postag1 = l_sent[i - 1][1]\n",
        "        features.update( {'-1:word.lower()': word1.lower(),\n",
        "                          '-1:word.istitle()': word1.istitle(),\n",
        "                          '-1:word.isupper': word1.isupper(),\n",
        "                          '-1:postag': postag1,\n",
        "                          '-1:postag[:2]': postag1[:2]\n",
        "                          }\n",
        "                        )\n",
        "    \n",
        "    else:\n",
        "        features['BOS'] = True\n",
        "\n",
        "    if i < len(l_sent) - 1:\n",
        "        word1 = l_sent[i + 1][0]\n",
        "        postag1 = l_sent[i + 1][1]\n",
        "        features.update({'+1:word.lower()': word1.lower(),\n",
        "                         '+1:word.istitle()': word1.istitle(),\n",
        "                         '+1:word.isupper': word1.isupper(),\n",
        "                         '+1:postag': postag1,\n",
        "                         '+1:postag[:2]': postag1[:2]\n",
        "                         }\n",
        "                        )\n",
        "    else:\n",
        "        features['EOS'] = True\n",
        "    \n",
        "    return features"
      ],
      "metadata": {
        "id": "GSFMc2LkvBhW"
      },
      "execution_count": null,
      "outputs": []
    },
    {
      "cell_type": "code",
      "source": [
        "def sent2features_w2v(l_sent:list, word2vec_model ) -> list:\n",
        "    '''   Description:  Takes a sentence as a list of word tuples and returns a\n",
        "                        list of dictionaries. The list contains tuples of\n",
        "                        sentences, where each tuple is broken up into a word in\n",
        "                        the sentence, a part of speech tag, and an NER tag.  \n",
        "                        \n",
        "                        l_sents: is formatted as a list of tuples where each \n",
        "                                 tuple contains a word in the sentence, the \n",
        "                                 word's part of speech tag, and an NER tag:  \n",
        "                                 (word:str, POS:str, NER:str)\n",
        "        \n",
        "          Returns:      list of dictionaries of word features\n",
        "    \n",
        "    '''\n",
        "\n",
        "    return [ word2features_w2v(l_sent, i, word2vec_model) for i in range(len(l_sent))]"
      ],
      "metadata": {
        "id": "xTFYZve_vBhX"
      },
      "execution_count": null,
      "outputs": []
    },
    {
      "cell_type": "code",
      "source": [
        "def sent2labels(l_sent: list) -> list:\n",
        "    '''   Description:  Takes a list of sentence word tuples and returns the ner \n",
        "                        label from each word tuple. \n",
        "                        \n",
        "                        l_sents is formatted as a list of tuples where each \n",
        "                                 tuple contains a word in the sentence, the \n",
        "                                 word's part of speech tag, and an NER tag:  \n",
        "                                 (word:str, POS:str, NER:str)\n",
        "\n",
        "          Returns:      list of dictionaries of word features\n",
        "    \n",
        "    '''\n",
        "\n",
        "    return [label for token, postag, label in l_sent]"
      ],
      "metadata": {
        "id": "ZrLoNgWavBhY"
      },
      "execution_count": null,
      "outputs": []
    },
    {
      "cell_type": "code",
      "source": [
        "grouped_df = df_ex.groupby('Sentence #').apply(agg_func)"
      ],
      "metadata": {
        "id": "g0sYoxwCvBhZ"
      },
      "execution_count": null,
      "outputs": []
    },
    {
      "cell_type": "code",
      "source": [
        "grouped_df.head()"
      ],
      "metadata": {
        "colab": {
          "base_uri": "https://localhost:8080/"
        },
        "outputId": "2eaa2821-478f-4739-ea95-b80c42aeb498",
        "id": "Hz8mnG8JvBha"
      },
      "execution_count": null,
      "outputs": [
        {
          "output_type": "execute_result",
          "data": {
            "text/plain": [
              "Sentence #\n",
              "Sentence: 1        [(Thousands, NNS, O), (of, IN, O), (demonstrat...\n",
              "Sentence: 10       [(Iranian, JJ, B-gpe), (officials, NNS, O), (s...\n",
              "Sentence: 100      [(Helicopter, NN, O), (gunships, NNS, O), (Sat...\n",
              "Sentence: 1000     [(They, PRP, O), (left, VBD, O), (after, IN, O...\n",
              "Sentence: 10000    [(U.N., NNP, B-geo), (relief, NN, O), (coordin...\n",
              "dtype: object"
            ]
          },
          "metadata": {},
          "execution_count": 153
        }
      ]
    },
    {
      "cell_type": "code",
      "source": [
        "type(grouped_df1)"
      ],
      "metadata": {
        "colab": {
          "base_uri": "https://localhost:8080/"
        },
        "id": "XZhYkNoowwHU",
        "outputId": "a4619d90-5576-447b-aa4e-20fc4e7ed8bc"
      },
      "execution_count": null,
      "outputs": [
        {
          "output_type": "execute_result",
          "data": {
            "text/plain": [
              "pandas.core.series.Series"
            ]
          },
          "metadata": {},
          "execution_count": 154
        }
      ]
    },
    {
      "cell_type": "code",
      "source": [
        "#grouped_df is a series NOT a dataframe\n",
        "#each entry in the series is a list\n",
        "# the elements in the list are tuples, \n",
        "#        - first entry is a sentence word\n",
        "#        - second entry is a POS tag\n",
        "#        - third entry is a IOB tag\n",
        "grouped_df1[1]"
      ],
      "metadata": {
        "colab": {
          "base_uri": "https://localhost:8080/"
        },
        "id": "NAMyHRMlwFuB",
        "outputId": "db15ed7f-a53b-4e9b-e046-0537aafeb5ba"
      },
      "execution_count": null,
      "outputs": [
        {
          "output_type": "execute_result",
          "data": {
            "text/plain": [
              "[('what', 'WP', 'o'),\n",
              " ('movies', 'NNS', 'o'),\n",
              " ('star', 'VBP', 'o'),\n",
              " ('bruce', 'NN', 'b-actor'),\n",
              " ('willis', 'NN', 'i-actor')]"
            ]
          },
          "metadata": {},
          "execution_count": 155
        }
      ]
    },
    {
      "cell_type": "code",
      "source": [
        "# Standard tokenized sentence with POS and NER tags\n",
        "# list of lists of tuples, where the list contains sentences reprsented as lists.\n",
        "# Each sentence list contains a word in the sentence along with the POS and NER\n",
        "l_sentences = [s for s in grouped_df1]\n",
        "l_sentences[0]"
      ],
      "metadata": {
        "colab": {
          "base_uri": "https://localhost:8080/"
        },
        "outputId": "240452a3-333e-48bb-911d-84755308a485",
        "id": "UahCUWPHvBhb"
      },
      "execution_count": null,
      "outputs": [
        {
          "output_type": "execute_result",
          "data": {
            "text/plain": [
              "[('what', 'WP', 'o'),\n",
              " ('movies', 'NNS', 'o'),\n",
              " ('star', 'VBP', 'o'),\n",
              " ('bruce', 'NN', 'b-actor'),\n",
              " ('willis', 'NN', 'i-actor')]"
            ]
          },
          "metadata": {},
          "execution_count": 156
        }
      ]
    },
    {
      "cell_type": "code",
      "source": [
        "word2features_w2v(l_sentences[0], 0, w2v_model)"
      ],
      "metadata": {
        "colab": {
          "base_uri": "https://localhost:8080/"
        },
        "outputId": "95ad6fa6-b9cf-4d4e-89fe-7fbe3d6b5754",
        "id": "2N-IKA0DvBhc"
      },
      "execution_count": null,
      "outputs": [
        {
          "output_type": "execute_result",
          "data": {
            "text/plain": [
              "{'bias': 1.0,\n",
              " 'word.lower()': 'what',\n",
              " 'word[-3:]': 'hat',\n",
              " 'word[-2:]': 'at',\n",
              " 'word.isupper': False,\n",
              " 'word.istitle()': False,\n",
              " 'word.isdigit()': False,\n",
              " 'postag': 'WP',\n",
              " 'postag[:2]': 'WP',\n",
              " 'w2v_0': -0.74624395,\n",
              " 'w2v_1': -2.0799072,\n",
              " 'w2v_2': 2.7820344,\n",
              " 'w2v_3': 2.3366523,\n",
              " 'w2v_4': 0.8598433,\n",
              " 'w2v_5': -2.438018,\n",
              " 'w2v_6': 4.426962,\n",
              " 'w2v_7': 2.5536156,\n",
              " 'w2v_8': -3.4388788,\n",
              " 'w2v_9': 0.58279073,\n",
              " 'BOS': True,\n",
              " '+1:word.lower()': 'movies',\n",
              " '+1:word.istitle()': False,\n",
              " '+1:word.isupper': False,\n",
              " '+1:postag': 'NNS',\n",
              " '+1:postag[:2]': 'NN'}"
            ]
          },
          "metadata": {},
          "execution_count": 157
        }
      ]
    },
    {
      "cell_type": "code",
      "source": [
        "# make the feature set\n",
        "X = np.array([sent2features_w2v(s, w2v_model) for s in l_sentences], dtype=object)\n",
        "# make the label set\n",
        "y = np.array([sent2labels(s) for s in l_sentences], dtype=object)"
      ],
      "metadata": {
        "id": "BHl3yiqn2feU"
      },
      "execution_count": null,
      "outputs": []
    },
    {
      "cell_type": "code",
      "source": [
        "X_train, X_test, y_train, y_test = train_test_split(X, y, test_size=0.25, random_state= 42)\n",
        "X_train.shape, X_test.shape"
      ],
      "metadata": {
        "colab": {
          "base_uri": "https://localhost:8080/"
        },
        "outputId": "309ce0d1-924b-410f-8e76-4466c6e034f9",
        "id": "Fbx4khUH2feW"
      },
      "execution_count": null,
      "outputs": [
        {
          "output_type": "execute_result",
          "data": {
            "text/plain": [
              "((16490,), (5497,))"
            ]
          },
          "metadata": {},
          "execution_count": 159
        }
      ]
    },
    {
      "cell_type": "code",
      "source": [
        "crf = sklearn_crfsuite.CRF(algorithm='lbfgs', c1= 0.1, c2= 0.1, max_iterations= 100, all_possible_transitions= True, verbose= True)\n",
        "crf.fit(X_train, y_train)"
      ],
      "metadata": {
        "colab": {
          "base_uri": "https://localhost:8080/"
        },
        "outputId": "591e344a-f5fb-4bec-cc77-4b28f9f7f17e",
        "id": "xN9EyExm2feX"
      },
      "execution_count": null,
      "outputs": [
        {
          "output_type": "stream",
          "name": "stderr",
          "text": [
            "loading training data to CRFsuite: 100%|██████████| 16490/16490 [00:06<00:00, 2700.08it/s]\n"
          ]
        },
        {
          "output_type": "stream",
          "name": "stdout",
          "text": [
            "\n",
            "Feature generation\n",
            "type: CRF1d\n",
            "feature.minfreq: 0.000000\n",
            "feature.possible_states: 0\n",
            "feature.possible_transitions: 1\n",
            "0....1....2....3....4....5....6....7....8....9....10\n",
            "Number of features: 91509\n",
            "Seconds required: 1.470\n",
            "\n",
            "L-BFGS optimization\n",
            "c1: 0.100000\n",
            "c2: 0.100000\n",
            "num_memories: 6\n",
            "max_iterations: 100\n",
            "epsilon: 0.000010\n",
            "stop: 10\n",
            "delta: 0.000010\n",
            "linesearch: MoreThuente\n",
            "linesearch.max_iterations: 20\n",
            "\n",
            "Iter 1   time=2.43  loss=533969.86 active=90028 feature_norm=1.00\n",
            "Iter 2   time=1.22  loss=479375.01 active=87609 feature_norm=1.26\n",
            "Iter 3   time=1.21  loss=453219.31 active=89020 feature_norm=1.58\n",
            "Iter 4   time=1.20  loss=399874.22 active=88451 feature_norm=2.30\n",
            "Iter 5   time=2.43  loss=384878.89 active=90303 feature_norm=2.98\n",
            "Iter 6   time=1.61  loss=348582.20 active=90506 feature_norm=3.13\n",
            "Iter 7   time=2.06  loss=335806.67 active=90569 feature_norm=3.63\n",
            "Iter 8   time=1.28  loss=318625.75 active=90710 feature_norm=3.81\n",
            "Iter 9   time=1.22  loss=305087.56 active=90630 feature_norm=4.28\n",
            "Iter 10  time=1.22  loss=289724.01 active=90724 feature_norm=4.70\n",
            "Iter 11  time=1.24  loss=271057.87 active=90640 feature_norm=5.50\n",
            "Iter 12  time=1.21  loss=256766.46 active=90683 feature_norm=6.24\n",
            "Iter 13  time=1.21  loss=242470.04 active=90743 feature_norm=6.84\n",
            "Iter 14  time=1.24  loss=223799.37 active=90381 feature_norm=7.99\n",
            "Iter 15  time=1.20  loss=214246.60 active=88854 feature_norm=10.98\n",
            "Iter 16  time=1.77  loss=192518.51 active=90124 feature_norm=11.45\n",
            "Iter 17  time=1.97  loss=186102.83 active=90599 feature_norm=12.08\n",
            "Iter 18  time=1.21  loss=176649.71 active=90394 feature_norm=13.35\n",
            "Iter 19  time=1.21  loss=159263.97 active=89747 feature_norm=17.00\n",
            "Iter 20  time=1.22  loss=146712.40 active=90142 feature_norm=17.97\n",
            "Iter 21  time=1.21  loss=132366.55 active=89785 feature_norm=20.38\n",
            "Iter 22  time=1.20  loss=123410.25 active=90109 feature_norm=21.71\n",
            "Iter 23  time=1.22  loss=111219.11 active=89912 feature_norm=25.19\n",
            "Iter 24  time=1.22  loss=111009.51 active=88408 feature_norm=29.97\n",
            "Iter 25  time=1.20  loss=98726.32 active=89494 feature_norm=32.48\n",
            "Iter 26  time=1.94  loss=95730.27 active=89903 feature_norm=32.74\n",
            "Iter 27  time=1.80  loss=92879.03 active=89961 feature_norm=33.74\n",
            "Iter 28  time=1.22  loss=89149.41 active=89232 feature_norm=36.27\n",
            "Iter 29  time=1.21  loss=86153.30 active=89166 feature_norm=37.54\n",
            "Iter 30  time=1.22  loss=82707.42 active=88529 feature_norm=40.17\n",
            "Iter 31  time=1.23  loss=77177.83 active=87837 feature_norm=44.83\n",
            "Iter 32  time=1.21  loss=75664.30 active=86781 feature_norm=51.79\n",
            "Iter 33  time=1.25  loss=69797.07 active=87362 feature_norm=53.79\n",
            "Iter 34  time=1.22  loss=67537.95 active=87184 feature_norm=56.01\n",
            "Iter 35  time=1.27  loss=65705.03 active=86129 feature_norm=62.77\n",
            "Iter 36  time=2.06  loss=62480.55 active=87087 feature_norm=60.84\n",
            "Iter 37  time=1.63  loss=61283.51 active=87231 feature_norm=62.17\n",
            "Iter 38  time=1.22  loss=59313.37 active=87114 feature_norm=64.21\n",
            "Iter 39  time=1.22  loss=57012.35 active=86923 feature_norm=68.15\n",
            "Iter 40  time=1.22  loss=54540.14 active=86162 feature_norm=73.16\n",
            "Iter 41  time=1.21  loss=52507.57 active=86121 feature_norm=78.34\n",
            "Iter 42  time=1.23  loss=50592.96 active=85408 feature_norm=84.08\n",
            "Iter 43  time=1.22  loss=48399.35 active=84924 feature_norm=92.59\n",
            "Iter 44  time=1.22  loss=46775.82 active=84645 feature_norm=97.62\n",
            "Iter 45  time=1.47  loss=45014.09 active=83918 feature_norm=103.40\n",
            "Iter 46  time=2.07  loss=43539.85 active=83102 feature_norm=107.39\n",
            "Iter 47  time=1.44  loss=41982.55 active=82089 feature_norm=112.28\n",
            "Iter 48  time=1.22  loss=40457.16 active=80843 feature_norm=118.76\n",
            "Iter 49  time=1.24  loss=39046.15 active=80370 feature_norm=124.57\n",
            "Iter 50  time=1.22  loss=37699.78 active=80400 feature_norm=132.49\n",
            "Iter 51  time=1.23  loss=36335.57 active=80279 feature_norm=141.40\n",
            "Iter 52  time=1.22  loss=35328.50 active=79208 feature_norm=151.15\n",
            "Iter 53  time=1.22  loss=34293.37 active=78954 feature_norm=158.46\n",
            "Iter 54  time=1.23  loss=33485.24 active=78951 feature_norm=165.54\n",
            "Iter 55  time=4.94  loss=33245.02 active=78921 feature_norm=168.50\n",
            "Iter 56  time=1.22  loss=32458.25 active=77593 feature_norm=176.86\n",
            "Iter 57  time=1.22  loss=32053.55 active=77820 feature_norm=181.82\n",
            "Iter 58  time=1.23  loss=31547.19 active=77218 feature_norm=188.24\n",
            "Iter 59  time=1.22  loss=31165.89 active=77265 feature_norm=193.16\n",
            "Iter 60  time=1.21  loss=30863.86 active=77160 feature_norm=196.33\n",
            "Iter 61  time=1.21  loss=30561.10 active=76340 feature_norm=199.82\n",
            "Iter 62  time=3.06  loss=30514.47 active=75856 feature_norm=201.54\n",
            "Iter 63  time=1.89  loss=30268.20 active=75607 feature_norm=203.02\n",
            "Iter 64  time=1.23  loss=30118.71 active=75139 feature_norm=204.14\n",
            "Iter 65  time=1.22  loss=29972.85 active=74638 feature_norm=205.60\n",
            "Iter 66  time=1.22  loss=29766.80 active=74769 feature_norm=205.91\n",
            "Iter 67  time=1.23  loss=29639.22 active=74724 feature_norm=206.38\n",
            "Iter 68  time=1.22  loss=29469.87 active=73838 feature_norm=207.14\n",
            "Iter 69  time=1.24  loss=29343.73 active=73617 feature_norm=207.62\n",
            "Iter 70  time=1.22  loss=29235.46 active=73386 feature_norm=208.08\n",
            "Iter 71  time=1.21  loss=29092.70 active=72875 feature_norm=209.01\n",
            "Iter 72  time=2.05  loss=28996.56 active=72741 feature_norm=209.41\n",
            "Iter 73  time=1.69  loss=28886.75 active=72322 feature_norm=210.06\n",
            "Iter 74  time=1.23  loss=28775.66 active=71992 feature_norm=210.74\n",
            "Iter 75  time=1.22  loss=28683.72 active=71757 feature_norm=211.27\n",
            "Iter 76  time=1.22  loss=28592.81 active=71452 feature_norm=211.78\n",
            "Iter 77  time=1.23  loss=28496.46 active=71072 feature_norm=212.35\n",
            "Iter 78  time=1.22  loss=28418.24 active=70881 feature_norm=212.76\n",
            "Iter 79  time=1.22  loss=28351.30 active=70759 feature_norm=213.12\n",
            "Iter 80  time=1.22  loss=28282.33 active=70500 feature_norm=213.47\n",
            "Iter 81  time=1.38  loss=28218.35 active=70292 feature_norm=213.83\n",
            "Iter 82  time=2.08  loss=28160.37 active=70065 feature_norm=214.20\n",
            "Iter 83  time=1.50  loss=28106.14 active=69899 feature_norm=214.54\n",
            "Iter 84  time=1.24  loss=28058.03 active=69810 feature_norm=214.86\n",
            "Iter 85  time=1.23  loss=28013.73 active=69639 feature_norm=215.11\n",
            "Iter 86  time=1.21  loss=27971.16 active=69392 feature_norm=215.41\n",
            "Iter 87  time=1.23  loss=27933.79 active=69202 feature_norm=215.65\n",
            "Iter 88  time=1.22  loss=27900.63 active=69089 feature_norm=215.84\n",
            "Iter 89  time=1.20  loss=27867.87 active=68973 feature_norm=215.97\n",
            "Iter 90  time=1.23  loss=27833.73 active=68798 feature_norm=216.09\n",
            "Iter 91  time=1.62  loss=27802.57 active=68648 feature_norm=216.14\n",
            "Iter 92  time=2.07  loss=27773.84 active=68572 feature_norm=216.22\n",
            "Iter 93  time=1.28  loss=27747.91 active=68442 feature_norm=216.24\n",
            "Iter 94  time=1.23  loss=27721.47 active=68309 feature_norm=216.26\n",
            "Iter 95  time=1.22  loss=27694.83 active=68133 feature_norm=216.27\n",
            "Iter 96  time=1.21  loss=27669.51 active=67975 feature_norm=216.28\n",
            "Iter 97  time=1.23  loss=27646.12 active=67818 feature_norm=216.26\n",
            "Iter 98  time=1.22  loss=27624.70 active=67687 feature_norm=216.23\n",
            "Iter 99  time=1.22  loss=27603.28 active=67486 feature_norm=216.17\n",
            "Iter 100 time=1.22  loss=27582.24 active=67325 feature_norm=216.10\n",
            "L-BFGS terminated with the maximum number of iterations\n",
            "Total seconds required for training: 140.997\n",
            "\n",
            "Storing the model\n",
            "Number of active features: 67325 (91509)\n",
            "Number of active attributes: 28188 (42118)\n",
            "Number of active labels: 31 (31)\n",
            "Writing labels\n",
            "Writing attributes\n",
            "Writing feature references for transitions\n",
            "Writing feature references for attributes\n",
            "Seconds required: 0.034\n",
            "\n"
          ]
        },
        {
          "output_type": "stream",
          "name": "stderr",
          "text": [
            "/usr/local/lib/python3.9/dist-packages/sklearn/base.py:209: FutureWarning: From version 0.24, get_params will raise an AttributeError if a parameter cannot be retrieved as an instance attribute. Previously it would return None.\n",
            "  warnings.warn('From version 0.24, get_params will raise an '\n"
          ]
        },
        {
          "output_type": "execute_result",
          "data": {
            "text/plain": [
              "CRF(algorithm='lbfgs', all_possible_transitions=True, c1=0.1, c2=0.1,\n",
              "    keep_tempfiles=None, max_iterations=100, verbose=True)"
            ]
          },
          "metadata": {},
          "execution_count": 160
        }
      ]
    },
    {
      "cell_type": "code",
      "source": [
        "joblib.dump(crf, 'crf_ner_movie_model.pkl')"
      ],
      "metadata": {
        "colab": {
          "base_uri": "https://localhost:8080/"
        },
        "outputId": "72141816-6657-4d5e-f4ae-38d133d14d1e",
        "id": "_aB7_0RA2feY"
      },
      "execution_count": null,
      "outputs": [
        {
          "output_type": "execute_result",
          "data": {
            "text/plain": [
              "['crf_ner_movie_model.pkl']"
            ]
          },
          "metadata": {},
          "execution_count": 161
        }
      ]
    },
    {
      "cell_type": "code",
      "source": [
        "y_pred = crf.predict(X_test)"
      ],
      "metadata": {
        "id": "BV13kaz52feY"
      },
      "execution_count": null,
      "outputs": []
    },
    {
      "cell_type": "code",
      "source": [
        "labels = crf.classes_\n",
        "labels"
      ],
      "metadata": {
        "colab": {
          "base_uri": "https://localhost:8080/"
        },
        "outputId": "35e97209-8c8a-4eb1-a4af-6feac4f254a2",
        "id": "PiviEwUr2feZ"
      },
      "execution_count": null,
      "outputs": [
        {
          "output_type": "execute_result",
          "data": {
            "text/plain": [
              "['o',\n",
              " 'b-genre',\n",
              " 'b-director',\n",
              " 'i-director',\n",
              " 'b-title',\n",
              " 'i-title',\n",
              " 'b-year',\n",
              " 'i-genre',\n",
              " 'b-award',\n",
              " 'i-award',\n",
              " 'b-review',\n",
              " 'b-plot',\n",
              " 'i-plot',\n",
              " 'i-review',\n",
              " 'b-rating',\n",
              " 'i-rating',\n",
              " 'b-actor',\n",
              " 'i-actor',\n",
              " 'b-relationship',\n",
              " 'i-year',\n",
              " 'b-character',\n",
              " 'i-character',\n",
              " 'i-relationship',\n",
              " 'b-origin',\n",
              " 'i-origin',\n",
              " 'b-quote',\n",
              " 'i-quote',\n",
              " 'b-song',\n",
              " 'i-song',\n",
              " 'b-trailer',\n",
              " 'i-trailer']"
            ]
          },
          "metadata": {},
          "execution_count": 163
        }
      ]
    },
    {
      "cell_type": "code",
      "source": [
        "if 'o-outside' in labels:\n",
        "    labels.remove('o-outside')\n",
        "str_class_report = (crf_metrics.flat_classification_report(y_test,y_pred, labels=labels))\n",
        "print(str_class_report)"
      ],
      "metadata": {
        "colab": {
          "base_uri": "https://localhost:8080/"
        },
        "outputId": "05e44425-9525-4a5c-dfd5-f7198a1d3145",
        "id": "oKe7sc7A2feZ"
      },
      "execution_count": null,
      "outputs": [
        {
          "output_type": "stream",
          "name": "stderr",
          "text": [
            "/usr/local/lib/python3.9/dist-packages/sklearn/utils/validation.py:67: FutureWarning: Pass labels=['o', 'b-genre', 'b-director', 'i-director', 'b-title', 'i-title', 'b-year', 'i-genre', 'b-award', 'i-award', 'b-review', 'b-plot', 'i-plot', 'i-review', 'b-rating', 'i-rating', 'b-actor', 'i-actor', 'b-relationship', 'i-year', 'b-character', 'i-character', 'i-relationship', 'b-origin', 'i-origin', 'b-quote', 'i-quote', 'b-song', 'i-song', 'b-trailer', 'i-trailer'] as keyword args. From version 0.25 passing these as positional arguments will result in an error\n",
            "  warnings.warn(\"Pass {} as keyword args. From version 0.25 \"\n"
          ]
        },
        {
          "output_type": "stream",
          "name": "stdout",
          "text": [
            "                precision    recall  f1-score   support\n",
            "\n",
            "             o       0.91      0.90      0.91     36962\n",
            "       b-genre       0.89      0.89      0.89      2416\n",
            "    b-director       0.86      0.84      0.85      1076\n",
            "    i-director       0.89      0.85      0.87      1096\n",
            "       b-title       0.79      0.72      0.75       735\n",
            "       i-title       0.77      0.68      0.73      1082\n",
            "        b-year       0.96      0.96      0.96      1722\n",
            "       i-genre       0.76      0.73      0.74       876\n",
            "       b-award       0.59      0.52      0.55       110\n",
            "       i-award       0.69      0.74      0.71       267\n",
            "      b-review       0.77      0.71      0.74       935\n",
            "        b-plot       0.50      0.48      0.49      2565\n",
            "        i-plot       0.84      0.92      0.88     19162\n",
            "      i-review       0.72      0.72      0.72       725\n",
            "      b-rating       0.98      0.97      0.98       647\n",
            "      i-rating       0.95      0.87      0.91       278\n",
            "       b-actor       0.92      0.94      0.93      2576\n",
            "       i-actor       0.92      0.94      0.93      3010\n",
            "b-relationship       0.66      0.43      0.52       201\n",
            "        i-year       0.93      0.95      0.94       887\n",
            "   b-character       0.72      0.51      0.60       448\n",
            "   i-character       0.69      0.58      0.63       345\n",
            "i-relationship       0.54      0.34      0.42       377\n",
            "      b-origin       0.38      0.32      0.34       220\n",
            "      i-origin       0.61      0.59      0.60       961\n",
            "       b-quote       0.53      0.26      0.34        39\n",
            "       i-quote       0.69      0.42      0.52       276\n",
            "        b-song       0.76      0.42      0.55        92\n",
            "        i-song       0.77      0.38      0.51       215\n",
            "     b-trailer       0.65      0.71      0.68        31\n",
            "     i-trailer       0.00      0.00      0.00         6\n",
            "\n",
            "      accuracy                           0.87     80338\n",
            "     macro avg       0.73      0.65      0.68     80338\n",
            "  weighted avg       0.86      0.87      0.86     80338\n",
            "\n"
          ]
        }
      ]
    },
    {
      "cell_type": "code",
      "source": [
        "dict_class_report = dict(crf_metrics.flat_classification_report(y_test,y_pred, labels=labels, output_dict=True))"
      ],
      "metadata": {
        "id": "SBpB4fpK2fea"
      },
      "execution_count": null,
      "outputs": []
    },
    {
      "cell_type": "code",
      "source": [
        "df_metrics = pd.DataFrame(dict_class_report).T\n",
        "df_metrics.rename(index={'index': 'Tag'}, inplace=True)\n",
        "df_metrics.head()"
      ],
      "metadata": {
        "colab": {
          "base_uri": "https://localhost:8080/",
          "height": 206
        },
        "outputId": "13304f92-9dda-4f21-cfd1-fed4379b0708",
        "id": "isOPzzn42feb"
      },
      "execution_count": null,
      "outputs": [
        {
          "output_type": "execute_result",
          "data": {
            "text/plain": [
              "            precision    recall  f1-score  support\n",
              "o            0.914241  0.896407  0.905236  36962.0\n",
              "b-genre      0.891970  0.891970  0.891970   2416.0\n",
              "b-director   0.860266  0.841078  0.850564   1076.0\n",
              "i-director   0.886342  0.846715  0.866076   1096.0\n",
              "b-title      0.794872  0.717007  0.753934    735.0"
            ],
            "text/html": [
              "\n",
              "  <div id=\"df-0432a237-137f-48fd-809a-c0817e69c92d\">\n",
              "    <div class=\"colab-df-container\">\n",
              "      <div>\n",
              "<style scoped>\n",
              "    .dataframe tbody tr th:only-of-type {\n",
              "        vertical-align: middle;\n",
              "    }\n",
              "\n",
              "    .dataframe tbody tr th {\n",
              "        vertical-align: top;\n",
              "    }\n",
              "\n",
              "    .dataframe thead th {\n",
              "        text-align: right;\n",
              "    }\n",
              "</style>\n",
              "<table border=\"1\" class=\"dataframe\">\n",
              "  <thead>\n",
              "    <tr style=\"text-align: right;\">\n",
              "      <th></th>\n",
              "      <th>precision</th>\n",
              "      <th>recall</th>\n",
              "      <th>f1-score</th>\n",
              "      <th>support</th>\n",
              "    </tr>\n",
              "  </thead>\n",
              "  <tbody>\n",
              "    <tr>\n",
              "      <th>o</th>\n",
              "      <td>0.914241</td>\n",
              "      <td>0.896407</td>\n",
              "      <td>0.905236</td>\n",
              "      <td>36962.0</td>\n",
              "    </tr>\n",
              "    <tr>\n",
              "      <th>b-genre</th>\n",
              "      <td>0.891970</td>\n",
              "      <td>0.891970</td>\n",
              "      <td>0.891970</td>\n",
              "      <td>2416.0</td>\n",
              "    </tr>\n",
              "    <tr>\n",
              "      <th>b-director</th>\n",
              "      <td>0.860266</td>\n",
              "      <td>0.841078</td>\n",
              "      <td>0.850564</td>\n",
              "      <td>1076.0</td>\n",
              "    </tr>\n",
              "    <tr>\n",
              "      <th>i-director</th>\n",
              "      <td>0.886342</td>\n",
              "      <td>0.846715</td>\n",
              "      <td>0.866076</td>\n",
              "      <td>1096.0</td>\n",
              "    </tr>\n",
              "    <tr>\n",
              "      <th>b-title</th>\n",
              "      <td>0.794872</td>\n",
              "      <td>0.717007</td>\n",
              "      <td>0.753934</td>\n",
              "      <td>735.0</td>\n",
              "    </tr>\n",
              "  </tbody>\n",
              "</table>\n",
              "</div>\n",
              "      <button class=\"colab-df-convert\" onclick=\"convertToInteractive('df-0432a237-137f-48fd-809a-c0817e69c92d')\"\n",
              "              title=\"Convert this dataframe to an interactive table.\"\n",
              "              style=\"display:none;\">\n",
              "        \n",
              "  <svg xmlns=\"http://www.w3.org/2000/svg\" height=\"24px\"viewBox=\"0 0 24 24\"\n",
              "       width=\"24px\">\n",
              "    <path d=\"M0 0h24v24H0V0z\" fill=\"none\"/>\n",
              "    <path d=\"M18.56 5.44l.94 2.06.94-2.06 2.06-.94-2.06-.94-.94-2.06-.94 2.06-2.06.94zm-11 1L8.5 8.5l.94-2.06 2.06-.94-2.06-.94L8.5 2.5l-.94 2.06-2.06.94zm10 10l.94 2.06.94-2.06 2.06-.94-2.06-.94-.94-2.06-.94 2.06-2.06.94z\"/><path d=\"M17.41 7.96l-1.37-1.37c-.4-.4-.92-.59-1.43-.59-.52 0-1.04.2-1.43.59L10.3 9.45l-7.72 7.72c-.78.78-.78 2.05 0 2.83L4 21.41c.39.39.9.59 1.41.59.51 0 1.02-.2 1.41-.59l7.78-7.78 2.81-2.81c.8-.78.8-2.07 0-2.86zM5.41 20L4 18.59l7.72-7.72 1.47 1.35L5.41 20z\"/>\n",
              "  </svg>\n",
              "      </button>\n",
              "      \n",
              "  <style>\n",
              "    .colab-df-container {\n",
              "      display:flex;\n",
              "      flex-wrap:wrap;\n",
              "      gap: 12px;\n",
              "    }\n",
              "\n",
              "    .colab-df-convert {\n",
              "      background-color: #E8F0FE;\n",
              "      border: none;\n",
              "      border-radius: 50%;\n",
              "      cursor: pointer;\n",
              "      display: none;\n",
              "      fill: #1967D2;\n",
              "      height: 32px;\n",
              "      padding: 0 0 0 0;\n",
              "      width: 32px;\n",
              "    }\n",
              "\n",
              "    .colab-df-convert:hover {\n",
              "      background-color: #E2EBFA;\n",
              "      box-shadow: 0px 1px 2px rgba(60, 64, 67, 0.3), 0px 1px 3px 1px rgba(60, 64, 67, 0.15);\n",
              "      fill: #174EA6;\n",
              "    }\n",
              "\n",
              "    [theme=dark] .colab-df-convert {\n",
              "      background-color: #3B4455;\n",
              "      fill: #D2E3FC;\n",
              "    }\n",
              "\n",
              "    [theme=dark] .colab-df-convert:hover {\n",
              "      background-color: #434B5C;\n",
              "      box-shadow: 0px 1px 3px 1px rgba(0, 0, 0, 0.15);\n",
              "      filter: drop-shadow(0px 1px 2px rgba(0, 0, 0, 0.3));\n",
              "      fill: #FFFFFF;\n",
              "    }\n",
              "  </style>\n",
              "\n",
              "      <script>\n",
              "        const buttonEl =\n",
              "          document.querySelector('#df-0432a237-137f-48fd-809a-c0817e69c92d button.colab-df-convert');\n",
              "        buttonEl.style.display =\n",
              "          google.colab.kernel.accessAllowed ? 'block' : 'none';\n",
              "\n",
              "        async function convertToInteractive(key) {\n",
              "          const element = document.querySelector('#df-0432a237-137f-48fd-809a-c0817e69c92d');\n",
              "          const dataTable =\n",
              "            await google.colab.kernel.invokeFunction('convertToInteractive',\n",
              "                                                     [key], {});\n",
              "          if (!dataTable) return;\n",
              "\n",
              "          const docLinkHtml = 'Like what you see? Visit the ' +\n",
              "            '<a target=\"_blank\" href=https://colab.research.google.com/notebooks/data_table.ipynb>data table notebook</a>'\n",
              "            + ' to learn more about interactive tables.';\n",
              "          element.innerHTML = '';\n",
              "          dataTable['output_type'] = 'display_data';\n",
              "          await google.colab.output.renderOutput(dataTable, element);\n",
              "          const docLink = document.createElement('div');\n",
              "          docLink.innerHTML = docLinkHtml;\n",
              "          element.appendChild(docLink);\n",
              "        }\n",
              "      </script>\n",
              "    </div>\n",
              "  </div>\n",
              "  "
            ]
          },
          "metadata": {},
          "execution_count": 166
        }
      ]
    },
    {
      "cell_type": "code",
      "source": [
        "# https://stackoverflow.com/questions/28200786/how-to-plot-scikit-learn-classification-report\n",
        "#https://stackoverflow.com/questions/38913965/make-the-size-of-a-heatmap-bigger-with-seaborn\n",
        "fig, ax = plt.subplots(figsize=(10,10))         # Sample figsize in inches\n",
        "sns.heatmap(df_metrics.iloc[:,:-1], annot=True, linewidths=.5, ax=ax)"
      ],
      "metadata": {
        "colab": {
          "base_uri": "https://localhost:8080/",
          "height": 848
        },
        "outputId": "38fd3f8c-ea65-4d59-c624-d9f728ee8ef8",
        "id": "ZZLQ7dgb2fec"
      },
      "execution_count": null,
      "outputs": [
        {
          "output_type": "execute_result",
          "data": {
            "text/plain": [
              "<Axes: >"
            ]
          },
          "metadata": {},
          "execution_count": 167
        },
        {
          "output_type": "display_data",
          "data": {
            "text/plain": [
              "<Figure size 1000x1000 with 2 Axes>"
            ],
            "image/png": "[encoded data removed]"
          },
          "metadata": {}
        }
      ]
    },
    {
      "cell_type": "code",
      "source": [],
      "metadata": {
        "id": "tkT_s-zessKW"
      },
      "execution_count": null,
      "outputs": []
    }
  ]
}