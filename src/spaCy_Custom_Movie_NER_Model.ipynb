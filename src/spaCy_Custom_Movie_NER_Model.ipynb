{
  "nbformat": 4,
  "nbformat_minor": 0,
  "metadata": {
    "colab": {
      "provenance": [],
      "authorship_tag": "ABX9TyOZx+ENO6wPOXTbitjb4xWC"
    },
    "kernelspec": {
      "name": "python3",
      "display_name": "Python 3"
    },
    "language_info": {
      "name": "python"
    }
  },
  "cells": [
    {
      "cell_type": "markdown",
      "source": [
        "<a target=\"_blank\" href=\"https://colab.research.google.com/github/wbfrench1/barker_DATA606/blob/main/src/spaCy_Custom_Movie_NER_Model.ipynb\">\n",
        "  <img src=\"https://colab.research.google.com/assets/colab-badge.svg\" alt=\"Open In Colab\"/>\n",
        "</a>"
      ],
      "metadata": {
        "id": "FnfXuFZDrusH"
      }
    },
    {
      "cell_type": "markdown",
      "source": [
        "# Details:\n",
        "  https://spacy.io/usage/training"
      ],
      "metadata": {
        "id": "E1IdN8MZF2w9"
      }
    },
    {
      "cell_type": "code",
      "source": [],
      "metadata": {
        "id": "WJ_-6cwuGGAo"
      },
      "execution_count": null,
      "outputs": []
    }
  ]
}