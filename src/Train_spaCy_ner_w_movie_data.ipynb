{
  "nbformat": 4,
  "nbformat_minor": 0,
  "metadata": {
    "colab": {
      "provenance": [],
      "authorship_tag": "ABX9TyOPsuJxRg+G+L2BHNKz49a2"
    },
    "kernelspec": {
      "name": "python3",
      "display_name": "Python 3"
    },
    "language_info": {
      "name": "python"
    }
  },
  "cells": [
    {
      "cell_type": "markdown",
      "source": [
        "<a target=\"_blank\" href=\"https://colab.research.google.com/github/wbfrench1/barker_DATA606/blob/main/src/Train_spaCy_ner_w_movie_data.ipynb\">\n",
        "  <img src=\"https://colab.research.google.com/assets/colab-badge.svg\" alt=\"Open In Colab\"/>\n",
        "</a>"
      ],
      "metadata": {
        "id": "kw9rbf_Pqj2_"
      }
    },
    {
      "cell_type": "code",
      "execution_count": null,
      "metadata": {
        "id": "Gu3lNnFEZNpv"
      },
      "outputs": [],
      "source": [
        "import os\n",
        "from google.colab import drive\n",
        "import pandas as pd\n",
        "pd.set_option('display.max_rows', 300)\n",
        "pd.set_option('display.max_columns', 100)\n",
        "pd.set_option('display.width', 150)\n",
        "import numpy as np\n",
        "from sklearn.model_selection import train_test_split"
      ]
    },
    {
      "cell_type": "code",
      "source": [
        "# upload train.txt, test.txt, valid.txt from Data/conll2003/en\n",
        "try:\n",
        "    drive.mount('content/')\n",
        "except ModuleNotFoundError:\n",
        "    print('Not using colab')"
      ],
      "metadata": {
        "colab": {
          "base_uri": "https://localhost:8080/"
        },
        "id": "Vs4ZoionZTvi",
        "outputId": "ed53ae82-0cda-4cc3-b0e2-874fa9f9d8dd"
      },
      "execution_count": null,
      "outputs": [
        {
          "output_type": "stream",
          "name": "stdout",
          "text": [
            "Drive already mounted at content/; to attempt to forcibly remount, call drive.mount(\"content/\", force_remount=True).\n"
          ]
        }
      ]
    },
    {
      "cell_type": "code",
      "source": [
        "!head '/content/content/MyDrive/Colab Notebooks/0. Data 606 - Capstone/Project Data/movie_data_word_pos_iob_w_space_and_period_sep.txt' -n 11 "
      ],
      "metadata": {
        "colab": {
          "base_uri": "https://localhost:8080/"
        },
        "id": "xyXObDDIZWFQ",
        "outputId": "bb40f354-c741-4962-f227-7e9e1a3a06cf"
      },
      "execution_count": null,
      "outputs": [
        {
          "output_type": "stream",
          "name": "stdout",
          "text": [
            "                   what   WP              o\n",
            "                 movies  NNS              o\n",
            "                   star  VBP              o\n",
            "                  bruce   NN        b-actor\n",
            "                 willis   NN        i-actor\n",
            "                      .    .              o\n",
            "                   show   VB              o\n",
            "                     me  PRP              o\n",
            "                  films  NNS              o\n",
            "                   with   IN              o\n",
            "                   drew  NNS        b-actor\n"
          ]
        }
      ]
    }
  ]
}