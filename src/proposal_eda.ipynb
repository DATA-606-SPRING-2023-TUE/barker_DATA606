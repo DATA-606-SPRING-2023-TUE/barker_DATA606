{
  "nbformat": 4,
  "nbformat_minor": 0,
  "metadata": {
    "colab": {
      "provenance": [],
      "authorship_tag": "ABX9TyMAGlBzsoH3ly5ODgsTpX5g"
    },
    "kernelspec": {
      "name": "python3",
      "display_name": "Python 3"
    },
    "language_info": {
      "name": "python"
    }
  },
  "cells": [
    {
      "cell_type": "markdown",
      "source": [
        "<a target=\"_blank\" href=\"https://colab.research.google.com/github/wbfrench1/barker_DATA606/blob/main/src/proposal_eda.ipynb\">\n",
        "  <img src=\"https://colab.research.google.com/assets/colab-badge.svg\" alt=\"Open In Colab\"/>\n",
        "</a>"
      ],
      "metadata": {
        "id": "3hCo0lQbrWBG"
      }
    },
    {
      "cell_type": "markdown",
      "source": [
        "# Process\n",
        "\n",
        "<ol><li>Get Data Locations and Filenames</li>\n",
        "<li>Get Data and Save to Local Drive</li>\n",
        "<li>Investigate the eng_train.bio dataset</li>\n",
        "<ol><li>Label Data with Question Numbers</li>\n",
        "<li>Separate the label field into two data elements: loc and pos</li>\n",
        "<li>Identify the total number of questions - (9775)</li>\n",
        "<li>Create Single Entities from Component Words</li></ol>\n",
        "<li>Repeat the above steps with each for each of the datasets</li>\n",
        "<li>Combine the data sets into one dataset</li>\n",
        "<ol><li>Match up columns</li>\n",
        "<li>Standardize columns</li>\n",
        "<li>Combine Datasets</li></ol>"
      ],
      "metadata": {
        "id": "d-Rbd2I74bIb"
      }
    },
    {
      "cell_type": "markdown",
      "source": [
        "# EDA - Takeaways\n",
        "\n",
        "<ol><li>There appears to be enough data.  Roughly 22,000 labeled movie trivia questions over two sets that are broken into training and test sets.</li>\n",
        "<li>The entities between the two sets are mostly the same.  After making some adjustments, the final entities are ['outside', 'actor', 'year', 'title', 'genre', 'director', 'song', 'plot', 'review', 'character', 'rating', trailer', 'award','origin', 'relationship', 'quote']</li>\n",
        "<li>Data must be cleaned (e.g. CHARACTER entity includes \"adam sandler\" and \"adam sandlers\""
      ],
      "metadata": {
        "id": "5VxyzwxB5JMO"
      }
    },
    {
      "cell_type": "code",
      "execution_count": 164,
      "metadata": {
        "id": "F_HT3IebDktY"
      },
      "outputs": [],
      "source": [
        "import requests\n",
        "import pandas as pd\n",
        "import random\n",
        "import numpy as np\n",
        "import seaborn as sns\n",
        "import matplotlib.pyplot as plt\n",
        "import matplotlib.ticker as tkr\n",
        "pd.set_option('display.max_rows', 300)\n",
        "pd.set_option('display.max_columns', 100)"
      ]
    },
    {
      "cell_type": "code",
      "source": [
        "def fetch_data( str_url: str, str_file_name_out: str):\n",
        "    '''\n",
        "\n",
        "    Description:    takes a string form to the url location of a dataset \n",
        "                    takes a string form of the filename to write the dataset to\n",
        "                    saves the file to the working directory under the filename\n",
        "\n",
        "    parameters:     str_url: a string containing the url of the data\n",
        "                    str_file_name: a string containing the name the data will be\n",
        "                       saved under in the current drive\n",
        "    \n",
        "    return:         Nothing\n",
        "    ''' \n",
        "    r = requests.get(str_url, allow_redirects=True)\n",
        "    open(str_file_name_out, 'wb').write(r.content)\n",
        "    \n",
        "\n",
        "\n",
        "\n",
        "def label_data_w_item_number ( str_f_name: str) -> pd.DataFrame:\n",
        "    '''\n",
        "\n",
        "    Description:    tags the same label to each word in a specific question to \n",
        "                       facilitate identification of unique questions later\n",
        "                    saves the updated file\n",
        "    \n",
        "    Parameters:     str_f_name: takes the filename of one of the files in the \n",
        "                       trivia dataset and appends a question number to each word\n",
        "                       that is part of the same question.\n",
        "    \n",
        "    return:         None\n",
        "\n",
        "    '''\n",
        "\n",
        "    with open(str_f_name) as f:\n",
        "        lines = f.readlines()\n",
        "\n",
        "    i = 1\n",
        "    with open(str_f_name, 'w') as f_out:\n",
        "        for line in lines:\n",
        "            if line != '\\n':\n",
        "                # add a label for each question\n",
        "                line = str(i) + '\\t' + line\n",
        "                f_out.write(line)\n",
        "            else:\n",
        "                i += 1\n",
        "    \n",
        "\n",
        "\n",
        "\n",
        "def separate_label_into_pos_and_entity_components(df: pd.DataFrame\n",
        "                                                  ) -> pd.DataFrame:\n",
        "    '''\n",
        "\n",
        "    Description:    takes the label column which contains two variables and \n",
        "                        separates them into their two component pieces \n",
        "                        pos and entity\n",
        "    \n",
        "    Parameters:     df: takes a dataframe of labeled movie questions\n",
        "    \n",
        "    return:         dataframe with two new columns, pos and entity\n",
        "\n",
        "    '''\n",
        "\n",
        "    # adjust the O label to include a separate entity called other\n",
        "    df.loc[df['label'] == 'O', 'label' ] = 'o-outside'\n",
        "    # make everything lowercase\n",
        "    df['label'] = df['label'].str.lower()\n",
        "    # put the entity location of the word in new column 'pos' for position\n",
        "    df['pos'] = [label[0] for label in df.label.str.split('-')]\n",
        "    # put the entity type in a new column called 'entity'\n",
        "    df['entity'] = [label[1] for label in df.label.str.split('-')]\n",
        "\n",
        "    return df\n",
        "\n",
        "\n",
        "\n",
        "\n",
        "def merge_entity_components_into_one (df: pd.DataFrame,\n",
        "                                      l_entity_types : list) -> pd.DataFrame:\n",
        "    '''\n",
        "\n",
        "    Description:    takes a dataframe of labeled movie questions where the\n",
        "                       the entity type (e.g. character, genre) has been \n",
        "                       separated from the position (B-beginning, I-intermediate)\n",
        "                       and reassembles the entity into a single unit.\n",
        "    \n",
        "    Parameters:     df: takes a dataframe of labeled movie questions which has\n",
        "                       an entity, quest_num, and word field\n",
        "    \n",
        "    return:         dataframe with two columns, entity and word, where word \n",
        "                       represents a single entity where B,I parts are \n",
        "                       reassembled\n",
        "\n",
        "    '''\n",
        "\n",
        "\n",
        "    df_label = pd.DataFrame()\n",
        "    # loop through each entity type\n",
        "    for entity in l_entity_types:\n",
        "        # get the unique indicies associated with each entity\n",
        "        for index in df.loc[df['entity'] == entity, 'quest_num'].unique():\n",
        "\n",
        "            word = ' '.join([str(word) for word in df.loc[(df['quest_num'] == index)\n",
        "                                    & (df['entity'] == entity), 'word'].tolist()])\n",
        "            df_label2 = pd.DataFrame( { 'entity': entity, 'word' : word},index=[index])\n",
        "            df_label = pd.concat([df_label,df_label2])\n",
        "    \n",
        "    return df_label\n"
      ],
      "metadata": {
        "id": "vVe273wY1sIH"
      },
      "execution_count": 3,
      "outputs": []
    },
    {
      "cell_type": "markdown",
      "source": [
        "## 1. Data Locations and Filenames"
      ],
      "metadata": {
        "id": "G_4MsaFw4jQf"
      }
    },
    {
      "cell_type": "code",
      "source": [
        "str_url_1_train = 'https://groups.csail.mit.edu/sls/downloads/movie/engtrain.bio'\n",
        "str_file_name_1_train = 'eng_train.bio'\n",
        "\n",
        "str_url_1_test = 'https://groups.csail.mit.edu/sls/downloads/movie/engtest.bio'\n",
        "str_file_name_1_test = 'eng_test.bio'\n",
        "\n",
        "str_url_2_train = 'https://groups.csail.mit.edu/sls/downloads/movie/trivia10k13train.bio'\n",
        "str_file_name_2_train = 'trivia_train.bio'\n",
        "\n",
        "str_url_2_test = 'https://groups.csail.mit.edu/sls/downloads/movie/trivia10k13test.bio'\n",
        "str_file_name_2_test = 'trivia_test.bio'\n",
        "\n",
        "l_data_urls_and_filenames = [(str_url_1_train, str_file_name_1_train),\n",
        "                            (str_url_1_test, str_file_name_1_test),\n",
        "                            (str_url_2_train, str_file_name_2_train),\n",
        "                            (str_url_2_test, str_file_name_2_test)]"
      ],
      "metadata": {
        "id": "8btr1-rm24XR"
      },
      "execution_count": 4,
      "outputs": []
    },
    {
      "cell_type": "markdown",
      "source": [
        "## 2. Get Data and Save to Local Drive\n",
        "## 3. Investigate the eng_train.bio dataset\n",
        "### 3.1 Label Data with Question Numbers"
      ],
      "metadata": {
        "id": "01KKnaqk4qt4"
      }
    },
    {
      "cell_type": "code",
      "source": [
        "for str_url, str_f_name_out in l_data_urls_and_filenames:\n",
        "    # 3. get data and save\n",
        "    fetch_data( str_url = str_url,\n",
        "            str_file_name_out = str_f_name_out)\n",
        "    # label data with question numbers\n",
        "    label_data_w_item_number( str_f_name = str_f_name_out)"
      ],
      "metadata": {
        "id": "nqeFjxrn4hXz"
      },
      "execution_count": 5,
      "outputs": []
    },
    {
      "cell_type": "code",
      "source": [
        "df = pd.read_csv('eng_train.bio', sep='\\t', names=['quest_num', 'label', 'word'])"
      ],
      "metadata": {
        "id": "lAIEB_HKriyG"
      },
      "execution_count": 6,
      "outputs": []
    },
    {
      "cell_type": "markdown",
      "source": [
        "#### Show an example that each question is now numbered"
      ],
      "metadata": {
        "id": "5W27LpBiEtTo"
      }
    },
    {
      "cell_type": "code",
      "source": [
        "#https://datascientyst.com/set-caption-customize-font-size-color-in-pandas-dataframe/\n",
        "styles = [dict(selector=\"caption\", props=[(\"font-size\", \"120%\"),\n",
        "                                          (\"font-weight\", \"bold\")])]\n",
        "\n",
        "df.loc[df['quest_num'] == random.randint(0,df['quest_num'].max()+1), ['quest_num', 'word','label']].rename(columns={'label': 'entity tag',}).style.set_caption(\"Movie Trivia Data Exemplar\").set_table_styles(styles)"
      ],
      "metadata": {
        "colab": {
          "base_uri": "https://localhost:8080/",
          "height": 258
        },
        "id": "eKx1xl7fBWZa",
        "outputId": "5ea9a1c7-65ea-4aec-8215-ef2c47fd86e0"
      },
      "execution_count": 7,
      "outputs": [
        {
          "output_type": "execute_result",
          "data": {
            "text/plain": [
              "<pandas.io.formats.style.Styler at 0x7ff1f1e5adc0>"
            ],
            "text/html": [
              "<style type=\"text/css\">\n",
              "#T_3720d caption {\n",
              "  font-size: 120%;\n",
              "  font-weight: bold;\n",
              "}\n",
              "</style>\n",
              "<table id=\"T_3720d\" class=\"dataframe\">\n",
              "  <caption>Movie Trivia Data Exemplar</caption>\n",
              "  <thead>\n",
              "    <tr>\n",
              "      <th class=\"blank level0\" >&nbsp;</th>\n",
              "      <th id=\"T_3720d_level0_col0\" class=\"col_heading level0 col0\" >quest_num</th>\n",
              "      <th id=\"T_3720d_level0_col1\" class=\"col_heading level0 col1\" >word</th>\n",
              "      <th id=\"T_3720d_level0_col2\" class=\"col_heading level0 col2\" >entity tag</th>\n",
              "    </tr>\n",
              "  </thead>\n",
              "  <tbody>\n",
              "    <tr>\n",
              "      <th id=\"T_3720d_level0_row0\" class=\"row_heading level0 row0\" >65664</th>\n",
              "      <td id=\"T_3720d_row0_col0\" class=\"data row0 col0\" >6673</td>\n",
              "      <td id=\"T_3720d_row0_col1\" class=\"data row0 col1\" >list</td>\n",
              "      <td id=\"T_3720d_row0_col2\" class=\"data row0 col2\" >O</td>\n",
              "    </tr>\n",
              "    <tr>\n",
              "      <th id=\"T_3720d_level0_row1\" class=\"row_heading level0 row1\" >65665</th>\n",
              "      <td id=\"T_3720d_row1_col0\" class=\"data row1 col0\" >6673</td>\n",
              "      <td id=\"T_3720d_row1_col1\" class=\"data row1 col1\" >all</td>\n",
              "      <td id=\"T_3720d_row1_col2\" class=\"data row1 col2\" >O</td>\n",
              "    </tr>\n",
              "    <tr>\n",
              "      <th id=\"T_3720d_level0_row2\" class=\"row_heading level0 row2\" >65666</th>\n",
              "      <td id=\"T_3720d_row2_col0\" class=\"data row2 col0\" >6673</td>\n",
              "      <td id=\"T_3720d_row2_col1\" class=\"data row2 col1\" >movie</td>\n",
              "      <td id=\"T_3720d_row2_col2\" class=\"data row2 col2\" >O</td>\n",
              "    </tr>\n",
              "    <tr>\n",
              "      <th id=\"T_3720d_level0_row3\" class=\"row_heading level0 row3\" >65667</th>\n",
              "      <td id=\"T_3720d_row3_col0\" class=\"data row3 col0\" >6673</td>\n",
              "      <td id=\"T_3720d_row3_col1\" class=\"data row3 col1\" >information</td>\n",
              "      <td id=\"T_3720d_row3_col2\" class=\"data row3 col2\" >O</td>\n",
              "    </tr>\n",
              "    <tr>\n",
              "      <th id=\"T_3720d_level0_row4\" class=\"row_heading level0 row4\" >65668</th>\n",
              "      <td id=\"T_3720d_row4_col0\" class=\"data row4 col0\" >6673</td>\n",
              "      <td id=\"T_3720d_row4_col1\" class=\"data row4 col1\" >on</td>\n",
              "      <td id=\"T_3720d_row4_col2\" class=\"data row4 col2\" >O</td>\n",
              "    </tr>\n",
              "    <tr>\n",
              "      <th id=\"T_3720d_level0_row5\" class=\"row_heading level0 row5\" >65669</th>\n",
              "      <td id=\"T_3720d_row5_col0\" class=\"data row5 col0\" >6673</td>\n",
              "      <td id=\"T_3720d_row5_col1\" class=\"data row5 col1\" >valmont</td>\n",
              "      <td id=\"T_3720d_row5_col2\" class=\"data row5 col2\" >B-TITLE</td>\n",
              "    </tr>\n",
              "  </tbody>\n",
              "</table>\n"
            ]
          },
          "metadata": {},
          "execution_count": 7
        }
      ]
    },
    {
      "cell_type": "code",
      "source": [
        "df.label.unique()"
      ],
      "metadata": {
        "colab": {
          "base_uri": "https://localhost:8080/"
        },
        "id": "T7pIoe5cIdna",
        "outputId": "660cfd96-40df-4963-ef6d-6f1fc389515a"
      },
      "execution_count": 8,
      "outputs": [
        {
          "output_type": "execute_result",
          "data": {
            "text/plain": [
              "array(['O', 'B-ACTOR', 'I-ACTOR', 'B-YEAR', 'B-TITLE', 'B-GENRE',\n",
              "       'I-GENRE', 'B-DIRECTOR', 'I-DIRECTOR', 'B-SONG', 'I-SONG',\n",
              "       'B-PLOT', 'I-PLOT', 'B-REVIEW', 'B-CHARACTER', 'I-CHARACTER',\n",
              "       'B-RATING', 'B-RATINGS_AVERAGE', 'I-RATINGS_AVERAGE', 'I-TITLE',\n",
              "       'I-RATING', 'B-TRAILER', 'I-TRAILER', 'I-REVIEW', 'I-YEAR'],\n",
              "      dtype=object)"
            ]
          },
          "metadata": {},
          "execution_count": 8
        }
      ]
    },
    {
      "cell_type": "markdown",
      "source": [
        "B = Begin\n",
        "I = Intermediate\n",
        "E = End"
      ],
      "metadata": {
        "id": "zuYxCpV9pUjZ"
      }
    },
    {
      "cell_type": "code",
      "source": [
        "[dict(selector=\"caption\", props=[(\"font-size\", \"120%\"),\n",
        "                                          (\"font-weight\", \"bold\")]),\n",
        "dict(selector = 'th', props=[('text-align', 'left')])]"
      ],
      "metadata": {
        "id": "GL-L7_qCbiFg",
        "outputId": "4e86f26a-c922-4921-b8e2-4a166d55ab4d",
        "colab": {
          "base_uri": "https://localhost:8080/"
        }
      },
      "execution_count": 9,
      "outputs": [
        {
          "output_type": "execute_result",
          "data": {
            "text/plain": [
              "[{'selector': 'caption',\n",
              "  'props': [('font-size', '120%'), ('font-weight', 'bold')]},\n",
              " {'selector': 'th', 'props': [('text-align', 'left')]}]"
            ]
          },
          "metadata": {},
          "execution_count": 9
        }
      ]
    },
    {
      "cell_type": "code",
      "source": [
        "df_entity_tag_count = (\n",
        "pd.DataFrame(df.rename(columns={'label': 'entity tag',}\n",
        "                       ).groupby(['entity tag']\n",
        "                                 )['entity tag'].count()\n",
        "            ).rename(columns={'entity tag': 'count'}\n",
        "                    ).sort_values(by='count', ascending=False\n",
        "                                  )[:8].reset_index().style.set_properties(**{'text-align': 'left'})\n",
        ")\n",
        "\n",
        "#df_entity_tag_count.set_caption(\"Eng_Train.bio <br> Entity Count\").set_table_styles(styles)\n",
        "\n",
        "(df_entity_tag_count.set_caption(\"Entity Count<br> eng_train.bio \"\n",
        "                               ).set_table_styles([dict(selector=\"caption\", \n",
        "                                                        props=[(\"font-size\", \"120%\"),\n",
        "                                                               (\"font-weight\", \"bold\")\n",
        "                                                               ]\n",
        "                                                        ),\n",
        "                                                   dict(selector = 'th', \n",
        "                                                        props=[('text-align', 'left')]\n",
        "                                                        )\n",
        "                                                   ]\n",
        "                                                  )).hide_index()"
      ],
      "metadata": {
        "id": "jsD81hd8UbmQ",
        "outputId": "9c1df61a-41c0-4aca-fa79-2f799f511e5d",
        "colab": {
          "base_uri": "https://localhost:8080/",
          "height": 379
        }
      },
      "execution_count": 12,
      "outputs": [
        {
          "output_type": "stream",
          "name": "stderr",
          "text": [
            "<ipython-input-12-4a5820f36796>:12: FutureWarning: this method is deprecated in favour of `Styler.hide(axis=\"index\")`\n",
            "  (df_entity_tag_count.set_caption(\"Entity Count<br> eng_train.bio \"\n"
          ]
        },
        {
          "output_type": "execute_result",
          "data": {
            "text/plain": [
              "<pandas.io.formats.style.Styler at 0x7ff21fbccdf0>"
            ],
            "text/html": [
              "<style type=\"text/css\">\n",
              "#T_38fe1 caption {\n",
              "  font-size: 120%;\n",
              "  font-weight: bold;\n",
              "}\n",
              "#T_38fe1 th {\n",
              "  text-align: left;\n",
              "}\n",
              "#T_38fe1_row0_col0, #T_38fe1_row0_col1, #T_38fe1_row1_col0, #T_38fe1_row1_col1, #T_38fe1_row2_col0, #T_38fe1_row2_col1, #T_38fe1_row3_col0, #T_38fe1_row3_col1, #T_38fe1_row4_col0, #T_38fe1_row4_col1, #T_38fe1_row5_col0, #T_38fe1_row5_col1, #T_38fe1_row6_col0, #T_38fe1_row6_col1, #T_38fe1_row7_col0, #T_38fe1_row7_col1 {\n",
              "  text-align: left;\n",
              "}\n",
              "</style>\n",
              "<table id=\"T_38fe1\" class=\"dataframe\">\n",
              "  <caption>Entity Count<br> eng_train.bio </caption>\n",
              "  <thead>\n",
              "    <tr>\n",
              "      <th id=\"T_38fe1_level0_col0\" class=\"col_heading level0 col0\" >entity tag</th>\n",
              "      <th id=\"T_38fe1_level0_col1\" class=\"col_heading level0 col1\" >count</th>\n",
              "    </tr>\n",
              "  </thead>\n",
              "  <tbody>\n",
              "    <tr>\n",
              "      <td id=\"T_38fe1_row0_col0\" class=\"data row0 col0\" >O</td>\n",
              "      <td id=\"T_38fe1_row0_col1\" class=\"data row0 col1\" >61008</td>\n",
              "    </tr>\n",
              "    <tr>\n",
              "      <td id=\"T_38fe1_row1_col0\" class=\"data row1 col0\" >B-GENRE</td>\n",
              "      <td id=\"T_38fe1_row1_col1\" class=\"data row1 col1\" >4354</td>\n",
              "    </tr>\n",
              "    <tr>\n",
              "      <td id=\"T_38fe1_row2_col0\" class=\"data row2 col0\" >I-TITLE</td>\n",
              "      <td id=\"T_38fe1_row2_col1\" class=\"data row2 col1\" >3495</td>\n",
              "    </tr>\n",
              "    <tr>\n",
              "      <td id=\"T_38fe1_row3_col0\" class=\"data row3 col0\" >I-ACTOR</td>\n",
              "      <td id=\"T_38fe1_row3_col1\" class=\"data row3 col1\" >3474</td>\n",
              "    </tr>\n",
              "    <tr>\n",
              "      <td id=\"T_38fe1_row4_col0\" class=\"data row4 col0\" >B-ACTOR</td>\n",
              "      <td id=\"T_38fe1_row4_col1\" class=\"data row4 col1\" >3220</td>\n",
              "    </tr>\n",
              "    <tr>\n",
              "      <td id=\"T_38fe1_row5_col0\" class=\"data row5 col0\" >B-YEAR</td>\n",
              "      <td id=\"T_38fe1_row5_col1\" class=\"data row5 col1\" >2858</td>\n",
              "    </tr>\n",
              "    <tr>\n",
              "      <td id=\"T_38fe1_row6_col0\" class=\"data row6 col0\" >I-YEAR</td>\n",
              "      <td id=\"T_38fe1_row6_col1\" class=\"data row6 col1\" >2456</td>\n",
              "    </tr>\n",
              "    <tr>\n",
              "      <td id=\"T_38fe1_row7_col0\" class=\"data row7 col0\" >B-TITLE</td>\n",
              "      <td id=\"T_38fe1_row7_col1\" class=\"data row7 col1\" >2376</td>\n",
              "    </tr>\n",
              "  </tbody>\n",
              "</table>\n"
            ]
          },
          "metadata": {},
          "execution_count": 12
        }
      ]
    },
    {
      "cell_type": "code",
      "source": [
        "df.label.value_counts()"
      ],
      "metadata": {
        "colab": {
          "base_uri": "https://localhost:8080/"
        },
        "id": "H3-O-IVtIuEy",
        "outputId": "71893466-eea9-4646-bd09-5cd0d3036589"
      },
      "execution_count": 13,
      "outputs": [
        {
          "output_type": "execute_result",
          "data": {
            "text/plain": [
              "O                    61008\n",
              "B-GENRE               4354\n",
              "I-TITLE               3495\n",
              "I-ACTOR               3474\n",
              "B-ACTOR               3220\n",
              "B-YEAR                2858\n",
              "I-YEAR                2456\n",
              "B-TITLE               2376\n",
              "B-RATING              2007\n",
              "B-PLOT                1927\n",
              "B-RATINGS_AVERAGE     1869\n",
              "I-DIRECTOR            1850\n",
              "B-DIRECTOR            1720\n",
              "I-PLOT                1687\n",
              "I-RATINGS_AVERAGE     1673\n",
              "I-RATING               840\n",
              "I-GENRE                786\n",
              "I-SONG                 446\n",
              "B-CHARACTER            385\n",
              "I-CHARACTER            342\n",
              "B-SONG                 245\n",
              "B-REVIEW               221\n",
              "I-REVIEW               132\n",
              "B-TRAILER              113\n",
              "I-TRAILER                7\n",
              "Name: label, dtype: int64"
            ]
          },
          "metadata": {},
          "execution_count": 13
        }
      ]
    },
    {
      "cell_type": "markdown",
      "source": [
        "### 3.2 Separate the label field into two data elements: loc and pos"
      ],
      "metadata": {
        "id": "9UEGNG_ytu_C"
      }
    },
    {
      "cell_type": "code",
      "source": [
        "df = separate_label_into_pos_and_entity_components(df)\n",
        "df.sample(10)"
      ],
      "metadata": {
        "id": "jw2W_hRBttlP",
        "colab": {
          "base_uri": "https://localhost:8080/",
          "height": 363
        },
        "outputId": "0027e7ad-87f3-4306-e055-f89eaf7702bd"
      },
      "execution_count": 14,
      "outputs": [
        {
          "output_type": "execute_result",
          "data": {
            "text/plain": [
              "       quest_num              label         word pos           entity\n",
              "92499       8928            i-actor       downey   i            actor\n",
              "94605       9134          o-outside     starring   o          outside\n",
              "17774       2174          o-outside          was   o          outside\n",
              "72141       7243            i-title      shining   i            title\n",
              "795           89          o-outside        movie   o          outside\n",
              "21630       2622          o-outside         find   o          outside\n",
              "4409         519          o-outside       movies   o          outside\n",
              "50240       5390  i-ratings_average        right   i  ratings_average\n",
              "71763       7207            b-genre  documentary   b            genre\n",
              "65926       6697          o-outside         list   o          outside"
            ],
            "text/html": [
              "\n",
              "  <div id=\"df-3f7ce465-5878-49b9-ba14-297147a43c44\">\n",
              "    <div class=\"colab-df-container\">\n",
              "      <div>\n",
              "<style scoped>\n",
              "    .dataframe tbody tr th:only-of-type {\n",
              "        vertical-align: middle;\n",
              "    }\n",
              "\n",
              "    .dataframe tbody tr th {\n",
              "        vertical-align: top;\n",
              "    }\n",
              "\n",
              "    .dataframe thead th {\n",
              "        text-align: right;\n",
              "    }\n",
              "</style>\n",
              "<table border=\"1\" class=\"dataframe\">\n",
              "  <thead>\n",
              "    <tr style=\"text-align: right;\">\n",
              "      <th></th>\n",
              "      <th>quest_num</th>\n",
              "      <th>label</th>\n",
              "      <th>word</th>\n",
              "      <th>pos</th>\n",
              "      <th>entity</th>\n",
              "    </tr>\n",
              "  </thead>\n",
              "  <tbody>\n",
              "    <tr>\n",
              "      <th>92499</th>\n",
              "      <td>8928</td>\n",
              "      <td>i-actor</td>\n",
              "      <td>downey</td>\n",
              "      <td>i</td>\n",
              "      <td>actor</td>\n",
              "    </tr>\n",
              "    <tr>\n",
              "      <th>94605</th>\n",
              "      <td>9134</td>\n",
              "      <td>o-outside</td>\n",
              "      <td>starring</td>\n",
              "      <td>o</td>\n",
              "      <td>outside</td>\n",
              "    </tr>\n",
              "    <tr>\n",
              "      <th>17774</th>\n",
              "      <td>2174</td>\n",
              "      <td>o-outside</td>\n",
              "      <td>was</td>\n",
              "      <td>o</td>\n",
              "      <td>outside</td>\n",
              "    </tr>\n",
              "    <tr>\n",
              "      <th>72141</th>\n",
              "      <td>7243</td>\n",
              "      <td>i-title</td>\n",
              "      <td>shining</td>\n",
              "      <td>i</td>\n",
              "      <td>title</td>\n",
              "    </tr>\n",
              "    <tr>\n",
              "      <th>795</th>\n",
              "      <td>89</td>\n",
              "      <td>o-outside</td>\n",
              "      <td>movie</td>\n",
              "      <td>o</td>\n",
              "      <td>outside</td>\n",
              "    </tr>\n",
              "    <tr>\n",
              "      <th>21630</th>\n",
              "      <td>2622</td>\n",
              "      <td>o-outside</td>\n",
              "      <td>find</td>\n",
              "      <td>o</td>\n",
              "      <td>outside</td>\n",
              "    </tr>\n",
              "    <tr>\n",
              "      <th>4409</th>\n",
              "      <td>519</td>\n",
              "      <td>o-outside</td>\n",
              "      <td>movies</td>\n",
              "      <td>o</td>\n",
              "      <td>outside</td>\n",
              "    </tr>\n",
              "    <tr>\n",
              "      <th>50240</th>\n",
              "      <td>5390</td>\n",
              "      <td>i-ratings_average</td>\n",
              "      <td>right</td>\n",
              "      <td>i</td>\n",
              "      <td>ratings_average</td>\n",
              "    </tr>\n",
              "    <tr>\n",
              "      <th>71763</th>\n",
              "      <td>7207</td>\n",
              "      <td>b-genre</td>\n",
              "      <td>documentary</td>\n",
              "      <td>b</td>\n",
              "      <td>genre</td>\n",
              "    </tr>\n",
              "    <tr>\n",
              "      <th>65926</th>\n",
              "      <td>6697</td>\n",
              "      <td>o-outside</td>\n",
              "      <td>list</td>\n",
              "      <td>o</td>\n",
              "      <td>outside</td>\n",
              "    </tr>\n",
              "  </tbody>\n",
              "</table>\n",
              "</div>\n",
              "      <button class=\"colab-df-convert\" onclick=\"convertToInteractive('df-3f7ce465-5878-49b9-ba14-297147a43c44')\"\n",
              "              title=\"Convert this dataframe to an interactive table.\"\n",
              "              style=\"display:none;\">\n",
              "        \n",
              "  <svg xmlns=\"http://www.w3.org/2000/svg\" height=\"24px\"viewBox=\"0 0 24 24\"\n",
              "       width=\"24px\">\n",
              "    <path d=\"M0 0h24v24H0V0z\" fill=\"none\"/>\n",
              "    <path d=\"M18.56 5.44l.94 2.06.94-2.06 2.06-.94-2.06-.94-.94-2.06-.94 2.06-2.06.94zm-11 1L8.5 8.5l.94-2.06 2.06-.94-2.06-.94L8.5 2.5l-.94 2.06-2.06.94zm10 10l.94 2.06.94-2.06 2.06-.94-2.06-.94-.94-2.06-.94 2.06-2.06.94z\"/><path d=\"M17.41 7.96l-1.37-1.37c-.4-.4-.92-.59-1.43-.59-.52 0-1.04.2-1.43.59L10.3 9.45l-7.72 7.72c-.78.78-.78 2.05 0 2.83L4 21.41c.39.39.9.59 1.41.59.51 0 1.02-.2 1.41-.59l7.78-7.78 2.81-2.81c.8-.78.8-2.07 0-2.86zM5.41 20L4 18.59l7.72-7.72 1.47 1.35L5.41 20z\"/>\n",
              "  </svg>\n",
              "      </button>\n",
              "      \n",
              "  <style>\n",
              "    .colab-df-container {\n",
              "      display:flex;\n",
              "      flex-wrap:wrap;\n",
              "      gap: 12px;\n",
              "    }\n",
              "\n",
              "    .colab-df-convert {\n",
              "      background-color: #E8F0FE;\n",
              "      border: none;\n",
              "      border-radius: 50%;\n",
              "      cursor: pointer;\n",
              "      display: none;\n",
              "      fill: #1967D2;\n",
              "      height: 32px;\n",
              "      padding: 0 0 0 0;\n",
              "      width: 32px;\n",
              "    }\n",
              "\n",
              "    .colab-df-convert:hover {\n",
              "      background-color: #E2EBFA;\n",
              "      box-shadow: 0px 1px 2px rgba(60, 64, 67, 0.3), 0px 1px 3px 1px rgba(60, 64, 67, 0.15);\n",
              "      fill: #174EA6;\n",
              "    }\n",
              "\n",
              "    [theme=dark] .colab-df-convert {\n",
              "      background-color: #3B4455;\n",
              "      fill: #D2E3FC;\n",
              "    }\n",
              "\n",
              "    [theme=dark] .colab-df-convert:hover {\n",
              "      background-color: #434B5C;\n",
              "      box-shadow: 0px 1px 3px 1px rgba(0, 0, 0, 0.15);\n",
              "      filter: drop-shadow(0px 1px 2px rgba(0, 0, 0, 0.3));\n",
              "      fill: #FFFFFF;\n",
              "    }\n",
              "  </style>\n",
              "\n",
              "      <script>\n",
              "        const buttonEl =\n",
              "          document.querySelector('#df-3f7ce465-5878-49b9-ba14-297147a43c44 button.colab-df-convert');\n",
              "        buttonEl.style.display =\n",
              "          google.colab.kernel.accessAllowed ? 'block' : 'none';\n",
              "\n",
              "        async function convertToInteractive(key) {\n",
              "          const element = document.querySelector('#df-3f7ce465-5878-49b9-ba14-297147a43c44');\n",
              "          const dataTable =\n",
              "            await google.colab.kernel.invokeFunction('convertToInteractive',\n",
              "                                                     [key], {});\n",
              "          if (!dataTable) return;\n",
              "\n",
              "          const docLinkHtml = 'Like what you see? Visit the ' +\n",
              "            '<a target=\"_blank\" href=https://colab.research.google.com/notebooks/data_table.ipynb>data table notebook</a>'\n",
              "            + ' to learn more about interactive tables.';\n",
              "          element.innerHTML = '';\n",
              "          dataTable['output_type'] = 'display_data';\n",
              "          await google.colab.output.renderOutput(dataTable, element);\n",
              "          const docLink = document.createElement('div');\n",
              "          docLink.innerHTML = docLinkHtml;\n",
              "          element.appendChild(docLink);\n",
              "        }\n",
              "      </script>\n",
              "    </div>\n",
              "  </div>\n",
              "  "
            ]
          },
          "metadata": {},
          "execution_count": 14
        }
      ]
    },
    {
      "cell_type": "code",
      "source": [
        "df.loc[(df['quest_num'] == 2967)]"
      ],
      "metadata": {
        "colab": {
          "base_uri": "https://localhost:8080/",
          "height": 363
        },
        "id": "Vvr1f7mGzoE9",
        "outputId": "d10d366d-8f43-4cc7-e3f5-5316905510c4"
      },
      "execution_count": 15,
      "outputs": [
        {
          "output_type": "execute_result",
          "data": {
            "text/plain": [
              "       quest_num      label      word pos   entity\n",
              "24733       2967  o-outside      find   o  outside\n",
              "24734       2967  o-outside         a   o  outside\n",
              "24735       2967  b-trailer   preview   b  trailer\n",
              "24736       2967  o-outside       for   o  outside\n",
              "24737       2967  o-outside       the   o  outside\n",
              "24738       2967  o-outside     movie   o  outside\n",
              "24739       2967    b-title       the   b    title\n",
              "24740       2967    i-title      guns   i    title\n",
              "24741       2967    i-title        of   i    title\n",
              "24742       2967    i-title  navarone   i    title"
            ],
            "text/html": [
              "\n",
              "  <div id=\"df-3877a043-5b38-4e37-ad02-ccbebf05cde5\">\n",
              "    <div class=\"colab-df-container\">\n",
              "      <div>\n",
              "<style scoped>\n",
              "    .dataframe tbody tr th:only-of-type {\n",
              "        vertical-align: middle;\n",
              "    }\n",
              "\n",
              "    .dataframe tbody tr th {\n",
              "        vertical-align: top;\n",
              "    }\n",
              "\n",
              "    .dataframe thead th {\n",
              "        text-align: right;\n",
              "    }\n",
              "</style>\n",
              "<table border=\"1\" class=\"dataframe\">\n",
              "  <thead>\n",
              "    <tr style=\"text-align: right;\">\n",
              "      <th></th>\n",
              "      <th>quest_num</th>\n",
              "      <th>label</th>\n",
              "      <th>word</th>\n",
              "      <th>pos</th>\n",
              "      <th>entity</th>\n",
              "    </tr>\n",
              "  </thead>\n",
              "  <tbody>\n",
              "    <tr>\n",
              "      <th>24733</th>\n",
              "      <td>2967</td>\n",
              "      <td>o-outside</td>\n",
              "      <td>find</td>\n",
              "      <td>o</td>\n",
              "      <td>outside</td>\n",
              "    </tr>\n",
              "    <tr>\n",
              "      <th>24734</th>\n",
              "      <td>2967</td>\n",
              "      <td>o-outside</td>\n",
              "      <td>a</td>\n",
              "      <td>o</td>\n",
              "      <td>outside</td>\n",
              "    </tr>\n",
              "    <tr>\n",
              "      <th>24735</th>\n",
              "      <td>2967</td>\n",
              "      <td>b-trailer</td>\n",
              "      <td>preview</td>\n",
              "      <td>b</td>\n",
              "      <td>trailer</td>\n",
              "    </tr>\n",
              "    <tr>\n",
              "      <th>24736</th>\n",
              "      <td>2967</td>\n",
              "      <td>o-outside</td>\n",
              "      <td>for</td>\n",
              "      <td>o</td>\n",
              "      <td>outside</td>\n",
              "    </tr>\n",
              "    <tr>\n",
              "      <th>24737</th>\n",
              "      <td>2967</td>\n",
              "      <td>o-outside</td>\n",
              "      <td>the</td>\n",
              "      <td>o</td>\n",
              "      <td>outside</td>\n",
              "    </tr>\n",
              "    <tr>\n",
              "      <th>24738</th>\n",
              "      <td>2967</td>\n",
              "      <td>o-outside</td>\n",
              "      <td>movie</td>\n",
              "      <td>o</td>\n",
              "      <td>outside</td>\n",
              "    </tr>\n",
              "    <tr>\n",
              "      <th>24739</th>\n",
              "      <td>2967</td>\n",
              "      <td>b-title</td>\n",
              "      <td>the</td>\n",
              "      <td>b</td>\n",
              "      <td>title</td>\n",
              "    </tr>\n",
              "    <tr>\n",
              "      <th>24740</th>\n",
              "      <td>2967</td>\n",
              "      <td>i-title</td>\n",
              "      <td>guns</td>\n",
              "      <td>i</td>\n",
              "      <td>title</td>\n",
              "    </tr>\n",
              "    <tr>\n",
              "      <th>24741</th>\n",
              "      <td>2967</td>\n",
              "      <td>i-title</td>\n",
              "      <td>of</td>\n",
              "      <td>i</td>\n",
              "      <td>title</td>\n",
              "    </tr>\n",
              "    <tr>\n",
              "      <th>24742</th>\n",
              "      <td>2967</td>\n",
              "      <td>i-title</td>\n",
              "      <td>navarone</td>\n",
              "      <td>i</td>\n",
              "      <td>title</td>\n",
              "    </tr>\n",
              "  </tbody>\n",
              "</table>\n",
              "</div>\n",
              "      <button class=\"colab-df-convert\" onclick=\"convertToInteractive('df-3877a043-5b38-4e37-ad02-ccbebf05cde5')\"\n",
              "              title=\"Convert this dataframe to an interactive table.\"\n",
              "              style=\"display:none;\">\n",
              "        \n",
              "  <svg xmlns=\"http://www.w3.org/2000/svg\" height=\"24px\"viewBox=\"0 0 24 24\"\n",
              "       width=\"24px\">\n",
              "    <path d=\"M0 0h24v24H0V0z\" fill=\"none\"/>\n",
              "    <path d=\"M18.56 5.44l.94 2.06.94-2.06 2.06-.94-2.06-.94-.94-2.06-.94 2.06-2.06.94zm-11 1L8.5 8.5l.94-2.06 2.06-.94-2.06-.94L8.5 2.5l-.94 2.06-2.06.94zm10 10l.94 2.06.94-2.06 2.06-.94-2.06-.94-.94-2.06-.94 2.06-2.06.94z\"/><path d=\"M17.41 7.96l-1.37-1.37c-.4-.4-.92-.59-1.43-.59-.52 0-1.04.2-1.43.59L10.3 9.45l-7.72 7.72c-.78.78-.78 2.05 0 2.83L4 21.41c.39.39.9.59 1.41.59.51 0 1.02-.2 1.41-.59l7.78-7.78 2.81-2.81c.8-.78.8-2.07 0-2.86zM5.41 20L4 18.59l7.72-7.72 1.47 1.35L5.41 20z\"/>\n",
              "  </svg>\n",
              "      </button>\n",
              "      \n",
              "  <style>\n",
              "    .colab-df-container {\n",
              "      display:flex;\n",
              "      flex-wrap:wrap;\n",
              "      gap: 12px;\n",
              "    }\n",
              "\n",
              "    .colab-df-convert {\n",
              "      background-color: #E8F0FE;\n",
              "      border: none;\n",
              "      border-radius: 50%;\n",
              "      cursor: pointer;\n",
              "      display: none;\n",
              "      fill: #1967D2;\n",
              "      height: 32px;\n",
              "      padding: 0 0 0 0;\n",
              "      width: 32px;\n",
              "    }\n",
              "\n",
              "    .colab-df-convert:hover {\n",
              "      background-color: #E2EBFA;\n",
              "      box-shadow: 0px 1px 2px rgba(60, 64, 67, 0.3), 0px 1px 3px 1px rgba(60, 64, 67, 0.15);\n",
              "      fill: #174EA6;\n",
              "    }\n",
              "\n",
              "    [theme=dark] .colab-df-convert {\n",
              "      background-color: #3B4455;\n",
              "      fill: #D2E3FC;\n",
              "    }\n",
              "\n",
              "    [theme=dark] .colab-df-convert:hover {\n",
              "      background-color: #434B5C;\n",
              "      box-shadow: 0px 1px 3px 1px rgba(0, 0, 0, 0.15);\n",
              "      filter: drop-shadow(0px 1px 2px rgba(0, 0, 0, 0.3));\n",
              "      fill: #FFFFFF;\n",
              "    }\n",
              "  </style>\n",
              "\n",
              "      <script>\n",
              "        const buttonEl =\n",
              "          document.querySelector('#df-3877a043-5b38-4e37-ad02-ccbebf05cde5 button.colab-df-convert');\n",
              "        buttonEl.style.display =\n",
              "          google.colab.kernel.accessAllowed ? 'block' : 'none';\n",
              "\n",
              "        async function convertToInteractive(key) {\n",
              "          const element = document.querySelector('#df-3877a043-5b38-4e37-ad02-ccbebf05cde5');\n",
              "          const dataTable =\n",
              "            await google.colab.kernel.invokeFunction('convertToInteractive',\n",
              "                                                     [key], {});\n",
              "          if (!dataTable) return;\n",
              "\n",
              "          const docLinkHtml = 'Like what you see? Visit the ' +\n",
              "            '<a target=\"_blank\" href=https://colab.research.google.com/notebooks/data_table.ipynb>data table notebook</a>'\n",
              "            + ' to learn more about interactive tables.';\n",
              "          element.innerHTML = '';\n",
              "          dataTable['output_type'] = 'display_data';\n",
              "          await google.colab.output.renderOutput(dataTable, element);\n",
              "          const docLink = document.createElement('div');\n",
              "          docLink.innerHTML = docLinkHtml;\n",
              "          element.appendChild(docLink);\n",
              "        }\n",
              "      </script>\n",
              "    </div>\n",
              "  </div>\n",
              "  "
            ]
          },
          "metadata": {},
          "execution_count": 15
        }
      ]
    },
    {
      "cell_type": "markdown",
      "source": [
        "### 3.3 Identify the total number of questions - (9775)"
      ],
      "metadata": {
        "id": "SEExtXZVxEm7"
      }
    },
    {
      "cell_type": "code",
      "source": [
        "df['quest_num'].max()"
      ],
      "metadata": {
        "colab": {
          "base_uri": "https://localhost:8080/"
        },
        "id": "kRKKOTu_vthd",
        "outputId": "88017736-34de-42bc-d255-9aaa08049aa9"
      },
      "execution_count": 16,
      "outputs": [
        {
          "output_type": "execute_result",
          "data": {
            "text/plain": [
              "9775"
            ]
          },
          "metadata": {},
          "execution_count": 16
        }
      ]
    },
    {
      "cell_type": "markdown",
      "source": [
        "### 3.4 Create Single Entities from Component Words\n",
        "\n",
        "BIO breaks entities up into beginning and intermediate pieces.  The below reassemblies the pieces into one entity.  Purpose is to understand the scope of the data set."
      ],
      "metadata": {
        "id": "pBCrP3QaSQ98"
      }
    },
    {
      "cell_type": "code",
      "source": [
        "' '.join(df.loc[(df['quest_num'] == 2440)\n",
        "        & (df['label'] == 'CHARACTER'), 'word'].tolist())"
      ],
      "metadata": {
        "colab": {
          "base_uri": "https://localhost:8080/",
          "height": 36
        },
        "id": "KmCRGfSCyoKg",
        "outputId": "ed4fa419-f956-4067-fea4-a87f06eab046"
      },
      "execution_count": 17,
      "outputs": [
        {
          "output_type": "execute_result",
          "data": {
            "text/plain": [
              "''"
            ],
            "application/vnd.google.colaboratory.intrinsic+json": {
              "type": "string"
            }
          },
          "metadata": {},
          "execution_count": 17
        }
      ]
    },
    {
      "cell_type": "code",
      "source": [
        "df.loc[df['label'] == 'CHARACTER', 'quest_num'].unique()"
      ],
      "metadata": {
        "colab": {
          "base_uri": "https://localhost:8080/"
        },
        "id": "BAA5a9Oa1t_B",
        "outputId": "0663adcd-9295-41dd-dc24-6253385464ae"
      },
      "execution_count": 18,
      "outputs": [
        {
          "output_type": "execute_result",
          "data": {
            "text/plain": [
              "array([], dtype=int64)"
            ]
          },
          "metadata": {},
          "execution_count": 18
        }
      ]
    },
    {
      "cell_type": "code",
      "source": [
        "l_entities = list(df['entity'].unique())\n",
        "l_entities.remove('outside')\n",
        "l_entities"
      ],
      "metadata": {
        "colab": {
          "base_uri": "https://localhost:8080/"
        },
        "id": "oxouJ9ooL5QJ",
        "outputId": "18ffc508-36bf-4053-a451-920af0165c77"
      },
      "execution_count": 19,
      "outputs": [
        {
          "output_type": "execute_result",
          "data": {
            "text/plain": [
              "['actor',\n",
              " 'year',\n",
              " 'title',\n",
              " 'genre',\n",
              " 'director',\n",
              " 'song',\n",
              " 'plot',\n",
              " 'review',\n",
              " 'character',\n",
              " 'rating',\n",
              " 'ratings_average',\n",
              " 'trailer']"
            ]
          },
          "metadata": {},
          "execution_count": 19
        }
      ]
    },
    {
      "cell_type": "code",
      "source": [
        "df_label = merge_entity_components_into_one(df,l_entities )"
      ],
      "metadata": {
        "id": "gZDiuboKNhPs"
      },
      "execution_count": 20,
      "outputs": []
    },
    {
      "cell_type": "code",
      "source": [
        "df_label.entity.value_counts()"
      ],
      "metadata": {
        "colab": {
          "base_uri": "https://localhost:8080/"
        },
        "id": "PHpFRSWzQz7d",
        "outputId": "ecc40d28-f67a-4a04-b0bd-b1c303fa4030"
      },
      "execution_count": 21,
      "outputs": [
        {
          "output_type": "execute_result",
          "data": {
            "text/plain": [
              "genre              4341\n",
              "actor              3080\n",
              "year               2854\n",
              "title              2371\n",
              "rating             2000\n",
              "plot               1896\n",
              "ratings_average    1868\n",
              "director           1711\n",
              "character           361\n",
              "song                235\n",
              "review              218\n",
              "trailer             113\n",
              "Name: entity, dtype: int64"
            ]
          },
          "metadata": {},
          "execution_count": 21
        }
      ]
    },
    {
      "cell_type": "code",
      "source": [
        "for entity in l_entities:\n",
        "    print((df_label[df_label['entity'] == entity].value_counts()).sort_index()[:20], '\\n\\n')"
      ],
      "metadata": {
        "colab": {
          "base_uri": "https://localhost:8080/"
        },
        "id": "G1kNH0st4HXf",
        "outputId": "e7bdf846-2287-4f06-f71c-d351087a49ed"
      },
      "execution_count": 22,
      "outputs": [
        {
          "output_type": "stream",
          "name": "stdout",
          "text": [
            "entity  word                   \n",
            "actor   2pac shakur                 1\n",
            "        a j langer                  1\n",
            "        aaliyah                     1\n",
            "        aaron kwok                  2\n",
            "        acted                       1\n",
            "        actor                       4\n",
            "        actors                      1\n",
            "        adam sandler               16\n",
            "        adam sandlers               1\n",
            "        adam storke                 1\n",
            "        adrian pasdar               1\n",
            "        african american actor      1\n",
            "        aidan quinn                 4\n",
            "        al lewis                    1\n",
            "        al pacimp robert deniro     1\n",
            "        al pacino                  14\n",
            "        al pacino robert deniro     1\n",
            "        al pacinos                  1\n",
            "        alan alda                   2\n",
            "        alan aldas                  1\n",
            "dtype: int64 \n",
            "\n",
            "\n",
            "entity  word     \n",
            "year    1800s          1\n",
            "        1900s          1\n",
            "        1920s          1\n",
            "        1930           2\n",
            "        1930s          5\n",
            "        1933           1\n",
            "        1939           1\n",
            "        1940          67\n",
            "        1940 1960      1\n",
            "        1940 1970      1\n",
            "        1940 s        55\n",
            "        1940s          6\n",
            "        1941           1\n",
            "        1943           1\n",
            "        1944           1\n",
            "        1945           1\n",
            "        1947           1\n",
            "        1950          60\n",
            "        1950 s       102\n",
            "        1950s          8\n",
            "dtype: int64 \n",
            "\n",
            "\n",
            "entity  word                       \n",
            "title   12 angry men                   2\n",
            "        12 monkeys                     1\n",
            "        13 assassins                   1\n",
            "        2 minutes later                1\n",
            "        20000 leagues under the sea    1\n",
            "        2001 a space odyssey           7\n",
            "        2012 ice age                   1\n",
            "        2081                           1\n",
            "        21 jump street                 4\n",
            "        24                             1\n",
            "        24 hour party people           1\n",
            "        28 days                        1\n",
            "        28 days later                  1\n",
            "        3 backyards                    1\n",
            "        300                            3\n",
            "        500 days of summer             1\n",
            "        8 mile                         1\n",
            "        8 mm 2                         1\n",
            "        9                              1\n",
            "        964 pinocchio                  2\n",
            "dtype: int64 \n",
            "\n",
            "\n",
            "entity  word              \n",
            "genre   1950s                   1\n",
            "        3d animated             1\n",
            "        3d movies               1\n",
            "        a spy film              1\n",
            "        actin                   1\n",
            "        action                240\n",
            "        action adventure        3\n",
            "        action comedy           1\n",
            "        action drama            1\n",
            "        action film             1\n",
            "        action movie            2\n",
            "        action movies           3\n",
            "        action picture          1\n",
            "        action romance          1\n",
            "        action scenes           1\n",
            "        action suspense         2\n",
            "        actions                 1\n",
            "        actionsci fi            1\n",
            "        adult disney            1\n",
            "        adult horror movie      1\n",
            "dtype: int64 \n",
            "\n",
            "\n",
            "entity    word              \n",
            "director  a f silver            1\n",
            "          aaron sorkin          1\n",
            "          adam barnick          1\n",
            "          adam fields           1\n",
            "          adam sandler          1\n",
            "          adam warren           1\n",
            "          adam wimpenny         1\n",
            "          adrian vitoria        1\n",
            "          akira kurosawa        7\n",
            "          akira kurusawas       1\n",
            "          alan g parker         1\n",
            "          alan j pakula         1\n",
            "          alberto cavalcanti    1\n",
            "          alex chapple          2\n",
            "          alex de rakoff        1\n",
            "          alex gibney           1\n",
            "          alex proyas           1\n",
            "          alex steyermark       1\n",
            "          alexander hall        1\n",
            "          alexander williams    1\n",
            "dtype: int64 \n",
            "\n",
            "\n",
            "entity  word                                     \n",
            "song    1971 smashing pumpkins                       1\n",
            "        300                                          1\n",
            "        a few of my favorite things                  1\n",
            "        a whole new world                            2\n",
            "        abba                                         1\n",
            "        aerosmith                                    1\n",
            "        all 70s music in the soundtrack              1\n",
            "        all i want is love                           1\n",
            "        all my loving                                1\n",
            "        all that jazz                                1\n",
            "        animal crackers in my soup                   1\n",
            "        as time goes by                              1\n",
            "        band appeared in the movie empire records    1\n",
            "        banjo                                        1\n",
            "        be our guest                                 1\n",
            "        beatles songs                                1\n",
            "        beatles soundtrack                           1\n",
            "        because you loved me                         1\n",
            "        bernard herman                               1\n",
            "        best of friends                              1\n",
            "dtype: int64 \n",
            "\n",
            "\n",
            "entity  word                               \n",
            "plot    18 th century                          2\n",
            "        1800 s                                 1\n",
            "        1930 s                                 1\n",
            "        1930s dance marathon                   1\n",
            "        1940 s                                 2\n",
            "        1960 s                                 2\n",
            "        1974 sid and marty krofft tv series    1\n",
            "        200s star                              1\n",
            "        3 or more superheroes                  1\n",
            "        3d movies                              1\n",
            "        911 united airlines plane              1\n",
            "        a bag of money                         1\n",
            "        a barber                               1\n",
            "        a beatles parody                       1\n",
            "        a boys school in france during wwii    1\n",
            "        a family at christmas                  1\n",
            "        a loser hockey team                    1\n",
            "        a mathematics professor                1\n",
            "        a murder trial                         1\n",
            "        a nun in the belgian congo             1\n",
            "dtype: int64 \n",
            "\n",
            "\n",
            "entity  word                            \n",
            "review  about                                2\n",
            "        academy award winning perfrmance     1\n",
            "        any good                             2\n",
            "        appropriate                          1\n",
            "        awful movie                          1\n",
            "        bad critic reviews                   1\n",
            "        banned                               1\n",
            "        best                                25\n",
            "        best actor                           1\n",
            "        best film                            1\n",
            "        best films                           1\n",
            "        best movie                           1\n",
            "        best movie roles                     1\n",
            "        best reviewed                        1\n",
            "        best trilogies to watch              1\n",
            "        better                               1\n",
            "        big                                  1\n",
            "        blockbuster                          1\n",
            "        box office hits                      1\n",
            "        classic                              6\n",
            "dtype: int64 \n",
            "\n",
            "\n",
            "entity     word                                       \n",
            "character  007                                            1\n",
            "           a dark lead character                          1\n",
            "           abu                                            1\n",
            "           achilles                                       1\n",
            "           agent j                                        1\n",
            "           agent smith                                    1\n",
            "           allie hamilton                                 1\n",
            "           amber waves                                    1\n",
            "           an assasin who married another hired killer    1\n",
            "           animal                                         1\n",
            "           animated fish                                  1\n",
            "           annette                                        1\n",
            "           aragorn                                        1\n",
            "           ariel                                          1\n",
            "           ash                                            1\n",
            "           asian main characters                          1\n",
            "           austin powers                                  2\n",
            "           batman                                         3\n",
            "           batman bane                                    1\n",
            "           batman the flash                               1\n",
            "dtype: int64 \n",
            "\n",
            "\n",
            "entity  word                                      \n",
            "rating  arent rated r                                   1\n",
            "        childrens                                       1\n",
            "        family                                          1\n",
            "        family friendly                                 1\n",
            "        g                                             212\n",
            "        g rated                                        14\n",
            "        g rated pg                                      1\n",
            "        g rating                                        3\n",
            "        highest rated                                   1\n",
            "        i want a historic drama with a pg13 rating      1\n",
            "        low rating                                      1\n",
            "        mpaa                                            3\n",
            "        mpaa rating                                     5\n",
            "        mpaa rating for the babe                        1\n",
            "        mpaa rating over tv ma                          1\n",
            "        mpaa rating tv ma                               1\n",
            "        nc 17                                         150\n",
            "        nc 17 rating                                    1\n",
            "        nc17                                            1\n",
            "        not rated r                                     2\n",
            "dtype: int64 \n",
            "\n",
            "\n",
            "entity           word                    \n",
            "ratings_average  1980s                        1\n",
            "                 2 star ratings               1\n",
            "                 3 star rating                1\n",
            "                 5 star                       1\n",
            "                 5 stars                      1\n",
            "                 5 stars rating               1\n",
            "                 a must see                   1\n",
            "                 according to the viewers     1\n",
            "                 all right                   40\n",
            "                 atleast 3 stars              1\n",
            "                 audiences                    1\n",
            "                 average                     77\n",
            "                 average viewer rating        1\n",
            "                 award                        1\n",
            "                 award winning                4\n",
            "                 b                            1\n",
            "                 best                         4\n",
            "                 best picture                 5\n",
            "                 best rating                  1\n",
            "                 best review                  1\n",
            "dtype: int64 \n",
            "\n",
            "\n",
            "entity   word                \n",
            "trailer  clip                     1\n",
            "         clips                    5\n",
            "         glimpse                  1\n",
            "         highlights               1\n",
            "         preview                 20\n",
            "         previews                 1\n",
            "         review                   1\n",
            "         scene                    1\n",
            "         scenes                   1\n",
            "         shogun movie trailer     1\n",
            "         shortest trailer         1\n",
            "         snippets                 1\n",
            "         some part                1\n",
            "         star wars                1\n",
            "         teaser trailer           1\n",
            "         theme song               1\n",
            "         trailer                 70\n",
            "         trailerfor               1\n",
            "         trailers                 3\n",
            "dtype: int64 \n",
            "\n",
            "\n"
          ]
        }
      ]
    },
    {
      "cell_type": "markdown",
      "source": [
        "## 4. Repeat the above steps with each for each of the datasets"
      ],
      "metadata": {
        "id": "agI5BC7JUk98"
      }
    },
    {
      "cell_type": "code",
      "source": [
        "dict_dfs = {}\n",
        "dict_label_dfs = {}\n",
        "\n",
        "for url, f_name in l_data_urls_and_filenames:\n",
        "    print(f_name)\n",
        "    dict_dfs[('df_'+ f_name.split('.')[0])] = pd.read_csv(f_name, sep='\\t', names=['quest_num', 'label', 'word'])\n",
        "    dict_dfs[('df_'+ f_name.split('.')[0])] = separate_label_into_pos_and_entity_components(dict_dfs[('df_'+ f_name.split('.')[0])])\n",
        "    print('\\n','Number of Questions: ', dict_dfs[('df_'+ f_name.split('.')[0])]['quest_num'].max(),'\\n', sep='')\n",
        "    l_entities = list(dict_dfs[('df_'+ f_name.split('.')[0])]['entity'].unique())\n",
        "    l_entities.remove('outside')\n",
        "    dict_label_dfs[('df_label_'+ f_name.split('.')[0])]= merge_entity_components_into_one(dict_dfs[('df_'+ f_name.split('.')[0])],l_entities )\n",
        "    print('\\n', dict_label_dfs[('df_label_'+ f_name.split('.')[0])].entity.value_counts(), '\\n\\n\\n', sep='')"
      ],
      "metadata": {
        "id": "sfwIlVzzS3Om",
        "colab": {
          "base_uri": "https://localhost:8080/"
        },
        "outputId": "47b57d85-c0de-4c0a-f427-f3b429b5223e"
      },
      "execution_count": 23,
      "outputs": [
        {
          "output_type": "stream",
          "name": "stdout",
          "text": [
            "eng_train.bio\n",
            "\n",
            "Number of Questions: 9775\n",
            "\n",
            "\n",
            "genre              4341\n",
            "actor              3080\n",
            "year               2854\n",
            "title              2371\n",
            "rating             2000\n",
            "plot               1896\n",
            "ratings_average    1868\n",
            "director           1711\n",
            "character           361\n",
            "song                235\n",
            "review              218\n",
            "trailer             113\n",
            "Name: entity, dtype: int64\n",
            "\n",
            "\n",
            "\n",
            "eng_test.bio\n",
            "\n",
            "Number of Questions: 2443\n",
            "\n",
            "\n",
            "genre              1115\n",
            "actor               763\n",
            "year                719\n",
            "title               562\n",
            "rating              498\n",
            "plot                487\n",
            "director            456\n",
            "ratings_average     449\n",
            "character            85\n",
            "review               54\n",
            "song                 51\n",
            "trailer              30\n",
            "Name: entity, dtype: int64\n",
            "\n",
            "\n",
            "\n",
            "trivia_train.bio\n",
            "\n",
            "Number of Questions: 7816\n",
            "\n",
            "\n",
            "plot              5980\n",
            "actor             3627\n",
            "genre             3297\n",
            "year              2688\n",
            "director          1742\n",
            "character_name     812\n",
            "opinion            766\n",
            "origin             731\n",
            "relationship       524\n",
            "award              261\n",
            "quote              120\n",
            "soundtrack          46\n",
            "Name: entity, dtype: int64\n",
            "\n",
            "\n",
            "\n",
            "trivia_test.bio\n",
            "\n",
            "Number of Questions: 1953\n",
            "\n",
            "\n",
            "plot              1459\n",
            "actor              944\n",
            "genre              780\n",
            "year               655\n",
            "director           415\n",
            "character_name     225\n",
            "opinion            190\n",
            "origin             178\n",
            "relationship       147\n",
            "award               54\n",
            "quote               43\n",
            "soundtrack           7\n",
            "Name: entity, dtype: int64\n",
            "\n",
            "\n",
            "\n"
          ]
        }
      ]
    },
    {
      "cell_type": "code",
      "source": [
        "df.shape"
      ],
      "metadata": {
        "colab": {
          "base_uri": "https://localhost:8080/"
        },
        "id": "XoT5RrrDWPM5",
        "outputId": "a3984a09-4866-4104-dcb6-062888984162"
      },
      "execution_count": 24,
      "outputs": [
        {
          "output_type": "execute_result",
          "data": {
            "text/plain": [
              "(99491, 5)"
            ]
          },
          "metadata": {},
          "execution_count": 24
        }
      ]
    },
    {
      "cell_type": "code",
      "source": [
        "dict_label_dfs.keys()"
      ],
      "metadata": {
        "colab": {
          "base_uri": "https://localhost:8080/"
        },
        "id": "2pVpEjoAdz8F",
        "outputId": "254ea78b-9400-4109-feb8-4b4655169c4c"
      },
      "execution_count": 25,
      "outputs": [
        {
          "output_type": "execute_result",
          "data": {
            "text/plain": [
              "dict_keys(['df_label_eng_train', 'df_label_eng_test', 'df_label_trivia_train', 'df_label_trivia_test'])"
            ]
          },
          "metadata": {},
          "execution_count": 25
        }
      ]
    },
    {
      "cell_type": "code",
      "source": [
        "dict_label_dfs['df_label_trivia_train']"
      ],
      "metadata": {
        "colab": {
          "base_uri": "https://localhost:8080/",
          "height": 423
        },
        "id": "8b8qxLKEdn9e",
        "outputId": "272318dd-564f-47e0-933a-3ae4ae030340"
      },
      "execution_count": 26,
      "outputs": [
        {
          "output_type": "execute_result",
          "data": {
            "text/plain": [
              "     entity                                               word\n",
              "1     actor                                      steve mcqueen\n",
              "2     actor                            liza minnelli joel gray\n",
              "3     actor                            tom hanks julia roberts\n",
              "6     actor                                         mel gibson\n",
              "9     actor                          julie andre dick van dyke\n",
              "...     ...                                                ...\n",
              "7640  quote                         it put s the fu in kung fu\n",
              "7763  quote                                        make my day\n",
              "7775  quote             the first rule is to not talk about it\n",
              "7800  quote  why were the pacifists so easily turned to mur...\n",
              "7811  quote  you know the prefects bathroom on the fifth fl...\n",
              "\n",
              "[20594 rows x 2 columns]"
            ],
            "text/html": [
              "\n",
              "  <div id=\"df-839caf4e-7cda-4fd1-aee3-528e518fb4ac\">\n",
              "    <div class=\"colab-df-container\">\n",
              "      <div>\n",
              "<style scoped>\n",
              "    .dataframe tbody tr th:only-of-type {\n",
              "        vertical-align: middle;\n",
              "    }\n",
              "\n",
              "    .dataframe tbody tr th {\n",
              "        vertical-align: top;\n",
              "    }\n",
              "\n",
              "    .dataframe thead th {\n",
              "        text-align: right;\n",
              "    }\n",
              "</style>\n",
              "<table border=\"1\" class=\"dataframe\">\n",
              "  <thead>\n",
              "    <tr style=\"text-align: right;\">\n",
              "      <th></th>\n",
              "      <th>entity</th>\n",
              "      <th>word</th>\n",
              "    </tr>\n",
              "  </thead>\n",
              "  <tbody>\n",
              "    <tr>\n",
              "      <th>1</th>\n",
              "      <td>actor</td>\n",
              "      <td>steve mcqueen</td>\n",
              "    </tr>\n",
              "    <tr>\n",
              "      <th>2</th>\n",
              "      <td>actor</td>\n",
              "      <td>liza minnelli joel gray</td>\n",
              "    </tr>\n",
              "    <tr>\n",
              "      <th>3</th>\n",
              "      <td>actor</td>\n",
              "      <td>tom hanks julia roberts</td>\n",
              "    </tr>\n",
              "    <tr>\n",
              "      <th>6</th>\n",
              "      <td>actor</td>\n",
              "      <td>mel gibson</td>\n",
              "    </tr>\n",
              "    <tr>\n",
              "      <th>9</th>\n",
              "      <td>actor</td>\n",
              "      <td>julie andre dick van dyke</td>\n",
              "    </tr>\n",
              "    <tr>\n",
              "      <th>...</th>\n",
              "      <td>...</td>\n",
              "      <td>...</td>\n",
              "    </tr>\n",
              "    <tr>\n",
              "      <th>7640</th>\n",
              "      <td>quote</td>\n",
              "      <td>it put s the fu in kung fu</td>\n",
              "    </tr>\n",
              "    <tr>\n",
              "      <th>7763</th>\n",
              "      <td>quote</td>\n",
              "      <td>make my day</td>\n",
              "    </tr>\n",
              "    <tr>\n",
              "      <th>7775</th>\n",
              "      <td>quote</td>\n",
              "      <td>the first rule is to not talk about it</td>\n",
              "    </tr>\n",
              "    <tr>\n",
              "      <th>7800</th>\n",
              "      <td>quote</td>\n",
              "      <td>why were the pacifists so easily turned to mur...</td>\n",
              "    </tr>\n",
              "    <tr>\n",
              "      <th>7811</th>\n",
              "      <td>quote</td>\n",
              "      <td>you know the prefects bathroom on the fifth fl...</td>\n",
              "    </tr>\n",
              "  </tbody>\n",
              "</table>\n",
              "<p>20594 rows × 2 columns</p>\n",
              "</div>\n",
              "      <button class=\"colab-df-convert\" onclick=\"convertToInteractive('df-839caf4e-7cda-4fd1-aee3-528e518fb4ac')\"\n",
              "              title=\"Convert this dataframe to an interactive table.\"\n",
              "              style=\"display:none;\">\n",
              "        \n",
              "  <svg xmlns=\"http://www.w3.org/2000/svg\" height=\"24px\"viewBox=\"0 0 24 24\"\n",
              "       width=\"24px\">\n",
              "    <path d=\"M0 0h24v24H0V0z\" fill=\"none\"/>\n",
              "    <path d=\"M18.56 5.44l.94 2.06.94-2.06 2.06-.94-2.06-.94-.94-2.06-.94 2.06-2.06.94zm-11 1L8.5 8.5l.94-2.06 2.06-.94-2.06-.94L8.5 2.5l-.94 2.06-2.06.94zm10 10l.94 2.06.94-2.06 2.06-.94-2.06-.94-.94-2.06-.94 2.06-2.06.94z\"/><path d=\"M17.41 7.96l-1.37-1.37c-.4-.4-.92-.59-1.43-.59-.52 0-1.04.2-1.43.59L10.3 9.45l-7.72 7.72c-.78.78-.78 2.05 0 2.83L4 21.41c.39.39.9.59 1.41.59.51 0 1.02-.2 1.41-.59l7.78-7.78 2.81-2.81c.8-.78.8-2.07 0-2.86zM5.41 20L4 18.59l7.72-7.72 1.47 1.35L5.41 20z\"/>\n",
              "  </svg>\n",
              "      </button>\n",
              "      \n",
              "  <style>\n",
              "    .colab-df-container {\n",
              "      display:flex;\n",
              "      flex-wrap:wrap;\n",
              "      gap: 12px;\n",
              "    }\n",
              "\n",
              "    .colab-df-convert {\n",
              "      background-color: #E8F0FE;\n",
              "      border: none;\n",
              "      border-radius: 50%;\n",
              "      cursor: pointer;\n",
              "      display: none;\n",
              "      fill: #1967D2;\n",
              "      height: 32px;\n",
              "      padding: 0 0 0 0;\n",
              "      width: 32px;\n",
              "    }\n",
              "\n",
              "    .colab-df-convert:hover {\n",
              "      background-color: #E2EBFA;\n",
              "      box-shadow: 0px 1px 2px rgba(60, 64, 67, 0.3), 0px 1px 3px 1px rgba(60, 64, 67, 0.15);\n",
              "      fill: #174EA6;\n",
              "    }\n",
              "\n",
              "    [theme=dark] .colab-df-convert {\n",
              "      background-color: #3B4455;\n",
              "      fill: #D2E3FC;\n",
              "    }\n",
              "\n",
              "    [theme=dark] .colab-df-convert:hover {\n",
              "      background-color: #434B5C;\n",
              "      box-shadow: 0px 1px 3px 1px rgba(0, 0, 0, 0.15);\n",
              "      filter: drop-shadow(0px 1px 2px rgba(0, 0, 0, 0.3));\n",
              "      fill: #FFFFFF;\n",
              "    }\n",
              "  </style>\n",
              "\n",
              "      <script>\n",
              "        const buttonEl =\n",
              "          document.querySelector('#df-839caf4e-7cda-4fd1-aee3-528e518fb4ac button.colab-df-convert');\n",
              "        buttonEl.style.display =\n",
              "          google.colab.kernel.accessAllowed ? 'block' : 'none';\n",
              "\n",
              "        async function convertToInteractive(key) {\n",
              "          const element = document.querySelector('#df-839caf4e-7cda-4fd1-aee3-528e518fb4ac');\n",
              "          const dataTable =\n",
              "            await google.colab.kernel.invokeFunction('convertToInteractive',\n",
              "                                                     [key], {});\n",
              "          if (!dataTable) return;\n",
              "\n",
              "          const docLinkHtml = 'Like what you see? Visit the ' +\n",
              "            '<a target=\"_blank\" href=https://colab.research.google.com/notebooks/data_table.ipynb>data table notebook</a>'\n",
              "            + ' to learn more about interactive tables.';\n",
              "          element.innerHTML = '';\n",
              "          dataTable['output_type'] = 'display_data';\n",
              "          await google.colab.output.renderOutput(dataTable, element);\n",
              "          const docLink = document.createElement('div');\n",
              "          docLink.innerHTML = docLinkHtml;\n",
              "          element.appendChild(docLink);\n",
              "        }\n",
              "      </script>\n",
              "    </div>\n",
              "  </div>\n",
              "  "
            ]
          },
          "metadata": {},
          "execution_count": 26
        }
      ]
    },
    {
      "cell_type": "code",
      "source": [
        "dict_dfs['df_eng_test'].head()"
      ],
      "metadata": {
        "colab": {
          "base_uri": "https://localhost:8080/",
          "height": 206
        },
        "id": "I2ZWg2SvY2Sd",
        "outputId": "63cd489f-e6d3-41fe-b90d-49ab436767d9"
      },
      "execution_count": 27,
      "outputs": [
        {
          "output_type": "execute_result",
          "data": {
            "text/plain": [
              "   quest_num      label      word pos   entity\n",
              "0          1  o-outside       are   o  outside\n",
              "1          1  o-outside     there   o  outside\n",
              "2          1  o-outside       any   o  outside\n",
              "3          1  o-outside      good   o  outside\n",
              "4          1    b-genre  romantic   b    genre"
            ],
            "text/html": [
              "\n",
              "  <div id=\"df-7e095a79-c370-43dd-a995-7b085e05c0b9\">\n",
              "    <div class=\"colab-df-container\">\n",
              "      <div>\n",
              "<style scoped>\n",
              "    .dataframe tbody tr th:only-of-type {\n",
              "        vertical-align: middle;\n",
              "    }\n",
              "\n",
              "    .dataframe tbody tr th {\n",
              "        vertical-align: top;\n",
              "    }\n",
              "\n",
              "    .dataframe thead th {\n",
              "        text-align: right;\n",
              "    }\n",
              "</style>\n",
              "<table border=\"1\" class=\"dataframe\">\n",
              "  <thead>\n",
              "    <tr style=\"text-align: right;\">\n",
              "      <th></th>\n",
              "      <th>quest_num</th>\n",
              "      <th>label</th>\n",
              "      <th>word</th>\n",
              "      <th>pos</th>\n",
              "      <th>entity</th>\n",
              "    </tr>\n",
              "  </thead>\n",
              "  <tbody>\n",
              "    <tr>\n",
              "      <th>0</th>\n",
              "      <td>1</td>\n",
              "      <td>o-outside</td>\n",
              "      <td>are</td>\n",
              "      <td>o</td>\n",
              "      <td>outside</td>\n",
              "    </tr>\n",
              "    <tr>\n",
              "      <th>1</th>\n",
              "      <td>1</td>\n",
              "      <td>o-outside</td>\n",
              "      <td>there</td>\n",
              "      <td>o</td>\n",
              "      <td>outside</td>\n",
              "    </tr>\n",
              "    <tr>\n",
              "      <th>2</th>\n",
              "      <td>1</td>\n",
              "      <td>o-outside</td>\n",
              "      <td>any</td>\n",
              "      <td>o</td>\n",
              "      <td>outside</td>\n",
              "    </tr>\n",
              "    <tr>\n",
              "      <th>3</th>\n",
              "      <td>1</td>\n",
              "      <td>o-outside</td>\n",
              "      <td>good</td>\n",
              "      <td>o</td>\n",
              "      <td>outside</td>\n",
              "    </tr>\n",
              "    <tr>\n",
              "      <th>4</th>\n",
              "      <td>1</td>\n",
              "      <td>b-genre</td>\n",
              "      <td>romantic</td>\n",
              "      <td>b</td>\n",
              "      <td>genre</td>\n",
              "    </tr>\n",
              "  </tbody>\n",
              "</table>\n",
              "</div>\n",
              "      <button class=\"colab-df-convert\" onclick=\"convertToInteractive('df-7e095a79-c370-43dd-a995-7b085e05c0b9')\"\n",
              "              title=\"Convert this dataframe to an interactive table.\"\n",
              "              style=\"display:none;\">\n",
              "        \n",
              "  <svg xmlns=\"http://www.w3.org/2000/svg\" height=\"24px\"viewBox=\"0 0 24 24\"\n",
              "       width=\"24px\">\n",
              "    <path d=\"M0 0h24v24H0V0z\" fill=\"none\"/>\n",
              "    <path d=\"M18.56 5.44l.94 2.06.94-2.06 2.06-.94-2.06-.94-.94-2.06-.94 2.06-2.06.94zm-11 1L8.5 8.5l.94-2.06 2.06-.94-2.06-.94L8.5 2.5l-.94 2.06-2.06.94zm10 10l.94 2.06.94-2.06 2.06-.94-2.06-.94-.94-2.06-.94 2.06-2.06.94z\"/><path d=\"M17.41 7.96l-1.37-1.37c-.4-.4-.92-.59-1.43-.59-.52 0-1.04.2-1.43.59L10.3 9.45l-7.72 7.72c-.78.78-.78 2.05 0 2.83L4 21.41c.39.39.9.59 1.41.59.51 0 1.02-.2 1.41-.59l7.78-7.78 2.81-2.81c.8-.78.8-2.07 0-2.86zM5.41 20L4 18.59l7.72-7.72 1.47 1.35L5.41 20z\"/>\n",
              "  </svg>\n",
              "      </button>\n",
              "      \n",
              "  <style>\n",
              "    .colab-df-container {\n",
              "      display:flex;\n",
              "      flex-wrap:wrap;\n",
              "      gap: 12px;\n",
              "    }\n",
              "\n",
              "    .colab-df-convert {\n",
              "      background-color: #E8F0FE;\n",
              "      border: none;\n",
              "      border-radius: 50%;\n",
              "      cursor: pointer;\n",
              "      display: none;\n",
              "      fill: #1967D2;\n",
              "      height: 32px;\n",
              "      padding: 0 0 0 0;\n",
              "      width: 32px;\n",
              "    }\n",
              "\n",
              "    .colab-df-convert:hover {\n",
              "      background-color: #E2EBFA;\n",
              "      box-shadow: 0px 1px 2px rgba(60, 64, 67, 0.3), 0px 1px 3px 1px rgba(60, 64, 67, 0.15);\n",
              "      fill: #174EA6;\n",
              "    }\n",
              "\n",
              "    [theme=dark] .colab-df-convert {\n",
              "      background-color: #3B4455;\n",
              "      fill: #D2E3FC;\n",
              "    }\n",
              "\n",
              "    [theme=dark] .colab-df-convert:hover {\n",
              "      background-color: #434B5C;\n",
              "      box-shadow: 0px 1px 3px 1px rgba(0, 0, 0, 0.15);\n",
              "      filter: drop-shadow(0px 1px 2px rgba(0, 0, 0, 0.3));\n",
              "      fill: #FFFFFF;\n",
              "    }\n",
              "  </style>\n",
              "\n",
              "      <script>\n",
              "        const buttonEl =\n",
              "          document.querySelector('#df-7e095a79-c370-43dd-a995-7b085e05c0b9 button.colab-df-convert');\n",
              "        buttonEl.style.display =\n",
              "          google.colab.kernel.accessAllowed ? 'block' : 'none';\n",
              "\n",
              "        async function convertToInteractive(key) {\n",
              "          const element = document.querySelector('#df-7e095a79-c370-43dd-a995-7b085e05c0b9');\n",
              "          const dataTable =\n",
              "            await google.colab.kernel.invokeFunction('convertToInteractive',\n",
              "                                                     [key], {});\n",
              "          if (!dataTable) return;\n",
              "\n",
              "          const docLinkHtml = 'Like what you see? Visit the ' +\n",
              "            '<a target=\"_blank\" href=https://colab.research.google.com/notebooks/data_table.ipynb>data table notebook</a>'\n",
              "            + ' to learn more about interactive tables.';\n",
              "          element.innerHTML = '';\n",
              "          dataTable['output_type'] = 'display_data';\n",
              "          await google.colab.output.renderOutput(dataTable, element);\n",
              "          const docLink = document.createElement('div');\n",
              "          docLink.innerHTML = docLinkHtml;\n",
              "          element.appendChild(docLink);\n",
              "        }\n",
              "      </script>\n",
              "    </div>\n",
              "  </div>\n",
              "  "
            ]
          },
          "metadata": {},
          "execution_count": 27
        }
      ]
    },
    {
      "cell_type": "code",
      "source": [
        "dict_dfs['df_trivia_train']"
      ],
      "metadata": {
        "colab": {
          "base_uri": "https://localhost:8080/",
          "height": 423
        },
        "id": "dqYBfI9WesVs",
        "outputId": "32af598d-affa-4caa-c8ce-f9e52e343e9e"
      },
      "execution_count": 28,
      "outputs": [
        {
          "output_type": "execute_result",
          "data": {
            "text/plain": [
              "        quest_num      label       word pos   entity\n",
              "0               1    b-actor      steve   b    actor\n",
              "1               1    i-actor    mcqueen   i    actor\n",
              "2               1  o-outside   provided   o  outside\n",
              "3               1  o-outside          a   o  outside\n",
              "4               1     b-plot  thrilling   b     plot\n",
              "...           ...        ...        ...  ..      ...\n",
              "158818       7816   i-origin         on   i   origin\n",
              "158819       7816   i-origin          a   i   origin\n",
              "158820       7816   i-origin   nicholas   i   origin\n",
              "158821       7816   i-origin     sparks   i   origin\n",
              "158822       7816   i-origin      novel   i   origin\n",
              "\n",
              "[158823 rows x 5 columns]"
            ],
            "text/html": [
              "\n",
              "  <div id=\"df-f623e77e-b7f2-4221-be46-1d662e9c98fb\">\n",
              "    <div class=\"colab-df-container\">\n",
              "      <div>\n",
              "<style scoped>\n",
              "    .dataframe tbody tr th:only-of-type {\n",
              "        vertical-align: middle;\n",
              "    }\n",
              "\n",
              "    .dataframe tbody tr th {\n",
              "        vertical-align: top;\n",
              "    }\n",
              "\n",
              "    .dataframe thead th {\n",
              "        text-align: right;\n",
              "    }\n",
              "</style>\n",
              "<table border=\"1\" class=\"dataframe\">\n",
              "  <thead>\n",
              "    <tr style=\"text-align: right;\">\n",
              "      <th></th>\n",
              "      <th>quest_num</th>\n",
              "      <th>label</th>\n",
              "      <th>word</th>\n",
              "      <th>pos</th>\n",
              "      <th>entity</th>\n",
              "    </tr>\n",
              "  </thead>\n",
              "  <tbody>\n",
              "    <tr>\n",
              "      <th>0</th>\n",
              "      <td>1</td>\n",
              "      <td>b-actor</td>\n",
              "      <td>steve</td>\n",
              "      <td>b</td>\n",
              "      <td>actor</td>\n",
              "    </tr>\n",
              "    <tr>\n",
              "      <th>1</th>\n",
              "      <td>1</td>\n",
              "      <td>i-actor</td>\n",
              "      <td>mcqueen</td>\n",
              "      <td>i</td>\n",
              "      <td>actor</td>\n",
              "    </tr>\n",
              "    <tr>\n",
              "      <th>2</th>\n",
              "      <td>1</td>\n",
              "      <td>o-outside</td>\n",
              "      <td>provided</td>\n",
              "      <td>o</td>\n",
              "      <td>outside</td>\n",
              "    </tr>\n",
              "    <tr>\n",
              "      <th>3</th>\n",
              "      <td>1</td>\n",
              "      <td>o-outside</td>\n",
              "      <td>a</td>\n",
              "      <td>o</td>\n",
              "      <td>outside</td>\n",
              "    </tr>\n",
              "    <tr>\n",
              "      <th>4</th>\n",
              "      <td>1</td>\n",
              "      <td>b-plot</td>\n",
              "      <td>thrilling</td>\n",
              "      <td>b</td>\n",
              "      <td>plot</td>\n",
              "    </tr>\n",
              "    <tr>\n",
              "      <th>...</th>\n",
              "      <td>...</td>\n",
              "      <td>...</td>\n",
              "      <td>...</td>\n",
              "      <td>...</td>\n",
              "      <td>...</td>\n",
              "    </tr>\n",
              "    <tr>\n",
              "      <th>158818</th>\n",
              "      <td>7816</td>\n",
              "      <td>i-origin</td>\n",
              "      <td>on</td>\n",
              "      <td>i</td>\n",
              "      <td>origin</td>\n",
              "    </tr>\n",
              "    <tr>\n",
              "      <th>158819</th>\n",
              "      <td>7816</td>\n",
              "      <td>i-origin</td>\n",
              "      <td>a</td>\n",
              "      <td>i</td>\n",
              "      <td>origin</td>\n",
              "    </tr>\n",
              "    <tr>\n",
              "      <th>158820</th>\n",
              "      <td>7816</td>\n",
              "      <td>i-origin</td>\n",
              "      <td>nicholas</td>\n",
              "      <td>i</td>\n",
              "      <td>origin</td>\n",
              "    </tr>\n",
              "    <tr>\n",
              "      <th>158821</th>\n",
              "      <td>7816</td>\n",
              "      <td>i-origin</td>\n",
              "      <td>sparks</td>\n",
              "      <td>i</td>\n",
              "      <td>origin</td>\n",
              "    </tr>\n",
              "    <tr>\n",
              "      <th>158822</th>\n",
              "      <td>7816</td>\n",
              "      <td>i-origin</td>\n",
              "      <td>novel</td>\n",
              "      <td>i</td>\n",
              "      <td>origin</td>\n",
              "    </tr>\n",
              "  </tbody>\n",
              "</table>\n",
              "<p>158823 rows × 5 columns</p>\n",
              "</div>\n",
              "      <button class=\"colab-df-convert\" onclick=\"convertToInteractive('df-f623e77e-b7f2-4221-be46-1d662e9c98fb')\"\n",
              "              title=\"Convert this dataframe to an interactive table.\"\n",
              "              style=\"display:none;\">\n",
              "        \n",
              "  <svg xmlns=\"http://www.w3.org/2000/svg\" height=\"24px\"viewBox=\"0 0 24 24\"\n",
              "       width=\"24px\">\n",
              "    <path d=\"M0 0h24v24H0V0z\" fill=\"none\"/>\n",
              "    <path d=\"M18.56 5.44l.94 2.06.94-2.06 2.06-.94-2.06-.94-.94-2.06-.94 2.06-2.06.94zm-11 1L8.5 8.5l.94-2.06 2.06-.94-2.06-.94L8.5 2.5l-.94 2.06-2.06.94zm10 10l.94 2.06.94-2.06 2.06-.94-2.06-.94-.94-2.06-.94 2.06-2.06.94z\"/><path d=\"M17.41 7.96l-1.37-1.37c-.4-.4-.92-.59-1.43-.59-.52 0-1.04.2-1.43.59L10.3 9.45l-7.72 7.72c-.78.78-.78 2.05 0 2.83L4 21.41c.39.39.9.59 1.41.59.51 0 1.02-.2 1.41-.59l7.78-7.78 2.81-2.81c.8-.78.8-2.07 0-2.86zM5.41 20L4 18.59l7.72-7.72 1.47 1.35L5.41 20z\"/>\n",
              "  </svg>\n",
              "      </button>\n",
              "      \n",
              "  <style>\n",
              "    .colab-df-container {\n",
              "      display:flex;\n",
              "      flex-wrap:wrap;\n",
              "      gap: 12px;\n",
              "    }\n",
              "\n",
              "    .colab-df-convert {\n",
              "      background-color: #E8F0FE;\n",
              "      border: none;\n",
              "      border-radius: 50%;\n",
              "      cursor: pointer;\n",
              "      display: none;\n",
              "      fill: #1967D2;\n",
              "      height: 32px;\n",
              "      padding: 0 0 0 0;\n",
              "      width: 32px;\n",
              "    }\n",
              "\n",
              "    .colab-df-convert:hover {\n",
              "      background-color: #E2EBFA;\n",
              "      box-shadow: 0px 1px 2px rgba(60, 64, 67, 0.3), 0px 1px 3px 1px rgba(60, 64, 67, 0.15);\n",
              "      fill: #174EA6;\n",
              "    }\n",
              "\n",
              "    [theme=dark] .colab-df-convert {\n",
              "      background-color: #3B4455;\n",
              "      fill: #D2E3FC;\n",
              "    }\n",
              "\n",
              "    [theme=dark] .colab-df-convert:hover {\n",
              "      background-color: #434B5C;\n",
              "      box-shadow: 0px 1px 3px 1px rgba(0, 0, 0, 0.15);\n",
              "      filter: drop-shadow(0px 1px 2px rgba(0, 0, 0, 0.3));\n",
              "      fill: #FFFFFF;\n",
              "    }\n",
              "  </style>\n",
              "\n",
              "      <script>\n",
              "        const buttonEl =\n",
              "          document.querySelector('#df-f623e77e-b7f2-4221-be46-1d662e9c98fb button.colab-df-convert');\n",
              "        buttonEl.style.display =\n",
              "          google.colab.kernel.accessAllowed ? 'block' : 'none';\n",
              "\n",
              "        async function convertToInteractive(key) {\n",
              "          const element = document.querySelector('#df-f623e77e-b7f2-4221-be46-1d662e9c98fb');\n",
              "          const dataTable =\n",
              "            await google.colab.kernel.invokeFunction('convertToInteractive',\n",
              "                                                     [key], {});\n",
              "          if (!dataTable) return;\n",
              "\n",
              "          const docLinkHtml = 'Like what you see? Visit the ' +\n",
              "            '<a target=\"_blank\" href=https://colab.research.google.com/notebooks/data_table.ipynb>data table notebook</a>'\n",
              "            + ' to learn more about interactive tables.';\n",
              "          element.innerHTML = '';\n",
              "          dataTable['output_type'] = 'display_data';\n",
              "          await google.colab.output.renderOutput(dataTable, element);\n",
              "          const docLink = document.createElement('div');\n",
              "          docLink.innerHTML = docLinkHtml;\n",
              "          element.appendChild(docLink);\n",
              "        }\n",
              "      </script>\n",
              "    </div>\n",
              "  </div>\n",
              "  "
            ]
          },
          "metadata": {},
          "execution_count": 28
        }
      ]
    },
    {
      "cell_type": "code",
      "source": [
        "(dict_label_dfs[('df_label_eng_test')].entity.value_counts())"
      ],
      "metadata": {
        "id": "Z7M617jgZyRm",
        "colab": {
          "base_uri": "https://localhost:8080/"
        },
        "outputId": "e082a04e-3d44-4aed-9872-d40b00bb8884"
      },
      "execution_count": 29,
      "outputs": [
        {
          "output_type": "execute_result",
          "data": {
            "text/plain": [
              "genre              1115\n",
              "actor               763\n",
              "year                719\n",
              "title               562\n",
              "rating              498\n",
              "plot                487\n",
              "director            456\n",
              "ratings_average     449\n",
              "character            85\n",
              "review               54\n",
              "song                 51\n",
              "trailer              30\n",
              "Name: entity, dtype: int64"
            ]
          },
          "metadata": {},
          "execution_count": 29
        }
      ]
    },
    {
      "cell_type": "code",
      "source": [
        "pd.read_csv('trivia_train.bio', sep='\\t', names=['quest_num', 'label', 'word'])"
      ],
      "metadata": {
        "colab": {
          "base_uri": "https://localhost:8080/",
          "height": 423
        },
        "id": "5bifQgKDc1jO",
        "outputId": "ff72b556-ce8b-464f-dff3-eb5422671c8b"
      },
      "execution_count": 30,
      "outputs": [
        {
          "output_type": "execute_result",
          "data": {
            "text/plain": [
              "        quest_num     label       word\n",
              "0               1   B-Actor      steve\n",
              "1               1   I-Actor    mcqueen\n",
              "2               1         O   provided\n",
              "3               1         O          a\n",
              "4               1    B-Plot  thrilling\n",
              "...           ...       ...        ...\n",
              "158818       7816  I-Origin         on\n",
              "158819       7816  I-Origin          a\n",
              "158820       7816  I-Origin   nicholas\n",
              "158821       7816  I-Origin     sparks\n",
              "158822       7816  I-Origin      novel\n",
              "\n",
              "[158823 rows x 3 columns]"
            ],
            "text/html": [
              "\n",
              "  <div id=\"df-801bdaca-3fe3-4351-a745-86fa56b619ca\">\n",
              "    <div class=\"colab-df-container\">\n",
              "      <div>\n",
              "<style scoped>\n",
              "    .dataframe tbody tr th:only-of-type {\n",
              "        vertical-align: middle;\n",
              "    }\n",
              "\n",
              "    .dataframe tbody tr th {\n",
              "        vertical-align: top;\n",
              "    }\n",
              "\n",
              "    .dataframe thead th {\n",
              "        text-align: right;\n",
              "    }\n",
              "</style>\n",
              "<table border=\"1\" class=\"dataframe\">\n",
              "  <thead>\n",
              "    <tr style=\"text-align: right;\">\n",
              "      <th></th>\n",
              "      <th>quest_num</th>\n",
              "      <th>label</th>\n",
              "      <th>word</th>\n",
              "    </tr>\n",
              "  </thead>\n",
              "  <tbody>\n",
              "    <tr>\n",
              "      <th>0</th>\n",
              "      <td>1</td>\n",
              "      <td>B-Actor</td>\n",
              "      <td>steve</td>\n",
              "    </tr>\n",
              "    <tr>\n",
              "      <th>1</th>\n",
              "      <td>1</td>\n",
              "      <td>I-Actor</td>\n",
              "      <td>mcqueen</td>\n",
              "    </tr>\n",
              "    <tr>\n",
              "      <th>2</th>\n",
              "      <td>1</td>\n",
              "      <td>O</td>\n",
              "      <td>provided</td>\n",
              "    </tr>\n",
              "    <tr>\n",
              "      <th>3</th>\n",
              "      <td>1</td>\n",
              "      <td>O</td>\n",
              "      <td>a</td>\n",
              "    </tr>\n",
              "    <tr>\n",
              "      <th>4</th>\n",
              "      <td>1</td>\n",
              "      <td>B-Plot</td>\n",
              "      <td>thrilling</td>\n",
              "    </tr>\n",
              "    <tr>\n",
              "      <th>...</th>\n",
              "      <td>...</td>\n",
              "      <td>...</td>\n",
              "      <td>...</td>\n",
              "    </tr>\n",
              "    <tr>\n",
              "      <th>158818</th>\n",
              "      <td>7816</td>\n",
              "      <td>I-Origin</td>\n",
              "      <td>on</td>\n",
              "    </tr>\n",
              "    <tr>\n",
              "      <th>158819</th>\n",
              "      <td>7816</td>\n",
              "      <td>I-Origin</td>\n",
              "      <td>a</td>\n",
              "    </tr>\n",
              "    <tr>\n",
              "      <th>158820</th>\n",
              "      <td>7816</td>\n",
              "      <td>I-Origin</td>\n",
              "      <td>nicholas</td>\n",
              "    </tr>\n",
              "    <tr>\n",
              "      <th>158821</th>\n",
              "      <td>7816</td>\n",
              "      <td>I-Origin</td>\n",
              "      <td>sparks</td>\n",
              "    </tr>\n",
              "    <tr>\n",
              "      <th>158822</th>\n",
              "      <td>7816</td>\n",
              "      <td>I-Origin</td>\n",
              "      <td>novel</td>\n",
              "    </tr>\n",
              "  </tbody>\n",
              "</table>\n",
              "<p>158823 rows × 3 columns</p>\n",
              "</div>\n",
              "      <button class=\"colab-df-convert\" onclick=\"convertToInteractive('df-801bdaca-3fe3-4351-a745-86fa56b619ca')\"\n",
              "              title=\"Convert this dataframe to an interactive table.\"\n",
              "              style=\"display:none;\">\n",
              "        \n",
              "  <svg xmlns=\"http://www.w3.org/2000/svg\" height=\"24px\"viewBox=\"0 0 24 24\"\n",
              "       width=\"24px\">\n",
              "    <path d=\"M0 0h24v24H0V0z\" fill=\"none\"/>\n",
              "    <path d=\"M18.56 5.44l.94 2.06.94-2.06 2.06-.94-2.06-.94-.94-2.06-.94 2.06-2.06.94zm-11 1L8.5 8.5l.94-2.06 2.06-.94-2.06-.94L8.5 2.5l-.94 2.06-2.06.94zm10 10l.94 2.06.94-2.06 2.06-.94-2.06-.94-.94-2.06-.94 2.06-2.06.94z\"/><path d=\"M17.41 7.96l-1.37-1.37c-.4-.4-.92-.59-1.43-.59-.52 0-1.04.2-1.43.59L10.3 9.45l-7.72 7.72c-.78.78-.78 2.05 0 2.83L4 21.41c.39.39.9.59 1.41.59.51 0 1.02-.2 1.41-.59l7.78-7.78 2.81-2.81c.8-.78.8-2.07 0-2.86zM5.41 20L4 18.59l7.72-7.72 1.47 1.35L5.41 20z\"/>\n",
              "  </svg>\n",
              "      </button>\n",
              "      \n",
              "  <style>\n",
              "    .colab-df-container {\n",
              "      display:flex;\n",
              "      flex-wrap:wrap;\n",
              "      gap: 12px;\n",
              "    }\n",
              "\n",
              "    .colab-df-convert {\n",
              "      background-color: #E8F0FE;\n",
              "      border: none;\n",
              "      border-radius: 50%;\n",
              "      cursor: pointer;\n",
              "      display: none;\n",
              "      fill: #1967D2;\n",
              "      height: 32px;\n",
              "      padding: 0 0 0 0;\n",
              "      width: 32px;\n",
              "    }\n",
              "\n",
              "    .colab-df-convert:hover {\n",
              "      background-color: #E2EBFA;\n",
              "      box-shadow: 0px 1px 2px rgba(60, 64, 67, 0.3), 0px 1px 3px 1px rgba(60, 64, 67, 0.15);\n",
              "      fill: #174EA6;\n",
              "    }\n",
              "\n",
              "    [theme=dark] .colab-df-convert {\n",
              "      background-color: #3B4455;\n",
              "      fill: #D2E3FC;\n",
              "    }\n",
              "\n",
              "    [theme=dark] .colab-df-convert:hover {\n",
              "      background-color: #434B5C;\n",
              "      box-shadow: 0px 1px 3px 1px rgba(0, 0, 0, 0.15);\n",
              "      filter: drop-shadow(0px 1px 2px rgba(0, 0, 0, 0.3));\n",
              "      fill: #FFFFFF;\n",
              "    }\n",
              "  </style>\n",
              "\n",
              "      <script>\n",
              "        const buttonEl =\n",
              "          document.querySelector('#df-801bdaca-3fe3-4351-a745-86fa56b619ca button.colab-df-convert');\n",
              "        buttonEl.style.display =\n",
              "          google.colab.kernel.accessAllowed ? 'block' : 'none';\n",
              "\n",
              "        async function convertToInteractive(key) {\n",
              "          const element = document.querySelector('#df-801bdaca-3fe3-4351-a745-86fa56b619ca');\n",
              "          const dataTable =\n",
              "            await google.colab.kernel.invokeFunction('convertToInteractive',\n",
              "                                                     [key], {});\n",
              "          if (!dataTable) return;\n",
              "\n",
              "          const docLinkHtml = 'Like what you see? Visit the ' +\n",
              "            '<a target=\"_blank\" href=https://colab.research.google.com/notebooks/data_table.ipynb>data table notebook</a>'\n",
              "            + ' to learn more about interactive tables.';\n",
              "          element.innerHTML = '';\n",
              "          dataTable['output_type'] = 'display_data';\n",
              "          await google.colab.output.renderOutput(dataTable, element);\n",
              "          const docLink = document.createElement('div');\n",
              "          docLink.innerHTML = docLinkHtml;\n",
              "          element.appendChild(docLink);\n",
              "        }\n",
              "      </script>\n",
              "    </div>\n",
              "  </div>\n",
              "  "
            ]
          },
          "metadata": {},
          "execution_count": 30
        }
      ]
    },
    {
      "cell_type": "code",
      "source": [
        "print('eng dataset contains {:,} questions.'.format(9775 + 2443,))\n",
        "print('trivia dataset contains {:,} questions.'.format(7816 + 1953,))"
      ],
      "metadata": {
        "id": "01z0v1FylO_G",
        "colab": {
          "base_uri": "https://localhost:8080/"
        },
        "outputId": "05c922ea-5f24-4146-9e12-904fab6e4fc6"
      },
      "execution_count": 31,
      "outputs": [
        {
          "output_type": "stream",
          "name": "stdout",
          "text": [
            "eng dataset contains 12,218 questions.\n",
            "trivia dataset contains 9,769 questions.\n"
          ]
        }
      ]
    },
    {
      "cell_type": "code",
      "source": [
        "dict_dfs.keys()"
      ],
      "metadata": {
        "colab": {
          "base_uri": "https://localhost:8080/"
        },
        "id": "0zodhv1XnYkM",
        "outputId": "c4c5f323-7d82-45f3-e048-d32eedaf6af1"
      },
      "execution_count": 32,
      "outputs": [
        {
          "output_type": "execute_result",
          "data": {
            "text/plain": [
              "dict_keys(['df_eng_train', 'df_eng_test', 'df_trivia_train', 'df_trivia_test'])"
            ]
          },
          "metadata": {},
          "execution_count": 32
        }
      ]
    },
    {
      "cell_type": "markdown",
      "source": [
        "## 5. Combine the data sets into one dataset\n",
        "\n",
        "### 5.1 Match up columns\n",
        "### 5.2 Standardize columns"
      ],
      "metadata": {
        "id": "S_qCbEtssDdS"
      }
    },
    {
      "cell_type": "code",
      "source": [
        "dict_label_dfs.keys()"
      ],
      "metadata": {
        "colab": {
          "base_uri": "https://localhost:8080/"
        },
        "id": "Il7Kxj-Rm4zW",
        "outputId": "edea40ed-a1d1-447a-c81b-aa8457e0af0a"
      },
      "execution_count": 33,
      "outputs": [
        {
          "output_type": "execute_result",
          "data": {
            "text/plain": [
              "dict_keys(['df_label_eng_train', 'df_label_eng_test', 'df_label_trivia_train', 'df_label_trivia_test'])"
            ]
          },
          "metadata": {},
          "execution_count": 33
        }
      ]
    },
    {
      "cell_type": "code",
      "source": [
        "# allow identification of the source\n",
        "dict_dfs['df_eng_train']['source'] = 'eng_train'\n",
        "dict_dfs['df_eng_test'] ['source']= 'eng_test'\n",
        "dict_label_dfs['df_label_eng_train']['source'] = 'label_eng_train'\n",
        "dict_label_dfs['df_label_eng_test']['source'] = 'df_label_eng_test'"
      ],
      "metadata": {
        "id": "vlZyWk9N0R0S"
      },
      "execution_count": 34,
      "outputs": []
    },
    {
      "cell_type": "code",
      "source": [
        "df_eng_total = dict_dfs['df_eng_train'].append(dict_dfs['df_eng_test'])\n",
        "df_label_eng_total = dict_label_dfs['df_label_eng_train'].append(dict_label_dfs['df_label_eng_test'])"
      ],
      "metadata": {
        "id": "gGe8pl_arbik",
        "outputId": "79fa99d4-682d-44e0-a36e-f5b3f4dd552a",
        "colab": {
          "base_uri": "https://localhost:8080/"
        }
      },
      "execution_count": 35,
      "outputs": [
        {
          "output_type": "stream",
          "name": "stderr",
          "text": [
            "<ipython-input-35-263766eeca6a>:1: FutureWarning: The frame.append method is deprecated and will be removed from pandas in a future version. Use pandas.concat instead.\n",
            "  df_eng_total = dict_dfs['df_eng_train'].append(dict_dfs['df_eng_test'])\n",
            "<ipython-input-35-263766eeca6a>:2: FutureWarning: The frame.append method is deprecated and will be removed from pandas in a future version. Use pandas.concat instead.\n",
            "  df_label_eng_total = dict_label_dfs['df_label_eng_train'].append(dict_label_dfs['df_label_eng_test'])\n"
          ]
        }
      ]
    },
    {
      "cell_type": "markdown",
      "source": [
        "#### df_eng_total"
      ],
      "metadata": {
        "id": "vMnmqFBjozDU"
      }
    },
    {
      "cell_type": "code",
      "source": [
        "df_eng_total.shape"
      ],
      "metadata": {
        "colab": {
          "base_uri": "https://localhost:8080/"
        },
        "id": "zJ03fGgjrlO7",
        "outputId": "5091bad0-6aae-4737-b746-6a5ba9fa2d9d"
      },
      "execution_count": 36,
      "outputs": [
        {
          "output_type": "execute_result",
          "data": {
            "text/plain": [
              "(124177, 6)"
            ]
          },
          "metadata": {},
          "execution_count": 36
        }
      ]
    },
    {
      "cell_type": "code",
      "source": [
        "df_eng_total.entity.unique()"
      ],
      "metadata": {
        "colab": {
          "base_uri": "https://localhost:8080/"
        },
        "id": "e-d_A6GRuOYE",
        "outputId": "4ce8728c-b958-4bfc-f5cf-020a12048ec4"
      },
      "execution_count": 37,
      "outputs": [
        {
          "output_type": "execute_result",
          "data": {
            "text/plain": [
              "array(['outside', 'actor', 'year', 'title', 'genre', 'director', 'song',\n",
              "       'plot', 'review', 'character', 'rating', 'ratings_average',\n",
              "       'trailer'], dtype=object)"
            ]
          },
          "metadata": {},
          "execution_count": 37
        }
      ]
    },
    {
      "cell_type": "markdown",
      "source": [
        "#### df_trivia_total"
      ],
      "metadata": {
        "id": "wSDq7Djso2Gk"
      }
    },
    {
      "cell_type": "code",
      "source": [
        "# allow identification of the source\n",
        "dict_dfs['df_trivia_train']['source'] = 'trivia_train'\n",
        "dict_dfs['df_trivia_test'] ['source']= 'trivia_test'\n",
        "dict_label_dfs['df_label_trivia_train']['source'] = 'label_trivia_train'\n",
        "dict_label_dfs['df_label_trivia_test']['source'] = 'df_label_trivia_test'"
      ],
      "metadata": {
        "id": "xrDyOsnW1BiO"
      },
      "execution_count": 38,
      "outputs": []
    },
    {
      "cell_type": "code",
      "source": [
        "df_trivia_total = dict_dfs['df_trivia_train'].append(dict_dfs['df_trivia_test'])\n",
        "df_label_trivia_total = dict_label_dfs['df_label_trivia_train'].append(dict_label_dfs['df_label_trivia_test'])"
      ],
      "metadata": {
        "id": "Yf1TZIRosBCI",
        "outputId": "46337a30-2990-4c7c-bcc9-9de9f55b5c5b",
        "colab": {
          "base_uri": "https://localhost:8080/"
        }
      },
      "execution_count": 39,
      "outputs": [
        {
          "output_type": "stream",
          "name": "stderr",
          "text": [
            "<ipython-input-39-d0fe4b8500b1>:1: FutureWarning: The frame.append method is deprecated and will be removed from pandas in a future version. Use pandas.concat instead.\n",
            "  df_trivia_total = dict_dfs['df_trivia_train'].append(dict_dfs['df_trivia_test'])\n",
            "<ipython-input-39-d0fe4b8500b1>:2: FutureWarning: The frame.append method is deprecated and will be removed from pandas in a future version. Use pandas.concat instead.\n",
            "  df_label_trivia_total = dict_label_dfs['df_label_trivia_train'].append(dict_label_dfs['df_label_trivia_test'])\n"
          ]
        }
      ]
    },
    {
      "cell_type": "code",
      "source": [
        "df_trivia_total.shape"
      ],
      "metadata": {
        "colab": {
          "base_uri": "https://localhost:8080/"
        },
        "id": "EwE8RANNsQeh",
        "outputId": "9ab2afc5-1214-4447-af5c-e9d40ac1bd7b"
      },
      "execution_count": 40,
      "outputs": [
        {
          "output_type": "execute_result",
          "data": {
            "text/plain": [
              "(197858, 6)"
            ]
          },
          "metadata": {},
          "execution_count": 40
        }
      ]
    },
    {
      "cell_type": "markdown",
      "source": [
        "### 5.1 Match up columns"
      ],
      "metadata": {
        "id": "99KK8YlJEftn"
      }
    },
    {
      "cell_type": "code",
      "source": [
        "df_trivia_total.entity.unique()"
      ],
      "metadata": {
        "colab": {
          "base_uri": "https://localhost:8080/"
        },
        "id": "Ztfraxp6sjXg",
        "outputId": "abe3a74a-a16d-4771-ec2d-4f55110f1e8b"
      },
      "execution_count": 41,
      "outputs": [
        {
          "output_type": "execute_result",
          "data": {
            "text/plain": [
              "array(['actor', 'outside', 'plot', 'opinion', 'award', 'year', 'genre',\n",
              "       'origin', 'director', 'soundtrack', 'relationship',\n",
              "       'character_name', 'quote'], dtype=object)"
            ]
          },
          "metadata": {},
          "execution_count": 41
        }
      ]
    },
    {
      "cell_type": "markdown",
      "source": [
        "|eng variable            |trivia variable  | description                          |\n",
        "| ---------------------- | -----------| ---                                  |\n",
        "|outside                 | outside    | untracked entity                     |\n",
        "|actor                   |  actor     | person's name acting in the movie |\n",
        "| year                   |  year      | two and four digit years         |      \n",
        "| genre                  | genre      | movie's subject matter               |\n",
        "| director               | director   | person's name in charge of movie     |\n",
        "| song                   | soundtrack | song's in a movie                    |\n",
        "| plot                   | plot       | movie's story line                   |\n",
        "| review, ratings_average| opinion    | words describing the movie           |\n",
        "| character              | character_name| person's name in movie story line |\n",
        "| rating                 | na         | classification of movie appropriateness for different age groups\n",
        "| na                     | award      | recognition for acheivement in a given category\n",
        "| na                     | origin     | source of inspiration for movie script |\n",
        "| na                     | relationship| how movie is related to other movies in the same story line"
      ],
      "metadata": {
        "id": "IIZvrAOV4SpY"
      }
    },
    {
      "cell_type": "code",
      "source": [
        "df_label_eng_total.loc[df_label_eng_total['entity'] == 'year' ].value_counts()[:10]"
      ],
      "metadata": {
        "colab": {
          "base_uri": "https://localhost:8080/"
        },
        "id": "tkAAYW9_l-Vi",
        "outputId": "159772b5-9654-478c-cd53-fed84edc64b7"
      },
      "execution_count": 42,
      "outputs": [
        {
          "output_type": "execute_result",
          "data": {
            "text/plain": [
              "entity  word    source         \n",
              "year    1950 s  label_eng_train    102\n",
              "        1970 s  label_eng_train    100\n",
              "        1980 s  label_eng_train     94\n",
              "        1990 s  label_eng_train     93\n",
              "        1960 s  label_eng_train     93\n",
              "        2010 s  label_eng_train     91\n",
              "        2010    label_eng_train     89\n",
              "        1990s   label_eng_train     81\n",
              "        2000    label_eng_train     78\n",
              "        2000 s  label_eng_train     77\n",
              "dtype: int64"
            ]
          },
          "metadata": {},
          "execution_count": 42
        }
      ]
    },
    {
      "cell_type": "code",
      "source": [
        "df_label_trivia_total.loc[(df_label_trivia_total['entity'] == 'relationship')].value_counts()[:20]"
      ],
      "metadata": {
        "colab": {
          "base_uri": "https://localhost:8080/"
        },
        "id": "x2YcXWKUnViY",
        "outputId": "a54c22e5-7639-4b9d-f422-d1e8ea6173fc"
      },
      "execution_count": 43,
      "outputs": [
        {
          "output_type": "execute_result",
          "data": {
            "text/plain": [
              "entity        word                     source              \n",
              "relationship  sequel                   label_trivia_train      95\n",
              "                                       df_label_trivia_test    33\n",
              "              remake                   label_trivia_train      31\n",
              "                                       df_label_trivia_test    10\n",
              "              remade                   label_trivia_train       8\n",
              "              prequel                  label_trivia_train       7\n",
              "              franchise                label_trivia_train       7\n",
              "              third installment        label_trivia_train       5\n",
              "              first movie              df_label_trivia_test     4\n",
              "              third movie              label_trivia_train       4\n",
              "              reboot                   label_trivia_train       4\n",
              "              final installment        label_trivia_train       4\n",
              "              second installment       label_trivia_train       4\n",
              "                                       df_label_trivia_test     4\n",
              "              first in the series      label_trivia_train       3\n",
              "              first installment        label_trivia_train       3\n",
              "              first film               label_trivia_train       3\n",
              "              third installment        df_label_trivia_test     3\n",
              "              series                   label_trivia_train       3\n",
              "              first movie in a series  label_trivia_train       3\n",
              "dtype: int64"
            ]
          },
          "metadata": {},
          "execution_count": 43
        }
      ]
    },
    {
      "cell_type": "code",
      "source": [
        "df_eng_total.loc[df_eng_total['entity'] == 'ratings_average', 'word'].value_counts()[:20]"
      ],
      "metadata": {
        "colab": {
          "base_uri": "https://localhost:8080/"
        },
        "id": "BEt6nSl6kcKK",
        "outputId": "90d22b25-4591-4998-aa20-e47482c8e64e"
      },
      "execution_count": 44,
      "outputs": [
        {
          "output_type": "execute_result",
          "data": {
            "text/plain": [
              "stars      336\n",
              "good       234\n",
              "rated      191\n",
              "highly     179\n",
              "liked      165\n",
              "well       137\n",
              "nine       128\n",
              "very       125\n",
              "really     123\n",
              "six        119\n",
              "eight      119\n",
              "popular    117\n",
              "seven      109\n",
              "four       108\n",
              "ratings    103\n",
              "five       102\n",
              "average     93\n",
              "ok          81\n",
              "by          73\n",
              "star        73\n",
              "Name: word, dtype: int64"
            ]
          },
          "metadata": {},
          "execution_count": 44
        }
      ]
    },
    {
      "cell_type": "code",
      "source": [
        "df_trivia_total.loc[df_trivia_total['entity'] == 'award', 'word'].unique()[:50]"
      ],
      "metadata": {
        "colab": {
          "base_uri": "https://localhost:8080/"
        },
        "id": "He3DUodOkjaO",
        "outputId": "e71c3b25-b292-45b4-b4e7-39f31b13d1cf"
      },
      "execution_count": 45,
      "outputs": [
        {
          "output_type": "execute_result",
          "data": {
            "text/plain": [
              "array(['won', 'oscars', 'oscar', 'for', 'writing', 'academy', 'award',\n",
              "       'best', 'actor', 'awards', 'documentary', 'winner', 'picture',\n",
              "       'animated', 'feature', 'nominated', 'winning', 'the', 'foreign',\n",
              "       'language', 'film', 'several', 'including', 'many', '9',\n",
              "       'original', 'screenplay', 'at', 'director', '2', 'two', '82', 'nd',\n",
              "       'score', 'supporting', 'acress', 'five', 'actress', 'nomination',\n",
              "       'and', 'four', 'time', 'to', 'win', 'leading', 'role', 'acadamy',\n",
              "       'lost', 'crash', 'one'], dtype=object)"
            ]
          },
          "metadata": {},
          "execution_count": 45
        }
      ]
    },
    {
      "cell_type": "markdown",
      "source": [
        "#### Song to Soundtrack Comparison"
      ],
      "metadata": {
        "id": "f5iCFKHn5OYK"
      }
    },
    {
      "cell_type": "code",
      "source": [
        "df_eng_total.loc[df_eng_total['entity'] == 'song', 'word'].unique()[:50]"
      ],
      "metadata": {
        "colab": {
          "base_uri": "https://localhost:8080/"
        },
        "id": "Pf2BeN7r4Pyc",
        "outputId": "afb188a9-035a-4086-d082-0d6bb99be5db"
      },
      "execution_count": 46,
      "outputs": [
        {
          "output_type": "execute_result",
          "data": {
            "text/plain": [
              "array(['leonard', 'cohen', 'songs', 'soundtrack', 'beyonce', 'rock',\n",
              "       'song', 'day', 'by', 'i', 'will', 'always', 'love', 'you', 'trent',\n",
              "       'reznor', 'suicide', 'is', 'painless', 'blaze', 'of', 'glory',\n",
              "       'john', 'williams', 'the', 'one', 'youre', 'with', 'blue',\n",
              "       'hawaii', 'ice', 'baby', 'theme', 'coolio', 'satisfaction', 'your',\n",
              "       'touch', 'black', 'keys', 'original', 'score', 'somewhere', 'out',\n",
              "       'there', 'beatles', 'abba', 'rick', 'springfield', 'my', 'heart'],\n",
              "      dtype=object)"
            ]
          },
          "metadata": {},
          "execution_count": 46
        }
      ]
    },
    {
      "cell_type": "code",
      "source": [
        "df_trivia_total.loc[df_trivia_total['entity'] == 'soundtrack', 'word'].unique()[:50] "
      ],
      "metadata": {
        "id": "fGQJqvTuv-fQ",
        "colab": {
          "base_uri": "https://localhost:8080/"
        },
        "outputId": "5a24008b-1e93-4ea4-9302-9937064b53b8"
      },
      "execution_count": 47,
      "outputs": [
        {
          "output_type": "execute_result",
          "data": {
            "text/plain": [
              "array(['famous', 'song', 'by', 'the', 'beatles', 'hakunamatata', 'avril',\n",
              "       'lavigne', 'courtesy', 'of', 'bee', 'music', 'written', 'elton',\n",
              "       'john', 'with', 'lyrics', 'hills', 'are', 'alive', 'score',\n",
              "       'williams', 'white', 'christmas', 'hakuna', 'matata', 'can', 'you',\n",
              "       'feel', 'love', 'tonight', 'raindrops', 'keep', 'falling', 'on',\n",
              "       'my', 'head', 'cole', 'porter', 'night', 'and', 'day',\n",
              "       'soundtrack', 'composer', 'hans', 'zimmer', 'classical', 'i', 'm',\n",
              "       'going'], dtype=object)"
            ]
          },
          "metadata": {},
          "execution_count": 47
        }
      ]
    },
    {
      "cell_type": "markdown",
      "source": [
        "#### Review Comparison"
      ],
      "metadata": {
        "id": "6tU5GYrX512b"
      }
    },
    {
      "cell_type": "code",
      "source": [
        "df_eng_total.loc[df_eng_total['entity'] == 'review', 'word'].unique()[:50]"
      ],
      "metadata": {
        "colab": {
          "base_uri": "https://localhost:8080/"
        },
        "outputId": "e5605ba7-c4e0-4325-ac64-9bf21d40a6f3",
        "id": "BfSH4guz512c"
      },
      "execution_count": 48,
      "outputs": [
        {
          "output_type": "execute_result",
          "data": {
            "text/plain": [
              "array(['must', 'watch', 'popular', 'oscar', 'good', 'best', 'most', 'see',\n",
              "       'famous', 'funniest', 'well', 'known', 'awful', 'movie', 'similar',\n",
              "       'top', 'rated', 'greatest', 'appropriate', 'five', 'star', 'funny',\n",
              "       'lowest', 'about', 'scariest', 'recommended', 'ten', 'great',\n",
              "       'less', 'than', '10', 'positive', 'considered', 'the', 'classic',\n",
              "       'loved', 'really', 'rating', 'like', 'highest', 'worst', 'highly',\n",
              "       'worth', 'watching', 'three', 'movies', 'feel', 'critically',\n",
              "       'acclaimed', 'everyone'], dtype=object)"
            ]
          },
          "metadata": {},
          "execution_count": 48
        }
      ]
    },
    {
      "cell_type": "code",
      "source": [
        "df_trivia_total.loc[df_trivia_total['entity'] == 'opinion', 'word'].unique()[:50] "
      ],
      "metadata": {
        "colab": {
          "base_uri": "https://localhost:8080/"
        },
        "outputId": "bfea7ff9-f453-4c5e-a1d3-c15b9b9d3fac",
        "id": "itnn_5y2512d"
      },
      "execution_count": 49,
      "outputs": [
        {
          "output_type": "execute_result",
          "data": {
            "text/plain": [
              "array(['greatest', 'of', 'all', 'blockbuster', 'pivotal', 'famous',\n",
              "       'shower', 'scene', 'in', 'cinematic', 'history', 'epic', 'classic',\n",
              "       'first', 'box', 'office', 'success', 'highly', 'popular',\n",
              "       'emotionally', 'devastating', 'best', 'film', 'ever', 'made',\n",
              "       'very', 'masterpiece', 'female', 'friendly', 'playful', 'high',\n",
              "       'quality', 'low', 'rated', 'considered', 'to', 'be', 'one', 'the',\n",
              "       'films', 'time', 'series', 'huge', 'hit', 'ultra', 'violent',\n",
              "       'controversial', 'but', 'well', 'received'], dtype=object)"
            ]
          },
          "metadata": {},
          "execution_count": 49
        }
      ]
    },
    {
      "cell_type": "markdown",
      "source": [
        "### 5.2 Standardize Entities"
      ],
      "metadata": {
        "id": "f4eMYtwNgbqO"
      }
    },
    {
      "cell_type": "code",
      "source": [
        "df_trivia_total.columns"
      ],
      "metadata": {
        "colab": {
          "base_uri": "https://localhost:8080/"
        },
        "id": "8iEH-BkQEr6l",
        "outputId": "7eb6051a-0499-429d-96fd-332068dacf34"
      },
      "execution_count": 50,
      "outputs": [
        {
          "output_type": "execute_result",
          "data": {
            "text/plain": [
              "Index(['quest_num', 'label', 'word', 'pos', 'entity', 'source'], dtype='object')"
            ]
          },
          "metadata": {},
          "execution_count": 50
        }
      ]
    },
    {
      "cell_type": "code",
      "source": [
        "df_trivia_total['entity'].unique()"
      ],
      "metadata": {
        "colab": {
          "base_uri": "https://localhost:8080/"
        },
        "id": "lwltpd4wE95t",
        "outputId": "5ac94e6d-ea56-46de-e793-b2c22b3c3ef2"
      },
      "execution_count": 51,
      "outputs": [
        {
          "output_type": "execute_result",
          "data": {
            "text/plain": [
              "array(['actor', 'outside', 'plot', 'opinion', 'award', 'year', 'genre',\n",
              "       'origin', 'director', 'soundtrack', 'relationship',\n",
              "       'character_name', 'quote'], dtype=object)"
            ]
          },
          "metadata": {},
          "execution_count": 51
        }
      ]
    },
    {
      "cell_type": "code",
      "source": [
        "l_bio = ['i', 'b']\n",
        "l_trivia_entities_to_update = ['soundtrack', 'character_name',\n",
        "                               'opinion']\n",
        "l_trivia_entities_updated = ['song','character','review']\n",
        "\n",
        "l_beg_trivia_ents = [bio + '-' + ent for bio in l_bio for ent in l_trivia_entities_to_update]\n",
        "\n",
        "l_end_trivia_ents = [bio + '-' + ent for bio in l_bio for ent in l_trivia_entities_updated]\n",
        "\n",
        "dict_label_updates = dict(zip(l_beg_trivia_ents,l_end_trivia_ents))"
      ],
      "metadata": {
        "id": "--gJfsfPsq6N"
      },
      "execution_count": 52,
      "outputs": []
    },
    {
      "cell_type": "code",
      "source": [
        "df_trivia_total['entity'].replace({'soundtrack': 'song',\n",
        "                                   'character_name' : 'character',\n",
        "                                   'opinion' : 'review'}, inplace=True)\n",
        "\n",
        "df_trivia_total['label'].replace(dict_label_updates, inplace=True)"
      ],
      "metadata": {
        "id": "vioB6DeLFXrF"
      },
      "execution_count": 53,
      "outputs": []
    },
    {
      "cell_type": "code",
      "source": [
        "df_trivia_total['entity'].unique()"
      ],
      "metadata": {
        "colab": {
          "base_uri": "https://localhost:8080/"
        },
        "id": "1FMtcoTqFpQl",
        "outputId": "e5191baa-9b90-4c0b-f0fb-92081a304876"
      },
      "execution_count": 54,
      "outputs": [
        {
          "output_type": "execute_result",
          "data": {
            "text/plain": [
              "array(['actor', 'outside', 'plot', 'review', 'award', 'year', 'genre',\n",
              "       'origin', 'director', 'song', 'relationship', 'character', 'quote'],\n",
              "      dtype=object)"
            ]
          },
          "metadata": {},
          "execution_count": 54
        }
      ]
    },
    {
      "cell_type": "code",
      "source": [
        "df_eng_total['entity'].unique()"
      ],
      "metadata": {
        "colab": {
          "base_uri": "https://localhost:8080/"
        },
        "id": "s8llXx-2F1FH",
        "outputId": "55665df3-ddad-4d9c-ca80-b49eb5dcd6c7"
      },
      "execution_count": 55,
      "outputs": [
        {
          "output_type": "execute_result",
          "data": {
            "text/plain": [
              "array(['outside', 'actor', 'year', 'title', 'genre', 'director', 'song',\n",
              "       'plot', 'review', 'character', 'rating', 'ratings_average',\n",
              "       'trailer'], dtype=object)"
            ]
          },
          "metadata": {},
          "execution_count": 55
        }
      ]
    },
    {
      "cell_type": "code",
      "source": [
        "df_eng_total['entity'].replace({'ratings_average' : 'rating'}, inplace=True)"
      ],
      "metadata": {
        "id": "6H_PlNX6GN31"
      },
      "execution_count": 56,
      "outputs": []
    },
    {
      "cell_type": "code",
      "source": [
        "df_eng_total['entity'].unique()"
      ],
      "metadata": {
        "colab": {
          "base_uri": "https://localhost:8080/"
        },
        "id": "7Sp8ehKpGYkl",
        "outputId": "e31f68ae-fdd6-4608-d196-8e1fc586e529"
      },
      "execution_count": 57,
      "outputs": [
        {
          "output_type": "execute_result",
          "data": {
            "text/plain": [
              "array(['outside', 'actor', 'year', 'title', 'genre', 'director', 'song',\n",
              "       'plot', 'review', 'character', 'rating', 'trailer'], dtype=object)"
            ]
          },
          "metadata": {},
          "execution_count": 57
        }
      ]
    },
    {
      "cell_type": "code",
      "source": [
        "df_eng_total.label.unique()"
      ],
      "metadata": {
        "colab": {
          "base_uri": "https://localhost:8080/"
        },
        "id": "1EDv0dhEv3yb",
        "outputId": "6f29ec16-dcd3-43ff-be18-cc375d94e62e"
      },
      "execution_count": 58,
      "outputs": [
        {
          "output_type": "execute_result",
          "data": {
            "text/plain": [
              "array(['o-outside', 'b-actor', 'i-actor', 'b-year', 'b-title', 'b-genre',\n",
              "       'i-genre', 'b-director', 'i-director', 'b-song', 'i-song',\n",
              "       'b-plot', 'i-plot', 'b-review', 'b-character', 'i-character',\n",
              "       'b-rating', 'b-ratings_average', 'i-ratings_average', 'i-title',\n",
              "       'i-rating', 'b-trailer', 'i-trailer', 'i-review', 'i-year'],\n",
              "      dtype=object)"
            ]
          },
          "metadata": {},
          "execution_count": 58
        }
      ]
    },
    {
      "cell_type": "code",
      "source": [
        "df_eng_total.replace({'i-ratings_average': 'i-review',\n",
        "                      'b-ratings_average': 'b-review'},\n",
        "                     inplace=True)"
      ],
      "metadata": {
        "id": "k6M6SgFyGZeF"
      },
      "execution_count": 59,
      "outputs": []
    },
    {
      "cell_type": "markdown",
      "source": [
        "### 5.3 Combine datasets "
      ],
      "metadata": {
        "id": "fgh0SOjLGjZ1"
      }
    },
    {
      "cell_type": "code",
      "source": [
        "df_eng_total.columns"
      ],
      "metadata": {
        "colab": {
          "base_uri": "https://localhost:8080/"
        },
        "id": "Tj6K5tWtKZjB",
        "outputId": "db337a67-51ac-4a24-eb0f-c83fe7ea95a2"
      },
      "execution_count": 60,
      "outputs": [
        {
          "output_type": "execute_result",
          "data": {
            "text/plain": [
              "Index(['quest_num', 'label', 'word', 'pos', 'entity', 'source'], dtype='object')"
            ]
          },
          "metadata": {},
          "execution_count": 60
        }
      ]
    },
    {
      "cell_type": "markdown",
      "source": [
        "##### Ensure that variables and values match"
      ],
      "metadata": {
        "id": "bh-o9a-MwJj8"
      }
    },
    {
      "cell_type": "code",
      "source": [
        "df_trivia_total.columns"
      ],
      "metadata": {
        "colab": {
          "base_uri": "https://localhost:8080/"
        },
        "id": "sFvi9q9oKbrk",
        "outputId": "156da34d-cc82-4729-9334-69da230af7b0"
      },
      "execution_count": 61,
      "outputs": [
        {
          "output_type": "execute_result",
          "data": {
            "text/plain": [
              "Index(['quest_num', 'label', 'word', 'pos', 'entity', 'source'], dtype='object')"
            ]
          },
          "metadata": {},
          "execution_count": 61
        }
      ]
    },
    {
      "cell_type": "code",
      "source": [
        "df_eng_total.label.unique()"
      ],
      "metadata": {
        "id": "iWuGxTuGKeSs",
        "colab": {
          "base_uri": "https://localhost:8080/"
        },
        "outputId": "88591bd2-03ec-42e9-af31-60b7df75adcb"
      },
      "execution_count": 62,
      "outputs": [
        {
          "output_type": "execute_result",
          "data": {
            "text/plain": [
              "array(['o-outside', 'b-actor', 'i-actor', 'b-year', 'b-title', 'b-genre',\n",
              "       'i-genre', 'b-director', 'i-director', 'b-song', 'i-song',\n",
              "       'b-plot', 'i-plot', 'b-review', 'b-character', 'i-character',\n",
              "       'b-rating', 'i-review', 'i-title', 'i-rating', 'b-trailer',\n",
              "       'i-trailer', 'i-year'], dtype=object)"
            ]
          },
          "metadata": {},
          "execution_count": 62
        }
      ]
    },
    {
      "cell_type": "code",
      "source": [
        "df_trivia_total.label.unique()"
      ],
      "metadata": {
        "colab": {
          "base_uri": "https://localhost:8080/"
        },
        "id": "vnKhcSmvsTsc",
        "outputId": "db860795-80ed-4896-a2e7-ede111e43f1c"
      },
      "execution_count": 63,
      "outputs": [
        {
          "output_type": "execute_result",
          "data": {
            "text/plain": [
              "array(['b-actor', 'i-actor', 'o-outside', 'b-plot', 'i-plot', 'b-review',\n",
              "       'i-review', 'b-award', 'i-award', 'b-year', 'b-genre', 'b-origin',\n",
              "       'i-origin', 'b-director', 'i-director', 'i-genre', 'i-year',\n",
              "       'b-song', 'i-song', 'b-relationship', 'i-relationship',\n",
              "       'b-character', 'i-character', 'b-quote', 'i-quote'], dtype=object)"
            ]
          },
          "metadata": {},
          "execution_count": 63
        }
      ]
    },
    {
      "cell_type": "code",
      "source": [
        "# in eng but not trivia\n",
        "np.setdiff1d(df_eng_total.label.unique(),df_trivia_total.label.unique())"
      ],
      "metadata": {
        "colab": {
          "base_uri": "https://localhost:8080/"
        },
        "id": "0UXxg0F5wWug",
        "outputId": "67459e27-b733-4b0d-8283-3435fea7a24e"
      },
      "execution_count": 64,
      "outputs": [
        {
          "output_type": "execute_result",
          "data": {
            "text/plain": [
              "array(['b-rating', 'b-title', 'b-trailer', 'i-rating', 'i-title',\n",
              "       'i-trailer'], dtype=object)"
            ]
          },
          "metadata": {},
          "execution_count": 64
        }
      ]
    },
    {
      "cell_type": "code",
      "source": [
        "# in trivia but not eng\n",
        "np.setdiff1d(df_trivia_total.label.unique(),df_eng_total.label.unique())"
      ],
      "metadata": {
        "colab": {
          "base_uri": "https://localhost:8080/"
        },
        "id": "DArT8kGEwkWU",
        "outputId": "36020ce0-7d69-4a77-eeb4-0cfc236fb961"
      },
      "execution_count": 65,
      "outputs": [
        {
          "output_type": "execute_result",
          "data": {
            "text/plain": [
              "array(['b-award', 'b-origin', 'b-quote', 'b-relationship', 'i-award',\n",
              "       'i-origin', 'i-quote', 'i-relationship'], dtype=object)"
            ]
          },
          "metadata": {},
          "execution_count": 65
        }
      ]
    },
    {
      "cell_type": "code",
      "source": [
        "df = df_eng_total.append(df_trivia_total)"
      ],
      "metadata": {
        "id": "PH6DW4A5usSh",
        "outputId": "d816114a-cb4e-4571-a75c-ef766fd3c7d0",
        "colab": {
          "base_uri": "https://localhost:8080/"
        }
      },
      "execution_count": 66,
      "outputs": [
        {
          "output_type": "stream",
          "name": "stderr",
          "text": [
            "<ipython-input-66-dacb9c7ca904>:1: FutureWarning: The frame.append method is deprecated and will be removed from pandas in a future version. Use pandas.concat instead.\n",
            "  df = df_eng_total.append(df_trivia_total)\n"
          ]
        }
      ]
    },
    {
      "cell_type": "code",
      "source": [
        "i = 1\n",
        "df['q_num'] = 0\n",
        "for source in df.source.unique():\n",
        "    print(source)\n",
        "    for quest_num in df.loc[(df['source'] == source), 'quest_num'].unique():\n",
        "        df.loc[(df['source'] == source)\n",
        "               & (df['quest_num'] == quest_num),'q_num'\n",
        "              ] = i\n",
        "        i += 1          "
      ],
      "metadata": {
        "colab": {
          "base_uri": "https://localhost:8080/"
        },
        "id": "ukcmAwuTu0oI",
        "outputId": "6ab740f4-a2c2-4690-866e-4dd2805ee8f8"
      },
      "execution_count": 67,
      "outputs": [
        {
          "output_type": "stream",
          "name": "stdout",
          "text": [
            "eng_train\n",
            "eng_test\n",
            "trivia_train\n",
            "trivia_test\n"
          ]
        }
      ]
    },
    {
      "cell_type": "code",
      "source": [
        "source = 'eng_test'\n",
        "quest_num = (2443)\n",
        "\n",
        "df.loc[(df['source'] == source)\n",
        "               & (df['quest_num'] == quest_num)]"
      ],
      "metadata": {
        "colab": {
          "base_uri": "https://localhost:8080/",
          "height": 394
        },
        "id": "gB5gX2CA6zkg",
        "outputId": "590c5b4a-2f70-4d56-92a1-d870b8f32e87"
      },
      "execution_count": 119,
      "outputs": [
        {
          "output_type": "execute_result",
          "data": {
            "text/plain": [
              "        quest_num   iob2_label     word pos     entity    source  q_num\n",
              "124166       2443    o-outside     what   o    outside  eng_test  12218\n",
              "124167       2443    o-outside        s   o    outside  eng_test  12218\n",
              "124168       2443    o-outside      the   o    outside  eng_test  12218\n",
              "124169       2443    o-outside    title   o    outside  eng_test  12218\n",
              "124170       2443    o-outside       of   o    outside  eng_test  12218\n",
              "124171       2443    o-outside      the   o    outside  eng_test  12218\n",
              "124172       2443    o-outside    movie   o    outside  eng_test  12218\n",
              "124173       2443    o-outside    about   o    outside  eng_test  12218\n",
              "124174       2443  b-character  captain   b  character  eng_test  12218\n",
              "124175       2443  i-character     jack   i  character  eng_test  12218\n",
              "124176       2443  i-character  sparrow   i  character  eng_test  12218"
            ],
            "text/html": [
              "\n",
              "  <div id=\"df-5f7f9990-f241-4e86-92cf-a74317953fb6\">\n",
              "    <div class=\"colab-df-container\">\n",
              "      <div>\n",
              "<style scoped>\n",
              "    .dataframe tbody tr th:only-of-type {\n",
              "        vertical-align: middle;\n",
              "    }\n",
              "\n",
              "    .dataframe tbody tr th {\n",
              "        vertical-align: top;\n",
              "    }\n",
              "\n",
              "    .dataframe thead th {\n",
              "        text-align: right;\n",
              "    }\n",
              "</style>\n",
              "<table border=\"1\" class=\"dataframe\">\n",
              "  <thead>\n",
              "    <tr style=\"text-align: right;\">\n",
              "      <th></th>\n",
              "      <th>quest_num</th>\n",
              "      <th>iob2_label</th>\n",
              "      <th>word</th>\n",
              "      <th>pos</th>\n",
              "      <th>entity</th>\n",
              "      <th>source</th>\n",
              "      <th>q_num</th>\n",
              "    </tr>\n",
              "  </thead>\n",
              "  <tbody>\n",
              "    <tr>\n",
              "      <th>124166</th>\n",
              "      <td>2443</td>\n",
              "      <td>o-outside</td>\n",
              "      <td>what</td>\n",
              "      <td>o</td>\n",
              "      <td>outside</td>\n",
              "      <td>eng_test</td>\n",
              "      <td>12218</td>\n",
              "    </tr>\n",
              "    <tr>\n",
              "      <th>124167</th>\n",
              "      <td>2443</td>\n",
              "      <td>o-outside</td>\n",
              "      <td>s</td>\n",
              "      <td>o</td>\n",
              "      <td>outside</td>\n",
              "      <td>eng_test</td>\n",
              "      <td>12218</td>\n",
              "    </tr>\n",
              "    <tr>\n",
              "      <th>124168</th>\n",
              "      <td>2443</td>\n",
              "      <td>o-outside</td>\n",
              "      <td>the</td>\n",
              "      <td>o</td>\n",
              "      <td>outside</td>\n",
              "      <td>eng_test</td>\n",
              "      <td>12218</td>\n",
              "    </tr>\n",
              "    <tr>\n",
              "      <th>124169</th>\n",
              "      <td>2443</td>\n",
              "      <td>o-outside</td>\n",
              "      <td>title</td>\n",
              "      <td>o</td>\n",
              "      <td>outside</td>\n",
              "      <td>eng_test</td>\n",
              "      <td>12218</td>\n",
              "    </tr>\n",
              "    <tr>\n",
              "      <th>124170</th>\n",
              "      <td>2443</td>\n",
              "      <td>o-outside</td>\n",
              "      <td>of</td>\n",
              "      <td>o</td>\n",
              "      <td>outside</td>\n",
              "      <td>eng_test</td>\n",
              "      <td>12218</td>\n",
              "    </tr>\n",
              "    <tr>\n",
              "      <th>124171</th>\n",
              "      <td>2443</td>\n",
              "      <td>o-outside</td>\n",
              "      <td>the</td>\n",
              "      <td>o</td>\n",
              "      <td>outside</td>\n",
              "      <td>eng_test</td>\n",
              "      <td>12218</td>\n",
              "    </tr>\n",
              "    <tr>\n",
              "      <th>124172</th>\n",
              "      <td>2443</td>\n",
              "      <td>o-outside</td>\n",
              "      <td>movie</td>\n",
              "      <td>o</td>\n",
              "      <td>outside</td>\n",
              "      <td>eng_test</td>\n",
              "      <td>12218</td>\n",
              "    </tr>\n",
              "    <tr>\n",
              "      <th>124173</th>\n",
              "      <td>2443</td>\n",
              "      <td>o-outside</td>\n",
              "      <td>about</td>\n",
              "      <td>o</td>\n",
              "      <td>outside</td>\n",
              "      <td>eng_test</td>\n",
              "      <td>12218</td>\n",
              "    </tr>\n",
              "    <tr>\n",
              "      <th>124174</th>\n",
              "      <td>2443</td>\n",
              "      <td>b-character</td>\n",
              "      <td>captain</td>\n",
              "      <td>b</td>\n",
              "      <td>character</td>\n",
              "      <td>eng_test</td>\n",
              "      <td>12218</td>\n",
              "    </tr>\n",
              "    <tr>\n",
              "      <th>124175</th>\n",
              "      <td>2443</td>\n",
              "      <td>i-character</td>\n",
              "      <td>jack</td>\n",
              "      <td>i</td>\n",
              "      <td>character</td>\n",
              "      <td>eng_test</td>\n",
              "      <td>12218</td>\n",
              "    </tr>\n",
              "    <tr>\n",
              "      <th>124176</th>\n",
              "      <td>2443</td>\n",
              "      <td>i-character</td>\n",
              "      <td>sparrow</td>\n",
              "      <td>i</td>\n",
              "      <td>character</td>\n",
              "      <td>eng_test</td>\n",
              "      <td>12218</td>\n",
              "    </tr>\n",
              "  </tbody>\n",
              "</table>\n",
              "</div>\n",
              "      <button class=\"colab-df-convert\" onclick=\"convertToInteractive('df-5f7f9990-f241-4e86-92cf-a74317953fb6')\"\n",
              "              title=\"Convert this dataframe to an interactive table.\"\n",
              "              style=\"display:none;\">\n",
              "        \n",
              "  <svg xmlns=\"http://www.w3.org/2000/svg\" height=\"24px\"viewBox=\"0 0 24 24\"\n",
              "       width=\"24px\">\n",
              "    <path d=\"M0 0h24v24H0V0z\" fill=\"none\"/>\n",
              "    <path d=\"M18.56 5.44l.94 2.06.94-2.06 2.06-.94-2.06-.94-.94-2.06-.94 2.06-2.06.94zm-11 1L8.5 8.5l.94-2.06 2.06-.94-2.06-.94L8.5 2.5l-.94 2.06-2.06.94zm10 10l.94 2.06.94-2.06 2.06-.94-2.06-.94-.94-2.06-.94 2.06-2.06.94z\"/><path d=\"M17.41 7.96l-1.37-1.37c-.4-.4-.92-.59-1.43-.59-.52 0-1.04.2-1.43.59L10.3 9.45l-7.72 7.72c-.78.78-.78 2.05 0 2.83L4 21.41c.39.39.9.59 1.41.59.51 0 1.02-.2 1.41-.59l7.78-7.78 2.81-2.81c.8-.78.8-2.07 0-2.86zM5.41 20L4 18.59l7.72-7.72 1.47 1.35L5.41 20z\"/>\n",
              "  </svg>\n",
              "      </button>\n",
              "      \n",
              "  <style>\n",
              "    .colab-df-container {\n",
              "      display:flex;\n",
              "      flex-wrap:wrap;\n",
              "      gap: 12px;\n",
              "    }\n",
              "\n",
              "    .colab-df-convert {\n",
              "      background-color: #E8F0FE;\n",
              "      border: none;\n",
              "      border-radius: 50%;\n",
              "      cursor: pointer;\n",
              "      display: none;\n",
              "      fill: #1967D2;\n",
              "      height: 32px;\n",
              "      padding: 0 0 0 0;\n",
              "      width: 32px;\n",
              "    }\n",
              "\n",
              "    .colab-df-convert:hover {\n",
              "      background-color: #E2EBFA;\n",
              "      box-shadow: 0px 1px 2px rgba(60, 64, 67, 0.3), 0px 1px 3px 1px rgba(60, 64, 67, 0.15);\n",
              "      fill: #174EA6;\n",
              "    }\n",
              "\n",
              "    [theme=dark] .colab-df-convert {\n",
              "      background-color: #3B4455;\n",
              "      fill: #D2E3FC;\n",
              "    }\n",
              "\n",
              "    [theme=dark] .colab-df-convert:hover {\n",
              "      background-color: #434B5C;\n",
              "      box-shadow: 0px 1px 3px 1px rgba(0, 0, 0, 0.15);\n",
              "      filter: drop-shadow(0px 1px 2px rgba(0, 0, 0, 0.3));\n",
              "      fill: #FFFFFF;\n",
              "    }\n",
              "  </style>\n",
              "\n",
              "      <script>\n",
              "        const buttonEl =\n",
              "          document.querySelector('#df-5f7f9990-f241-4e86-92cf-a74317953fb6 button.colab-df-convert');\n",
              "        buttonEl.style.display =\n",
              "          google.colab.kernel.accessAllowed ? 'block' : 'none';\n",
              "\n",
              "        async function convertToInteractive(key) {\n",
              "          const element = document.querySelector('#df-5f7f9990-f241-4e86-92cf-a74317953fb6');\n",
              "          const dataTable =\n",
              "            await google.colab.kernel.invokeFunction('convertToInteractive',\n",
              "                                                     [key], {});\n",
              "          if (!dataTable) return;\n",
              "\n",
              "          const docLinkHtml = 'Like what you see? Visit the ' +\n",
              "            '<a target=\"_blank\" href=https://colab.research.google.com/notebooks/data_table.ipynb>data table notebook</a>'\n",
              "            + ' to learn more about interactive tables.';\n",
              "          element.innerHTML = '';\n",
              "          dataTable['output_type'] = 'display_data';\n",
              "          await google.colab.output.renderOutput(dataTable, element);\n",
              "          const docLink = document.createElement('div');\n",
              "          docLink.innerHTML = docLinkHtml;\n",
              "          element.appendChild(docLink);\n",
              "        }\n",
              "      </script>\n",
              "    </div>\n",
              "  </div>\n",
              "  "
            ]
          },
          "metadata": {},
          "execution_count": 119
        }
      ]
    },
    {
      "cell_type": "code",
      "source": [
        "df.to_csv('movie_data.csv', index=False)"
      ],
      "metadata": {
        "id": "JdvOyDoPBA6z"
      },
      "execution_count": 70,
      "outputs": []
    },
    {
      "cell_type": "code",
      "source": [
        "df = pd.read_csv('movie_data.csv')"
      ],
      "metadata": {
        "id": "7j7n17rvEYIH"
      },
      "execution_count": 111,
      "outputs": []
    },
    {
      "cell_type": "code",
      "source": [
        "l_entities = list(df.entity.unique())\n",
        "l_entities"
      ],
      "metadata": {
        "id": "Uue-i6-6NK9q",
        "outputId": "c0bdbf21-445c-4d87-f4d8-248c259a0b32",
        "colab": {
          "base_uri": "https://localhost:8080/"
        }
      },
      "execution_count": 112,
      "outputs": [
        {
          "output_type": "execute_result",
          "data": {
            "text/plain": [
              "['outside',\n",
              " 'actor',\n",
              " 'year',\n",
              " 'title',\n",
              " 'genre',\n",
              " 'director',\n",
              " 'song',\n",
              " 'plot',\n",
              " 'review',\n",
              " 'character',\n",
              " 'rating',\n",
              " 'trailer',\n",
              " 'award',\n",
              " 'origin',\n",
              " 'relationship',\n",
              " 'quote']"
            ]
          },
          "metadata": {},
          "execution_count": 112
        }
      ]
    },
    {
      "cell_type": "code",
      "source": [
        "df = separate_label_into_pos_and_entity_components(df)"
      ],
      "metadata": {
        "id": "GHoIhWjKYkBh"
      },
      "execution_count": 113,
      "outputs": []
    },
    {
      "cell_type": "code",
      "source": [
        "df.rename(columns={'label' : 'iob2_label'}, inplace= True)\n",
        "df.loc[df['q_num'] == 2]"
      ],
      "metadata": {
        "id": "WKzb8MUoYlkk",
        "outputId": "8d4f3302-bf9f-4f49-da75-da5b91d512dd",
        "colab": {
          "base_uri": "https://localhost:8080/",
          "height": 331
        }
      },
      "execution_count": 117,
      "outputs": [
        {
          "output_type": "execute_result",
          "data": {
            "text/plain": [
              "    quest_num iob2_label       word pos   entity     source  q_num\n",
              "5           2  o-outside       show   o  outside  eng_train      2\n",
              "6           2  o-outside         me   o  outside  eng_train      2\n",
              "7           2  o-outside      films   o  outside  eng_train      2\n",
              "8           2  o-outside       with   o  outside  eng_train      2\n",
              "9           2    b-actor       drew   b    actor  eng_train      2\n",
              "10          2    i-actor  barrymore   i    actor  eng_train      2\n",
              "11          2  o-outside       from   o  outside  eng_train      2\n",
              "12          2  o-outside        the   o  outside  eng_train      2\n",
              "13          2     b-year      1980s   b     year  eng_train      2"
            ],
            "text/html": [
              "\n",
              "  <div id=\"df-ef97c03e-6dd0-419b-bb56-2e59dab7cf92\">\n",
              "    <div class=\"colab-df-container\">\n",
              "      <div>\n",
              "<style scoped>\n",
              "    .dataframe tbody tr th:only-of-type {\n",
              "        vertical-align: middle;\n",
              "    }\n",
              "\n",
              "    .dataframe tbody tr th {\n",
              "        vertical-align: top;\n",
              "    }\n",
              "\n",
              "    .dataframe thead th {\n",
              "        text-align: right;\n",
              "    }\n",
              "</style>\n",
              "<table border=\"1\" class=\"dataframe\">\n",
              "  <thead>\n",
              "    <tr style=\"text-align: right;\">\n",
              "      <th></th>\n",
              "      <th>quest_num</th>\n",
              "      <th>iob2_label</th>\n",
              "      <th>word</th>\n",
              "      <th>pos</th>\n",
              "      <th>entity</th>\n",
              "      <th>source</th>\n",
              "      <th>q_num</th>\n",
              "    </tr>\n",
              "  </thead>\n",
              "  <tbody>\n",
              "    <tr>\n",
              "      <th>5</th>\n",
              "      <td>2</td>\n",
              "      <td>o-outside</td>\n",
              "      <td>show</td>\n",
              "      <td>o</td>\n",
              "      <td>outside</td>\n",
              "      <td>eng_train</td>\n",
              "      <td>2</td>\n",
              "    </tr>\n",
              "    <tr>\n",
              "      <th>6</th>\n",
              "      <td>2</td>\n",
              "      <td>o-outside</td>\n",
              "      <td>me</td>\n",
              "      <td>o</td>\n",
              "      <td>outside</td>\n",
              "      <td>eng_train</td>\n",
              "      <td>2</td>\n",
              "    </tr>\n",
              "    <tr>\n",
              "      <th>7</th>\n",
              "      <td>2</td>\n",
              "      <td>o-outside</td>\n",
              "      <td>films</td>\n",
              "      <td>o</td>\n",
              "      <td>outside</td>\n",
              "      <td>eng_train</td>\n",
              "      <td>2</td>\n",
              "    </tr>\n",
              "    <tr>\n",
              "      <th>8</th>\n",
              "      <td>2</td>\n",
              "      <td>o-outside</td>\n",
              "      <td>with</td>\n",
              "      <td>o</td>\n",
              "      <td>outside</td>\n",
              "      <td>eng_train</td>\n",
              "      <td>2</td>\n",
              "    </tr>\n",
              "    <tr>\n",
              "      <th>9</th>\n",
              "      <td>2</td>\n",
              "      <td>b-actor</td>\n",
              "      <td>drew</td>\n",
              "      <td>b</td>\n",
              "      <td>actor</td>\n",
              "      <td>eng_train</td>\n",
              "      <td>2</td>\n",
              "    </tr>\n",
              "    <tr>\n",
              "      <th>10</th>\n",
              "      <td>2</td>\n",
              "      <td>i-actor</td>\n",
              "      <td>barrymore</td>\n",
              "      <td>i</td>\n",
              "      <td>actor</td>\n",
              "      <td>eng_train</td>\n",
              "      <td>2</td>\n",
              "    </tr>\n",
              "    <tr>\n",
              "      <th>11</th>\n",
              "      <td>2</td>\n",
              "      <td>o-outside</td>\n",
              "      <td>from</td>\n",
              "      <td>o</td>\n",
              "      <td>outside</td>\n",
              "      <td>eng_train</td>\n",
              "      <td>2</td>\n",
              "    </tr>\n",
              "    <tr>\n",
              "      <th>12</th>\n",
              "      <td>2</td>\n",
              "      <td>o-outside</td>\n",
              "      <td>the</td>\n",
              "      <td>o</td>\n",
              "      <td>outside</td>\n",
              "      <td>eng_train</td>\n",
              "      <td>2</td>\n",
              "    </tr>\n",
              "    <tr>\n",
              "      <th>13</th>\n",
              "      <td>2</td>\n",
              "      <td>b-year</td>\n",
              "      <td>1980s</td>\n",
              "      <td>b</td>\n",
              "      <td>year</td>\n",
              "      <td>eng_train</td>\n",
              "      <td>2</td>\n",
              "    </tr>\n",
              "  </tbody>\n",
              "</table>\n",
              "</div>\n",
              "      <button class=\"colab-df-convert\" onclick=\"convertToInteractive('df-ef97c03e-6dd0-419b-bb56-2e59dab7cf92')\"\n",
              "              title=\"Convert this dataframe to an interactive table.\"\n",
              "              style=\"display:none;\">\n",
              "        \n",
              "  <svg xmlns=\"http://www.w3.org/2000/svg\" height=\"24px\"viewBox=\"0 0 24 24\"\n",
              "       width=\"24px\">\n",
              "    <path d=\"M0 0h24v24H0V0z\" fill=\"none\"/>\n",
              "    <path d=\"M18.56 5.44l.94 2.06.94-2.06 2.06-.94-2.06-.94-.94-2.06-.94 2.06-2.06.94zm-11 1L8.5 8.5l.94-2.06 2.06-.94-2.06-.94L8.5 2.5l-.94 2.06-2.06.94zm10 10l.94 2.06.94-2.06 2.06-.94-2.06-.94-.94-2.06-.94 2.06-2.06.94z\"/><path d=\"M17.41 7.96l-1.37-1.37c-.4-.4-.92-.59-1.43-.59-.52 0-1.04.2-1.43.59L10.3 9.45l-7.72 7.72c-.78.78-.78 2.05 0 2.83L4 21.41c.39.39.9.59 1.41.59.51 0 1.02-.2 1.41-.59l7.78-7.78 2.81-2.81c.8-.78.8-2.07 0-2.86zM5.41 20L4 18.59l7.72-7.72 1.47 1.35L5.41 20z\"/>\n",
              "  </svg>\n",
              "      </button>\n",
              "      \n",
              "  <style>\n",
              "    .colab-df-container {\n",
              "      display:flex;\n",
              "      flex-wrap:wrap;\n",
              "      gap: 12px;\n",
              "    }\n",
              "\n",
              "    .colab-df-convert {\n",
              "      background-color: #E8F0FE;\n",
              "      border: none;\n",
              "      border-radius: 50%;\n",
              "      cursor: pointer;\n",
              "      display: none;\n",
              "      fill: #1967D2;\n",
              "      height: 32px;\n",
              "      padding: 0 0 0 0;\n",
              "      width: 32px;\n",
              "    }\n",
              "\n",
              "    .colab-df-convert:hover {\n",
              "      background-color: #E2EBFA;\n",
              "      box-shadow: 0px 1px 2px rgba(60, 64, 67, 0.3), 0px 1px 3px 1px rgba(60, 64, 67, 0.15);\n",
              "      fill: #174EA6;\n",
              "    }\n",
              "\n",
              "    [theme=dark] .colab-df-convert {\n",
              "      background-color: #3B4455;\n",
              "      fill: #D2E3FC;\n",
              "    }\n",
              "\n",
              "    [theme=dark] .colab-df-convert:hover {\n",
              "      background-color: #434B5C;\n",
              "      box-shadow: 0px 1px 3px 1px rgba(0, 0, 0, 0.15);\n",
              "      filter: drop-shadow(0px 1px 2px rgba(0, 0, 0, 0.3));\n",
              "      fill: #FFFFFF;\n",
              "    }\n",
              "  </style>\n",
              "\n",
              "      <script>\n",
              "        const buttonEl =\n",
              "          document.querySelector('#df-ef97c03e-6dd0-419b-bb56-2e59dab7cf92 button.colab-df-convert');\n",
              "        buttonEl.style.display =\n",
              "          google.colab.kernel.accessAllowed ? 'block' : 'none';\n",
              "\n",
              "        async function convertToInteractive(key) {\n",
              "          const element = document.querySelector('#df-ef97c03e-6dd0-419b-bb56-2e59dab7cf92');\n",
              "          const dataTable =\n",
              "            await google.colab.kernel.invokeFunction('convertToInteractive',\n",
              "                                                     [key], {});\n",
              "          if (!dataTable) return;\n",
              "\n",
              "          const docLinkHtml = 'Like what you see? Visit the ' +\n",
              "            '<a target=\"_blank\" href=https://colab.research.google.com/notebooks/data_table.ipynb>data table notebook</a>'\n",
              "            + ' to learn more about interactive tables.';\n",
              "          element.innerHTML = '';\n",
              "          dataTable['output_type'] = 'display_data';\n",
              "          await google.colab.output.renderOutput(dataTable, element);\n",
              "          const docLink = document.createElement('div');\n",
              "          docLink.innerHTML = docLinkHtml;\n",
              "          element.appendChild(docLink);\n",
              "        }\n",
              "      </script>\n",
              "    </div>\n",
              "  </div>\n",
              "  "
            ]
          },
          "metadata": {},
          "execution_count": 117
        }
      ]
    },
    {
      "cell_type": "code",
      "source": [
        "df_entity_tag_count = (\n",
        "pd.DataFrame(df.rename(columns={'iob2_tag': 'iob2_label',}\n",
        "                       ).groupby(['iob2_label']\n",
        "                                 )['iob2_label'].count()\n",
        "            ).rename(columns={'iob2_label': 'count'}\n",
        "                    ).sort_values(by='count', ascending=False\n",
        "                                  )[:8].reset_index().style.set_properties(**{'text-align': 'left'})\n",
        ")\n",
        "\n",
        "#df_entity_tag_count.set_caption(\"Eng_Train.bio <br> Entity Count\").set_table_styles(styles)\n",
        "\n",
        "(df_entity_tag_count.set_caption(\"IOB2_Label Count<br> Combined_Dataset \"\n",
        "                               ).set_table_styles([dict(selector=\"caption\", \n",
        "                                                        props=[(\"font-size\", \"120%\"),\n",
        "                                                               (\"font-weight\", \"bold\")\n",
        "                                                               ]\n",
        "                                                        ),\n",
        "                                                   dict(selector = 'th', \n",
        "                                                        props=[('text-align', 'left')]\n",
        "                                                        )\n",
        "                                                   ]\n",
        "                                                  )).hide_index()"
      ],
      "metadata": {
        "id": "Dzx2JUvTgVai",
        "outputId": "554f1dc1-b2c3-497d-bbd9-99a0bbf6c8f7",
        "colab": {
          "base_uri": "https://localhost:8080/",
          "height": 379
        }
      },
      "execution_count": 123,
      "outputs": [
        {
          "output_type": "stream",
          "name": "stderr",
          "text": [
            "<ipython-input-123-7fe424e9e0b6>:12: FutureWarning: this method is deprecated in favour of `Styler.hide(axis=\"index\")`\n",
            "  (df_entity_tag_count.set_caption(\"IOB2_Label Count<br> Combined_Dataset \"\n"
          ]
        },
        {
          "output_type": "execute_result",
          "data": {
            "text/plain": [
              "<pandas.io.formats.style.Styler at 0x7ff1f0840be0>"
            ],
            "text/html": [
              "<style type=\"text/css\">\n",
              "#T_262ed caption {\n",
              "  font-size: 120%;\n",
              "  font-weight: bold;\n",
              "}\n",
              "#T_262ed th {\n",
              "  text-align: left;\n",
              "}\n",
              "#T_262ed_row0_col0, #T_262ed_row0_col1, #T_262ed_row1_col0, #T_262ed_row1_col1, #T_262ed_row2_col0, #T_262ed_row2_col1, #T_262ed_row3_col0, #T_262ed_row3_col1, #T_262ed_row4_col0, #T_262ed_row4_col1, #T_262ed_row5_col0, #T_262ed_row5_col1, #T_262ed_row6_col0, #T_262ed_row6_col1, #T_262ed_row7_col0, #T_262ed_row7_col1 {\n",
              "  text-align: left;\n",
              "}\n",
              "</style>\n",
              "<table id=\"T_262ed\" class=\"dataframe\">\n",
              "  <caption>IOB2_Label Count<br> Combined_Dataset </caption>\n",
              "  <thead>\n",
              "    <tr>\n",
              "      <th id=\"T_262ed_level0_col0\" class=\"col_heading level0 col0\" >iob2_label</th>\n",
              "      <th id=\"T_262ed_level0_col1\" class=\"col_heading level0 col1\" >count</th>\n",
              "    </tr>\n",
              "  </thead>\n",
              "  <tbody>\n",
              "    <tr>\n",
              "      <td id=\"T_262ed_row0_col0\" class=\"data row0 col0\" >o-outside</td>\n",
              "      <td id=\"T_262ed_row0_col1\" class=\"data row0 col1\" >145975</td>\n",
              "    </tr>\n",
              "    <tr>\n",
              "      <td id=\"T_262ed_row1_col0\" class=\"data row1 col0\" >i-plot</td>\n",
              "      <td id=\"T_262ed_row1_col1\" class=\"data row1 col1\" >78951</td>\n",
              "    </tr>\n",
              "    <tr>\n",
              "      <td id=\"T_262ed_row2_col0\" class=\"data row2 col0\" >i-actor</td>\n",
              "      <td id=\"T_262ed_row2_col1\" class=\"data row2 col1\" >12010</td>\n",
              "    </tr>\n",
              "    <tr>\n",
              "      <td id=\"T_262ed_row3_col0\" class=\"data row3 col0\" >b-plot</td>\n",
              "      <td id=\"T_262ed_row3_col1\" class=\"data row3 col1\" >10463</td>\n",
              "    </tr>\n",
              "    <tr>\n",
              "      <td id=\"T_262ed_row4_col0\" class=\"data row4 col0\" >b-actor</td>\n",
              "      <td id=\"T_262ed_row4_col1\" class=\"data row4 col1\" >10316</td>\n",
              "    </tr>\n",
              "    <tr>\n",
              "      <td id=\"T_262ed_row5_col0\" class=\"data row5 col0\" >b-genre</td>\n",
              "      <td id=\"T_262ed_row5_col1\" class=\"data row5 col1\" >9644</td>\n",
              "    </tr>\n",
              "    <tr>\n",
              "      <td id=\"T_262ed_row6_col0\" class=\"data row6 col0\" >b-year</td>\n",
              "      <td id=\"T_262ed_row6_col1\" class=\"data row6 col1\" >6941</td>\n",
              "    </tr>\n",
              "    <tr>\n",
              "      <td id=\"T_262ed_row7_col0\" class=\"data row7 col0\" >i-director</td>\n",
              "      <td id=\"T_262ed_row7_col1\" class=\"data row7 col1\" >4410</td>\n",
              "    </tr>\n",
              "  </tbody>\n",
              "</table>\n"
            ]
          },
          "metadata": {},
          "execution_count": 123
        }
      ]
    },
    {
      "cell_type": "code",
      "source": [
        "df.entity.unique()"
      ],
      "metadata": {
        "colab": {
          "base_uri": "https://localhost:8080/"
        },
        "id": "ZiW5O2buAjMM",
        "outputId": "28657800-a6bd-4169-9865-e42e26eecdcc"
      },
      "execution_count": null,
      "outputs": [
        {
          "output_type": "execute_result",
          "data": {
            "text/plain": [
              "array(['outside', 'actor', 'year', 'title', 'genre', 'director', 'song',\n",
              "       'plot', 'review', 'character', 'rating', 'trailer', 'award',\n",
              "       'origin', 'relationship', 'quote'], dtype=object)"
            ]
          },
          "metadata": {},
          "execution_count": 69
        }
      ]
    },
    {
      "cell_type": "markdown",
      "source": [
        "## iob2_label Count - All Data"
      ],
      "metadata": {
        "id": "6ZnnIcz_gBSx"
      }
    },
    {
      "cell_type": "code",
      "source": [
        "df_all = df.copy()"
      ],
      "metadata": {
        "id": "ukT6c3Alc_7S"
      },
      "execution_count": 80,
      "outputs": []
    },
    {
      "cell_type": "code",
      "source": [
        "df_label = merge_entity_components_into_one(df,l_entities )"
      ],
      "metadata": {
        "id": "Q9PHfo8HNHmz"
      },
      "execution_count": 79,
      "outputs": []
    },
    {
      "cell_type": "code",
      "source": [
        "df_label = pd.read_csv('https://github.com/wbfrench1/barker_DATA606/blob/26c34fe90fbb30f41e486a831176f72bf22f3048/data/df_combined_data_w_merged_entities.csv?raw=true')"
      ],
      "metadata": {
        "id": "6jKenOTlqTOi"
      },
      "execution_count": 189,
      "outputs": []
    },
    {
      "cell_type": "code",
      "source": [
        "df_label.entity.unique()"
      ],
      "metadata": {
        "id": "Wc0oLGenetRy",
        "outputId": "2e7e0925-7c6f-43fe-97c9-3d8d78bd8d58",
        "colab": {
          "base_uri": "https://localhost:8080/"
        }
      },
      "execution_count": 190,
      "outputs": [
        {
          "output_type": "execute_result",
          "data": {
            "text/plain": [
              "array(['outside', 'actor', 'year', 'title', 'genre', 'director', 'song',\n",
              "       'plot', 'review', 'character', 'rating', 'trailer', 'award',\n",
              "       'origin', 'relationship', 'quote'], dtype=object)"
            ]
          },
          "metadata": {},
          "execution_count": 190
        }
      ]
    },
    {
      "cell_type": "code",
      "source": [
        "df_label.loc[df_label.entity != 'outside'].sample(5)"
      ],
      "metadata": {
        "id": "TKo7QDGlYHkh",
        "outputId": "6821838c-4e1e-4bad-bbca-724a080bed61",
        "colab": {
          "base_uri": "https://localhost:8080/",
          "height": 206
        }
      },
      "execution_count": 109,
      "outputs": [
        {
          "output_type": "execute_result",
          "data": {
            "text/plain": [
              "        entity                                  word\n",
              "1854     actor  tim curry susan sarrandon tim mcgraw\n",
              "6550      plot        samurai takes place in morocco\n",
              "7996  director                       christophe gans\n",
              "5862    review                                  four\n",
              "3166     actor                           clark gable"
            ],
            "text/html": [
              "\n",
              "  <div id=\"df-d33dcc32-4e8e-4a05-96fc-4a90e0dbde57\">\n",
              "    <div class=\"colab-df-container\">\n",
              "      <div>\n",
              "<style scoped>\n",
              "    .dataframe tbody tr th:only-of-type {\n",
              "        vertical-align: middle;\n",
              "    }\n",
              "\n",
              "    .dataframe tbody tr th {\n",
              "        vertical-align: top;\n",
              "    }\n",
              "\n",
              "    .dataframe thead th {\n",
              "        text-align: right;\n",
              "    }\n",
              "</style>\n",
              "<table border=\"1\" class=\"dataframe\">\n",
              "  <thead>\n",
              "    <tr style=\"text-align: right;\">\n",
              "      <th></th>\n",
              "      <th>entity</th>\n",
              "      <th>word</th>\n",
              "    </tr>\n",
              "  </thead>\n",
              "  <tbody>\n",
              "    <tr>\n",
              "      <th>1854</th>\n",
              "      <td>actor</td>\n",
              "      <td>tim curry susan sarrandon tim mcgraw</td>\n",
              "    </tr>\n",
              "    <tr>\n",
              "      <th>6550</th>\n",
              "      <td>plot</td>\n",
              "      <td>samurai takes place in morocco</td>\n",
              "    </tr>\n",
              "    <tr>\n",
              "      <th>7996</th>\n",
              "      <td>director</td>\n",
              "      <td>christophe gans</td>\n",
              "    </tr>\n",
              "    <tr>\n",
              "      <th>5862</th>\n",
              "      <td>review</td>\n",
              "      <td>four</td>\n",
              "    </tr>\n",
              "    <tr>\n",
              "      <th>3166</th>\n",
              "      <td>actor</td>\n",
              "      <td>clark gable</td>\n",
              "    </tr>\n",
              "  </tbody>\n",
              "</table>\n",
              "</div>\n",
              "      <button class=\"colab-df-convert\" onclick=\"convertToInteractive('df-d33dcc32-4e8e-4a05-96fc-4a90e0dbde57')\"\n",
              "              title=\"Convert this dataframe to an interactive table.\"\n",
              "              style=\"display:none;\">\n",
              "        \n",
              "  <svg xmlns=\"http://www.w3.org/2000/svg\" height=\"24px\"viewBox=\"0 0 24 24\"\n",
              "       width=\"24px\">\n",
              "    <path d=\"M0 0h24v24H0V0z\" fill=\"none\"/>\n",
              "    <path d=\"M18.56 5.44l.94 2.06.94-2.06 2.06-.94-2.06-.94-.94-2.06-.94 2.06-2.06.94zm-11 1L8.5 8.5l.94-2.06 2.06-.94-2.06-.94L8.5 2.5l-.94 2.06-2.06.94zm10 10l.94 2.06.94-2.06 2.06-.94-2.06-.94-.94-2.06-.94 2.06-2.06.94z\"/><path d=\"M17.41 7.96l-1.37-1.37c-.4-.4-.92-.59-1.43-.59-.52 0-1.04.2-1.43.59L10.3 9.45l-7.72 7.72c-.78.78-.78 2.05 0 2.83L4 21.41c.39.39.9.59 1.41.59.51 0 1.02-.2 1.41-.59l7.78-7.78 2.81-2.81c.8-.78.8-2.07 0-2.86zM5.41 20L4 18.59l7.72-7.72 1.47 1.35L5.41 20z\"/>\n",
              "  </svg>\n",
              "      </button>\n",
              "      \n",
              "  <style>\n",
              "    .colab-df-container {\n",
              "      display:flex;\n",
              "      flex-wrap:wrap;\n",
              "      gap: 12px;\n",
              "    }\n",
              "\n",
              "    .colab-df-convert {\n",
              "      background-color: #E8F0FE;\n",
              "      border: none;\n",
              "      border-radius: 50%;\n",
              "      cursor: pointer;\n",
              "      display: none;\n",
              "      fill: #1967D2;\n",
              "      height: 32px;\n",
              "      padding: 0 0 0 0;\n",
              "      width: 32px;\n",
              "    }\n",
              "\n",
              "    .colab-df-convert:hover {\n",
              "      background-color: #E2EBFA;\n",
              "      box-shadow: 0px 1px 2px rgba(60, 64, 67, 0.3), 0px 1px 3px 1px rgba(60, 64, 67, 0.15);\n",
              "      fill: #174EA6;\n",
              "    }\n",
              "\n",
              "    [theme=dark] .colab-df-convert {\n",
              "      background-color: #3B4455;\n",
              "      fill: #D2E3FC;\n",
              "    }\n",
              "\n",
              "    [theme=dark] .colab-df-convert:hover {\n",
              "      background-color: #434B5C;\n",
              "      box-shadow: 0px 1px 3px 1px rgba(0, 0, 0, 0.15);\n",
              "      filter: drop-shadow(0px 1px 2px rgba(0, 0, 0, 0.3));\n",
              "      fill: #FFFFFF;\n",
              "    }\n",
              "  </style>\n",
              "\n",
              "      <script>\n",
              "        const buttonEl =\n",
              "          document.querySelector('#df-d33dcc32-4e8e-4a05-96fc-4a90e0dbde57 button.colab-df-convert');\n",
              "        buttonEl.style.display =\n",
              "          google.colab.kernel.accessAllowed ? 'block' : 'none';\n",
              "\n",
              "        async function convertToInteractive(key) {\n",
              "          const element = document.querySelector('#df-d33dcc32-4e8e-4a05-96fc-4a90e0dbde57');\n",
              "          const dataTable =\n",
              "            await google.colab.kernel.invokeFunction('convertToInteractive',\n",
              "                                                     [key], {});\n",
              "          if (!dataTable) return;\n",
              "\n",
              "          const docLinkHtml = 'Like what you see? Visit the ' +\n",
              "            '<a target=\"_blank\" href=https://colab.research.google.com/notebooks/data_table.ipynb>data table notebook</a>'\n",
              "            + ' to learn more about interactive tables.';\n",
              "          element.innerHTML = '';\n",
              "          dataTable['output_type'] = 'display_data';\n",
              "          await google.colab.output.renderOutput(dataTable, element);\n",
              "          const docLink = document.createElement('div');\n",
              "          docLink.innerHTML = docLinkHtml;\n",
              "          element.appendChild(docLink);\n",
              "        }\n",
              "      </script>\n",
              "    </div>\n",
              "  </div>\n",
              "  "
            ]
          },
          "metadata": {},
          "execution_count": 109
        }
      ]
    },
    {
      "cell_type": "code",
      "source": [
        "df_label['entity'].value_counts().sort_values(ascending=False)"
      ],
      "metadata": {
        "id": "bUx_AiJvktku",
        "outputId": "4bfeb1e7-3a27-4196-af56-7db7c81b4337",
        "colab": {
          "base_uri": "https://localhost:8080/"
        }
      },
      "execution_count": 154,
      "outputs": [
        {
          "output_type": "execute_result",
          "data": {
            "text/plain": [
              "outside         9646\n",
              "plot            7004\n",
              "genre           6849\n",
              "actor           6013\n",
              "year            5401\n",
              "director        3752\n",
              "review          3221\n",
              "title           2764\n",
              "rating          2467\n",
              "character       1394\n",
              "origin           896\n",
              "relationship     656\n",
              "song             334\n",
              "award            312\n",
              "quote            162\n",
              "trailer          142\n",
              "Name: entity, dtype: int64"
            ]
          },
          "metadata": {},
          "execution_count": 154
        }
      ]
    },
    {
      "cell_type": "code",
      "source": [
        "df_entity_count = df_label['entity'].value_counts().sort_values(ascending=True).reset_index().copy()\n",
        "df_entity_count.rename(columns={'entity': 'count','index': 'entity', }, inplace=True)\n",
        "df_entity_count.sort_values(by='count', ascending=False, inplace=True)\n",
        "df_entity_count"
      ],
      "metadata": {
        "id": "kGnVBmYKlW2_",
        "outputId": "35759eca-50c3-4bed-dcd6-e399bb849b37",
        "colab": {
          "base_uri": "https://localhost:8080/",
          "height": 551
        }
      },
      "execution_count": 156,
      "outputs": [
        {
          "output_type": "execute_result",
          "data": {
            "text/plain": [
              "          entity  count\n",
              "15       outside   9646\n",
              "14          plot   7004\n",
              "13         genre   6849\n",
              "12         actor   6013\n",
              "11          year   5401\n",
              "10      director   3752\n",
              "9         review   3221\n",
              "8          title   2764\n",
              "7         rating   2467\n",
              "6      character   1394\n",
              "5         origin    896\n",
              "4   relationship    656\n",
              "3           song    334\n",
              "2          award    312\n",
              "1          quote    162\n",
              "0        trailer    142"
            ],
            "text/html": [
              "\n",
              "  <div id=\"df-79928cf6-4ed3-47da-b12f-bf671d2c9b2c\">\n",
              "    <div class=\"colab-df-container\">\n",
              "      <div>\n",
              "<style scoped>\n",
              "    .dataframe tbody tr th:only-of-type {\n",
              "        vertical-align: middle;\n",
              "    }\n",
              "\n",
              "    .dataframe tbody tr th {\n",
              "        vertical-align: top;\n",
              "    }\n",
              "\n",
              "    .dataframe thead th {\n",
              "        text-align: right;\n",
              "    }\n",
              "</style>\n",
              "<table border=\"1\" class=\"dataframe\">\n",
              "  <thead>\n",
              "    <tr style=\"text-align: right;\">\n",
              "      <th></th>\n",
              "      <th>entity</th>\n",
              "      <th>count</th>\n",
              "    </tr>\n",
              "  </thead>\n",
              "  <tbody>\n",
              "    <tr>\n",
              "      <th>15</th>\n",
              "      <td>outside</td>\n",
              "      <td>9646</td>\n",
              "    </tr>\n",
              "    <tr>\n",
              "      <th>14</th>\n",
              "      <td>plot</td>\n",
              "      <td>7004</td>\n",
              "    </tr>\n",
              "    <tr>\n",
              "      <th>13</th>\n",
              "      <td>genre</td>\n",
              "      <td>6849</td>\n",
              "    </tr>\n",
              "    <tr>\n",
              "      <th>12</th>\n",
              "      <td>actor</td>\n",
              "      <td>6013</td>\n",
              "    </tr>\n",
              "    <tr>\n",
              "      <th>11</th>\n",
              "      <td>year</td>\n",
              "      <td>5401</td>\n",
              "    </tr>\n",
              "    <tr>\n",
              "      <th>10</th>\n",
              "      <td>director</td>\n",
              "      <td>3752</td>\n",
              "    </tr>\n",
              "    <tr>\n",
              "      <th>9</th>\n",
              "      <td>review</td>\n",
              "      <td>3221</td>\n",
              "    </tr>\n",
              "    <tr>\n",
              "      <th>8</th>\n",
              "      <td>title</td>\n",
              "      <td>2764</td>\n",
              "    </tr>\n",
              "    <tr>\n",
              "      <th>7</th>\n",
              "      <td>rating</td>\n",
              "      <td>2467</td>\n",
              "    </tr>\n",
              "    <tr>\n",
              "      <th>6</th>\n",
              "      <td>character</td>\n",
              "      <td>1394</td>\n",
              "    </tr>\n",
              "    <tr>\n",
              "      <th>5</th>\n",
              "      <td>origin</td>\n",
              "      <td>896</td>\n",
              "    </tr>\n",
              "    <tr>\n",
              "      <th>4</th>\n",
              "      <td>relationship</td>\n",
              "      <td>656</td>\n",
              "    </tr>\n",
              "    <tr>\n",
              "      <th>3</th>\n",
              "      <td>song</td>\n",
              "      <td>334</td>\n",
              "    </tr>\n",
              "    <tr>\n",
              "      <th>2</th>\n",
              "      <td>award</td>\n",
              "      <td>312</td>\n",
              "    </tr>\n",
              "    <tr>\n",
              "      <th>1</th>\n",
              "      <td>quote</td>\n",
              "      <td>162</td>\n",
              "    </tr>\n",
              "    <tr>\n",
              "      <th>0</th>\n",
              "      <td>trailer</td>\n",
              "      <td>142</td>\n",
              "    </tr>\n",
              "  </tbody>\n",
              "</table>\n",
              "</div>\n",
              "      <button class=\"colab-df-convert\" onclick=\"convertToInteractive('df-79928cf6-4ed3-47da-b12f-bf671d2c9b2c')\"\n",
              "              title=\"Convert this dataframe to an interactive table.\"\n",
              "              style=\"display:none;\">\n",
              "        \n",
              "  <svg xmlns=\"http://www.w3.org/2000/svg\" height=\"24px\"viewBox=\"0 0 24 24\"\n",
              "       width=\"24px\">\n",
              "    <path d=\"M0 0h24v24H0V0z\" fill=\"none\"/>\n",
              "    <path d=\"M18.56 5.44l.94 2.06.94-2.06 2.06-.94-2.06-.94-.94-2.06-.94 2.06-2.06.94zm-11 1L8.5 8.5l.94-2.06 2.06-.94-2.06-.94L8.5 2.5l-.94 2.06-2.06.94zm10 10l.94 2.06.94-2.06 2.06-.94-2.06-.94-.94-2.06-.94 2.06-2.06.94z\"/><path d=\"M17.41 7.96l-1.37-1.37c-.4-.4-.92-.59-1.43-.59-.52 0-1.04.2-1.43.59L10.3 9.45l-7.72 7.72c-.78.78-.78 2.05 0 2.83L4 21.41c.39.39.9.59 1.41.59.51 0 1.02-.2 1.41-.59l7.78-7.78 2.81-2.81c.8-.78.8-2.07 0-2.86zM5.41 20L4 18.59l7.72-7.72 1.47 1.35L5.41 20z\"/>\n",
              "  </svg>\n",
              "      </button>\n",
              "      \n",
              "  <style>\n",
              "    .colab-df-container {\n",
              "      display:flex;\n",
              "      flex-wrap:wrap;\n",
              "      gap: 12px;\n",
              "    }\n",
              "\n",
              "    .colab-df-convert {\n",
              "      background-color: #E8F0FE;\n",
              "      border: none;\n",
              "      border-radius: 50%;\n",
              "      cursor: pointer;\n",
              "      display: none;\n",
              "      fill: #1967D2;\n",
              "      height: 32px;\n",
              "      padding: 0 0 0 0;\n",
              "      width: 32px;\n",
              "    }\n",
              "\n",
              "    .colab-df-convert:hover {\n",
              "      background-color: #E2EBFA;\n",
              "      box-shadow: 0px 1px 2px rgba(60, 64, 67, 0.3), 0px 1px 3px 1px rgba(60, 64, 67, 0.15);\n",
              "      fill: #174EA6;\n",
              "    }\n",
              "\n",
              "    [theme=dark] .colab-df-convert {\n",
              "      background-color: #3B4455;\n",
              "      fill: #D2E3FC;\n",
              "    }\n",
              "\n",
              "    [theme=dark] .colab-df-convert:hover {\n",
              "      background-color: #434B5C;\n",
              "      box-shadow: 0px 1px 3px 1px rgba(0, 0, 0, 0.15);\n",
              "      filter: drop-shadow(0px 1px 2px rgba(0, 0, 0, 0.3));\n",
              "      fill: #FFFFFF;\n",
              "    }\n",
              "  </style>\n",
              "\n",
              "      <script>\n",
              "        const buttonEl =\n",
              "          document.querySelector('#df-79928cf6-4ed3-47da-b12f-bf671d2c9b2c button.colab-df-convert');\n",
              "        buttonEl.style.display =\n",
              "          google.colab.kernel.accessAllowed ? 'block' : 'none';\n",
              "\n",
              "        async function convertToInteractive(key) {\n",
              "          const element = document.querySelector('#df-79928cf6-4ed3-47da-b12f-bf671d2c9b2c');\n",
              "          const dataTable =\n",
              "            await google.colab.kernel.invokeFunction('convertToInteractive',\n",
              "                                                     [key], {});\n",
              "          if (!dataTable) return;\n",
              "\n",
              "          const docLinkHtml = 'Like what you see? Visit the ' +\n",
              "            '<a target=\"_blank\" href=https://colab.research.google.com/notebooks/data_table.ipynb>data table notebook</a>'\n",
              "            + ' to learn more about interactive tables.';\n",
              "          element.innerHTML = '';\n",
              "          dataTable['output_type'] = 'display_data';\n",
              "          await google.colab.output.renderOutput(dataTable, element);\n",
              "          const docLink = document.createElement('div');\n",
              "          docLink.innerHTML = docLinkHtml;\n",
              "          element.appendChild(docLink);\n",
              "        }\n",
              "      </script>\n",
              "    </div>\n",
              "  </div>\n",
              "  "
            ]
          },
          "metadata": {},
          "execution_count": 156
        }
      ]
    },
    {
      "cell_type": "code",
      "source": [
        "g = sns.barplot(data=df_entity_count, x='count', y='entity',\n",
        "            palette= 'muted')\n",
        "\n",
        "g.axes.xaxis.set_major_formatter(tkr.FuncFormatter(lambda x, p: f'{int(x):,}'))\n",
        "g.set_title('Movie Entity Count Combined Dataset')"
      ],
      "metadata": {
        "id": "aNGDcolAmv67",
        "outputId": "b4d5c734-3b35-4c78-a02e-41b6e1c15751",
        "colab": {
          "base_uri": "https://localhost:8080/",
          "height": 490
        }
      },
      "execution_count": 186,
      "outputs": [
        {
          "output_type": "execute_result",
          "data": {
            "text/plain": [
              "Text(0.5, 1.0, 'Movie Entity Count Combined Dataset')"
            ]
          },
          "metadata": {},
          "execution_count": 186
        },
        {
          "output_type": "display_data",
          "data": {
            "text/plain": [
              "<Figure size 640x480 with 1 Axes>"
            ],
            "image/png": "[encoded data removed]"
          },
          "metadata": {}
        }
      ]
    },
    {
      "cell_type": "markdown",
      "source": [
        "- project business proposal\n",
        "\n",
        "  - Literature Search\n",
        "  - Run the Models\n",
        "  - Show the results\n",
        "  - Several Identify techniques for improvement\n",
        "  - Implement techniques\n",
        "  - Look at results\n",
        "  - Appropriate Visualizatio of results\n",
        "  \n",
        "- eda -for each data set explain the data. \n",
        "\n",
        "  - Show the labels\n",
        "  - Show the titles and counts"
      ],
      "metadata": {
        "id": "38t7btpEegxf"
      }
    }
  ]
}