{
  "nbformat": 4,
  "nbformat_minor": 0,
  "metadata": {
    "colab": {
      "provenance": [],
      "authorship_tag": "ABX9TyOjAGSU1IADrmcP14G28bKO"
    },
    "kernelspec": {
      "name": "python3",
      "display_name": "Python 3"
    },
    "language_info": {
      "name": "python"
    }
  },
  "cells": [
    {
      "cell_type": "markdown",
      "source": [
        "<a target=\"_blank\" href=\"https://colab.research.google.com/github/wbfrench1/barker_DATA606/blob/main/src/spaCy_NER_model_dataset.ipynb\">\n",
        "  <img src=\"https://colab.research.google.com/assets/colab-badge.svg\" alt=\"Open In Colab\"/>\n",
        "</a>"
      ],
      "metadata": {
        "id": "eS4RjuetnH8W"
      }
    },
    {
      "cell_type": "markdown",
      "source": [
        "Followed this tutorial\n",
        "https://colab.research.google.com/github/practical-nlp/practical-nlp/blob/master/Ch5/04_NER_using_spaCy%20-%20CoNLL.ipynb#scrollTo=X4wBa1MGwTwy"
      ],
      "metadata": {
        "id": "7f9J30lH6pFW"
      }
    },
    {
      "cell_type": "code",
      "execution_count": 37,
      "metadata": {
        "id": "bhfOnKaW1HNe"
      },
      "outputs": [],
      "source": [
        "import os\n",
        "from google.colab import drive\n",
        "import pandas as pd\n",
        "pd.set_option('display.max_rows', 300)\n",
        "pd.set_option('display.max_columns', 100)\n",
        "pd.set_option('display.width', 150)\n",
        "import numpy as np\n",
        "from sklearn.model_selection import train_test_split\n",
        "import spacy\n",
        "from spacy.tokens import DocBin\n",
        "import pandas as pd\n",
        "from tqdm import tqdm\n",
        "import spacy\n",
        "from spacy.tokens import DocBin"
      ]
    },
    {
      "cell_type": "code",
      "source": [
        "df = pd.read_csv('https://raw.githubusercontent.com/wbfrench1/barker_DATA606/main/data/movie_data_word_pos_iob_w_space_sep.iob', sep=' ')\n",
        "print(df.shape)\n",
        "df.head(6)"
      ],
      "metadata": {
        "colab": {
          "base_uri": "https://localhost:8080/",
          "height": 256
        },
        "id": "BkXkW49geFII",
        "outputId": "d122d62d-5fe3-43ab-b510-b9c1a554b377"
      },
      "execution_count": 2,
      "outputs": [
        {
          "output_type": "stream",
          "name": "stdout",
          "text": [
            "(322035, 4)\n"
          ]
        },
        {
          "output_type": "execute_result",
          "data": {
            "text/plain": [
              "   Sentence #    Word  POS      Tag\n",
              "0           1    what   WP        o\n",
              "1           1  movies  NNS        o\n",
              "2           1    star  VBP        o\n",
              "3           1   bruce   NN  b-actor\n",
              "4           1  willis   NN  i-actor\n",
              "5           2    show   VB        o"
            ],
            "text/html": [
              "\n",
              "  <div id=\"df-b8b0ddcc-1cd7-4a9c-bf3a-b12ae65668da\">\n",
              "    <div class=\"colab-df-container\">\n",
              "      <div>\n",
              "<style scoped>\n",
              "    .dataframe tbody tr th:only-of-type {\n",
              "        vertical-align: middle;\n",
              "    }\n",
              "\n",
              "    .dataframe tbody tr th {\n",
              "        vertical-align: top;\n",
              "    }\n",
              "\n",
              "    .dataframe thead th {\n",
              "        text-align: right;\n",
              "    }\n",
              "</style>\n",
              "<table border=\"1\" class=\"dataframe\">\n",
              "  <thead>\n",
              "    <tr style=\"text-align: right;\">\n",
              "      <th></th>\n",
              "      <th>Sentence #</th>\n",
              "      <th>Word</th>\n",
              "      <th>POS</th>\n",
              "      <th>Tag</th>\n",
              "    </tr>\n",
              "  </thead>\n",
              "  <tbody>\n",
              "    <tr>\n",
              "      <th>0</th>\n",
              "      <td>1</td>\n",
              "      <td>what</td>\n",
              "      <td>WP</td>\n",
              "      <td>o</td>\n",
              "    </tr>\n",
              "    <tr>\n",
              "      <th>1</th>\n",
              "      <td>1</td>\n",
              "      <td>movies</td>\n",
              "      <td>NNS</td>\n",
              "      <td>o</td>\n",
              "    </tr>\n",
              "    <tr>\n",
              "      <th>2</th>\n",
              "      <td>1</td>\n",
              "      <td>star</td>\n",
              "      <td>VBP</td>\n",
              "      <td>o</td>\n",
              "    </tr>\n",
              "    <tr>\n",
              "      <th>3</th>\n",
              "      <td>1</td>\n",
              "      <td>bruce</td>\n",
              "      <td>NN</td>\n",
              "      <td>b-actor</td>\n",
              "    </tr>\n",
              "    <tr>\n",
              "      <th>4</th>\n",
              "      <td>1</td>\n",
              "      <td>willis</td>\n",
              "      <td>NN</td>\n",
              "      <td>i-actor</td>\n",
              "    </tr>\n",
              "    <tr>\n",
              "      <th>5</th>\n",
              "      <td>2</td>\n",
              "      <td>show</td>\n",
              "      <td>VB</td>\n",
              "      <td>o</td>\n",
              "    </tr>\n",
              "  </tbody>\n",
              "</table>\n",
              "</div>\n",
              "      <button class=\"colab-df-convert\" onclick=\"convertToInteractive('df-b8b0ddcc-1cd7-4a9c-bf3a-b12ae65668da')\"\n",
              "              title=\"Convert this dataframe to an interactive table.\"\n",
              "              style=\"display:none;\">\n",
              "        \n",
              "  <svg xmlns=\"http://www.w3.org/2000/svg\" height=\"24px\"viewBox=\"0 0 24 24\"\n",
              "       width=\"24px\">\n",
              "    <path d=\"M0 0h24v24H0V0z\" fill=\"none\"/>\n",
              "    <path d=\"M18.56 5.44l.94 2.06.94-2.06 2.06-.94-2.06-.94-.94-2.06-.94 2.06-2.06.94zm-11 1L8.5 8.5l.94-2.06 2.06-.94-2.06-.94L8.5 2.5l-.94 2.06-2.06.94zm10 10l.94 2.06.94-2.06 2.06-.94-2.06-.94-.94-2.06-.94 2.06-2.06.94z\"/><path d=\"M17.41 7.96l-1.37-1.37c-.4-.4-.92-.59-1.43-.59-.52 0-1.04.2-1.43.59L10.3 9.45l-7.72 7.72c-.78.78-.78 2.05 0 2.83L4 21.41c.39.39.9.59 1.41.59.51 0 1.02-.2 1.41-.59l7.78-7.78 2.81-2.81c.8-.78.8-2.07 0-2.86zM5.41 20L4 18.59l7.72-7.72 1.47 1.35L5.41 20z\"/>\n",
              "  </svg>\n",
              "      </button>\n",
              "      \n",
              "  <style>\n",
              "    .colab-df-container {\n",
              "      display:flex;\n",
              "      flex-wrap:wrap;\n",
              "      gap: 12px;\n",
              "    }\n",
              "\n",
              "    .colab-df-convert {\n",
              "      background-color: #E8F0FE;\n",
              "      border: none;\n",
              "      border-radius: 50%;\n",
              "      cursor: pointer;\n",
              "      display: none;\n",
              "      fill: #1967D2;\n",
              "      height: 32px;\n",
              "      padding: 0 0 0 0;\n",
              "      width: 32px;\n",
              "    }\n",
              "\n",
              "    .colab-df-convert:hover {\n",
              "      background-color: #E2EBFA;\n",
              "      box-shadow: 0px 1px 2px rgba(60, 64, 67, 0.3), 0px 1px 3px 1px rgba(60, 64, 67, 0.15);\n",
              "      fill: #174EA6;\n",
              "    }\n",
              "\n",
              "    [theme=dark] .colab-df-convert {\n",
              "      background-color: #3B4455;\n",
              "      fill: #D2E3FC;\n",
              "    }\n",
              "\n",
              "    [theme=dark] .colab-df-convert:hover {\n",
              "      background-color: #434B5C;\n",
              "      box-shadow: 0px 1px 3px 1px rgba(0, 0, 0, 0.15);\n",
              "      filter: drop-shadow(0px 1px 2px rgba(0, 0, 0, 0.3));\n",
              "      fill: #FFFFFF;\n",
              "    }\n",
              "  </style>\n",
              "\n",
              "      <script>\n",
              "        const buttonEl =\n",
              "          document.querySelector('#df-b8b0ddcc-1cd7-4a9c-bf3a-b12ae65668da button.colab-df-convert');\n",
              "        buttonEl.style.display =\n",
              "          google.colab.kernel.accessAllowed ? 'block' : 'none';\n",
              "\n",
              "        async function convertToInteractive(key) {\n",
              "          const element = document.querySelector('#df-b8b0ddcc-1cd7-4a9c-bf3a-b12ae65668da');\n",
              "          const dataTable =\n",
              "            await google.colab.kernel.invokeFunction('convertToInteractive',\n",
              "                                                     [key], {});\n",
              "          if (!dataTable) return;\n",
              "\n",
              "          const docLinkHtml = 'Like what you see? Visit the ' +\n",
              "            '<a target=\"_blank\" href=https://colab.research.google.com/notebooks/data_table.ipynb>data table notebook</a>'\n",
              "            + ' to learn more about interactive tables.';\n",
              "          element.innerHTML = '';\n",
              "          dataTable['output_type'] = 'display_data';\n",
              "          await google.colab.output.renderOutput(dataTable, element);\n",
              "          const docLink = document.createElement('div');\n",
              "          docLink.innerHTML = docLinkHtml;\n",
              "          element.appendChild(docLink);\n",
              "        }\n",
              "      </script>\n",
              "    </div>\n",
              "  </div>\n",
              "  "
            ]
          },
          "metadata": {},
          "execution_count": 2
        }
      ]
    },
    {
      "cell_type": "markdown",
      "source": [
        "#### Add periods to the end of each sentence\n",
        "\n",
        "<p>In the test data at https://github.com/explosion/spaCy/blob/master/extra/example_data/ner_example_data/ner-token-per-line-with-pos.iob   it appears that each sentence should have a period at the end of it.</p>"
      ],
      "metadata": {
        "id": "taLKYDMLWxTh"
      }
    },
    {
      "cell_type": "code",
      "source": [
        "# select indices where the label in Sentence # is != to the\n",
        "## previous Sentence\n",
        "# https://stackoverflow.com/questions/72726217/get-index-of-row-where-column-value-changes-from-previous-row\n",
        "l_indices = df.index[df['Sentence #'].diff().eq(1)]"
      ],
      "metadata": {
        "id": "VCCQVfCs-og0"
      },
      "execution_count": 3,
      "outputs": []
    },
    {
      "cell_type": "code",
      "source": [
        "# https://stackoverflow.com/questions/15888648/is-it-possible-to-insert-a-row-at-an-arbitrary-position-in-a-dataframe-using-pan\n",
        "# get an index location between each sentence \n",
        "l_new_indicies = l_indices - .5\n",
        "l_new_indicies"
      ],
      "metadata": {
        "colab": {
          "base_uri": "https://localhost:8080/"
        },
        "id": "GDLTXfwKIrr_",
        "outputId": "78d22849-73e6-4a16-8e8f-f2dca851de39"
      },
      "execution_count": 4,
      "outputs": [
        {
          "output_type": "execute_result",
          "data": {
            "text/plain": [
              "Float64Index([     4.5,     13.5,     22.5,     35.5,     46.5,     53.5,     62.5,     71.5,     81.5,     89.5,\n",
              "              ...\n",
              "              321827.5, 321842.5, 321859.5, 321880.5, 321904.5, 321923.5, 321968.5, 321974.5, 321995.5, 322016.5],\n",
              "             dtype='float64', length=21986)"
            ]
          },
          "metadata": {},
          "execution_count": 4
        }
      ]
    },
    {
      "cell_type": "code",
      "source": [
        "for sent_num, f_index in enumerate(l_new_indicies):\n",
        "    df.loc[f_index] = sent_num + 1, '', '', ''\n",
        "    if sent_num % 1000 == 0:\n",
        "        print(sent_num)"
      ],
      "metadata": {
        "id": "_aK3AC6DFc0H"
      },
      "execution_count": null,
      "outputs": []
    },
    {
      "cell_type": "code",
      "source": [
        "# sort the indices and reset the index\n",
        "df1 = df.loc[df.index.sort_values()].copy()\n",
        "df1 = df1.reset_index().drop(columns='index').copy()"
      ],
      "metadata": {
        "id": "qK0B_1BnJHGl"
      },
      "execution_count": null,
      "outputs": []
    },
    {
      "cell_type": "code",
      "source": [
        "df1.head(20)"
      ],
      "metadata": {
        "id": "1gyvDQN5ORgp"
      },
      "execution_count": null,
      "outputs": []
    },
    {
      "cell_type": "markdown",
      "source": [
        "#  Does the data need to be randomized?\n",
        "<p>I have movie trivia questions and iob labels.  The sentence structure and context gives the words and their labels meaning.  So I believe that it should not be randomized.</p>\n",
        "\n",
        "<p>Question:  Beyond ensuring that the component words of each sentence stay together, do I need to ensure that the model only looks to complete sentences since one question is unrelated to the next? </p>"
      ],
      "metadata": {
        "id": "sfPy6geu1-IG"
      }
    },
    {
      "cell_type": "code",
      "source": [
        "# since groups of words in a sentence should stay together, I must divide the \n",
        "## training/test/validation data into sets according at the sentence level\n",
        "\n",
        "# Get the max number of sentences\n",
        "df1['Sentence #'].max()"
      ],
      "metadata": {
        "id": "V5OmgTUp2WrX"
      },
      "execution_count": null,
      "outputs": []
    },
    {
      "cell_type": "code",
      "source": [
        "df1['Tag'] = df1['Tag'].str.upper()"
      ],
      "metadata": {
        "id": "B3HlWz6eNp85"
      },
      "execution_count": null,
      "outputs": []
    },
    {
      "cell_type": "code",
      "source": [
        "#https://stackoverflow.com/questions/38250710/how-to-split-data-into-3-sets-train-validation-and-test\n",
        "\n",
        "# get an array of 1 to n questions\n",
        "a_q_num = np.arange(1,21988)"
      ],
      "metadata": {
        "id": "s5Hf92to9Ogi"
      },
      "execution_count": null,
      "outputs": []
    },
    {
      "cell_type": "code",
      "source": [
        "#divvy the questions up into groups.  Since questions should stay together\n",
        "## randomization is not an issue.\n",
        "l_a_indices_of_train_test_val_splits = np.split(a_q_num, [int(.6 * len(a_q_num)), int(.8 * len(a_q_num))])\n",
        "l_a_indices_of_train_test_val_splits"
      ],
      "metadata": {
        "id": "NXdVb53P9fRr",
        "colab": {
          "base_uri": "https://localhost:8080/"
        },
        "outputId": "cd8842b5-e6fd-4e76-fa3c-d13398047b46"
      },
      "execution_count": null,
      "outputs": [
        {
          "output_type": "execute_result",
          "data": {
            "text/plain": [
              "[array([    1,     2,     3, ..., 13190, 13191, 13192]),\n",
              " array([13193, 13194, 13195, ..., 17587, 17588, 17589]),\n",
              " array([17590, 17591, 17592, ..., 21985, 21986, 21987])]"
            ]
          },
          "metadata": {},
          "execution_count": 87
        }
      ]
    },
    {
      "cell_type": "code",
      "source": [
        "df_train = df1.loc[df1['Sentence #'].isin(l_a_indices_of_train_test_val_splits[0])].copy()\n",
        "df_test = df1.loc[df1['Sentence #'].isin(l_a_indices_of_train_test_val_splits[1])].copy()\n",
        "df_val = df1.loc[df1['Sentence #'].isin(l_a_indices_of_train_test_val_splits[2])].copy()\n",
        "\n",
        "print('df1_train.shape:', df_train.shape)\n",
        "print('df1_test.shape:', df_test.shape)\n",
        "print('df1_val.shape:', df_val.shape)"
      ],
      "metadata": {
        "colab": {
          "base_uri": "https://localhost:8080/"
        },
        "id": "PhxF9Qfm9zdL",
        "outputId": "9df503f6-e71e-40c6-d849-6af4a4bc577e"
      },
      "execution_count": null,
      "outputs": [
        {
          "output_type": "stream",
          "name": "stdout",
          "text": [
            "df1_train.shape: (157234, 4)\n",
            "df1_test.shape: (93714, 4)\n",
            "df1_val.shape: (93073, 4)\n"
          ]
        }
      ]
    },
    {
      "cell_type": "code",
      "source": [
        "#https://stackoverflow.com/questions/31247198/python-pandas-write-content-of-dataframe-into-text-file\n",
        "l_movie_iob_csv_datasets= ['train_movie_iob', 'test_movie_iob', 'val_movie_iob']\n",
        "\n",
        "for str_data_set in l_movie_iob_csv_datasets:\n",
        "    # save dataset as a csv\n",
        "    df_train[ ['Word', 'POS', 'Tag']].to_csv(str_data_set,sep=\"\\t\", index=False, header=False)\n",
        "    # removes the column headers from the file\n",
        "    with open(str_data_set, 'w') as f:\n",
        "        dfAsString = df_train[ ['Word', 'POS', 'Tag']].to_string(header=False, index=False)\n",
        "        f.write(dfAsString)"
      ],
      "metadata": {
        "id": "G47za6e-5LSt"
      },
      "execution_count": null,
      "outputs": []
    },
    {
      "cell_type": "code",
      "source": [
        "!head 'val_movie_iob' -n 12 "
      ],
      "metadata": {
        "colab": {
          "base_uri": "https://localhost:8080/"
        },
        "id": "yA9dFgcKySG4",
        "outputId": "37129230-8123-405e-b724-9aea660e9732"
      },
      "execution_count": null,
      "outputs": [
        {
          "output_type": "stream",
          "name": "stdout",
          "text": [
            "                   what   WP              O\n",
            "                 movies  NNS              O\n",
            "                   star  VBP              O\n",
            "                  bruce   NN        B-ACTOR\n",
            "                 willis   NN        I-ACTOR\n",
            "                      .    .              O\n",
            "                   show   VB              O\n",
            "                     me  PRP              O\n",
            "                  films  NNS              O\n",
            "                   with   IN              O\n",
            "                   drew  NNS        B-ACTOR\n",
            "              barrymore   RB        I-ACTOR\n"
          ]
        }
      ]
    },
    {
      "cell_type": "code",
      "source": [
        "#Read the IOB data from content folder, and store the formatted data into a folder spacyNER_data\n",
        "\n",
        "# !mkdir spacyNER_data\n",
        "if 'spacyNER_data' not in os.listdir():\n",
        "    os.mkdir('spacyNER_data')\n",
        "\n",
        "#the above lines create folder if it doesn't exist.\n",
        "#!python -m spacy convert  \"train_movie_iob\" spacyNER_data -c ner  -s -n 10 -b en_core_web_sm \n",
        "!python -m spacy convert  \"test_movie_iob\" spacyNER_data -c ner  -s -n 10 -b en_core_web_sm \n",
        "#!python -m spacy convert  \"val_movie_iob\" spacyNER_data -c ner  -s -n 10 -b en_core_web_sm "
      ],
      "metadata": {
        "colab": {
          "base_uri": "https://localhost:8080/"
        },
        "id": "M2AFD6qkwJVd",
        "outputId": "9e38a00e-3e27-4f1e-b30b-f9ea75f740f3"
      },
      "execution_count": null,
      "outputs": [
        {
          "output_type": "stream",
          "name": "stdout",
          "text": [
            "/usr/local/lib/python3.8/dist-packages/torch/cuda/__init__.py:497: UserWarning: Can't initialize NVML\n",
            "  warnings.warn(\"Can't initialize NVML\")\n",
            "2023-03-04 18:19:40.578206: I tensorflow/core/platform/cpu_feature_guard.cc:193] This TensorFlow binary is optimized with oneAPI Deep Neural Network Library (oneDNN) to use the following CPU instructions in performance-critical operations:  AVX2 FMA\n",
            "To enable them in other operations, rebuild TensorFlow with the appropriate compiler flags.\n",
            "2023-03-04 18:19:41.473234: W tensorflow/compiler/xla/stream_executor/platform/default/dso_loader.cc:64] Could not load dynamic library 'libnvinfer.so.7'; dlerror: libnvinfer.so.7: cannot open shared object file: No such file or directory; LD_LIBRARY_PATH: /usr/local/nvidia/lib:/usr/local/nvidia/lib64\n",
            "2023-03-04 18:19:41.473322: W tensorflow/compiler/xla/stream_executor/platform/default/dso_loader.cc:64] Could not load dynamic library 'libnvinfer_plugin.so.7'; dlerror: libnvinfer_plugin.so.7: cannot open shared object file: No such file or directory; LD_LIBRARY_PATH: /usr/local/nvidia/lib:/usr/local/nvidia/lib64\n",
            "2023-03-04 18:19:41.473335: W tensorflow/compiler/tf2tensorrt/utils/py_utils.cc:38] TF-TRT Warning: Cannot dlopen some TensorRT libraries. If you would like to use Nvidia GPU with TensorRT, please make sure the missing libraries mentioned above are installed properly.\n",
            "2023-03-04 18:19:42.985351: E tensorflow/compiler/xla/stream_executor/cuda/cuda_driver.cc:267] failed call to cuInit: CUDA_ERROR_NO_DEVICE: no CUDA-capable device is detected\n",
            "\u001b[38;5;4mℹ Auto-detected token-per-line NER format\u001b[0m\n",
            "\u001b[38;5;3m⚠ No sentence boundaries found to use with option `-n 1`. Use `-s` to\n",
            "automatically segment sentences or `-n 0` to disable.\u001b[0m\n",
            "\u001b[38;5;3m⚠ No sentence boundaries found. Use `-s` to automatically segment\n",
            "sentences.\u001b[0m\n",
            "\u001b[38;5;3m⚠ No document delimiters found. Use `-n` to automatically group\n",
            "sentences into documents.\u001b[0m\n",
            "\u001b[38;5;2m✔ Generated output file (1 documents):\n",
            "spacyNER_data/test_movie_iob.spacy\u001b[0m\n"
          ]
        }
      ]
    },
    {
      "cell_type": "code",
      "source": [
        "!python -m spacy train en_core_web_sm model spacyNER_data/train_movie_iob.spacy spacyNER_data/test_movie_iob.spacy -G -p tagger,ner"
      ],
      "metadata": {
        "id": "_2-jZ5-e2rFf",
        "outputId": "e38a16fa-5865-473f-a772-6896e1fed7cb",
        "colab": {
          "base_uri": "https://localhost:8080/"
        }
      },
      "execution_count": null,
      "outputs": [
        {
          "output_type": "stream",
          "name": "stdout",
          "text": [
            "/usr/local/lib/python3.8/dist-packages/torch/cuda/__init__.py:497: UserWarning: Can't initialize NVML\n",
            "  warnings.warn(\"Can't initialize NVML\")\n",
            "2023-03-04 18:26:12.274948: I tensorflow/core/platform/cpu_feature_guard.cc:193] This TensorFlow binary is optimized with oneAPI Deep Neural Network Library (oneDNN) to use the following CPU instructions in performance-critical operations:  AVX2 FMA\n",
            "To enable them in other operations, rebuild TensorFlow with the appropriate compiler flags.\n",
            "2023-03-04 18:26:13.160046: W tensorflow/compiler/xla/stream_executor/platform/default/dso_loader.cc:64] Could not load dynamic library 'libnvinfer.so.7'; dlerror: libnvinfer.so.7: cannot open shared object file: No such file or directory; LD_LIBRARY_PATH: /usr/local/nvidia/lib:/usr/local/nvidia/lib64\n",
            "2023-03-04 18:26:13.160141: W tensorflow/compiler/xla/stream_executor/platform/default/dso_loader.cc:64] Could not load dynamic library 'libnvinfer_plugin.so.7'; dlerror: libnvinfer_plugin.so.7: cannot open shared object file: No such file or directory; LD_LIBRARY_PATH: /usr/local/nvidia/lib:/usr/local/nvidia/lib64\n",
            "2023-03-04 18:26:13.160162: W tensorflow/compiler/tf2tensorrt/utils/py_utils.cc:38] TF-TRT Warning: Cannot dlopen some TensorRT libraries. If you would like to use Nvidia GPU with TensorRT, please make sure the missing libraries mentioned above are installed properly.\n",
            "2023-03-04 18:26:14.448635: E tensorflow/compiler/xla/stream_executor/cuda/cuda_driver.cc:267] failed call to cuInit: CUDA_ERROR_NO_DEVICE: no CUDA-capable device is detected\n",
            "Usage: python -m spacy train [OPTIONS] CONFIG_PATH\n",
            "Try 'python -m spacy train --help' for help.\n",
            "\n",
            "Error: Invalid value for 'CONFIG_PATH': Path 'en_core_web_sm' does not exist.\n"
          ]
        }
      ]
    },
    {
      "cell_type": "code",
      "source": [
        "!echo \"BEFORE : (test_movie_iob)\"\n",
        "!head \"train_movie_iob\" -n 11 | tail -n 9\n"
      ],
      "metadata": {
        "id": "Dq622hgewvE9",
        "colab": {
          "base_uri": "https://localhost:8080/"
        },
        "outputId": "75e7bc4c-f453-406d-d698-b27073907865"
      },
      "execution_count": null,
      "outputs": [
        {
          "output_type": "stream",
          "name": "stdout",
          "text": [
            "BEFORE : (test_movie_iob)\n",
            "                   star  VBP              O\n",
            "                  bruce   NN        B-ACTOR\n",
            "                 willis   NN        I-ACTOR\n",
            "                      .    .              O\n",
            "                   show   VB              O\n",
            "                     me  PRP              O\n",
            "                  films  NNS              O\n",
            "                   with   IN              O\n",
            "                   drew  NNS        B-ACTOR\n"
          ]
        }
      ]
    },
    {
      "cell_type": "code",
      "source": [
        "try:\n",
        "    !echo \"AFTER : (spacyNER_data/train_movie_iob.spacy)\"\n",
        "    !head \"spacyNER_data/train_movie_iob.spacy\"-n 11 \n"
      ],
      "metadata": {
        "id": "dNIdS0YcpIF0",
        "outputId": "3557d2f8-03e1-4cca-e8d8-075741a131f4",
        "colab": {
          "base_uri": "https://localhost:8080/",
          "height": 135
        }
      },
      "execution_count": null,
      "outputs": [
        {
          "output_type": "error",
          "ename": "SyntaxError",
          "evalue": "ignored",
          "traceback": [
            "\u001b[0;36m  File \u001b[0;32m\"<ipython-input-79-681b507f3b3a>\"\u001b[0;36m, line \u001b[0;32m3\u001b[0m\n\u001b[0;31m    get_ipython().system('head \"spacyNER_data/train_movie_iob.spacy\"-n 11 ')\u001b[0m\n\u001b[0m                                                                            ^\u001b[0m\n\u001b[0;31mSyntaxError\u001b[0m\u001b[0;31m:\u001b[0m unexpected EOF while parsing\n"
          ]
        }
      ]
    },
    {
      "cell_type": "markdown",
      "source": [
        "## Reconfigure Dataset"
      ],
      "metadata": {
        "id": "ZdXJCLS0tXx_"
      }
    },
    {
      "cell_type": "code",
      "source": [
        "df = pd.read_csv('https://raw.githubusercontent.com/wbfrench1/barker_DATA606/main/data/movie_data_word_pos_iob_w_space_sep.iob', sep=' ')\n",
        "print(df.shape)\n",
        "df.head()"
      ],
      "metadata": {
        "id": "ZKt1D44DJ4MR",
        "outputId": "31d900d7-1de6-4767-a881-6abb3b6043f7",
        "colab": {
          "base_uri": "https://localhost:8080/",
          "height": 225
        }
      },
      "execution_count": 3,
      "outputs": [
        {
          "output_type": "stream",
          "name": "stdout",
          "text": [
            "(322035, 4)\n"
          ]
        },
        {
          "output_type": "execute_result",
          "data": {
            "text/plain": [
              "   Sentence #    Word  POS      Tag\n",
              "0           1    what   WP        o\n",
              "1           1  movies  NNS        o\n",
              "2           1    star  VBP        o\n",
              "3           1   bruce   NN  b-actor\n",
              "4           1  willis   NN  i-actor"
            ],
            "text/html": [
              "\n",
              "  <div id=\"df-42e73cfd-7cc0-4caa-ba17-f42e1ca19e00\">\n",
              "    <div class=\"colab-df-container\">\n",
              "      <div>\n",
              "<style scoped>\n",
              "    .dataframe tbody tr th:only-of-type {\n",
              "        vertical-align: middle;\n",
              "    }\n",
              "\n",
              "    .dataframe tbody tr th {\n",
              "        vertical-align: top;\n",
              "    }\n",
              "\n",
              "    .dataframe thead th {\n",
              "        text-align: right;\n",
              "    }\n",
              "</style>\n",
              "<table border=\"1\" class=\"dataframe\">\n",
              "  <thead>\n",
              "    <tr style=\"text-align: right;\">\n",
              "      <th></th>\n",
              "      <th>Sentence #</th>\n",
              "      <th>Word</th>\n",
              "      <th>POS</th>\n",
              "      <th>Tag</th>\n",
              "    </tr>\n",
              "  </thead>\n",
              "  <tbody>\n",
              "    <tr>\n",
              "      <th>0</th>\n",
              "      <td>1</td>\n",
              "      <td>what</td>\n",
              "      <td>WP</td>\n",
              "      <td>o</td>\n",
              "    </tr>\n",
              "    <tr>\n",
              "      <th>1</th>\n",
              "      <td>1</td>\n",
              "      <td>movies</td>\n",
              "      <td>NNS</td>\n",
              "      <td>o</td>\n",
              "    </tr>\n",
              "    <tr>\n",
              "      <th>2</th>\n",
              "      <td>1</td>\n",
              "      <td>star</td>\n",
              "      <td>VBP</td>\n",
              "      <td>o</td>\n",
              "    </tr>\n",
              "    <tr>\n",
              "      <th>3</th>\n",
              "      <td>1</td>\n",
              "      <td>bruce</td>\n",
              "      <td>NN</td>\n",
              "      <td>b-actor</td>\n",
              "    </tr>\n",
              "    <tr>\n",
              "      <th>4</th>\n",
              "      <td>1</td>\n",
              "      <td>willis</td>\n",
              "      <td>NN</td>\n",
              "      <td>i-actor</td>\n",
              "    </tr>\n",
              "  </tbody>\n",
              "</table>\n",
              "</div>\n",
              "      <button class=\"colab-df-convert\" onclick=\"convertToInteractive('df-42e73cfd-7cc0-4caa-ba17-f42e1ca19e00')\"\n",
              "              title=\"Convert this dataframe to an interactive table.\"\n",
              "              style=\"display:none;\">\n",
              "        \n",
              "  <svg xmlns=\"http://www.w3.org/2000/svg\" height=\"24px\"viewBox=\"0 0 24 24\"\n",
              "       width=\"24px\">\n",
              "    <path d=\"M0 0h24v24H0V0z\" fill=\"none\"/>\n",
              "    <path d=\"M18.56 5.44l.94 2.06.94-2.06 2.06-.94-2.06-.94-.94-2.06-.94 2.06-2.06.94zm-11 1L8.5 8.5l.94-2.06 2.06-.94-2.06-.94L8.5 2.5l-.94 2.06-2.06.94zm10 10l.94 2.06.94-2.06 2.06-.94-2.06-.94-.94-2.06-.94 2.06-2.06.94z\"/><path d=\"M17.41 7.96l-1.37-1.37c-.4-.4-.92-.59-1.43-.59-.52 0-1.04.2-1.43.59L10.3 9.45l-7.72 7.72c-.78.78-.78 2.05 0 2.83L4 21.41c.39.39.9.59 1.41.59.51 0 1.02-.2 1.41-.59l7.78-7.78 2.81-2.81c.8-.78.8-2.07 0-2.86zM5.41 20L4 18.59l7.72-7.72 1.47 1.35L5.41 20z\"/>\n",
              "  </svg>\n",
              "      </button>\n",
              "      \n",
              "  <style>\n",
              "    .colab-df-container {\n",
              "      display:flex;\n",
              "      flex-wrap:wrap;\n",
              "      gap: 12px;\n",
              "    }\n",
              "\n",
              "    .colab-df-convert {\n",
              "      background-color: #E8F0FE;\n",
              "      border: none;\n",
              "      border-radius: 50%;\n",
              "      cursor: pointer;\n",
              "      display: none;\n",
              "      fill: #1967D2;\n",
              "      height: 32px;\n",
              "      padding: 0 0 0 0;\n",
              "      width: 32px;\n",
              "    }\n",
              "\n",
              "    .colab-df-convert:hover {\n",
              "      background-color: #E2EBFA;\n",
              "      box-shadow: 0px 1px 2px rgba(60, 64, 67, 0.3), 0px 1px 3px 1px rgba(60, 64, 67, 0.15);\n",
              "      fill: #174EA6;\n",
              "    }\n",
              "\n",
              "    [theme=dark] .colab-df-convert {\n",
              "      background-color: #3B4455;\n",
              "      fill: #D2E3FC;\n",
              "    }\n",
              "\n",
              "    [theme=dark] .colab-df-convert:hover {\n",
              "      background-color: #434B5C;\n",
              "      box-shadow: 0px 1px 3px 1px rgba(0, 0, 0, 0.15);\n",
              "      filter: drop-shadow(0px 1px 2px rgba(0, 0, 0, 0.3));\n",
              "      fill: #FFFFFF;\n",
              "    }\n",
              "  </style>\n",
              "\n",
              "      <script>\n",
              "        const buttonEl =\n",
              "          document.querySelector('#df-42e73cfd-7cc0-4caa-ba17-f42e1ca19e00 button.colab-df-convert');\n",
              "        buttonEl.style.display =\n",
              "          google.colab.kernel.accessAllowed ? 'block' : 'none';\n",
              "\n",
              "        async function convertToInteractive(key) {\n",
              "          const element = document.querySelector('#df-42e73cfd-7cc0-4caa-ba17-f42e1ca19e00');\n",
              "          const dataTable =\n",
              "            await google.colab.kernel.invokeFunction('convertToInteractive',\n",
              "                                                     [key], {});\n",
              "          if (!dataTable) return;\n",
              "\n",
              "          const docLinkHtml = 'Like what you see? Visit the ' +\n",
              "            '<a target=\"_blank\" href=https://colab.research.google.com/notebooks/data_table.ipynb>data table notebook</a>'\n",
              "            + ' to learn more about interactive tables.';\n",
              "          element.innerHTML = '';\n",
              "          dataTable['output_type'] = 'display_data';\n",
              "          await google.colab.output.renderOutput(dataTable, element);\n",
              "          const docLink = document.createElement('div');\n",
              "          docLink.innerHTML = docLinkHtml;\n",
              "          element.appendChild(docLink);\n",
              "        }\n",
              "      </script>\n",
              "    </div>\n",
              "  </div>\n",
              "  "
            ]
          },
          "metadata": {},
          "execution_count": 3
        }
      ]
    },
    {
      "cell_type": "code",
      "source": [
        "df.loc[df['Sentence #'] == 12986]"
      ],
      "metadata": {
        "id": "-YYb61xZKFCT",
        "outputId": "e1d0dd3f-0fd5-46e1-a32d-38f5cf550c15",
        "colab": {
          "base_uri": "https://localhost:8080/",
          "height": 614
        }
      },
      "execution_count": 4,
      "outputs": [
        {
          "output_type": "execute_result",
          "data": {
            "text/plain": [
              "        Sentence #          Word  POS         Tag\n",
              "139912       12986          this   DT           o\n",
              "139913       12986          1977   CD      b-year\n",
              "139914       12986         movie   NN           o\n",
              "139915       12986      directed  VBN           o\n",
              "139916       12986            by   IN           o\n",
              "139917       12986        steven   JJ  b-director\n",
              "139918       12986     spielberg   NN  i-director\n",
              "139919       12986      features  VBZ           o\n",
              "139920       12986             a   DT      b-plot\n",
              "139921       12986           man   NN      i-plot\n",
              "139922       12986         whose  WP$      i-plot\n",
              "139923       12986          life   NN      i-plot\n",
              "139924       12986            is  VBZ      i-plot\n",
              "139925       12986       altered  VBN      i-plot\n",
              "139926       12986  dramatically   RB      i-plot\n",
              "139927       12986         after   IN      i-plot\n",
              "139928       12986        seeing  VBG      i-plot\n",
              "139929       12986          ufos   JJ      i-plot"
            ],
            "text/html": [
              "\n",
              "  <div id=\"df-93d68158-5d1f-480b-9e42-e674a9335140\">\n",
              "    <div class=\"colab-df-container\">\n",
              "      <div>\n",
              "<style scoped>\n",
              "    .dataframe tbody tr th:only-of-type {\n",
              "        vertical-align: middle;\n",
              "    }\n",
              "\n",
              "    .dataframe tbody tr th {\n",
              "        vertical-align: top;\n",
              "    }\n",
              "\n",
              "    .dataframe thead th {\n",
              "        text-align: right;\n",
              "    }\n",
              "</style>\n",
              "<table border=\"1\" class=\"dataframe\">\n",
              "  <thead>\n",
              "    <tr style=\"text-align: right;\">\n",
              "      <th></th>\n",
              "      <th>Sentence #</th>\n",
              "      <th>Word</th>\n",
              "      <th>POS</th>\n",
              "      <th>Tag</th>\n",
              "    </tr>\n",
              "  </thead>\n",
              "  <tbody>\n",
              "    <tr>\n",
              "      <th>139912</th>\n",
              "      <td>12986</td>\n",
              "      <td>this</td>\n",
              "      <td>DT</td>\n",
              "      <td>o</td>\n",
              "    </tr>\n",
              "    <tr>\n",
              "      <th>139913</th>\n",
              "      <td>12986</td>\n",
              "      <td>1977</td>\n",
              "      <td>CD</td>\n",
              "      <td>b-year</td>\n",
              "    </tr>\n",
              "    <tr>\n",
              "      <th>139914</th>\n",
              "      <td>12986</td>\n",
              "      <td>movie</td>\n",
              "      <td>NN</td>\n",
              "      <td>o</td>\n",
              "    </tr>\n",
              "    <tr>\n",
              "      <th>139915</th>\n",
              "      <td>12986</td>\n",
              "      <td>directed</td>\n",
              "      <td>VBN</td>\n",
              "      <td>o</td>\n",
              "    </tr>\n",
              "    <tr>\n",
              "      <th>139916</th>\n",
              "      <td>12986</td>\n",
              "      <td>by</td>\n",
              "      <td>IN</td>\n",
              "      <td>o</td>\n",
              "    </tr>\n",
              "    <tr>\n",
              "      <th>139917</th>\n",
              "      <td>12986</td>\n",
              "      <td>steven</td>\n",
              "      <td>JJ</td>\n",
              "      <td>b-director</td>\n",
              "    </tr>\n",
              "    <tr>\n",
              "      <th>139918</th>\n",
              "      <td>12986</td>\n",
              "      <td>spielberg</td>\n",
              "      <td>NN</td>\n",
              "      <td>i-director</td>\n",
              "    </tr>\n",
              "    <tr>\n",
              "      <th>139919</th>\n",
              "      <td>12986</td>\n",
              "      <td>features</td>\n",
              "      <td>VBZ</td>\n",
              "      <td>o</td>\n",
              "    </tr>\n",
              "    <tr>\n",
              "      <th>139920</th>\n",
              "      <td>12986</td>\n",
              "      <td>a</td>\n",
              "      <td>DT</td>\n",
              "      <td>b-plot</td>\n",
              "    </tr>\n",
              "    <tr>\n",
              "      <th>139921</th>\n",
              "      <td>12986</td>\n",
              "      <td>man</td>\n",
              "      <td>NN</td>\n",
              "      <td>i-plot</td>\n",
              "    </tr>\n",
              "    <tr>\n",
              "      <th>139922</th>\n",
              "      <td>12986</td>\n",
              "      <td>whose</td>\n",
              "      <td>WP$</td>\n",
              "      <td>i-plot</td>\n",
              "    </tr>\n",
              "    <tr>\n",
              "      <th>139923</th>\n",
              "      <td>12986</td>\n",
              "      <td>life</td>\n",
              "      <td>NN</td>\n",
              "      <td>i-plot</td>\n",
              "    </tr>\n",
              "    <tr>\n",
              "      <th>139924</th>\n",
              "      <td>12986</td>\n",
              "      <td>is</td>\n",
              "      <td>VBZ</td>\n",
              "      <td>i-plot</td>\n",
              "    </tr>\n",
              "    <tr>\n",
              "      <th>139925</th>\n",
              "      <td>12986</td>\n",
              "      <td>altered</td>\n",
              "      <td>VBN</td>\n",
              "      <td>i-plot</td>\n",
              "    </tr>\n",
              "    <tr>\n",
              "      <th>139926</th>\n",
              "      <td>12986</td>\n",
              "      <td>dramatically</td>\n",
              "      <td>RB</td>\n",
              "      <td>i-plot</td>\n",
              "    </tr>\n",
              "    <tr>\n",
              "      <th>139927</th>\n",
              "      <td>12986</td>\n",
              "      <td>after</td>\n",
              "      <td>IN</td>\n",
              "      <td>i-plot</td>\n",
              "    </tr>\n",
              "    <tr>\n",
              "      <th>139928</th>\n",
              "      <td>12986</td>\n",
              "      <td>seeing</td>\n",
              "      <td>VBG</td>\n",
              "      <td>i-plot</td>\n",
              "    </tr>\n",
              "    <tr>\n",
              "      <th>139929</th>\n",
              "      <td>12986</td>\n",
              "      <td>ufos</td>\n",
              "      <td>JJ</td>\n",
              "      <td>i-plot</td>\n",
              "    </tr>\n",
              "  </tbody>\n",
              "</table>\n",
              "</div>\n",
              "      <button class=\"colab-df-convert\" onclick=\"convertToInteractive('df-93d68158-5d1f-480b-9e42-e674a9335140')\"\n",
              "              title=\"Convert this dataframe to an interactive table.\"\n",
              "              style=\"display:none;\">\n",
              "        \n",
              "  <svg xmlns=\"http://www.w3.org/2000/svg\" height=\"24px\"viewBox=\"0 0 24 24\"\n",
              "       width=\"24px\">\n",
              "    <path d=\"M0 0h24v24H0V0z\" fill=\"none\"/>\n",
              "    <path d=\"M18.56 5.44l.94 2.06.94-2.06 2.06-.94-2.06-.94-.94-2.06-.94 2.06-2.06.94zm-11 1L8.5 8.5l.94-2.06 2.06-.94-2.06-.94L8.5 2.5l-.94 2.06-2.06.94zm10 10l.94 2.06.94-2.06 2.06-.94-2.06-.94-.94-2.06-.94 2.06-2.06.94z\"/><path d=\"M17.41 7.96l-1.37-1.37c-.4-.4-.92-.59-1.43-.59-.52 0-1.04.2-1.43.59L10.3 9.45l-7.72 7.72c-.78.78-.78 2.05 0 2.83L4 21.41c.39.39.9.59 1.41.59.51 0 1.02-.2 1.41-.59l7.78-7.78 2.81-2.81c.8-.78.8-2.07 0-2.86zM5.41 20L4 18.59l7.72-7.72 1.47 1.35L5.41 20z\"/>\n",
              "  </svg>\n",
              "      </button>\n",
              "      \n",
              "  <style>\n",
              "    .colab-df-container {\n",
              "      display:flex;\n",
              "      flex-wrap:wrap;\n",
              "      gap: 12px;\n",
              "    }\n",
              "\n",
              "    .colab-df-convert {\n",
              "      background-color: #E8F0FE;\n",
              "      border: none;\n",
              "      border-radius: 50%;\n",
              "      cursor: pointer;\n",
              "      display: none;\n",
              "      fill: #1967D2;\n",
              "      height: 32px;\n",
              "      padding: 0 0 0 0;\n",
              "      width: 32px;\n",
              "    }\n",
              "\n",
              "    .colab-df-convert:hover {\n",
              "      background-color: #E2EBFA;\n",
              "      box-shadow: 0px 1px 2px rgba(60, 64, 67, 0.3), 0px 1px 3px 1px rgba(60, 64, 67, 0.15);\n",
              "      fill: #174EA6;\n",
              "    }\n",
              "\n",
              "    [theme=dark] .colab-df-convert {\n",
              "      background-color: #3B4455;\n",
              "      fill: #D2E3FC;\n",
              "    }\n",
              "\n",
              "    [theme=dark] .colab-df-convert:hover {\n",
              "      background-color: #434B5C;\n",
              "      box-shadow: 0px 1px 3px 1px rgba(0, 0, 0, 0.15);\n",
              "      filter: drop-shadow(0px 1px 2px rgba(0, 0, 0, 0.3));\n",
              "      fill: #FFFFFF;\n",
              "    }\n",
              "  </style>\n",
              "\n",
              "      <script>\n",
              "        const buttonEl =\n",
              "          document.querySelector('#df-93d68158-5d1f-480b-9e42-e674a9335140 button.colab-df-convert');\n",
              "        buttonEl.style.display =\n",
              "          google.colab.kernel.accessAllowed ? 'block' : 'none';\n",
              "\n",
              "        async function convertToInteractive(key) {\n",
              "          const element = document.querySelector('#df-93d68158-5d1f-480b-9e42-e674a9335140');\n",
              "          const dataTable =\n",
              "            await google.colab.kernel.invokeFunction('convertToInteractive',\n",
              "                                                     [key], {});\n",
              "          if (!dataTable) return;\n",
              "\n",
              "          const docLinkHtml = 'Like what you see? Visit the ' +\n",
              "            '<a target=\"_blank\" href=https://colab.research.google.com/notebooks/data_table.ipynb>data table notebook</a>'\n",
              "            + ' to learn more about interactive tables.';\n",
              "          element.innerHTML = '';\n",
              "          dataTable['output_type'] = 'display_data';\n",
              "          await google.colab.output.renderOutput(dataTable, element);\n",
              "          const docLink = document.createElement('div');\n",
              "          docLink.innerHTML = docLinkHtml;\n",
              "          element.appendChild(docLink);\n",
              "        }\n",
              "      </script>\n",
              "    </div>\n",
              "  </div>\n",
              "  "
            ]
          },
          "metadata": {},
          "execution_count": 4
        }
      ]
    },
    {
      "cell_type": "code",
      "source": [
        "df2 = df.copy()"
      ],
      "metadata": {
        "id": "mWtgZjh_NSEd"
      },
      "execution_count": 5,
      "outputs": []
    },
    {
      "cell_type": "code",
      "source": [
        "df2['Sentence #'].max()"
      ],
      "metadata": {
        "id": "sXD8RVzzN3JH",
        "outputId": "b78acf40-e644-424d-d4e8-61a43e69d635",
        "colab": {
          "base_uri": "https://localhost:8080/"
        }
      },
      "execution_count": 6,
      "outputs": [
        {
          "output_type": "execute_result",
          "data": {
            "text/plain": [
              "21987"
            ]
          },
          "metadata": {},
          "execution_count": 6
        }
      ]
    },
    {
      "cell_type": "code",
      "source": [
        "str_sent= ''\n",
        "int_pos= 0\n",
        "dict_entities= {'entities': []}\n",
        "\n",
        "for word, pos, tag in df2.loc[df2['Sentence #'] == 1, ['Word', 'POS', 'Tag']].values:\n",
        "    str_sent += word + ' '\n",
        "    print('word:', word, 'int_pos',int_pos) \n",
        "    \n",
        "    if tag != 'o':\n",
        "        dict_entities['entities'].append((int_pos, int_pos + len(word), word))\n",
        "    \n",
        "    int_pos += len(word) + 1\n",
        "str_sent = str_sent[:-1]\n",
        "str_sent\n",
        "\n",
        "(str_sent, dict_entities)"
      ],
      "metadata": {
        "id": "hV8PquDgOcpK",
        "outputId": "193fc6e0-04c8-4ec0-a1ab-053d0ad2db43",
        "colab": {
          "base_uri": "https://localhost:8080/"
        }
      },
      "execution_count": 7,
      "outputs": [
        {
          "output_type": "stream",
          "name": "stdout",
          "text": [
            "word: what int_pos 0\n",
            "word: movies int_pos 5\n",
            "word: star int_pos 12\n",
            "word: bruce int_pos 17\n",
            "word: willis int_pos 23\n"
          ]
        },
        {
          "output_type": "execute_result",
          "data": {
            "text/plain": [
              "('what movies star bruce willis',\n",
              " {'entities': [(17, 22, 'bruce'), (23, 29, 'willis')]})"
            ]
          },
          "metadata": {},
          "execution_count": 7
        }
      ]
    },
    {
      "cell_type": "code",
      "source": [
        "str_sent"
      ],
      "metadata": {
        "id": "w3ITVMPJShQi",
        "outputId": "0c1862da-4380-4b68-978b-b4e20defeeeb",
        "colab": {
          "base_uri": "https://localhost:8080/",
          "height": 36
        }
      },
      "execution_count": 8,
      "outputs": [
        {
          "output_type": "execute_result",
          "data": {
            "text/plain": [
              "'what movies star bruce willis'"
            ],
            "application/vnd.google.colaboratory.intrinsic+json": {
              "type": "string"
            }
          },
          "metadata": {},
          "execution_count": 8
        }
      ]
    },
    {
      "cell_type": "code",
      "source": [
        "dict_entities"
      ],
      "metadata": {
        "id": "0SoF9cp9Setk",
        "outputId": "d2be7da8-d90f-4b17-8085-f931c3acd33b",
        "colab": {
          "base_uri": "https://localhost:8080/"
        }
      },
      "execution_count": 9,
      "outputs": [
        {
          "output_type": "execute_result",
          "data": {
            "text/plain": [
              "{'entities': [(17, 22, 'bruce'), (23, 29, 'willis')]}"
            ]
          },
          "metadata": {},
          "execution_count": 9
        }
      ]
    },
    {
      "cell_type": "code",
      "source": [
        "l_data = []\n",
        "\n",
        "for sent_num in range(1,df2['Sentence #'].max() + 1):\n",
        "    str_sent= ''\n",
        "    int_pos= 0\n",
        "    dict_entities= {'entities': []}\n",
        "\n",
        "    for word, pos, tag in df2.loc[df2['Sentence #'] == sent_num, ['Word', 'POS', 'Tag']].values:\n",
        "        word = str(word)\n",
        "        str_sent += word + ' '\n",
        "        #print('word:', word, 'int_pos',int_pos) \n",
        "        \n",
        "        if tag != 'o':\n",
        "            dict_entities['entities'].append((int_pos, int_pos + len(word), tag))\n",
        "        \n",
        "        int_pos += len(word) + 1\n",
        "    str_sent = str_sent[:-1]\n",
        "    str_sent\n",
        "\n",
        "    l_data.append((str_sent, dict_entities))"
      ],
      "metadata": {
        "id": "TYiouiXeN-i3"
      },
      "execution_count": 10,
      "outputs": []
    },
    {
      "cell_type": "code",
      "source": [
        "l_data[-1:]"
      ],
      "metadata": {
        "id": "DKytjJuiOYf_",
        "outputId": "4f3f4fc2-d29a-4721-f0bb-e5266d85dd3f",
        "colab": {
          "base_uri": "https://localhost:8080/"
        }
      },
      "execution_count": 11,
      "outputs": [
        {
          "output_type": "execute_result",
          "data": {
            "text/plain": [
              "[('zac efron is the title character in this 2010 fantasy romance based on the novel by ben sherwood',\n",
              "  {'entities': [(0, 3, 'b-actor'),\n",
              "    (4, 9, 'i-actor'),\n",
              "    (41, 45, 'b-year'),\n",
              "    (46, 53, 'b-genre'),\n",
              "    (54, 61, 'i-genre'),\n",
              "    (62, 67, 'b-origin'),\n",
              "    (68, 70, 'i-origin'),\n",
              "    (71, 74, 'i-origin'),\n",
              "    (75, 80, 'i-origin'),\n",
              "    (81, 83, 'i-origin'),\n",
              "    (84, 87, 'i-origin'),\n",
              "    (88, 96, 'i-origin')]})]"
            ]
          },
          "metadata": {},
          "execution_count": 11
        }
      ]
    },
    {
      "cell_type": "code",
      "source": [
        "# 21987 refers to 21,987 sentences.  I need to divide them into groups.\n",
        "int_num_quest = len(l_data)\n",
        "int_train_end = int(.6 * int_num_quest)\n",
        "int_test_end = int(int_train_end + .2 * int_num_quest)"
      ],
      "metadata": {
        "id": "bVft5bMaTrAI",
        "outputId": "7d58eef0-978f-41ca-a7fc-0d14e203bc33",
        "colab": {
          "base_uri": "https://localhost:8080/"
        }
      },
      "execution_count": 24,
      "outputs": [
        {
          "output_type": "execute_result",
          "data": {
            "text/plain": [
              "17589"
            ]
          },
          "metadata": {},
          "execution_count": 24
        }
      ]
    },
    {
      "cell_type": "markdown",
      "source": [
        "### Divide the list of questions: Train, Test, Val"
      ],
      "metadata": {
        "id": "WkMKClNV3N52"
      }
    },
    {
      "cell_type": "code",
      "source": [
        "l_train = l_data[:int_train_end]\n",
        "l_test = l_data[int_train_end:int_test_end]\n",
        "l_val = l_data[int_test_end:]\n",
        "\n",
        "dict_data = {'train' : (l_train, \"./train.spacy\"),\n",
        "             'test'  : (l_test, \"./test.spacy\"),\n",
        "             'val'   : (l_val, \"./val.spacy\") }"
      ],
      "metadata": {
        "id": "sKK0Qoli3zBD"
      },
      "execution_count": 39,
      "outputs": []
    },
    {
      "cell_type": "markdown",
      "source": [
        "### Convert Data to spaCy format"
      ],
      "metadata": {
        "id": "SCitI7Fl7G7t"
      }
    },
    {
      "cell_type": "code",
      "source": [
        "\n",
        "\n",
        "for str_data_set_name in dict_data.keys():\n",
        "    \n",
        "    nlp = spacy.blank(\"en\") # load a new spacy model\n",
        "    db = DocBin() # create a DocBin object\n",
        "\n",
        "    for text, annot in tqdm(dict_data[str_data_set_name][0]): # data in previous format\n",
        "        doc = nlp.make_doc(text) # create doc object from text\n",
        "        ents = []\n",
        "        for start, end, label in annot[\"entities\"]: # add character indexes\n",
        "            span = doc.char_span(start, end, label=label, alignment_mode=\"contract\")\n",
        "            if span is None:\n",
        "                print(\"Skipping entity\")\n",
        "            else:\n",
        "                ents.append(span)\n",
        "        doc.ents = ents # label the text with the ents\n",
        "        db.add(doc)\n",
        "\n",
        "    db.to_disk(dict_data[str_data_set_name][1]) # save the docbin object"
      ],
      "metadata": {
        "id": "9GdmmzYJ7Gbb",
        "outputId": "7d37c4fd-f65c-4fd0-f5a1-2e46f0658ed9",
        "colab": {
          "base_uri": "https://localhost:8080/"
        }
      },
      "execution_count": 40,
      "outputs": [
        {
          "output_type": "stream",
          "name": "stderr",
          "text": [
            "100%|██████████| 13192/13192 [00:02<00:00, 4826.98it/s]\n",
            "100%|██████████| 4397/4397 [00:01<00:00, 2639.11it/s]\n",
            "100%|██████████| 4398/4398 [00:01<00:00, 2569.38it/s]\n"
          ]
        }
      ]
    },
    {
      "cell_type": "code",
      "source": [
        "!python -m spacy init fill-config base_config.cfg config.cfg"
      ],
      "metadata": {
        "id": "VCBeBJL15jRG",
        "outputId": "08020a47-d968-4e73-80a8-79122316ffd3",
        "colab": {
          "base_uri": "https://localhost:8080/"
        }
      },
      "execution_count": 35,
      "outputs": [
        {
          "output_type": "stream",
          "name": "stdout",
          "text": [
            "/usr/local/lib/python3.8/dist-packages/torch/cuda/__init__.py:497: UserWarning: Can't initialize NVML\n",
            "  warnings.warn(\"Can't initialize NVML\")\n",
            "2023-03-05 13:13:28.338626: W tensorflow/compiler/xla/stream_executor/platform/default/dso_loader.cc:64] Could not load dynamic library 'libnvinfer.so.7'; dlerror: libnvinfer.so.7: cannot open shared object file: No such file or directory; LD_LIBRARY_PATH: /usr/local/nvidia/lib:/usr/local/nvidia/lib64\n",
            "2023-03-05 13:13:28.338716: W tensorflow/compiler/xla/stream_executor/platform/default/dso_loader.cc:64] Could not load dynamic library 'libnvinfer_plugin.so.7'; dlerror: libnvinfer_plugin.so.7: cannot open shared object file: No such file or directory; LD_LIBRARY_PATH: /usr/local/nvidia/lib:/usr/local/nvidia/lib64\n",
            "2023-03-05 13:13:28.338730: W tensorflow/compiler/tf2tensorrt/utils/py_utils.cc:38] TF-TRT Warning: Cannot dlopen some TensorRT libraries. If you would like to use Nvidia GPU with TensorRT, please make sure the missing libraries mentioned above are installed properly.\n",
            "2023-03-05 13:13:30.076195: E tensorflow/compiler/xla/stream_executor/cuda/cuda_driver.cc:267] failed call to cuInit: CUDA_ERROR_NO_DEVICE: no CUDA-capable device is detected\n",
            "\u001b[38;5;2m✔ Auto-filled config with all values\u001b[0m\n",
            "\u001b[38;5;2m✔ Saved config\u001b[0m\n",
            "config.cfg\n",
            "You can now add your data and train your pipeline:\n",
            "python -m spacy train config.cfg --paths.train ./train.spacy --paths.dev ./dev.spacy\n"
          ]
        }
      ]
    },
    {
      "cell_type": "code",
      "source": [
        "!python -m spacy train config.cfg --output ./output --paths.train ./train.spacy --paths.dev ./test.spacy "
      ],
      "metadata": {
        "id": "4ZHKiVVK6pYn",
        "outputId": "beb9ae26-7f42-42d3-80a5-dea26ecfbe33",
        "colab": {
          "base_uri": "https://localhost:8080/"
        }
      },
      "execution_count": 41,
      "outputs": [
        {
          "output_type": "stream",
          "name": "stdout",
          "text": [
            "/usr/local/lib/python3.8/dist-packages/torch/cuda/__init__.py:497: UserWarning: Can't initialize NVML\n",
            "  warnings.warn(\"Can't initialize NVML\")\n",
            "2023-03-05 13:23:22.164946: W tensorflow/compiler/xla/stream_executor/platform/default/dso_loader.cc:64] Could not load dynamic library 'libnvinfer.so.7'; dlerror: libnvinfer.so.7: cannot open shared object file: No such file or directory; LD_LIBRARY_PATH: /usr/local/nvidia/lib:/usr/local/nvidia/lib64\n",
            "2023-03-05 13:23:22.165052: W tensorflow/compiler/xla/stream_executor/platform/default/dso_loader.cc:64] Could not load dynamic library 'libnvinfer_plugin.so.7'; dlerror: libnvinfer_plugin.so.7: cannot open shared object file: No such file or directory; LD_LIBRARY_PATH: /usr/local/nvidia/lib:/usr/local/nvidia/lib64\n",
            "2023-03-05 13:23:22.165091: W tensorflow/compiler/tf2tensorrt/utils/py_utils.cc:38] TF-TRT Warning: Cannot dlopen some TensorRT libraries. If you would like to use Nvidia GPU with TensorRT, please make sure the missing libraries mentioned above are installed properly.\n",
            "2023-03-05 13:23:23.810328: E tensorflow/compiler/xla/stream_executor/cuda/cuda_driver.cc:267] failed call to cuInit: CUDA_ERROR_NO_DEVICE: no CUDA-capable device is detected\n",
            "\u001b[38;5;2m✔ Created output directory: output\u001b[0m\n",
            "\u001b[38;5;4mℹ Saving to output directory: output\u001b[0m\n",
            "\u001b[38;5;4mℹ Using CPU\u001b[0m\n",
            "\u001b[1m\n",
            "=========================== Initializing pipeline ===========================\u001b[0m\n",
            "[2023-03-05 13:23:24,757] [INFO] Set up nlp object from config\n",
            "[2023-03-05 13:23:24,768] [INFO] Pipeline: ['tok2vec', 'ner']\n",
            "[2023-03-05 13:23:24,772] [INFO] Created vocabulary\n",
            "[2023-03-05 13:23:24,773] [INFO] Finished initializing nlp object\n",
            "[2023-03-05 13:23:29,198] [INFO] Initialized pipeline components: ['tok2vec', 'ner']\n",
            "\u001b[38;5;2m✔ Initialized pipeline\u001b[0m\n",
            "\u001b[1m\n",
            "============================= Training pipeline =============================\u001b[0m\n",
            "\u001b[38;5;4mℹ Pipeline: ['tok2vec', 'ner']\u001b[0m\n",
            "\u001b[38;5;4mℹ Initial learn rate: 0.001\u001b[0m\n",
            "E    #       LOSS TOK2VEC  LOSS NER  ENTS_F  ENTS_P  ENTS_R  SCORE \n",
            "---  ------  ------------  --------  ------  ------  ------  ------\n",
            "  0       0          0.00     75.19    0.00    0.00    0.00    0.00\n",
            "  0     200        274.26   9010.96   40.94   51.31   34.05    0.41\n",
            "  0     400        523.38   6914.93   55.32   62.46   49.65    0.55\n",
            "  0     600        723.33   7155.19   66.59   72.87   61.31    0.67\n",
            "  0     800        880.54   7655.34   58.31   60.48   56.29    0.58\n",
            "  1    1000       1100.46   8323.49   69.98   74.29   66.15    0.70\n",
            "  1    1200       1423.82   8592.11   74.28   76.31   72.36    0.74\n",
            "  2    1400       1778.73  10062.36   75.72   78.59   73.05    0.76\n",
            "  2    1600       2189.76  10247.05   73.77   76.90   70.89    0.74\n",
            "  3    1800       2835.07  11479.26   74.79   75.53   74.07    0.75\n",
            "  4    2000       3546.39  12359.77   75.68   75.78   75.59    0.76\n",
            "  5    2200       4224.37  13198.41   74.47   75.81   73.18    0.74\n",
            "  6    2400       5218.50  13867.55   74.26   76.95   71.76    0.74\n",
            "  8    2600       5204.98  12405.10   73.95   75.99   72.02    0.74\n",
            "  9    2800       5628.80  11462.69   74.32   76.49   72.28    0.74\n",
            " 10    3000       5648.56  10662.12   73.08   76.78   69.73    0.73\n",
            "\u001b[38;5;2m✔ Saved pipeline to output directory\u001b[0m\n",
            "output/model-last\n"
          ]
        }
      ]
    },
    {
      "cell_type": "markdown",
      "source": [
        "### Prediction"
      ],
      "metadata": {
        "id": "5fG8uRO2Ajxr"
      }
    },
    {
      "cell_type": "code",
      "source": [
        "int_quest_num = 7\n",
        "str_question = l_val[int_quest_num][0]\n",
        "l_val[int_quest_num]"
      ],
      "metadata": {
        "id": "o27U-NxSAsHF",
        "outputId": "010e8c45-456a-4004-fe5a-a26261ab6617",
        "colab": {
          "base_uri": "https://localhost:8080/"
        }
      },
      "execution_count": 53,
      "outputs": [
        {
          "output_type": "execute_result",
          "data": {
            "text/plain": [
              "('which film is directed by paul thomas anderson and stars daniel day lewis as a turn of the century oilman',\n",
              " {'entities': [(26, 30, 'b-director'),\n",
              "   (31, 37, 'i-director'),\n",
              "   (38, 46, 'i-director'),\n",
              "   (57, 63, 'b-actor'),\n",
              "   (64, 67, 'i-actor'),\n",
              "   (68, 73, 'i-actor')]})"
            ]
          },
          "metadata": {},
          "execution_count": 53
        }
      ]
    },
    {
      "cell_type": "code",
      "source": [
        "nlp1 = spacy.load(\"output/model-best\") #load the best model\n",
        "doc = nlp1(str_question) # input sample text\n",
        "\n",
        "spacy.displacy.render(doc, style=\"ent\", jupyter=True) # display in Jupyter"
      ],
      "metadata": {
        "id": "rbTznbgp9BE3",
        "outputId": "958411e5-c351-4bd4-ca29-cbf5c7712763",
        "colab": {
          "base_uri": "https://localhost:8080/",
          "height": 87
        }
      },
      "execution_count": 54,
      "outputs": [
        {
          "output_type": "display_data",
          "data": {
            "text/plain": [
              "<IPython.core.display.HTML object>"
            ],
            "text/html": [
              "<span class=\"tex2jax_ignore\"><div class=\"entities\" style=\"line-height: 2.5; direction: ltr\">which film is directed by \n",
              "<mark class=\"entity\" style=\"background: #ddd; padding: 0.45em 0.6em; margin: 0 0.25em; line-height: 1; border-radius: 0.35em;\">\n",
              "    paul\n",
              "    <span style=\"font-size: 0.8em; font-weight: bold; line-height: 1; border-radius: 0.35em; vertical-align: middle; margin-left: 0.5rem\">b-director</span>\n",
              "</mark>\n",
              " \n",
              "<mark class=\"entity\" style=\"background: #ddd; padding: 0.45em 0.6em; margin: 0 0.25em; line-height: 1; border-radius: 0.35em;\">\n",
              "    thomas\n",
              "    <span style=\"font-size: 0.8em; font-weight: bold; line-height: 1; border-radius: 0.35em; vertical-align: middle; margin-left: 0.5rem\">i-director</span>\n",
              "</mark>\n",
              " \n",
              "<mark class=\"entity\" style=\"background: #ddd; padding: 0.45em 0.6em; margin: 0 0.25em; line-height: 1; border-radius: 0.35em;\">\n",
              "    anderson\n",
              "    <span style=\"font-size: 0.8em; font-weight: bold; line-height: 1; border-radius: 0.35em; vertical-align: middle; margin-left: 0.5rem\">i-director</span>\n",
              "</mark>\n",
              " and stars \n",
              "<mark class=\"entity\" style=\"background: #ddd; padding: 0.45em 0.6em; margin: 0 0.25em; line-height: 1; border-radius: 0.35em;\">\n",
              "    daniel\n",
              "    <span style=\"font-size: 0.8em; font-weight: bold; line-height: 1; border-radius: 0.35em; vertical-align: middle; margin-left: 0.5rem\">b-actor</span>\n",
              "</mark>\n",
              " \n",
              "<mark class=\"entity\" style=\"background: #ddd; padding: 0.45em 0.6em; margin: 0 0.25em; line-height: 1; border-radius: 0.35em;\">\n",
              "    day\n",
              "    <span style=\"font-size: 0.8em; font-weight: bold; line-height: 1; border-radius: 0.35em; vertical-align: middle; margin-left: 0.5rem\">i-actor</span>\n",
              "</mark>\n",
              " \n",
              "<mark class=\"entity\" style=\"background: #ddd; padding: 0.45em 0.6em; margin: 0 0.25em; line-height: 1; border-radius: 0.35em;\">\n",
              "    lewis\n",
              "    <span style=\"font-size: 0.8em; font-weight: bold; line-height: 1; border-radius: 0.35em; vertical-align: middle; margin-left: 0.5rem\">i-actor</span>\n",
              "</mark>\n",
              " as a \n",
              "<mark class=\"entity\" style=\"background: #ddd; padding: 0.45em 0.6em; margin: 0 0.25em; line-height: 1; border-radius: 0.35em;\">\n",
              "    turn\n",
              "    <span style=\"font-size: 0.8em; font-weight: bold; line-height: 1; border-radius: 0.35em; vertical-align: middle; margin-left: 0.5rem\">i-plot</span>\n",
              "</mark>\n",
              " \n",
              "<mark class=\"entity\" style=\"background: #ddd; padding: 0.45em 0.6em; margin: 0 0.25em; line-height: 1; border-radius: 0.35em;\">\n",
              "    of\n",
              "    <span style=\"font-size: 0.8em; font-weight: bold; line-height: 1; border-radius: 0.35em; vertical-align: middle; margin-left: 0.5rem\">i-plot</span>\n",
              "</mark>\n",
              " \n",
              "<mark class=\"entity\" style=\"background: #ddd; padding: 0.45em 0.6em; margin: 0 0.25em; line-height: 1; border-radius: 0.35em;\">\n",
              "    the\n",
              "    <span style=\"font-size: 0.8em; font-weight: bold; line-height: 1; border-radius: 0.35em; vertical-align: middle; margin-left: 0.5rem\">i-plot</span>\n",
              "</mark>\n",
              " \n",
              "<mark class=\"entity\" style=\"background: #ddd; padding: 0.45em 0.6em; margin: 0 0.25em; line-height: 1; border-radius: 0.35em;\">\n",
              "    century\n",
              "    <span style=\"font-size: 0.8em; font-weight: bold; line-height: 1; border-radius: 0.35em; vertical-align: middle; margin-left: 0.5rem\">i-title</span>\n",
              "</mark>\n",
              " oilman</div></span>"
            ]
          },
          "metadata": {}
        }
      ]
    },
    {
      "cell_type": "code",
      "source": [],
      "metadata": {
        "id": "jUKJ4lmsAxA5"
      },
      "execution_count": null,
      "outputs": []
    }
  ]
}
