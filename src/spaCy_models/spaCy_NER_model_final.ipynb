{
  "nbformat": 4,
  "nbformat_minor": 0,
  "metadata": {
    "colab": {
      "provenance": []
    },
    "kernelspec": {
      "name": "python3",
      "display_name": "Python 3"
    },
    "language_info": {
      "name": "python"
    }
  },
  "cells": [
    {
      "cell_type": "markdown",
      "source": [
        "<a target=\"_blank\" href=\"https://colab.research.google.com/github/wbfrench1/barker_DATA606/blob/main/src/spaCy_models/spaCy_NER_model_final.ipynb\">\n",
        "  <img src=\"https://colab.research.google.com/assets/colab-badge.svg\" alt=\"Open In Colab\"/>\n",
        "</a>"
      ],
      "metadata": {
        "id": "eS4RjuetnH8W"
      }
    },
    {
      "cell_type": "markdown",
      "source": [
        "Followed this tutorial\n",
        "https://colab.research.google.com/github/practical-nlp/practical-nlp/blob/master/Ch5/04_NER_using_spaCy%20-%20CoNLL.ipynb#scrollTo=X4wBa1MGwTwy"
      ],
      "metadata": {
        "id": "7f9J30lH6pFW"
      }
    },
    {
      "cell_type": "code",
      "execution_count": 1,
      "metadata": {
        "id": "bhfOnKaW1HNe"
      },
      "outputs": [],
      "source": [
        "import os\n",
        "import pandas as pd\n",
        "pd.set_option('display.max_rows', 300)\n",
        "pd.set_option('display.max_columns', 100)\n",
        "pd.set_option('display.width', 150)\n",
        "import numpy as np\n",
        "from sklearn.model_selection import train_test_split\n",
        "import spacy\n",
        "from spacy.tokens import DocBin\n",
        "import pandas as pd\n",
        "from tqdm import tqdm\n",
        "import spacy\n",
        "from spacy.tokens import DocBin"
      ]
    },
    {
      "cell_type": "code",
      "source": [
        "!wget https://github.com/wbfrench1/barker_DATA606/blob/25e862741a599994fdeff7d10de6f6e23e2401a8/src/spaCy_models/config.cfg?raw=True\n",
        "os.rename('config.cfg?raw=True', 'config.cfg')"
      ],
      "metadata": {
        "id": "ZB3AlWKUWTaP",
        "outputId": "2378e795-d3b3-4a39-be6a-bbaa9921cb59",
        "colab": {
          "base_uri": "https://localhost:8080/"
        }
      },
      "execution_count": 2,
      "outputs": [
        {
          "output_type": "stream",
          "name": "stdout",
          "text": [
            "--2023-04-23 14:05:18--  https://github.com/wbfrench1/barker_DATA606/blob/25e862741a599994fdeff7d10de6f6e23e2401a8/src/spaCy_models/config.cfg?raw=True\n",
            "Resolving github.com (github.com)... 140.82.114.3\n",
            "Connecting to github.com (github.com)|140.82.114.3|:443... connected.\n",
            "HTTP request sent, awaiting response... 302 Found\n",
            "Location: https://github.com/wbfrench1/barker_DATA606/raw/25e862741a599994fdeff7d10de6f6e23e2401a8/src/spaCy_models/config.cfg [following]\n",
            "--2023-04-23 14:05:18--  https://github.com/wbfrench1/barker_DATA606/raw/25e862741a599994fdeff7d10de6f6e23e2401a8/src/spaCy_models/config.cfg\n",
            "Reusing existing connection to github.com:443.\n",
            "HTTP request sent, awaiting response... 302 Found\n",
            "Location: https://raw.githubusercontent.com/wbfrench1/barker_DATA606/25e862741a599994fdeff7d10de6f6e23e2401a8/src/spaCy_models/config.cfg [following]\n",
            "--2023-04-23 14:05:18--  https://raw.githubusercontent.com/wbfrench1/barker_DATA606/25e862741a599994fdeff7d10de6f6e23e2401a8/src/spaCy_models/config.cfg\n",
            "Resolving raw.githubusercontent.com (raw.githubusercontent.com)... 185.199.108.133, 185.199.109.133, 185.199.110.133, ...\n",
            "Connecting to raw.githubusercontent.com (raw.githubusercontent.com)|185.199.108.133|:443... connected.\n",
            "HTTP request sent, awaiting response... 200 OK\n",
            "Length: 1799 (1.8K) [text/plain]\n",
            "Saving to: ‘config.cfg?raw=True’\n",
            "\n",
            "config.cfg?raw=True 100%[===================>]   1.76K  --.-KB/s    in 0s      \n",
            "\n",
            "2023-04-23 14:05:18 (28.0 MB/s) - ‘config.cfg?raw=True’ saved [1799/1799]\n",
            "\n"
          ]
        }
      ]
    },
    {
      "cell_type": "markdown",
      "source": [
        "#### Add periods to the end of each sentence\n",
        "\n",
        "<p>In the test data at https://github.com/explosion/spaCy/blob/master/extra/example_data/ner_example_data/ner-token-per-line-with-pos.iob   it appears that each sentence should have a period at the end of it.</p>"
      ],
      "metadata": {
        "id": "taLKYDMLWxTh"
      }
    },
    {
      "cell_type": "markdown",
      "source": [
        "## Reconfigure Dataset"
      ],
      "metadata": {
        "id": "ZdXJCLS0tXx_"
      }
    },
    {
      "cell_type": "code",
      "source": [
        "df = pd.read_csv('https://raw.githubusercontent.com/wbfrench1/barker_DATA606/main/data/movie_data_word_pos_iob_w_space_sep.iob', sep=' ')\n",
        "print(df.shape)\n",
        "df.head()"
      ],
      "metadata": {
        "id": "ZKt1D44DJ4MR",
        "outputId": "03fec712-fe68-4606-c7b1-06bbe260e336",
        "colab": {
          "base_uri": "https://localhost:8080/",
          "height": 225
        }
      },
      "execution_count": 3,
      "outputs": [
        {
          "output_type": "stream",
          "name": "stdout",
          "text": [
            "(322035, 4)\n"
          ]
        },
        {
          "output_type": "execute_result",
          "data": {
            "text/plain": [
              "   Sentence #    Word  POS      Tag\n",
              "0           1    what   WP        o\n",
              "1           1  movies  NNS        o\n",
              "2           1    star  VBP        o\n",
              "3           1   bruce   NN  b-actor\n",
              "4           1  willis   NN  i-actor"
            ],
            "text/html": [
              "\n",
              "  <div id=\"df-3746664a-7aa8-404f-ac6d-183ab32a1352\">\n",
              "    <div class=\"colab-df-container\">\n",
              "      <div>\n",
              "<style scoped>\n",
              "    .dataframe tbody tr th:only-of-type {\n",
              "        vertical-align: middle;\n",
              "    }\n",
              "\n",
              "    .dataframe tbody tr th {\n",
              "        vertical-align: top;\n",
              "    }\n",
              "\n",
              "    .dataframe thead th {\n",
              "        text-align: right;\n",
              "    }\n",
              "</style>\n",
              "<table border=\"1\" class=\"dataframe\">\n",
              "  <thead>\n",
              "    <tr style=\"text-align: right;\">\n",
              "      <th></th>\n",
              "      <th>Sentence #</th>\n",
              "      <th>Word</th>\n",
              "      <th>POS</th>\n",
              "      <th>Tag</th>\n",
              "    </tr>\n",
              "  </thead>\n",
              "  <tbody>\n",
              "    <tr>\n",
              "      <th>0</th>\n",
              "      <td>1</td>\n",
              "      <td>what</td>\n",
              "      <td>WP</td>\n",
              "      <td>o</td>\n",
              "    </tr>\n",
              "    <tr>\n",
              "      <th>1</th>\n",
              "      <td>1</td>\n",
              "      <td>movies</td>\n",
              "      <td>NNS</td>\n",
              "      <td>o</td>\n",
              "    </tr>\n",
              "    <tr>\n",
              "      <th>2</th>\n",
              "      <td>1</td>\n",
              "      <td>star</td>\n",
              "      <td>VBP</td>\n",
              "      <td>o</td>\n",
              "    </tr>\n",
              "    <tr>\n",
              "      <th>3</th>\n",
              "      <td>1</td>\n",
              "      <td>bruce</td>\n",
              "      <td>NN</td>\n",
              "      <td>b-actor</td>\n",
              "    </tr>\n",
              "    <tr>\n",
              "      <th>4</th>\n",
              "      <td>1</td>\n",
              "      <td>willis</td>\n",
              "      <td>NN</td>\n",
              "      <td>i-actor</td>\n",
              "    </tr>\n",
              "  </tbody>\n",
              "</table>\n",
              "</div>\n",
              "      <button class=\"colab-df-convert\" onclick=\"convertToInteractive('df-3746664a-7aa8-404f-ac6d-183ab32a1352')\"\n",
              "              title=\"Convert this dataframe to an interactive table.\"\n",
              "              style=\"display:none;\">\n",
              "        \n",
              "  <svg xmlns=\"http://www.w3.org/2000/svg\" height=\"24px\"viewBox=\"0 0 24 24\"\n",
              "       width=\"24px\">\n",
              "    <path d=\"M0 0h24v24H0V0z\" fill=\"none\"/>\n",
              "    <path d=\"M18.56 5.44l.94 2.06.94-2.06 2.06-.94-2.06-.94-.94-2.06-.94 2.06-2.06.94zm-11 1L8.5 8.5l.94-2.06 2.06-.94-2.06-.94L8.5 2.5l-.94 2.06-2.06.94zm10 10l.94 2.06.94-2.06 2.06-.94-2.06-.94-.94-2.06-.94 2.06-2.06.94z\"/><path d=\"M17.41 7.96l-1.37-1.37c-.4-.4-.92-.59-1.43-.59-.52 0-1.04.2-1.43.59L10.3 9.45l-7.72 7.72c-.78.78-.78 2.05 0 2.83L4 21.41c.39.39.9.59 1.41.59.51 0 1.02-.2 1.41-.59l7.78-7.78 2.81-2.81c.8-.78.8-2.07 0-2.86zM5.41 20L4 18.59l7.72-7.72 1.47 1.35L5.41 20z\"/>\n",
              "  </svg>\n",
              "      </button>\n",
              "      \n",
              "  <style>\n",
              "    .colab-df-container {\n",
              "      display:flex;\n",
              "      flex-wrap:wrap;\n",
              "      gap: 12px;\n",
              "    }\n",
              "\n",
              "    .colab-df-convert {\n",
              "      background-color: #E8F0FE;\n",
              "      border: none;\n",
              "      border-radius: 50%;\n",
              "      cursor: pointer;\n",
              "      display: none;\n",
              "      fill: #1967D2;\n",
              "      height: 32px;\n",
              "      padding: 0 0 0 0;\n",
              "      width: 32px;\n",
              "    }\n",
              "\n",
              "    .colab-df-convert:hover {\n",
              "      background-color: #E2EBFA;\n",
              "      box-shadow: 0px 1px 2px rgba(60, 64, 67, 0.3), 0px 1px 3px 1px rgba(60, 64, 67, 0.15);\n",
              "      fill: #174EA6;\n",
              "    }\n",
              "\n",
              "    [theme=dark] .colab-df-convert {\n",
              "      background-color: #3B4455;\n",
              "      fill: #D2E3FC;\n",
              "    }\n",
              "\n",
              "    [theme=dark] .colab-df-convert:hover {\n",
              "      background-color: #434B5C;\n",
              "      box-shadow: 0px 1px 3px 1px rgba(0, 0, 0, 0.15);\n",
              "      filter: drop-shadow(0px 1px 2px rgba(0, 0, 0, 0.3));\n",
              "      fill: #FFFFFF;\n",
              "    }\n",
              "  </style>\n",
              "\n",
              "      <script>\n",
              "        const buttonEl =\n",
              "          document.querySelector('#df-3746664a-7aa8-404f-ac6d-183ab32a1352 button.colab-df-convert');\n",
              "        buttonEl.style.display =\n",
              "          google.colab.kernel.accessAllowed ? 'block' : 'none';\n",
              "\n",
              "        async function convertToInteractive(key) {\n",
              "          const element = document.querySelector('#df-3746664a-7aa8-404f-ac6d-183ab32a1352');\n",
              "          const dataTable =\n",
              "            await google.colab.kernel.invokeFunction('convertToInteractive',\n",
              "                                                     [key], {});\n",
              "          if (!dataTable) return;\n",
              "\n",
              "          const docLinkHtml = 'Like what you see? Visit the ' +\n",
              "            '<a target=\"_blank\" href=https://colab.research.google.com/notebooks/data_table.ipynb>data table notebook</a>'\n",
              "            + ' to learn more about interactive tables.';\n",
              "          element.innerHTML = '';\n",
              "          dataTable['output_type'] = 'display_data';\n",
              "          await google.colab.output.renderOutput(dataTable, element);\n",
              "          const docLink = document.createElement('div');\n",
              "          docLink.innerHTML = docLinkHtml;\n",
              "          element.appendChild(docLink);\n",
              "        }\n",
              "      </script>\n",
              "    </div>\n",
              "  </div>\n",
              "  "
            ]
          },
          "metadata": {},
          "execution_count": 3
        }
      ]
    },
    {
      "cell_type": "code",
      "source": [
        "df.loc[df['Sentence #'] == 12986]"
      ],
      "metadata": {
        "id": "-YYb61xZKFCT",
        "outputId": "4dcfa329-ff2a-4835-c236-e3f9d9e89c97",
        "colab": {
          "base_uri": "https://localhost:8080/",
          "height": 614
        }
      },
      "execution_count": 4,
      "outputs": [
        {
          "output_type": "execute_result",
          "data": {
            "text/plain": [
              "        Sentence #          Word  POS         Tag\n",
              "139912       12986          this   DT           o\n",
              "139913       12986          1977   CD      b-year\n",
              "139914       12986         movie   NN           o\n",
              "139915       12986      directed  VBN           o\n",
              "139916       12986            by   IN           o\n",
              "139917       12986        steven   JJ  b-director\n",
              "139918       12986     spielberg   NN  i-director\n",
              "139919       12986      features  VBZ           o\n",
              "139920       12986             a   DT      b-plot\n",
              "139921       12986           man   NN      i-plot\n",
              "139922       12986         whose  WP$      i-plot\n",
              "139923       12986          life   NN      i-plot\n",
              "139924       12986            is  VBZ      i-plot\n",
              "139925       12986       altered  VBN      i-plot\n",
              "139926       12986  dramatically   RB      i-plot\n",
              "139927       12986         after   IN      i-plot\n",
              "139928       12986        seeing  VBG      i-plot\n",
              "139929       12986          ufos   JJ      i-plot"
            ],
            "text/html": [
              "\n",
              "  <div id=\"df-e0144eb7-d56b-4b67-9b8d-eeb73bbaa20d\">\n",
              "    <div class=\"colab-df-container\">\n",
              "      <div>\n",
              "<style scoped>\n",
              "    .dataframe tbody tr th:only-of-type {\n",
              "        vertical-align: middle;\n",
              "    }\n",
              "\n",
              "    .dataframe tbody tr th {\n",
              "        vertical-align: top;\n",
              "    }\n",
              "\n",
              "    .dataframe thead th {\n",
              "        text-align: right;\n",
              "    }\n",
              "</style>\n",
              "<table border=\"1\" class=\"dataframe\">\n",
              "  <thead>\n",
              "    <tr style=\"text-align: right;\">\n",
              "      <th></th>\n",
              "      <th>Sentence #</th>\n",
              "      <th>Word</th>\n",
              "      <th>POS</th>\n",
              "      <th>Tag</th>\n",
              "    </tr>\n",
              "  </thead>\n",
              "  <tbody>\n",
              "    <tr>\n",
              "      <th>139912</th>\n",
              "      <td>12986</td>\n",
              "      <td>this</td>\n",
              "      <td>DT</td>\n",
              "      <td>o</td>\n",
              "    </tr>\n",
              "    <tr>\n",
              "      <th>139913</th>\n",
              "      <td>12986</td>\n",
              "      <td>1977</td>\n",
              "      <td>CD</td>\n",
              "      <td>b-year</td>\n",
              "    </tr>\n",
              "    <tr>\n",
              "      <th>139914</th>\n",
              "      <td>12986</td>\n",
              "      <td>movie</td>\n",
              "      <td>NN</td>\n",
              "      <td>o</td>\n",
              "    </tr>\n",
              "    <tr>\n",
              "      <th>139915</th>\n",
              "      <td>12986</td>\n",
              "      <td>directed</td>\n",
              "      <td>VBN</td>\n",
              "      <td>o</td>\n",
              "    </tr>\n",
              "    <tr>\n",
              "      <th>139916</th>\n",
              "      <td>12986</td>\n",
              "      <td>by</td>\n",
              "      <td>IN</td>\n",
              "      <td>o</td>\n",
              "    </tr>\n",
              "    <tr>\n",
              "      <th>139917</th>\n",
              "      <td>12986</td>\n",
              "      <td>steven</td>\n",
              "      <td>JJ</td>\n",
              "      <td>b-director</td>\n",
              "    </tr>\n",
              "    <tr>\n",
              "      <th>139918</th>\n",
              "      <td>12986</td>\n",
              "      <td>spielberg</td>\n",
              "      <td>NN</td>\n",
              "      <td>i-director</td>\n",
              "    </tr>\n",
              "    <tr>\n",
              "      <th>139919</th>\n",
              "      <td>12986</td>\n",
              "      <td>features</td>\n",
              "      <td>VBZ</td>\n",
              "      <td>o</td>\n",
              "    </tr>\n",
              "    <tr>\n",
              "      <th>139920</th>\n",
              "      <td>12986</td>\n",
              "      <td>a</td>\n",
              "      <td>DT</td>\n",
              "      <td>b-plot</td>\n",
              "    </tr>\n",
              "    <tr>\n",
              "      <th>139921</th>\n",
              "      <td>12986</td>\n",
              "      <td>man</td>\n",
              "      <td>NN</td>\n",
              "      <td>i-plot</td>\n",
              "    </tr>\n",
              "    <tr>\n",
              "      <th>139922</th>\n",
              "      <td>12986</td>\n",
              "      <td>whose</td>\n",
              "      <td>WP$</td>\n",
              "      <td>i-plot</td>\n",
              "    </tr>\n",
              "    <tr>\n",
              "      <th>139923</th>\n",
              "      <td>12986</td>\n",
              "      <td>life</td>\n",
              "      <td>NN</td>\n",
              "      <td>i-plot</td>\n",
              "    </tr>\n",
              "    <tr>\n",
              "      <th>139924</th>\n",
              "      <td>12986</td>\n",
              "      <td>is</td>\n",
              "      <td>VBZ</td>\n",
              "      <td>i-plot</td>\n",
              "    </tr>\n",
              "    <tr>\n",
              "      <th>139925</th>\n",
              "      <td>12986</td>\n",
              "      <td>altered</td>\n",
              "      <td>VBN</td>\n",
              "      <td>i-plot</td>\n",
              "    </tr>\n",
              "    <tr>\n",
              "      <th>139926</th>\n",
              "      <td>12986</td>\n",
              "      <td>dramatically</td>\n",
              "      <td>RB</td>\n",
              "      <td>i-plot</td>\n",
              "    </tr>\n",
              "    <tr>\n",
              "      <th>139927</th>\n",
              "      <td>12986</td>\n",
              "      <td>after</td>\n",
              "      <td>IN</td>\n",
              "      <td>i-plot</td>\n",
              "    </tr>\n",
              "    <tr>\n",
              "      <th>139928</th>\n",
              "      <td>12986</td>\n",
              "      <td>seeing</td>\n",
              "      <td>VBG</td>\n",
              "      <td>i-plot</td>\n",
              "    </tr>\n",
              "    <tr>\n",
              "      <th>139929</th>\n",
              "      <td>12986</td>\n",
              "      <td>ufos</td>\n",
              "      <td>JJ</td>\n",
              "      <td>i-plot</td>\n",
              "    </tr>\n",
              "  </tbody>\n",
              "</table>\n",
              "</div>\n",
              "      <button class=\"colab-df-convert\" onclick=\"convertToInteractive('df-e0144eb7-d56b-4b67-9b8d-eeb73bbaa20d')\"\n",
              "              title=\"Convert this dataframe to an interactive table.\"\n",
              "              style=\"display:none;\">\n",
              "        \n",
              "  <svg xmlns=\"http://www.w3.org/2000/svg\" height=\"24px\"viewBox=\"0 0 24 24\"\n",
              "       width=\"24px\">\n",
              "    <path d=\"M0 0h24v24H0V0z\" fill=\"none\"/>\n",
              "    <path d=\"M18.56 5.44l.94 2.06.94-2.06 2.06-.94-2.06-.94-.94-2.06-.94 2.06-2.06.94zm-11 1L8.5 8.5l.94-2.06 2.06-.94-2.06-.94L8.5 2.5l-.94 2.06-2.06.94zm10 10l.94 2.06.94-2.06 2.06-.94-2.06-.94-.94-2.06-.94 2.06-2.06.94z\"/><path d=\"M17.41 7.96l-1.37-1.37c-.4-.4-.92-.59-1.43-.59-.52 0-1.04.2-1.43.59L10.3 9.45l-7.72 7.72c-.78.78-.78 2.05 0 2.83L4 21.41c.39.39.9.59 1.41.59.51 0 1.02-.2 1.41-.59l7.78-7.78 2.81-2.81c.8-.78.8-2.07 0-2.86zM5.41 20L4 18.59l7.72-7.72 1.47 1.35L5.41 20z\"/>\n",
              "  </svg>\n",
              "      </button>\n",
              "      \n",
              "  <style>\n",
              "    .colab-df-container {\n",
              "      display:flex;\n",
              "      flex-wrap:wrap;\n",
              "      gap: 12px;\n",
              "    }\n",
              "\n",
              "    .colab-df-convert {\n",
              "      background-color: #E8F0FE;\n",
              "      border: none;\n",
              "      border-radius: 50%;\n",
              "      cursor: pointer;\n",
              "      display: none;\n",
              "      fill: #1967D2;\n",
              "      height: 32px;\n",
              "      padding: 0 0 0 0;\n",
              "      width: 32px;\n",
              "    }\n",
              "\n",
              "    .colab-df-convert:hover {\n",
              "      background-color: #E2EBFA;\n",
              "      box-shadow: 0px 1px 2px rgba(60, 64, 67, 0.3), 0px 1px 3px 1px rgba(60, 64, 67, 0.15);\n",
              "      fill: #174EA6;\n",
              "    }\n",
              "\n",
              "    [theme=dark] .colab-df-convert {\n",
              "      background-color: #3B4455;\n",
              "      fill: #D2E3FC;\n",
              "    }\n",
              "\n",
              "    [theme=dark] .colab-df-convert:hover {\n",
              "      background-color: #434B5C;\n",
              "      box-shadow: 0px 1px 3px 1px rgba(0, 0, 0, 0.15);\n",
              "      filter: drop-shadow(0px 1px 2px rgba(0, 0, 0, 0.3));\n",
              "      fill: #FFFFFF;\n",
              "    }\n",
              "  </style>\n",
              "\n",
              "      <script>\n",
              "        const buttonEl =\n",
              "          document.querySelector('#df-e0144eb7-d56b-4b67-9b8d-eeb73bbaa20d button.colab-df-convert');\n",
              "        buttonEl.style.display =\n",
              "          google.colab.kernel.accessAllowed ? 'block' : 'none';\n",
              "\n",
              "        async function convertToInteractive(key) {\n",
              "          const element = document.querySelector('#df-e0144eb7-d56b-4b67-9b8d-eeb73bbaa20d');\n",
              "          const dataTable =\n",
              "            await google.colab.kernel.invokeFunction('convertToInteractive',\n",
              "                                                     [key], {});\n",
              "          if (!dataTable) return;\n",
              "\n",
              "          const docLinkHtml = 'Like what you see? Visit the ' +\n",
              "            '<a target=\"_blank\" href=https://colab.research.google.com/notebooks/data_table.ipynb>data table notebook</a>'\n",
              "            + ' to learn more about interactive tables.';\n",
              "          element.innerHTML = '';\n",
              "          dataTable['output_type'] = 'display_data';\n",
              "          await google.colab.output.renderOutput(dataTable, element);\n",
              "          const docLink = document.createElement('div');\n",
              "          docLink.innerHTML = docLinkHtml;\n",
              "          element.appendChild(docLink);\n",
              "        }\n",
              "      </script>\n",
              "    </div>\n",
              "  </div>\n",
              "  "
            ]
          },
          "metadata": {},
          "execution_count": 4
        }
      ]
    },
    {
      "cell_type": "code",
      "source": [
        "df2 = df.copy()"
      ],
      "metadata": {
        "id": "mWtgZjh_NSEd"
      },
      "execution_count": 5,
      "outputs": []
    },
    {
      "cell_type": "code",
      "source": [
        "df2['Sentence #'].max()"
      ],
      "metadata": {
        "id": "sXD8RVzzN3JH",
        "outputId": "f4de0bcb-2d12-42f7-9b83-d283cbba8a25",
        "colab": {
          "base_uri": "https://localhost:8080/"
        }
      },
      "execution_count": 6,
      "outputs": [
        {
          "output_type": "execute_result",
          "data": {
            "text/plain": [
              "21987"
            ]
          },
          "metadata": {},
          "execution_count": 6
        }
      ]
    },
    {
      "cell_type": "code",
      "source": [
        "str_sent= ''\n",
        "int_pos= 0\n",
        "dict_entities= {'entities': []}\n",
        "\n",
        "for word, pos, tag in df2.loc[df2['Sentence #'] == 1, ['Word', 'POS', 'Tag']].values:\n",
        "    str_sent += word + ' '\n",
        "    print('word:', word, 'int_pos',int_pos) \n",
        "    \n",
        "    if tag != 'o':\n",
        "        dict_entities['entities'].append((int_pos, int_pos + len(word), word))\n",
        "    \n",
        "    int_pos += len(word) + 1\n",
        "str_sent = str_sent[:-1]\n",
        "str_sent\n",
        "\n",
        "(str_sent, dict_entities)"
      ],
      "metadata": {
        "id": "hV8PquDgOcpK",
        "outputId": "6cd074dd-e7d9-4561-97d7-a9f1773172e4",
        "colab": {
          "base_uri": "https://localhost:8080/"
        }
      },
      "execution_count": 7,
      "outputs": [
        {
          "output_type": "stream",
          "name": "stdout",
          "text": [
            "word: what int_pos 0\n",
            "word: movies int_pos 5\n",
            "word: star int_pos 12\n",
            "word: bruce int_pos 17\n",
            "word: willis int_pos 23\n"
          ]
        },
        {
          "output_type": "execute_result",
          "data": {
            "text/plain": [
              "('what movies star bruce willis',\n",
              " {'entities': [(17, 22, 'bruce'), (23, 29, 'willis')]})"
            ]
          },
          "metadata": {},
          "execution_count": 7
        }
      ]
    },
    {
      "cell_type": "code",
      "source": [
        "str_sent"
      ],
      "metadata": {
        "id": "w3ITVMPJShQi",
        "outputId": "f4323eb6-be7c-4421-b186-819ffb8aafea",
        "colab": {
          "base_uri": "https://localhost:8080/",
          "height": 36
        }
      },
      "execution_count": 8,
      "outputs": [
        {
          "output_type": "execute_result",
          "data": {
            "text/plain": [
              "'what movies star bruce willis'"
            ],
            "application/vnd.google.colaboratory.intrinsic+json": {
              "type": "string"
            }
          },
          "metadata": {},
          "execution_count": 8
        }
      ]
    },
    {
      "cell_type": "code",
      "source": [
        "dict_entities"
      ],
      "metadata": {
        "id": "0SoF9cp9Setk",
        "outputId": "99892eae-f799-41bf-d084-ed924db041ce",
        "colab": {
          "base_uri": "https://localhost:8080/"
        }
      },
      "execution_count": 9,
      "outputs": [
        {
          "output_type": "execute_result",
          "data": {
            "text/plain": [
              "{'entities': [(17, 22, 'bruce'), (23, 29, 'willis')]}"
            ]
          },
          "metadata": {},
          "execution_count": 9
        }
      ]
    },
    {
      "cell_type": "code",
      "source": [
        "l_data = []\n",
        "\n",
        "for sent_num in range(1,df2['Sentence #'].max() + 1):\n",
        "    str_sent= ''\n",
        "    int_pos= 0\n",
        "    dict_entities= {'entities': []}\n",
        "\n",
        "    for word, pos, tag in df2.loc[df2['Sentence #'] == sent_num, ['Word', 'POS', 'Tag']].values:\n",
        "        word = str(word)\n",
        "        str_sent += word + ' '\n",
        "        #print('word:', word, 'int_pos',int_pos) \n",
        "        \n",
        "        if tag != 'o':\n",
        "            dict_entities['entities'].append((int_pos, int_pos + len(word), tag))\n",
        "        \n",
        "        int_pos += len(word) + 1\n",
        "    str_sent = str_sent[:-1]\n",
        "    str_sent\n",
        "\n",
        "    l_data.append((str_sent, dict_entities))"
      ],
      "metadata": {
        "id": "TYiouiXeN-i3"
      },
      "execution_count": 10,
      "outputs": []
    },
    {
      "cell_type": "code",
      "source": [
        "l_data[-1:]"
      ],
      "metadata": {
        "id": "DKytjJuiOYf_",
        "outputId": "3b0adbad-4582-4a4f-c645-e98050b8e464",
        "colab": {
          "base_uri": "https://localhost:8080/"
        }
      },
      "execution_count": 11,
      "outputs": [
        {
          "output_type": "execute_result",
          "data": {
            "text/plain": [
              "[('zac efron is the title character in this 2010 fantasy romance based on the novel by ben sherwood',\n",
              "  {'entities': [(0, 3, 'b-actor'),\n",
              "    (4, 9, 'i-actor'),\n",
              "    (41, 45, 'b-year'),\n",
              "    (46, 53, 'b-genre'),\n",
              "    (54, 61, 'i-genre'),\n",
              "    (62, 67, 'b-origin'),\n",
              "    (68, 70, 'i-origin'),\n",
              "    (71, 74, 'i-origin'),\n",
              "    (75, 80, 'i-origin'),\n",
              "    (81, 83, 'i-origin'),\n",
              "    (84, 87, 'i-origin'),\n",
              "    (88, 96, 'i-origin')]})]"
            ]
          },
          "metadata": {},
          "execution_count": 11
        }
      ]
    },
    {
      "cell_type": "code",
      "source": [
        "# 21987 refers to 21,987 sentences.  I need to divide them into groups.\n",
        "int_num_quest = len(l_data)\n",
        "int_train_end = int(.6 * int_num_quest)\n",
        "int_test_end = int(int_train_end + .2 * int_num_quest)"
      ],
      "metadata": {
        "id": "bVft5bMaTrAI"
      },
      "execution_count": 12,
      "outputs": []
    },
    {
      "cell_type": "markdown",
      "source": [
        "### Divide the list of questions: Train, Test, Val"
      ],
      "metadata": {
        "id": "WkMKClNV3N52"
      }
    },
    {
      "cell_type": "code",
      "source": [
        "l_train = l_data[:int_train_end]\n",
        "l_test = l_data[int_train_end:int_test_end]\n",
        "l_val = l_data[int_test_end:]\n",
        "\n",
        "dict_data = {'train' : (l_train, \"./train.spacy\"),\n",
        "             'test'  : (l_test, \"./test.spacy\"),\n",
        "             'val'   : (l_val, \"./val.spacy\") }"
      ],
      "metadata": {
        "id": "sKK0Qoli3zBD"
      },
      "execution_count": 13,
      "outputs": []
    },
    {
      "cell_type": "markdown",
      "source": [
        "### Convert Data to spaCy format"
      ],
      "metadata": {
        "id": "SCitI7Fl7G7t"
      }
    },
    {
      "cell_type": "code",
      "source": [
        "!python -m spacy init fill-config config.cfg config.cfg "
      ],
      "metadata": {
        "id": "kb5WHqyDbsvc",
        "outputId": "6652b9a8-fdd5-4f6d-ea6f-d90d51c6ba72",
        "colab": {
          "base_uri": "https://localhost:8080/"
        }
      },
      "execution_count": 15,
      "outputs": [
        {
          "output_type": "stream",
          "name": "stdout",
          "text": [
            "2023-04-23 14:07:20.878403: W tensorflow/compiler/tf2tensorrt/utils/py_utils.cc:38] TF-TRT Warning: Could not find TensorRT\n",
            "\u001b[38;5;2m✔ Auto-filled config with all values\u001b[0m\n",
            "\u001b[38;5;2m✔ Saved config\u001b[0m\n",
            "config.cfg\n",
            "You can now add your data and train your pipeline:\n",
            "python -m spacy train config.cfg --paths.train ./train.spacy --paths.dev ./dev.spacy\n"
          ]
        }
      ]
    },
    {
      "cell_type": "code",
      "source": [
        "\n",
        "\n",
        "for str_data_set_name in dict_data.keys():\n",
        "    \n",
        "    nlp = spacy.blank(\"en\") # load a new spacy model\n",
        "    db = DocBin() # create a DocBin object\n",
        "\n",
        "    for text, annot in tqdm(dict_data[str_data_set_name][0]): # data in previous format\n",
        "        doc = nlp.make_doc(text) # create doc object from text\n",
        "        ents = []\n",
        "        for start, end, label in annot[\"entities\"]: # add character indexes\n",
        "            span = doc.char_span(start, end, label=label, alignment_mode=\"contract\")\n",
        "            if span is None:\n",
        "                print(\"Skipping entity\")\n",
        "            else:\n",
        "                ents.append(span)\n",
        "        doc.ents = ents # label the text with the ents\n",
        "        db.add(doc)\n",
        "\n",
        "    db.to_disk(dict_data[str_data_set_name][1]) # save the docbin object"
      ],
      "metadata": {
        "id": "9GdmmzYJ7Gbb",
        "outputId": "bbb84432-ab20-4c4d-dfb8-513e33de8a7e",
        "colab": {
          "base_uri": "https://localhost:8080/"
        }
      },
      "execution_count": 16,
      "outputs": [
        {
          "output_type": "stream",
          "name": "stderr",
          "text": [
            "100%|██████████| 13192/13192 [00:02<00:00, 4951.12it/s]\n",
            "100%|██████████| 4397/4397 [00:01<00:00, 2927.93it/s]\n",
            "100%|██████████| 4398/4398 [00:02<00:00, 1920.27it/s]\n"
          ]
        }
      ]
    },
    {
      "cell_type": "code",
      "source": [
        "!python -m spacy train config.cfg --output ./output --paths.train ./train.spacy --paths.dev ./test.spacy "
      ],
      "metadata": {
        "id": "4ZHKiVVK6pYn",
        "outputId": "af69b303-a74c-400a-d334-4acbea319327",
        "colab": {
          "base_uri": "https://localhost:8080/"
        }
      },
      "execution_count": 17,
      "outputs": [
        {
          "output_type": "stream",
          "name": "stdout",
          "text": [
            "2023-04-23 14:07:42.701760: W tensorflow/compiler/tf2tensorrt/utils/py_utils.cc:38] TF-TRT Warning: Could not find TensorRT\n",
            "\u001b[38;5;2m✔ Created output directory: output\u001b[0m\n",
            "\u001b[38;5;4mℹ Saving to output directory: output\u001b[0m\n",
            "\u001b[38;5;4mℹ Using CPU\u001b[0m\n",
            "\u001b[1m\n",
            "=========================== Initializing pipeline ===========================\u001b[0m\n",
            "[2023-04-23 14:07:45,602] [INFO] Set up nlp object from config\n",
            "[2023-04-23 14:07:45,625] [INFO] Pipeline: ['tok2vec', 'ner']\n",
            "[2023-04-23 14:07:45,633] [INFO] Created vocabulary\n",
            "[2023-04-23 14:07:45,634] [INFO] Finished initializing nlp object\n",
            "[2023-04-23 14:07:50,984] [INFO] Initialized pipeline components: ['tok2vec', 'ner']\n",
            "\u001b[38;5;2m✔ Initialized pipeline\u001b[0m\n",
            "\u001b[1m\n",
            "============================= Training pipeline =============================\u001b[0m\n",
            "\u001b[38;5;4mℹ Pipeline: ['tok2vec', 'ner']\u001b[0m\n",
            "\u001b[38;5;4mℹ Initial learn rate: 0.001\u001b[0m\n",
            "E    #       LOSS TOK2VEC  LOSS NER  ENTS_F  ENTS_P  ENTS_R  SCORE \n",
            "---  ------  ------------  --------  ------  ------  ------  ------\n",
            "  0       0          0.00     75.19    0.00    0.00    0.00    0.00\n",
            "  0     200        274.26   9010.96   40.94   51.31   34.05    0.41\n",
            "  0     400        523.38   6914.93   55.32   62.46   49.65    0.55\n",
            "  0     600        723.33   7155.19   66.59   72.87   61.31    0.67\n",
            "  0     800        880.54   7655.34   58.31   60.48   56.29    0.58\n",
            "  1    1000       1100.46   8323.49   69.98   74.29   66.15    0.70\n",
            "  1    1200       1423.82   8592.11   74.28   76.31   72.36    0.74\n",
            "  2    1400       1778.73  10062.36   75.72   78.59   73.05    0.76\n",
            "  2    1600       2189.76  10247.05   73.77   76.90   70.89    0.74\n",
            "  3    1800       2835.07  11479.26   74.79   75.53   74.07    0.75\n",
            "  4    2000       3546.39  12359.77   75.68   75.78   75.59    0.76\n",
            "  5    2200       4224.37  13198.41   74.47   75.81   73.18    0.74\n",
            "  6    2400       5218.50  13867.55   74.26   76.95   71.76    0.74\n",
            "  8    2600       5204.98  12405.10   73.95   75.99   72.02    0.74\n",
            "  9    2800       5628.80  11462.69   74.32   76.49   72.28    0.74\n",
            " 10    3000       5648.56  10662.12   73.08   76.78   69.73    0.73\n",
            "\u001b[38;5;2m✔ Saved pipeline to output directory\u001b[0m\n",
            "output/model-last\n"
          ]
        }
      ]
    },
    {
      "cell_type": "markdown",
      "source": [
        "### Prediction"
      ],
      "metadata": {
        "id": "5fG8uRO2Ajxr"
      }
    },
    {
      "cell_type": "code",
      "source": [
        "int_quest_num = 7\n",
        "str_question = l_val[int_quest_num][0]\n",
        "l_val[int_quest_num]"
      ],
      "metadata": {
        "id": "o27U-NxSAsHF",
        "outputId": "6523a187-d730-42aa-8403-70e5dd08ae8b",
        "colab": {
          "base_uri": "https://localhost:8080/"
        }
      },
      "execution_count": 18,
      "outputs": [
        {
          "output_type": "execute_result",
          "data": {
            "text/plain": [
              "('which film is directed by paul thomas anderson and stars daniel day lewis as a turn of the century oilman',\n",
              " {'entities': [(26, 30, 'b-director'),\n",
              "   (31, 37, 'i-director'),\n",
              "   (38, 46, 'i-director'),\n",
              "   (57, 63, 'b-actor'),\n",
              "   (64, 67, 'i-actor'),\n",
              "   (68, 73, 'i-actor')]})"
            ]
          },
          "metadata": {},
          "execution_count": 18
        }
      ]
    },
    {
      "cell_type": "code",
      "source": [
        "nlp1 = spacy.load(\"output/model-best\") #load the best model\n",
        "doc = nlp1(str_question) # input sample text\n",
        "\n",
        "spacy.displacy.render(doc, style=\"ent\", jupyter=True) # display in Jupyter"
      ],
      "metadata": {
        "id": "rbTznbgp9BE3",
        "outputId": "6b1e04c0-2ada-4c99-e3d8-ab937f936c40",
        "colab": {
          "base_uri": "https://localhost:8080/",
          "height": 52
        }
      },
      "execution_count": 19,
      "outputs": [
        {
          "output_type": "display_data",
          "data": {
            "text/plain": [
              "<IPython.core.display.HTML object>"
            ],
            "text/html": [
              "<span class=\"tex2jax_ignore\"><div class=\"entities\" style=\"line-height: 2.5; direction: ltr\">which film is directed by \n",
              "<mark class=\"entity\" style=\"background: #ddd; padding: 0.45em 0.6em; margin: 0 0.25em; line-height: 1; border-radius: 0.35em;\">\n",
              "    paul\n",
              "    <span style=\"font-size: 0.8em; font-weight: bold; line-height: 1; border-radius: 0.35em; vertical-align: middle; margin-left: 0.5rem\">b-director</span>\n",
              "</mark>\n",
              " \n",
              "<mark class=\"entity\" style=\"background: #ddd; padding: 0.45em 0.6em; margin: 0 0.25em; line-height: 1; border-radius: 0.35em;\">\n",
              "    thomas\n",
              "    <span style=\"font-size: 0.8em; font-weight: bold; line-height: 1; border-radius: 0.35em; vertical-align: middle; margin-left: 0.5rem\">i-director</span>\n",
              "</mark>\n",
              " \n",
              "<mark class=\"entity\" style=\"background: #ddd; padding: 0.45em 0.6em; margin: 0 0.25em; line-height: 1; border-radius: 0.35em;\">\n",
              "    anderson\n",
              "    <span style=\"font-size: 0.8em; font-weight: bold; line-height: 1; border-radius: 0.35em; vertical-align: middle; margin-left: 0.5rem\">i-director</span>\n",
              "</mark>\n",
              " and stars \n",
              "<mark class=\"entity\" style=\"background: #ddd; padding: 0.45em 0.6em; margin: 0 0.25em; line-height: 1; border-radius: 0.35em;\">\n",
              "    daniel\n",
              "    <span style=\"font-size: 0.8em; font-weight: bold; line-height: 1; border-radius: 0.35em; vertical-align: middle; margin-left: 0.5rem\">b-actor</span>\n",
              "</mark>\n",
              " \n",
              "<mark class=\"entity\" style=\"background: #ddd; padding: 0.45em 0.6em; margin: 0 0.25em; line-height: 1; border-radius: 0.35em;\">\n",
              "    day\n",
              "    <span style=\"font-size: 0.8em; font-weight: bold; line-height: 1; border-radius: 0.35em; vertical-align: middle; margin-left: 0.5rem\">i-actor</span>\n",
              "</mark>\n",
              " \n",
              "<mark class=\"entity\" style=\"background: #ddd; padding: 0.45em 0.6em; margin: 0 0.25em; line-height: 1; border-radius: 0.35em;\">\n",
              "    lewis\n",
              "    <span style=\"font-size: 0.8em; font-weight: bold; line-height: 1; border-radius: 0.35em; vertical-align: middle; margin-left: 0.5rem\">i-actor</span>\n",
              "</mark>\n",
              " as a \n",
              "<mark class=\"entity\" style=\"background: #ddd; padding: 0.45em 0.6em; margin: 0 0.25em; line-height: 1; border-radius: 0.35em;\">\n",
              "    turn\n",
              "    <span style=\"font-size: 0.8em; font-weight: bold; line-height: 1; border-radius: 0.35em; vertical-align: middle; margin-left: 0.5rem\">i-plot</span>\n",
              "</mark>\n",
              " \n",
              "<mark class=\"entity\" style=\"background: #ddd; padding: 0.45em 0.6em; margin: 0 0.25em; line-height: 1; border-radius: 0.35em;\">\n",
              "    of\n",
              "    <span style=\"font-size: 0.8em; font-weight: bold; line-height: 1; border-radius: 0.35em; vertical-align: middle; margin-left: 0.5rem\">i-plot</span>\n",
              "</mark>\n",
              " \n",
              "<mark class=\"entity\" style=\"background: #ddd; padding: 0.45em 0.6em; margin: 0 0.25em; line-height: 1; border-radius: 0.35em;\">\n",
              "    the\n",
              "    <span style=\"font-size: 0.8em; font-weight: bold; line-height: 1; border-radius: 0.35em; vertical-align: middle; margin-left: 0.5rem\">i-plot</span>\n",
              "</mark>\n",
              " \n",
              "<mark class=\"entity\" style=\"background: #ddd; padding: 0.45em 0.6em; margin: 0 0.25em; line-height: 1; border-radius: 0.35em;\">\n",
              "    century\n",
              "    <span style=\"font-size: 0.8em; font-weight: bold; line-height: 1; border-radius: 0.35em; vertical-align: middle; margin-left: 0.5rem\">i-title</span>\n",
              "</mark>\n",
              " oilman</div></span>"
            ]
          },
          "metadata": {}
        }
      ]
    },
    {
      "cell_type": "markdown",
      "source": [
        "## Configuration 2 - tag, dep features,  MaxoutWindowEncoder.v2 depth = 6"
      ],
      "metadata": {
        "id": "jUKJ4lmsAxA5"
      }
    },
    {
      "cell_type": "code",
      "source": [
        "!wget https://github.com/wbfrench1/barker_DATA606/blob/ad36e86f3b3a820c9fcbb35f27b0ce21faf7404c/src/spaCy_models/config2.cfg?raw=True\n",
        "os.rename('config2.cfg?raw=True', 'config2.cfg')"
      ],
      "metadata": {
        "colab": {
          "base_uri": "https://localhost:8080/"
        },
        "id": "g6mRIhrTis4V",
        "outputId": "ae44b9d6-2bf4-49c7-ae24-2e50d01717a3"
      },
      "execution_count": 24,
      "outputs": [
        {
          "output_type": "stream",
          "name": "stdout",
          "text": [
            "--2023-04-23 14:35:19--  https://github.com/wbfrench1/barker_DATA606/blob/ad36e86f3b3a820c9fcbb35f27b0ce21faf7404c/src/spaCy_models/config2.cfg?raw=True\n",
            "Resolving github.com (github.com)... 140.82.112.3\n",
            "Connecting to github.com (github.com)|140.82.112.3|:443... connected.\n",
            "HTTP request sent, awaiting response... 302 Found\n",
            "Location: https://github.com/wbfrench1/barker_DATA606/raw/ad36e86f3b3a820c9fcbb35f27b0ce21faf7404c/src/spaCy_models/config2.cfg [following]\n",
            "--2023-04-23 14:35:19--  https://github.com/wbfrench1/barker_DATA606/raw/ad36e86f3b3a820c9fcbb35f27b0ce21faf7404c/src/spaCy_models/config2.cfg\n",
            "Reusing existing connection to github.com:443.\n",
            "HTTP request sent, awaiting response... 302 Found\n",
            "Location: https://raw.githubusercontent.com/wbfrench1/barker_DATA606/ad36e86f3b3a820c9fcbb35f27b0ce21faf7404c/src/spaCy_models/config2.cfg [following]\n",
            "--2023-04-23 14:35:19--  https://raw.githubusercontent.com/wbfrench1/barker_DATA606/ad36e86f3b3a820c9fcbb35f27b0ce21faf7404c/src/spaCy_models/config2.cfg\n",
            "Resolving raw.githubusercontent.com (raw.githubusercontent.com)... 185.199.109.133, 185.199.111.133, 185.199.108.133, ...\n",
            "Connecting to raw.githubusercontent.com (raw.githubusercontent.com)|185.199.109.133|:443... connected.\n",
            "HTTP request sent, awaiting response... 200 OK\n",
            "Length: 1813 (1.8K) [text/plain]\n",
            "Saving to: ‘config2.cfg?raw=True’\n",
            "\n",
            "config2.cfg?raw=Tru 100%[===================>]   1.77K  --.-KB/s    in 0s      \n",
            "\n",
            "2023-04-23 14:35:19 (24.5 MB/s) - ‘config2.cfg?raw=True’ saved [1813/1813]\n",
            "\n"
          ]
        }
      ]
    },
    {
      "cell_type": "code",
      "source": [
        "!python -m spacy init fill-config config2.cfg config2.cfg "
      ],
      "metadata": {
        "colab": {
          "base_uri": "https://localhost:8080/"
        },
        "id": "l4nSMuA5i0Qe",
        "outputId": "fd61740e-40b0-4615-d0ec-0e6c40483853"
      },
      "execution_count": 39,
      "outputs": [
        {
          "output_type": "stream",
          "name": "stdout",
          "text": [
            "2023-04-23 15:19:38.411145: W tensorflow/compiler/tf2tensorrt/utils/py_utils.cc:38] TF-TRT Warning: Could not find TensorRT\n",
            "\u001b[38;5;3m⚠ Nothing to auto-fill: base config is already complete\u001b[0m\n",
            "\u001b[38;5;2m✔ Saved config\u001b[0m\n",
            "config2.cfg\n",
            "You can now add your data and train your pipeline:\n",
            "python -m spacy train config2.cfg --paths.train ./train.spacy --paths.dev ./dev.spacy\n"
          ]
        }
      ]
    },
    {
      "cell_type": "code",
      "source": [
        "\n",
        "\n",
        "for str_data_set_name in dict_data.keys():\n",
        "    \n",
        "    nlp = spacy.blank(\"en\") # load a new spacy model\n",
        "    db = DocBin() # create a DocBin object\n",
        "\n",
        "    for text, annot in tqdm(dict_data[str_data_set_name][0]): # data in previous format\n",
        "        doc = nlp.make_doc(text) # create doc object from text\n",
        "        ents = []\n",
        "        for start, end, label in annot[\"entities\"]: # add character indexes\n",
        "            span = doc.char_span(start, end, label=label, alignment_mode=\"contract\")\n",
        "            if span is None:\n",
        "                print(\"Skipping entity\")\n",
        "            else:\n",
        "                ents.append(span)\n",
        "        doc.ents = ents # label the text with the ents\n",
        "        db.add(doc)\n",
        "\n",
        "    db.to_disk(dict_data[str_data_set_name][1]) # save the docbin object"
      ],
      "metadata": {
        "outputId": "db8acd51-e9dd-4551-abac-0594c88efdeb",
        "colab": {
          "base_uri": "https://localhost:8080/"
        },
        "id": "HaKdEjWWkgtt"
      },
      "execution_count": 40,
      "outputs": [
        {
          "output_type": "stream",
          "name": "stderr",
          "text": [
            "100%|██████████| 13192/13192 [00:04<00:00, 2654.78it/s]\n",
            "100%|██████████| 4397/4397 [00:02<00:00, 1667.18it/s]\n",
            "100%|██████████| 4398/4398 [00:02<00:00, 1986.73it/s]\n"
          ]
        }
      ]
    },
    {
      "cell_type": "code",
      "source": [
        "!python -m spacy train config2.cfg --output ./output --paths.train ./train.spacy --paths.dev ./test.spacy "
      ],
      "metadata": {
        "outputId": "cebf5f6e-bc85-4b40-f3ea-5edd0521b20a",
        "colab": {
          "base_uri": "https://localhost:8080/"
        },
        "id": "hD-vNi9Vkgtv"
      },
      "execution_count": 41,
      "outputs": [
        {
          "output_type": "stream",
          "name": "stdout",
          "text": [
            "2023-04-23 15:19:59.143373: W tensorflow/compiler/tf2tensorrt/utils/py_utils.cc:38] TF-TRT Warning: Could not find TensorRT\n",
            "\u001b[38;5;4mℹ Saving to output directory: output\u001b[0m\n",
            "\u001b[38;5;4mℹ Using CPU\u001b[0m\n",
            "\u001b[1m\n",
            "=========================== Initializing pipeline ===========================\u001b[0m\n",
            "[2023-04-23 15:20:02,415] [INFO] Set up nlp object from config\n",
            "[2023-04-23 15:20:02,438] [INFO] Pipeline: ['tok2vec', 'ner']\n",
            "[2023-04-23 15:20:02,447] [INFO] Created vocabulary\n",
            "[2023-04-23 15:20:02,449] [INFO] Finished initializing nlp object\n",
            "[2023-04-23 15:20:07,947] [INFO] Initialized pipeline components: ['tok2vec', 'ner']\n",
            "\u001b[38;5;2m✔ Initialized pipeline\u001b[0m\n",
            "\u001b[1m\n",
            "============================= Training pipeline =============================\u001b[0m\n",
            "\u001b[38;5;4mℹ Pipeline: ['tok2vec', 'ner']\u001b[0m\n",
            "\u001b[38;5;4mℹ Initial learn rate: 0.001\u001b[0m\n",
            "E    #       LOSS TOK2VEC  LOSS NER  ENTS_F  ENTS_P  ENTS_R  SCORE \n",
            "---  ------  ------------  --------  ------  ------  ------  ------\n",
            "  0       0          0.00     75.19    0.00    0.00    0.00    0.00\n",
            "  0     200        190.33   8980.78   31.84   47.64   23.91    0.32\n",
            "  0     400        355.36   7002.45   58.59   64.30   53.81    0.59\n",
            "  0     600        473.54   7198.62   70.23   74.08   66.76    0.70\n",
            "  0     800        590.65   7598.29   62.42   64.50   60.48    0.62\n",
            "  1    1000        693.73   8218.34   71.34   75.88   67.31    0.71\n",
            "  1    1200        919.75   8748.28   74.61   75.85   73.41    0.75\n",
            "  2    1400       1071.92  10015.76   75.80   79.01   72.85    0.76\n",
            "  2    1600       1389.70  10175.01   74.76   77.83   71.92    0.75\n",
            "  3    1800       1646.82  11430.42   76.24   78.38   74.21    0.76\n",
            "  4    2000       2191.54  12249.26   75.50   77.15   73.92    0.75\n",
            "  5    2200       2670.05  12784.37   74.80   76.64   73.04    0.75\n",
            "  6    2400       3178.78  13215.78   73.43   75.17   71.77    0.73\n",
            "  8    2600       3256.24  12140.28   74.20   77.23   71.40    0.74\n",
            "  9    2800       3339.38  10959.23   76.50   77.28   75.73    0.77\n",
            " 10    3000       3273.57  10011.08   74.02   77.67   70.69    0.74\n",
            " 12    3200       3210.92   9063.93   75.15   76.99   73.40    0.75\n",
            " 13    3400       3396.80   8586.62   74.79   76.01   73.61    0.75\n",
            " 14    3600       3409.95   8246.15   76.40   77.42   75.41    0.76\n",
            " 16    3800       3222.38   7339.86   76.19   77.75   74.70    0.76\n",
            " 17    4000       3413.90   7324.16   74.83   77.98   71.93    0.75\n",
            " 19    4200       3273.30   6892.93   74.80   77.04   72.68    0.75\n",
            " 20    4400       3264.09   6467.54   75.06   76.10   74.05    0.75\n",
            "\u001b[38;5;2m✔ Saved pipeline to output directory\u001b[0m\n",
            "output/model-last\n"
          ]
        }
      ]
    },
    {
      "cell_type": "markdown",
      "source": [
        "## Config 3 - MaxoutWindowEncoder.v2 depth = 4"
      ],
      "metadata": {
        "id": "yL8JnJgvkmbY"
      }
    },
    {
      "cell_type": "code",
      "source": [
        "!wget https://github.com/wbfrench1/barker_DATA606/blob/8f382f79094dc580eafc1f4c28c8d7c5191b46de/src/spaCy_models/config3.cfg?raw=True\n",
        "os.rename('config3.cfg?raw=True', 'config3.cfg')"
      ],
      "metadata": {
        "outputId": "e34b901e-cf7a-46b9-b2fd-8cc138f448a9",
        "colab": {
          "base_uri": "https://localhost:8080/"
        },
        "id": "8-cSzaa9otQ-"
      },
      "execution_count": 30,
      "outputs": [
        {
          "output_type": "stream",
          "name": "stdout",
          "text": [
            "--2023-04-23 14:58:29--  https://github.com/wbfrench1/barker_DATA606/blob/8f382f79094dc580eafc1f4c28c8d7c5191b46de/src/spaCy_models/config3.cfg?raw=True\n",
            "Resolving github.com (github.com)... 140.82.112.3\n",
            "Connecting to github.com (github.com)|140.82.112.3|:443... connected.\n",
            "HTTP request sent, awaiting response... 302 Found\n",
            "Location: https://github.com/wbfrench1/barker_DATA606/raw/8f382f79094dc580eafc1f4c28c8d7c5191b46de/src/spaCy_models/config3.cfg [following]\n",
            "--2023-04-23 14:58:30--  https://github.com/wbfrench1/barker_DATA606/raw/8f382f79094dc580eafc1f4c28c8d7c5191b46de/src/spaCy_models/config3.cfg\n",
            "Reusing existing connection to github.com:443.\n",
            "HTTP request sent, awaiting response... 302 Found\n",
            "Location: https://raw.githubusercontent.com/wbfrench1/barker_DATA606/8f382f79094dc580eafc1f4c28c8d7c5191b46de/src/spaCy_models/config3.cfg [following]\n",
            "--2023-04-23 14:58:30--  https://raw.githubusercontent.com/wbfrench1/barker_DATA606/8f382f79094dc580eafc1f4c28c8d7c5191b46de/src/spaCy_models/config3.cfg\n",
            "Resolving raw.githubusercontent.com (raw.githubusercontent.com)... 185.199.108.133, 185.199.109.133, 185.199.110.133, ...\n",
            "Connecting to raw.githubusercontent.com (raw.githubusercontent.com)|185.199.108.133|:443... connected.\n",
            "HTTP request sent, awaiting response... 200 OK\n",
            "Length: 1813 (1.8K) [text/plain]\n",
            "Saving to: ‘config3.cfg?raw=True’\n",
            "\n",
            "config3.cfg?raw=Tru 100%[===================>]   1.77K  --.-KB/s    in 0s      \n",
            "\n",
            "2023-04-23 14:58:30 (22.9 MB/s) - ‘config3.cfg?raw=True’ saved [1813/1813]\n",
            "\n"
          ]
        }
      ]
    },
    {
      "cell_type": "code",
      "source": [
        "!python -m spacy init fill-config config3.cfg config3.cfg "
      ],
      "metadata": {
        "outputId": "6c029870-b067-464b-d606-611b6e7dc1b8",
        "colab": {
          "base_uri": "https://localhost:8080/"
        },
        "id": "1KOzIu6UotRA"
      },
      "execution_count": 31,
      "outputs": [
        {
          "output_type": "stream",
          "name": "stdout",
          "text": [
            "2023-04-23 14:58:45.265446: W tensorflow/compiler/tf2tensorrt/utils/py_utils.cc:38] TF-TRT Warning: Could not find TensorRT\n",
            "Traceback (most recent call last):\n",
            "  File \"/usr/lib/python3.9/runpy.py\", line 197, in _run_module_as_main\n",
            "    return _run_code(code, main_globals, None,\n",
            "  File \"/usr/lib/python3.9/runpy.py\", line 87, in _run_code\n",
            "    exec(code, run_globals)\n",
            "  File \"/usr/local/lib/python3.9/dist-packages/spacy/__main__.py\", line 4, in <module>\n",
            "    setup_cli()\n",
            "  File \"/usr/local/lib/python3.9/dist-packages/spacy/cli/_util.py\", line 74, in setup_cli\n",
            "    command(prog_name=COMMAND)\n",
            "  File \"/usr/local/lib/python3.9/dist-packages/click/core.py\", line 1130, in __call__\n",
            "    return self.main(*args, **kwargs)\n",
            "  File \"/usr/local/lib/python3.9/dist-packages/typer/core.py\", line 778, in main\n",
            "    return _main(\n",
            "  File \"/usr/local/lib/python3.9/dist-packages/typer/core.py\", line 216, in _main\n",
            "    rv = self.invoke(ctx)\n",
            "  File \"/usr/local/lib/python3.9/dist-packages/click/core.py\", line 1657, in invoke\n",
            "    return _process_result(sub_ctx.command.invoke(sub_ctx))\n",
            "  File \"/usr/local/lib/python3.9/dist-packages/click/core.py\", line 1657, in invoke\n",
            "    return _process_result(sub_ctx.command.invoke(sub_ctx))\n",
            "  File \"/usr/local/lib/python3.9/dist-packages/click/core.py\", line 1404, in invoke\n",
            "    return ctx.invoke(self.callback, **ctx.params)\n",
            "  File \"/usr/local/lib/python3.9/dist-packages/click/core.py\", line 760, in invoke\n",
            "    return __callback(*args, **kwargs)\n",
            "  File \"/usr/local/lib/python3.9/dist-packages/typer/main.py\", line 683, in wrapper\n",
            "    return callback(**use_params)  # type: ignore\n",
            "  File \"/usr/local/lib/python3.9/dist-packages/spacy/cli/init_config.py\", line 101, in init_fill_config_cli\n",
            "    fill_config(output_file, base_path, pretraining=pretraining, diff=diff)\n",
            "  File \"/usr/local/lib/python3.9/dist-packages/spacy/cli/init_config.py\", line 117, in fill_config\n",
            "    nlp = util.load_model_from_config(config, auto_fill=True, validate=False)\n",
            "  File \"/usr/local/lib/python3.9/dist-packages/spacy/util.py\", line 564, in load_model_from_config\n",
            "    nlp = lang_cls.from_config(\n",
            "  File \"/usr/local/lib/python3.9/dist-packages/spacy/language.py\", line 1803, in from_config\n",
            "    nlp.add_pipe(\n",
            "  File \"/usr/local/lib/python3.9/dist-packages/spacy/language.py\", line 786, in add_pipe\n",
            "    pipe_component = self.create_pipe(\n",
            "  File \"/usr/local/lib/python3.9/dist-packages/spacy/language.py\", line 679, in create_pipe\n",
            "    resolved = registry.resolve(cfg, validate=validate)\n",
            "  File \"/usr/local/lib/python3.9/dist-packages/confection/__init__.py\", line 728, in resolve\n",
            "    resolved, _ = cls._make(\n",
            "  File \"/usr/local/lib/python3.9/dist-packages/confection/__init__.py\", line 777, in _make\n",
            "    filled, _, resolved = cls._fill(\n",
            "  File \"/usr/local/lib/python3.9/dist-packages/confection/__init__.py\", line 832, in _fill\n",
            "    filled[key], validation[v_key], final[key] = cls._fill(\n",
            "  File \"/usr/local/lib/python3.9/dist-packages/confection/__init__.py\", line 832, in _fill\n",
            "    filled[key], validation[v_key], final[key] = cls._fill(\n",
            "  File \"/usr/local/lib/python3.9/dist-packages/confection/__init__.py\", line 849, in _fill\n",
            "    getter_result = getter(*args, **kwargs)\n",
            "  File \"/usr/local/lib/python3.9/dist-packages/spacy/ml/models/tok2vec.py\", line 151, in MultiHashEmbed\n",
            "    raise ValueError(f\"Mismatched lengths: {len(rows)} vs {len(attrs)}\")\n",
            "ValueError: Mismatched lengths: 4 vs 6\n"
          ]
        }
      ]
    },
    {
      "cell_type": "code",
      "source": [
        "\n",
        "\n",
        "for str_data_set_name in dict_data.keys():\n",
        "    \n",
        "    nlp = spacy.blank(\"en\") # load a new spacy model\n",
        "    db = DocBin() # create a DocBin object\n",
        "\n",
        "    for text, annot in tqdm(dict_data[str_data_set_name][0]): # data in previous format\n",
        "        doc = nlp.make_doc(text) # create doc object from text\n",
        "        ents = []\n",
        "        for start, end, label in annot[\"entities\"]: # add character indexes\n",
        "            span = doc.char_span(start, end, label=label, alignment_mode=\"contract\")\n",
        "            if span is None:\n",
        "                print(\"Skipping entity\")\n",
        "            else:\n",
        "                ents.append(span)\n",
        "        doc.ents = ents # label the text with the ents\n",
        "        db.add(doc)\n",
        "\n",
        "    db.to_disk(dict_data[str_data_set_name][1]) # save the docbin object"
      ],
      "metadata": {
        "outputId": "c7791056-17ed-4e9b-deac-c7cd21c62813",
        "colab": {
          "base_uri": "https://localhost:8080/"
        },
        "id": "QeF40pFMotRB"
      },
      "execution_count": 42,
      "outputs": [
        {
          "output_type": "stream",
          "name": "stderr",
          "text": [
            "100%|██████████| 13192/13192 [00:02<00:00, 4818.47it/s]\n",
            "100%|██████████| 4397/4397 [00:01<00:00, 2853.45it/s]\n",
            "100%|██████████| 4398/4398 [00:01<00:00, 2401.31it/s]\n"
          ]
        }
      ]
    },
    {
      "cell_type": "code",
      "source": [
        "!python -m spacy train config3.cfg --output ./output --paths.train ./train.spacy --paths.dev ./test.spacy "
      ],
      "metadata": {
        "outputId": "560548b2-00dc-42fb-9769-d330840601f4",
        "colab": {
          "base_uri": "https://localhost:8080/"
        },
        "id": "Hzaz9A41otRC"
      },
      "execution_count": 33,
      "outputs": [
        {
          "output_type": "stream",
          "name": "stdout",
          "text": [
            "2023-04-23 14:59:01.118138: W tensorflow/compiler/tf2tensorrt/utils/py_utils.cc:38] TF-TRT Warning: Could not find TensorRT\n",
            "\u001b[38;5;4mℹ Saving to output directory: output\u001b[0m\n",
            "\u001b[38;5;4mℹ Using CPU\u001b[0m\n",
            "\u001b[1m\n",
            "=========================== Initializing pipeline ===========================\u001b[0m\n",
            "[2023-04-23 14:59:04,043] [INFO] Set up nlp object from config\n",
            "[2023-04-23 14:59:04,056] [INFO] Pipeline: ['tok2vec', 'ner']\n",
            "[2023-04-23 14:59:04,061] [INFO] Created vocabulary\n",
            "[2023-04-23 14:59:04,062] [INFO] Finished initializing nlp object\n",
            "[2023-04-23 14:59:09,466] [INFO] Initialized pipeline components: ['tok2vec', 'ner']\n",
            "\u001b[38;5;2m✔ Initialized pipeline\u001b[0m\n",
            "\u001b[1m\n",
            "============================= Training pipeline =============================\u001b[0m\n",
            "\u001b[38;5;4mℹ Pipeline: ['tok2vec', 'ner']\u001b[0m\n",
            "\u001b[38;5;4mℹ Initial learn rate: 0.001\u001b[0m\n",
            "E    #       LOSS TOK2VEC  LOSS NER  ENTS_F  ENTS_P  ENTS_R  SCORE \n",
            "---  ------  ------------  --------  ------  ------  ------  ------\n",
            "  0       0          0.00     75.19    0.00    0.00    0.00    0.00\n",
            "  0     200        223.52   9312.67   36.24   45.62   30.05    0.36\n",
            "  0     400        501.83   6981.35   61.04   65.15   57.42    0.61\n",
            "  0     600        708.44   7183.84   69.12   72.78   65.81    0.69\n",
            "  0     800        872.61   7537.97   56.84   57.84   55.87    0.57\n",
            "  1    1000       1079.81   8229.99   70.29   75.82   65.51    0.70\n",
            "  1    1200       1374.21   8795.32   74.84   76.72   73.05    0.75\n",
            "  2    1400       1655.46  10039.56   75.01   77.88   72.35    0.75\n",
            "  2    1600       2069.77  10128.91   71.95   76.16   68.19    0.72\n",
            "  3    1800       2777.57  11688.94   73.87   77.11   70.89    0.74\n",
            "  4    2000       3799.21  12385.27   76.52   76.53   76.51    0.77\n",
            "  5    2200       4126.72  13225.96   72.83   74.10   71.60    0.73\n",
            "  6    2400       4937.61  13704.33   72.55   75.34   69.96    0.73\n",
            "  8    2600       5032.03  12603.00   75.29   76.24   74.36    0.75\n",
            "  9    2800       5350.03  11643.10   74.63   77.23   72.21    0.75\n",
            " 10    3000       5299.05  10693.76   72.88   75.38   70.55    0.73\n",
            " 12    3200       5261.08   9892.26   72.72   75.58   70.06    0.73\n",
            " 13    3400       5423.41   9423.75   73.33   75.69   71.12    0.73\n",
            " 14    3600       5350.67   8990.57   75.28   76.76   73.86    0.75\n",
            "\u001b[38;5;2m✔ Saved pipeline to output directory\u001b[0m\n",
            "output/model-last\n"
          ]
        }
      ]
    },
    {
      "cell_type": "markdown",
      "source": [
        "## Config 4 - TransitionBasedParser.v2 hidden layers 64 -> 96"
      ],
      "metadata": {
        "id": "kVhOFuM2omsK"
      }
    },
    {
      "cell_type": "code",
      "source": [
        "!wget https://github.com/wbfrench1/barker_DATA606/blob/52ed1ad5b2534a5d16f7f270b03d52443683387e/src/spaCy_models/config4.cfg?raw=True\n",
        "os.rename('config4.cfg?raw=True', 'config4.cfg')"
      ],
      "metadata": {
        "id": "tG868JPyqtog",
        "outputId": "39084f36-efef-497c-948b-ead586e22df2",
        "colab": {
          "base_uri": "https://localhost:8080/"
        }
      },
      "execution_count": 34,
      "outputs": [
        {
          "output_type": "stream",
          "name": "stdout",
          "text": [
            "--2023-04-23 15:10:30--  https://github.com/wbfrench1/barker_DATA606/blob/52ed1ad5b2534a5d16f7f270b03d52443683387e/src/spaCy_models/config4.cfg?raw=True\n",
            "Resolving github.com (github.com)... 140.82.112.4\n",
            "Connecting to github.com (github.com)|140.82.112.4|:443... connected.\n",
            "HTTP request sent, awaiting response... 302 Found\n",
            "Location: https://github.com/wbfrench1/barker_DATA606/raw/52ed1ad5b2534a5d16f7f270b03d52443683387e/src/spaCy_models/config4.cfg [following]\n",
            "--2023-04-23 15:10:30--  https://github.com/wbfrench1/barker_DATA606/raw/52ed1ad5b2534a5d16f7f270b03d52443683387e/src/spaCy_models/config4.cfg\n",
            "Reusing existing connection to github.com:443.\n",
            "HTTP request sent, awaiting response... 302 Found\n",
            "Location: https://raw.githubusercontent.com/wbfrench1/barker_DATA606/52ed1ad5b2534a5d16f7f270b03d52443683387e/src/spaCy_models/config4.cfg [following]\n",
            "--2023-04-23 15:10:30--  https://raw.githubusercontent.com/wbfrench1/barker_DATA606/52ed1ad5b2534a5d16f7f270b03d52443683387e/src/spaCy_models/config4.cfg\n",
            "Resolving raw.githubusercontent.com (raw.githubusercontent.com)... 185.199.108.133, 185.199.111.133, 185.199.110.133, ...\n",
            "Connecting to raw.githubusercontent.com (raw.githubusercontent.com)|185.199.108.133|:443... connected.\n",
            "HTTP request sent, awaiting response... 200 OK\n",
            "Length: 1813 (1.8K) [text/plain]\n",
            "Saving to: ‘config4.cfg?raw=True’\n",
            "\n",
            "config4.cfg?raw=Tru 100%[===================>]   1.77K  --.-KB/s    in 0s      \n",
            "\n",
            "2023-04-23 15:10:30 (23.2 MB/s) - ‘config4.cfg?raw=True’ saved [1813/1813]\n",
            "\n"
          ]
        }
      ]
    },
    {
      "cell_type": "code",
      "source": [
        "!python -m spacy init fill-config config4.cfg config4.cfg "
      ],
      "metadata": {
        "outputId": "2cbba8e3-162f-4709-e7c4-d03ba0c724c4",
        "colab": {
          "base_uri": "https://localhost:8080/"
        },
        "id": "krFlvXdCrozg"
      },
      "execution_count": 47,
      "outputs": [
        {
          "output_type": "stream",
          "name": "stdout",
          "text": [
            "2023-04-23 17:08:34.913851: W tensorflow/compiler/tf2tensorrt/utils/py_utils.cc:38] TF-TRT Warning: Could not find TensorRT\n",
            "\u001b[38;5;2m✔ Auto-filled config with all values\u001b[0m\n",
            "\u001b[38;5;2m✔ Saved config\u001b[0m\n",
            "config4.cfg\n",
            "You can now add your data and train your pipeline:\n",
            "python -m spacy train config4.cfg --paths.train ./train.spacy --paths.dev ./dev.spacy\n"
          ]
        }
      ]
    },
    {
      "cell_type": "code",
      "source": [
        "\n",
        "\n",
        "for str_data_set_name in dict_data.keys():\n",
        "    \n",
        "    nlp = spacy.blank(\"en\") # load a new spacy model\n",
        "    db = DocBin() # create a DocBin object\n",
        "\n",
        "    for text, annot in tqdm(dict_data[str_data_set_name][0]): # data in previous format\n",
        "        doc = nlp.make_doc(text) # create doc object from text\n",
        "        ents = []\n",
        "        for start, end, label in annot[\"entities\"]: # add character indexes\n",
        "            span = doc.char_span(start, end, label=label, alignment_mode=\"contract\")\n",
        "            if span is None:\n",
        "                print(\"Skipping entity\")\n",
        "            else:\n",
        "                ents.append(span)\n",
        "        doc.ents = ents # label the text with the ents\n",
        "        db.add(doc)\n",
        "\n",
        "    db.to_disk(dict_data[str_data_set_name][1]) # save the docbin object"
      ],
      "metadata": {
        "outputId": "16eb3f75-e4fd-402a-dbfd-07d7483c6865",
        "colab": {
          "base_uri": "https://localhost:8080/"
        },
        "id": "VRUQ1kz9roz5"
      },
      "execution_count": 48,
      "outputs": [
        {
          "output_type": "stream",
          "name": "stderr",
          "text": [
            "100%|██████████| 13192/13192 [00:06<00:00, 1886.90it/s]\n",
            "100%|██████████| 4397/4397 [00:02<00:00, 2020.32it/s]\n",
            "100%|██████████| 4398/4398 [00:01<00:00, 2829.83it/s]\n"
          ]
        }
      ]
    },
    {
      "cell_type": "code",
      "source": [
        "!python -m spacy train config4.cfg --output ./output --paths.train ./train.spacy --paths.dev ./test.spacy "
      ],
      "metadata": {
        "outputId": "417beb96-fb6a-48de-fc12-7f772187ef94",
        "colab": {
          "base_uri": "https://localhost:8080/"
        },
        "id": "Lp0YawpHroz6"
      },
      "execution_count": 49,
      "outputs": [
        {
          "output_type": "stream",
          "name": "stdout",
          "text": [
            "2023-04-23 17:09:06.187311: W tensorflow/compiler/tf2tensorrt/utils/py_utils.cc:38] TF-TRT Warning: Could not find TensorRT\n",
            "\u001b[38;5;4mℹ Saving to output directory: output\u001b[0m\n",
            "\u001b[38;5;4mℹ Using CPU\u001b[0m\n",
            "\u001b[1m\n",
            "=========================== Initializing pipeline ===========================\u001b[0m\n",
            "[2023-04-23 17:09:09,308] [INFO] Set up nlp object from config\n",
            "[2023-04-23 17:09:09,321] [INFO] Pipeline: ['tok2vec', 'ner']\n",
            "[2023-04-23 17:09:09,326] [INFO] Created vocabulary\n",
            "[2023-04-23 17:09:09,327] [INFO] Finished initializing nlp object\n",
            "[2023-04-23 17:09:13,695] [INFO] Initialized pipeline components: ['tok2vec', 'ner']\n",
            "\u001b[38;5;2m✔ Initialized pipeline\u001b[0m\n",
            "\u001b[1m\n",
            "============================= Training pipeline =============================\u001b[0m\n",
            "\u001b[38;5;4mℹ Pipeline: ['tok2vec', 'ner']\u001b[0m\n",
            "\u001b[38;5;4mℹ Initial learn rate: 0.001\u001b[0m\n",
            "E    #       LOSS TOK2VEC  LOSS NER  ENTS_F  ENTS_P  ENTS_R  SCORE \n",
            "---  ------  ------------  --------  ------  ------  ------  ------\n",
            "  0       0          0.00     75.19    0.00    0.00    0.00    0.00\n",
            "  0     200        324.61   8822.46   29.00   39.79   22.82    0.29\n",
            "  0     400        606.08   6795.78   60.96   66.14   56.53    0.61\n",
            "  0     600        825.05   7136.73   69.07   72.97   65.56    0.69\n",
            "  0     800       1045.28   7596.29   61.20   62.57   59.89    0.61\n",
            "  1    1000       1261.26   8332.05   72.18   76.49   68.34    0.72\n",
            "  1    1200       1596.96   8759.30   73.46   74.63   72.32    0.73\n",
            "  2    1400       1911.83  10127.39   75.68   79.33   72.36    0.76\n",
            "  2    1600       3407.50  10260.27   73.52   76.83   70.49    0.74\n",
            "  3    1800       2957.63  11795.35   75.88   76.64   75.12    0.76\n",
            "  4    2000       4037.15  12483.26   76.15   76.29   76.00    0.76\n",
            "  5    2200       7788.06  13312.53   74.51   75.25   73.78    0.75\n",
            "  6    2400       5874.14  13808.79   74.74   76.31   73.22    0.75\n",
            "  8    2600       5940.50  12775.42   75.33   76.80   73.91    0.75\n",
            "  9    2800       6376.55  11816.66   74.44   76.60   72.40    0.74\n",
            " 10    3000       6239.41  10874.39   73.83   76.03   71.75    0.74\n",
            " 12    3200       6749.58   9960.42   73.89   75.98   71.92    0.74\n",
            " 13    3400       6246.90   9349.45   73.61   75.57   71.75    0.74\n",
            " 14    3600       6467.36   9160.18   75.13   76.51   73.79    0.75\n",
            "\u001b[38;5;2m✔ Saved pipeline to output directory\u001b[0m\n",
            "output/model-last\n"
          ]
        }
      ]
    },
    {
      "cell_type": "code",
      "source": [
        "int_quest_num = 7\n",
        "str_question = l_val[int_quest_num][0]\n",
        "l_val[int_quest_num]"
      ],
      "metadata": {
        "id": "pDD1VYqJrDfY",
        "outputId": "40a65a31-1a9b-48bc-d290-a2699415d1bf",
        "colab": {
          "base_uri": "https://localhost:8080/"
        }
      },
      "execution_count": 50,
      "outputs": [
        {
          "output_type": "execute_result",
          "data": {
            "text/plain": [
              "('which film is directed by paul thomas anderson and stars daniel day lewis as a turn of the century oilman',\n",
              " {'entities': [(26, 30, 'b-director'),\n",
              "   (31, 37, 'i-director'),\n",
              "   (38, 46, 'i-director'),\n",
              "   (57, 63, 'b-actor'),\n",
              "   (64, 67, 'i-actor'),\n",
              "   (68, 73, 'i-actor')]})"
            ]
          },
          "metadata": {},
          "execution_count": 50
        }
      ]
    },
    {
      "cell_type": "code",
      "source": [
        "nlp1 = spacy.load(\"output/model-best\") #load the best model\n",
        "doc = nlp1(str_question) # input sample text\n",
        "\n",
        "spacy.displacy.render(doc, style=\"ent\", jupyter=True) # display in Jupyter"
      ],
      "metadata": {
        "id": "v-jR5llkJfZz",
        "outputId": "26a63eb4-4ed6-42f7-ae98-8a1f7c0ec843",
        "colab": {
          "base_uri": "https://localhost:8080/",
          "height": 87
        }
      },
      "execution_count": 51,
      "outputs": [
        {
          "output_type": "display_data",
          "data": {
            "text/plain": [
              "<IPython.core.display.HTML object>"
            ],
            "text/html": [
              "<span class=\"tex2jax_ignore\"><div class=\"entities\" style=\"line-height: 2.5; direction: ltr\">which film is directed by \n",
              "<mark class=\"entity\" style=\"background: #ddd; padding: 0.45em 0.6em; margin: 0 0.25em; line-height: 1; border-radius: 0.35em;\">\n",
              "    paul\n",
              "    <span style=\"font-size: 0.8em; font-weight: bold; line-height: 1; border-radius: 0.35em; vertical-align: middle; margin-left: 0.5rem\">b-director</span>\n",
              "</mark>\n",
              " \n",
              "<mark class=\"entity\" style=\"background: #ddd; padding: 0.45em 0.6em; margin: 0 0.25em; line-height: 1; border-radius: 0.35em;\">\n",
              "    thomas\n",
              "    <span style=\"font-size: 0.8em; font-weight: bold; line-height: 1; border-radius: 0.35em; vertical-align: middle; margin-left: 0.5rem\">i-director</span>\n",
              "</mark>\n",
              " \n",
              "<mark class=\"entity\" style=\"background: #ddd; padding: 0.45em 0.6em; margin: 0 0.25em; line-height: 1; border-radius: 0.35em;\">\n",
              "    anderson\n",
              "    <span style=\"font-size: 0.8em; font-weight: bold; line-height: 1; border-radius: 0.35em; vertical-align: middle; margin-left: 0.5rem\">i-director</span>\n",
              "</mark>\n",
              " and stars \n",
              "<mark class=\"entity\" style=\"background: #ddd; padding: 0.45em 0.6em; margin: 0 0.25em; line-height: 1; border-radius: 0.35em;\">\n",
              "    daniel\n",
              "    <span style=\"font-size: 0.8em; font-weight: bold; line-height: 1; border-radius: 0.35em; vertical-align: middle; margin-left: 0.5rem\">b-actor</span>\n",
              "</mark>\n",
              " \n",
              "<mark class=\"entity\" style=\"background: #ddd; padding: 0.45em 0.6em; margin: 0 0.25em; line-height: 1; border-radius: 0.35em;\">\n",
              "    day\n",
              "    <span style=\"font-size: 0.8em; font-weight: bold; line-height: 1; border-radius: 0.35em; vertical-align: middle; margin-left: 0.5rem\">i-actor</span>\n",
              "</mark>\n",
              " \n",
              "<mark class=\"entity\" style=\"background: #ddd; padding: 0.45em 0.6em; margin: 0 0.25em; line-height: 1; border-radius: 0.35em;\">\n",
              "    lewis\n",
              "    <span style=\"font-size: 0.8em; font-weight: bold; line-height: 1; border-radius: 0.35em; vertical-align: middle; margin-left: 0.5rem\">i-actor</span>\n",
              "</mark>\n",
              " as \n",
              "<mark class=\"entity\" style=\"background: #ddd; padding: 0.45em 0.6em; margin: 0 0.25em; line-height: 1; border-radius: 0.35em;\">\n",
              "    a\n",
              "    <span style=\"font-size: 0.8em; font-weight: bold; line-height: 1; border-radius: 0.35em; vertical-align: middle; margin-left: 0.5rem\">b-plot</span>\n",
              "</mark>\n",
              " \n",
              "<mark class=\"entity\" style=\"background: #ddd; padding: 0.45em 0.6em; margin: 0 0.25em; line-height: 1; border-radius: 0.35em;\">\n",
              "    turn\n",
              "    <span style=\"font-size: 0.8em; font-weight: bold; line-height: 1; border-radius: 0.35em; vertical-align: middle; margin-left: 0.5rem\">i-plot</span>\n",
              "</mark>\n",
              " \n",
              "<mark class=\"entity\" style=\"background: #ddd; padding: 0.45em 0.6em; margin: 0 0.25em; line-height: 1; border-radius: 0.35em;\">\n",
              "    of\n",
              "    <span style=\"font-size: 0.8em; font-weight: bold; line-height: 1; border-radius: 0.35em; vertical-align: middle; margin-left: 0.5rem\">i-plot</span>\n",
              "</mark>\n",
              " \n",
              "<mark class=\"entity\" style=\"background: #ddd; padding: 0.45em 0.6em; margin: 0 0.25em; line-height: 1; border-radius: 0.35em;\">\n",
              "    the\n",
              "    <span style=\"font-size: 0.8em; font-weight: bold; line-height: 1; border-radius: 0.35em; vertical-align: middle; margin-left: 0.5rem\">i-plot</span>\n",
              "</mark>\n",
              " \n",
              "<mark class=\"entity\" style=\"background: #ddd; padding: 0.45em 0.6em; margin: 0 0.25em; line-height: 1; border-radius: 0.35em;\">\n",
              "    century\n",
              "    <span style=\"font-size: 0.8em; font-weight: bold; line-height: 1; border-radius: 0.35em; vertical-align: middle; margin-left: 0.5rem\">i-plot</span>\n",
              "</mark>\n",
              " \n",
              "<mark class=\"entity\" style=\"background: #ddd; padding: 0.45em 0.6em; margin: 0 0.25em; line-height: 1; border-radius: 0.35em;\">\n",
              "    oilman\n",
              "    <span style=\"font-size: 0.8em; font-weight: bold; line-height: 1; border-radius: 0.35em; vertical-align: middle; margin-left: 0.5rem\">i-plot</span>\n",
              "</mark>\n",
              "</div></span>"
            ]
          },
          "metadata": {}
        }
      ]
    },
    {
      "cell_type": "code",
      "source": [],
      "metadata": {
        "id": "Kq0EuwGBJjHz"
      },
      "execution_count": null,
      "outputs": []
    }
  ]
}