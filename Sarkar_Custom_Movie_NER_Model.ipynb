{
  "nbformat": 4,
  "nbformat_minor": 0,
  "metadata": {
    "colab": {
      "provenance": [],
      "authorship_tag": "ABX9TyNnIoxOYQjMuxTxKcCLzOyO",
      "include_colab_link": true
    },
    "kernelspec": {
      "name": "python3",
      "display_name": "Python 3"
    },
    "language_info": {
      "name": "python"
    }
  },
  "cells": [
    {
      "cell_type": "markdown",
      "metadata": {
        "id": "view-in-github",
        "colab_type": "text"
      },
      "source": [
        "<a href=\"https://colab.research.google.com/github/wbfrench1/barker_DATA606/blob/main/Sarkar_Custom_Movie_NER_Model.ipynb\" target=\"_parent\"><img src=\"https://colab.research.google.com/assets/colab-badge.svg\" alt=\"Open In Colab\"/></a>"
      ]
    },
    {
      "cell_type": "code",
      "source": [
        "# Ran into the following error: AttributeError: 'CRF' object has no attribute 'keep_tempfiles'\n",
        "# Used below resolution\n",
        "#https://github.com/TeamHG-Memex/sklearn-crfsuite/issues/60\n",
        "!pip install -U 'scikit-learn<0.24'\n",
        "!pip install sklearn-crfsuite"
      ],
      "metadata": {
        "colab": {
          "base_uri": "https://localhost:8080/"
        },
        "id": "VwTGakZNAoDT",
        "outputId": "489608c0-efed-4ed3-c7f2-6e2dcf0e0593"
      },
      "execution_count": null,
      "outputs": [
        {
          "output_type": "stream",
          "name": "stdout",
          "text": [
            "Looking in indexes: https://pypi.org/simple, https://us-python.pkg.dev/colab-wheels/public/simple/\n",
            "Collecting scikit-learn<0.24\n",
            "  Downloading scikit_learn-0.23.2-cp38-cp38-manylinux1_x86_64.whl (6.8 MB)\n",
            "\u001b[2K     \u001b[90m━━━━━━━━━━━━━━━━━━━━━━━━━━━━━━━━━━━━━━━━\u001b[0m \u001b[32m6.8/6.8 MB\u001b[0m \u001b[31m53.5 MB/s\u001b[0m eta \u001b[36m0:00:00\u001b[0m\n",
            "\u001b[?25hRequirement already satisfied: joblib>=0.11 in /usr/local/lib/python3.8/dist-packages (from scikit-learn<0.24) (1.2.0)\n",
            "Requirement already satisfied: scipy>=0.19.1 in /usr/local/lib/python3.8/dist-packages (from scikit-learn<0.24) (1.7.3)\n",
            "Requirement already satisfied: threadpoolctl>=2.0.0 in /usr/local/lib/python3.8/dist-packages (from scikit-learn<0.24) (3.1.0)\n",
            "Requirement already satisfied: numpy>=1.13.3 in /usr/local/lib/python3.8/dist-packages (from scikit-learn<0.24) (1.22.4)\n",
            "Installing collected packages: scikit-learn\n",
            "  Attempting uninstall: scikit-learn\n",
            "    Found existing installation: scikit-learn 1.0.2\n",
            "    Uninstalling scikit-learn-1.0.2:\n",
            "      Successfully uninstalled scikit-learn-1.0.2\n",
            "\u001b[31mERROR: pip's dependency resolver does not currently take into account all the packages that are installed. This behaviour is the source of the following dependency conflicts.\n",
            "yellowbrick 1.5 requires scikit-learn>=1.0.0, but you have scikit-learn 0.23.2 which is incompatible.\n",
            "imbalanced-learn 0.8.1 requires scikit-learn>=0.24, but you have scikit-learn 0.23.2 which is incompatible.\u001b[0m\u001b[31m\n",
            "\u001b[0mSuccessfully installed scikit-learn-0.23.2\n",
            "Looking in indexes: https://pypi.org/simple, https://us-python.pkg.dev/colab-wheels/public/simple/\n",
            "Collecting sklearn-crfsuite\n",
            "  Downloading sklearn_crfsuite-0.3.6-py2.py3-none-any.whl (12 kB)\n",
            "Requirement already satisfied: tqdm>=2.0 in /usr/local/lib/python3.8/dist-packages (from sklearn-crfsuite) (4.64.1)\n",
            "Collecting python-crfsuite>=0.8.3\n",
            "  Downloading python_crfsuite-0.9.9-cp38-cp38-manylinux_2_17_x86_64.manylinux2014_x86_64.whl (1.0 MB)\n",
            "\u001b[2K     \u001b[90m━━━━━━━━━━━━━━━━━━━━━━━━━━━━━━━━━━━━━━━━\u001b[0m \u001b[32m1.0/1.0 MB\u001b[0m \u001b[31m18.1 MB/s\u001b[0m eta \u001b[36m0:00:00\u001b[0m\n",
            "\u001b[?25hRequirement already satisfied: tabulate in /usr/local/lib/python3.8/dist-packages (from sklearn-crfsuite) (0.8.10)\n",
            "Requirement already satisfied: six in /usr/local/lib/python3.8/dist-packages (from sklearn-crfsuite) (1.15.0)\n",
            "Installing collected packages: python-crfsuite, sklearn-crfsuite\n",
            "Successfully installed python-crfsuite-0.9.9 sklearn-crfsuite-0.3.6\n"
          ]
        }
      ]
    },
    {
      "cell_type": "code",
      "execution_count": null,
      "metadata": {
        "id": "SWizKsZZ11O3",
        "colab": {
          "base_uri": "https://localhost:8080/"
        },
        "outputId": "3f9bac3c-39f5-4275-b240-c7ed7eb79e82"
      },
      "outputs": [
        {
          "output_type": "stream",
          "name": "stderr",
          "text": [
            "[nltk_data] Downloading package averaged_perceptron_tagger to\n",
            "[nltk_data]     /root/nltk_data...\n",
            "[nltk_data]   Unzipping taggers/averaged_perceptron_tagger.zip.\n"
          ]
        }
      ],
      "source": [
        "from google.colab import drive\n",
        "import requests\n",
        "import pandas as pd\n",
        "import random\n",
        "import numpy as np\n",
        "pd.set_option('display.max_rows', 300)\n",
        "pd.set_option('display.max_columns', 100)\n",
        "pd.set_option('display.width', 150)\n",
        "from sklearn.model_selection import train_test_split\n",
        "import sklearn_crfsuite\n",
        "import joblib\n",
        "from sklearn_crfsuite import metrics as crf_metrics\n",
        "import nltk\n",
        "nltk.download('averaged_perceptron_tagger')\n",
        "import seaborn as sns\n",
        "import matplotlib.pyplot as plt"
      ]
    },
    {
      "cell_type": "markdown",
      "source": [
        "# 1. Read in the Data\n",
        "\n",
        "##   1.a. Read in the Sarkar data\n",
        "##   1.b. Read in the movie data\n"
      ],
      "metadata": {
        "id": "6S8J_XQk2bP8"
      }
    },
    {
      "cell_type": "code",
      "source": [
        "drive.mount('/content/drive')"
      ],
      "metadata": {
        "colab": {
          "base_uri": "https://localhost:8080/"
        },
        "id": "R4SuxeUU47w2",
        "outputId": "9661abb6-06f9-4767-eeb3-63387ff7d7a8"
      },
      "execution_count": null,
      "outputs": [
        {
          "output_type": "stream",
          "name": "stdout",
          "text": [
            "Mounted at /content/drive\n"
          ]
        }
      ]
    },
    {
      "cell_type": "code",
      "source": [
        "df = pd.read_csv('/content/drive/MyDrive/Colab Notebooks/0. Data 606 - Capstone/Project Data/movie_data.csv')\n",
        "df_ex = pd.read_csv('/content/drive/MyDrive/Colab Notebooks/0. Data 606 - Capstone/Project Data/ner_dataset.csv.gz', encoding='latin1',compression='gzip')"
      ],
      "metadata": {
        "id": "mwTKL4-M4DIJ"
      },
      "execution_count": null,
      "outputs": []
    },
    {
      "cell_type": "code",
      "source": [
        "# bring the Sentence label forward to each word in the sentence\n",
        "df_ex['Sentence #'].ffill(inplace=True)"
      ],
      "metadata": {
        "id": "2QMOS_DtEMIk"
      },
      "execution_count": null,
      "outputs": []
    },
    {
      "cell_type": "markdown",
      "source": [
        "# 2. Explore the Data"
      ],
      "metadata": {
        "id": "fih93riC2wMx"
      }
    },
    {
      "cell_type": "code",
      "source": [
        "df_ex.info()"
      ],
      "metadata": {
        "colab": {
          "base_uri": "https://localhost:8080/"
        },
        "id": "RKx2h76vEwez",
        "outputId": "036479f7-cbfd-4f7d-fbac-3754be09fffc"
      },
      "execution_count": null,
      "outputs": [
        {
          "output_type": "stream",
          "name": "stdout",
          "text": [
            "<class 'pandas.core.frame.DataFrame'>\n",
            "RangeIndex: 1048575 entries, 0 to 1048574\n",
            "Data columns (total 4 columns):\n",
            " #   Column      Non-Null Count    Dtype \n",
            "---  ------      --------------    ----- \n",
            " 0   Sentence #  1048575 non-null  object\n",
            " 1   Word        1048575 non-null  object\n",
            " 2   POS         1048575 non-null  object\n",
            " 3   Tag         1048575 non-null  object\n",
            "dtypes: object(4)\n",
            "memory usage: 32.0+ MB\n"
          ]
        }
      ]
    },
    {
      "cell_type": "code",
      "source": [
        "df_ex['Sentence #'].nunique(), df_ex['Word'].nunique(), df_ex['POS'].nunique(), df_ex['Tag'].nunique()"
      ],
      "metadata": {
        "colab": {
          "base_uri": "https://localhost:8080/"
        },
        "id": "mvgkIrQgE5M8",
        "outputId": "5829b8ab-fa20-43d1-840f-6a8a83abe32d"
      },
      "execution_count": null,
      "outputs": [
        {
          "output_type": "execute_result",
          "data": {
            "text/plain": [
              "(47959, 35178, 42, 17)"
            ]
          },
          "metadata": {},
          "execution_count": 12
        }
      ]
    },
    {
      "cell_type": "code",
      "source": [
        "df_ex.Tag.value_counts()"
      ],
      "metadata": {
        "colab": {
          "base_uri": "https://localhost:8080/"
        },
        "id": "xC2GYQLeFPCx",
        "outputId": "de86986f-e75b-405c-8521-0f4934eb8478"
      },
      "execution_count": null,
      "outputs": [
        {
          "output_type": "execute_result",
          "data": {
            "text/plain": [
              "O        887908\n",
              "B-geo     37644\n",
              "B-tim     20333\n",
              "B-org     20143\n",
              "I-per     17251\n",
              "B-per     16990\n",
              "I-org     16784\n",
              "B-gpe     15870\n",
              "I-geo      7414\n",
              "I-tim      6528\n",
              "B-art       402\n",
              "B-eve       308\n",
              "I-art       297\n",
              "I-eve       253\n",
              "B-nat       201\n",
              "I-gpe       198\n",
              "I-nat        51\n",
              "Name: Tag, dtype: int64"
            ]
          },
          "metadata": {},
          "execution_count": 13
        }
      ]
    },
    {
      "cell_type": "code",
      "source": [
        "df_ex.head(10)"
      ],
      "metadata": {
        "colab": {
          "base_uri": "https://localhost:8080/",
          "height": 363
        },
        "id": "I4OKsPeJIHqF",
        "outputId": "0ac41c6a-86db-4b19-d006-be8261fc2960"
      },
      "execution_count": null,
      "outputs": [
        {
          "output_type": "execute_result",
          "data": {
            "text/plain": [
              "    Sentence #           Word  POS    Tag\n",
              "0  Sentence: 1      Thousands  NNS      O\n",
              "1  Sentence: 1             of   IN      O\n",
              "2  Sentence: 1  demonstrators  NNS      O\n",
              "3  Sentence: 1           have  VBP      O\n",
              "4  Sentence: 1        marched  VBN      O\n",
              "5  Sentence: 1        through   IN      O\n",
              "6  Sentence: 1         London  NNP  B-geo\n",
              "7  Sentence: 1             to   TO      O\n",
              "8  Sentence: 1        protest   VB      O\n",
              "9  Sentence: 1            the   DT      O"
            ],
            "text/html": [
              "\n",
              "  <div id=\"df-84d23821-ef3f-48b5-b41e-a93b15d06ba9\">\n",
              "    <div class=\"colab-df-container\">\n",
              "      <div>\n",
              "<style scoped>\n",
              "    .dataframe tbody tr th:only-of-type {\n",
              "        vertical-align: middle;\n",
              "    }\n",
              "\n",
              "    .dataframe tbody tr th {\n",
              "        vertical-align: top;\n",
              "    }\n",
              "\n",
              "    .dataframe thead th {\n",
              "        text-align: right;\n",
              "    }\n",
              "</style>\n",
              "<table border=\"1\" class=\"dataframe\">\n",
              "  <thead>\n",
              "    <tr style=\"text-align: right;\">\n",
              "      <th></th>\n",
              "      <th>Sentence #</th>\n",
              "      <th>Word</th>\n",
              "      <th>POS</th>\n",
              "      <th>Tag</th>\n",
              "    </tr>\n",
              "  </thead>\n",
              "  <tbody>\n",
              "    <tr>\n",
              "      <th>0</th>\n",
              "      <td>Sentence: 1</td>\n",
              "      <td>Thousands</td>\n",
              "      <td>NNS</td>\n",
              "      <td>O</td>\n",
              "    </tr>\n",
              "    <tr>\n",
              "      <th>1</th>\n",
              "      <td>Sentence: 1</td>\n",
              "      <td>of</td>\n",
              "      <td>IN</td>\n",
              "      <td>O</td>\n",
              "    </tr>\n",
              "    <tr>\n",
              "      <th>2</th>\n",
              "      <td>Sentence: 1</td>\n",
              "      <td>demonstrators</td>\n",
              "      <td>NNS</td>\n",
              "      <td>O</td>\n",
              "    </tr>\n",
              "    <tr>\n",
              "      <th>3</th>\n",
              "      <td>Sentence: 1</td>\n",
              "      <td>have</td>\n",
              "      <td>VBP</td>\n",
              "      <td>O</td>\n",
              "    </tr>\n",
              "    <tr>\n",
              "      <th>4</th>\n",
              "      <td>Sentence: 1</td>\n",
              "      <td>marched</td>\n",
              "      <td>VBN</td>\n",
              "      <td>O</td>\n",
              "    </tr>\n",
              "    <tr>\n",
              "      <th>5</th>\n",
              "      <td>Sentence: 1</td>\n",
              "      <td>through</td>\n",
              "      <td>IN</td>\n",
              "      <td>O</td>\n",
              "    </tr>\n",
              "    <tr>\n",
              "      <th>6</th>\n",
              "      <td>Sentence: 1</td>\n",
              "      <td>London</td>\n",
              "      <td>NNP</td>\n",
              "      <td>B-geo</td>\n",
              "    </tr>\n",
              "    <tr>\n",
              "      <th>7</th>\n",
              "      <td>Sentence: 1</td>\n",
              "      <td>to</td>\n",
              "      <td>TO</td>\n",
              "      <td>O</td>\n",
              "    </tr>\n",
              "    <tr>\n",
              "      <th>8</th>\n",
              "      <td>Sentence: 1</td>\n",
              "      <td>protest</td>\n",
              "      <td>VB</td>\n",
              "      <td>O</td>\n",
              "    </tr>\n",
              "    <tr>\n",
              "      <th>9</th>\n",
              "      <td>Sentence: 1</td>\n",
              "      <td>the</td>\n",
              "      <td>DT</td>\n",
              "      <td>O</td>\n",
              "    </tr>\n",
              "  </tbody>\n",
              "</table>\n",
              "</div>\n",
              "      <button class=\"colab-df-convert\" onclick=\"convertToInteractive('df-84d23821-ef3f-48b5-b41e-a93b15d06ba9')\"\n",
              "              title=\"Convert this dataframe to an interactive table.\"\n",
              "              style=\"display:none;\">\n",
              "        \n",
              "  <svg xmlns=\"http://www.w3.org/2000/svg\" height=\"24px\"viewBox=\"0 0 24 24\"\n",
              "       width=\"24px\">\n",
              "    <path d=\"M0 0h24v24H0V0z\" fill=\"none\"/>\n",
              "    <path d=\"M18.56 5.44l.94 2.06.94-2.06 2.06-.94-2.06-.94-.94-2.06-.94 2.06-2.06.94zm-11 1L8.5 8.5l.94-2.06 2.06-.94-2.06-.94L8.5 2.5l-.94 2.06-2.06.94zm10 10l.94 2.06.94-2.06 2.06-.94-2.06-.94-.94-2.06-.94 2.06-2.06.94z\"/><path d=\"M17.41 7.96l-1.37-1.37c-.4-.4-.92-.59-1.43-.59-.52 0-1.04.2-1.43.59L10.3 9.45l-7.72 7.72c-.78.78-.78 2.05 0 2.83L4 21.41c.39.39.9.59 1.41.59.51 0 1.02-.2 1.41-.59l7.78-7.78 2.81-2.81c.8-.78.8-2.07 0-2.86zM5.41 20L4 18.59l7.72-7.72 1.47 1.35L5.41 20z\"/>\n",
              "  </svg>\n",
              "      </button>\n",
              "      \n",
              "  <style>\n",
              "    .colab-df-container {\n",
              "      display:flex;\n",
              "      flex-wrap:wrap;\n",
              "      gap: 12px;\n",
              "    }\n",
              "\n",
              "    .colab-df-convert {\n",
              "      background-color: #E8F0FE;\n",
              "      border: none;\n",
              "      border-radius: 50%;\n",
              "      cursor: pointer;\n",
              "      display: none;\n",
              "      fill: #1967D2;\n",
              "      height: 32px;\n",
              "      padding: 0 0 0 0;\n",
              "      width: 32px;\n",
              "    }\n",
              "\n",
              "    .colab-df-convert:hover {\n",
              "      background-color: #E2EBFA;\n",
              "      box-shadow: 0px 1px 2px rgba(60, 64, 67, 0.3), 0px 1px 3px 1px rgba(60, 64, 67, 0.15);\n",
              "      fill: #174EA6;\n",
              "    }\n",
              "\n",
              "    [theme=dark] .colab-df-convert {\n",
              "      background-color: #3B4455;\n",
              "      fill: #D2E3FC;\n",
              "    }\n",
              "\n",
              "    [theme=dark] .colab-df-convert:hover {\n",
              "      background-color: #434B5C;\n",
              "      box-shadow: 0px 1px 3px 1px rgba(0, 0, 0, 0.15);\n",
              "      filter: drop-shadow(0px 1px 2px rgba(0, 0, 0, 0.3));\n",
              "      fill: #FFFFFF;\n",
              "    }\n",
              "  </style>\n",
              "\n",
              "      <script>\n",
              "        const buttonEl =\n",
              "          document.querySelector('#df-84d23821-ef3f-48b5-b41e-a93b15d06ba9 button.colab-df-convert');\n",
              "        buttonEl.style.display =\n",
              "          google.colab.kernel.accessAllowed ? 'block' : 'none';\n",
              "\n",
              "        async function convertToInteractive(key) {\n",
              "          const element = document.querySelector('#df-84d23821-ef3f-48b5-b41e-a93b15d06ba9');\n",
              "          const dataTable =\n",
              "            await google.colab.kernel.invokeFunction('convertToInteractive',\n",
              "                                                     [key], {});\n",
              "          if (!dataTable) return;\n",
              "\n",
              "          const docLinkHtml = 'Like what you see? Visit the ' +\n",
              "            '<a target=\"_blank\" href=https://colab.research.google.com/notebooks/data_table.ipynb>data table notebook</a>'\n",
              "            + ' to learn more about interactive tables.';\n",
              "          element.innerHTML = '';\n",
              "          dataTable['output_type'] = 'display_data';\n",
              "          await google.colab.output.renderOutput(dataTable, element);\n",
              "          const docLink = document.createElement('div');\n",
              "          docLink.innerHTML = docLinkHtml;\n",
              "          element.appendChild(docLink);\n",
              "        }\n",
              "      </script>\n",
              "    </div>\n",
              "  </div>\n",
              "  "
            ]
          },
          "metadata": {},
          "execution_count": 14
        }
      ]
    },
    {
      "cell_type": "code",
      "source": [
        "# Differentiate the question columns.  q_num is absoloute, while\n",
        "## q_num_by_src is a numbering for each of the four, movie data\n",
        "### sets\n",
        "df.rename(columns={'quest_num':'q_num_by_src',\n",
        "                   'label': 'postag',\n",
        "                   'entity' : 'tag'}, inplace=True)"
      ],
      "metadata": {
        "id": "wx7wq5Kw50dy"
      },
      "execution_count": null,
      "outputs": []
    },
    {
      "cell_type": "code",
      "source": [
        "df.head()"
      ],
      "metadata": {
        "colab": {
          "base_uri": "https://localhost:8080/",
          "height": 206
        },
        "id": "KXaajJym52AR",
        "outputId": "a873e513-6883-44ce-cda4-55ac9f9fd4ce"
      },
      "execution_count": null,
      "outputs": [
        {
          "output_type": "execute_result",
          "data": {
            "text/plain": [
              "   q_num_by_src     postag    word pos      tag     source  q_num\n",
              "0             1  o-outside    what   o  outside  eng_train      1\n",
              "1             1  o-outside  movies   o  outside  eng_train      1\n",
              "2             1  o-outside    star   o  outside  eng_train      1\n",
              "3             1    b-actor   bruce   b    actor  eng_train      1\n",
              "4             1    i-actor  willis   i    actor  eng_train      1"
            ],
            "text/html": [
              "\n",
              "  <div id=\"df-1818f4a2-cff7-40ed-b2b3-f87f6a33fd21\">\n",
              "    <div class=\"colab-df-container\">\n",
              "      <div>\n",
              "<style scoped>\n",
              "    .dataframe tbody tr th:only-of-type {\n",
              "        vertical-align: middle;\n",
              "    }\n",
              "\n",
              "    .dataframe tbody tr th {\n",
              "        vertical-align: top;\n",
              "    }\n",
              "\n",
              "    .dataframe thead th {\n",
              "        text-align: right;\n",
              "    }\n",
              "</style>\n",
              "<table border=\"1\" class=\"dataframe\">\n",
              "  <thead>\n",
              "    <tr style=\"text-align: right;\">\n",
              "      <th></th>\n",
              "      <th>q_num_by_src</th>\n",
              "      <th>postag</th>\n",
              "      <th>word</th>\n",
              "      <th>pos</th>\n",
              "      <th>tag</th>\n",
              "      <th>source</th>\n",
              "      <th>q_num</th>\n",
              "    </tr>\n",
              "  </thead>\n",
              "  <tbody>\n",
              "    <tr>\n",
              "      <th>0</th>\n",
              "      <td>1</td>\n",
              "      <td>o-outside</td>\n",
              "      <td>what</td>\n",
              "      <td>o</td>\n",
              "      <td>outside</td>\n",
              "      <td>eng_train</td>\n",
              "      <td>1</td>\n",
              "    </tr>\n",
              "    <tr>\n",
              "      <th>1</th>\n",
              "      <td>1</td>\n",
              "      <td>o-outside</td>\n",
              "      <td>movies</td>\n",
              "      <td>o</td>\n",
              "      <td>outside</td>\n",
              "      <td>eng_train</td>\n",
              "      <td>1</td>\n",
              "    </tr>\n",
              "    <tr>\n",
              "      <th>2</th>\n",
              "      <td>1</td>\n",
              "      <td>o-outside</td>\n",
              "      <td>star</td>\n",
              "      <td>o</td>\n",
              "      <td>outside</td>\n",
              "      <td>eng_train</td>\n",
              "      <td>1</td>\n",
              "    </tr>\n",
              "    <tr>\n",
              "      <th>3</th>\n",
              "      <td>1</td>\n",
              "      <td>b-actor</td>\n",
              "      <td>bruce</td>\n",
              "      <td>b</td>\n",
              "      <td>actor</td>\n",
              "      <td>eng_train</td>\n",
              "      <td>1</td>\n",
              "    </tr>\n",
              "    <tr>\n",
              "      <th>4</th>\n",
              "      <td>1</td>\n",
              "      <td>i-actor</td>\n",
              "      <td>willis</td>\n",
              "      <td>i</td>\n",
              "      <td>actor</td>\n",
              "      <td>eng_train</td>\n",
              "      <td>1</td>\n",
              "    </tr>\n",
              "  </tbody>\n",
              "</table>\n",
              "</div>\n",
              "      <button class=\"colab-df-convert\" onclick=\"convertToInteractive('df-1818f4a2-cff7-40ed-b2b3-f87f6a33fd21')\"\n",
              "              title=\"Convert this dataframe to an interactive table.\"\n",
              "              style=\"display:none;\">\n",
              "        \n",
              "  <svg xmlns=\"http://www.w3.org/2000/svg\" height=\"24px\"viewBox=\"0 0 24 24\"\n",
              "       width=\"24px\">\n",
              "    <path d=\"M0 0h24v24H0V0z\" fill=\"none\"/>\n",
              "    <path d=\"M18.56 5.44l.94 2.06.94-2.06 2.06-.94-2.06-.94-.94-2.06-.94 2.06-2.06.94zm-11 1L8.5 8.5l.94-2.06 2.06-.94-2.06-.94L8.5 2.5l-.94 2.06-2.06.94zm10 10l.94 2.06.94-2.06 2.06-.94-2.06-.94-.94-2.06-.94 2.06-2.06.94z\"/><path d=\"M17.41 7.96l-1.37-1.37c-.4-.4-.92-.59-1.43-.59-.52 0-1.04.2-1.43.59L10.3 9.45l-7.72 7.72c-.78.78-.78 2.05 0 2.83L4 21.41c.39.39.9.59 1.41.59.51 0 1.02-.2 1.41-.59l7.78-7.78 2.81-2.81c.8-.78.8-2.07 0-2.86zM5.41 20L4 18.59l7.72-7.72 1.47 1.35L5.41 20z\"/>\n",
              "  </svg>\n",
              "      </button>\n",
              "      \n",
              "  <style>\n",
              "    .colab-df-container {\n",
              "      display:flex;\n",
              "      flex-wrap:wrap;\n",
              "      gap: 12px;\n",
              "    }\n",
              "\n",
              "    .colab-df-convert {\n",
              "      background-color: #E8F0FE;\n",
              "      border: none;\n",
              "      border-radius: 50%;\n",
              "      cursor: pointer;\n",
              "      display: none;\n",
              "      fill: #1967D2;\n",
              "      height: 32px;\n",
              "      padding: 0 0 0 0;\n",
              "      width: 32px;\n",
              "    }\n",
              "\n",
              "    .colab-df-convert:hover {\n",
              "      background-color: #E2EBFA;\n",
              "      box-shadow: 0px 1px 2px rgba(60, 64, 67, 0.3), 0px 1px 3px 1px rgba(60, 64, 67, 0.15);\n",
              "      fill: #174EA6;\n",
              "    }\n",
              "\n",
              "    [theme=dark] .colab-df-convert {\n",
              "      background-color: #3B4455;\n",
              "      fill: #D2E3FC;\n",
              "    }\n",
              "\n",
              "    [theme=dark] .colab-df-convert:hover {\n",
              "      background-color: #434B5C;\n",
              "      box-shadow: 0px 1px 3px 1px rgba(0, 0, 0, 0.15);\n",
              "      filter: drop-shadow(0px 1px 2px rgba(0, 0, 0, 0.3));\n",
              "      fill: #FFFFFF;\n",
              "    }\n",
              "  </style>\n",
              "\n",
              "      <script>\n",
              "        const buttonEl =\n",
              "          document.querySelector('#df-1818f4a2-cff7-40ed-b2b3-f87f6a33fd21 button.colab-df-convert');\n",
              "        buttonEl.style.display =\n",
              "          google.colab.kernel.accessAllowed ? 'block' : 'none';\n",
              "\n",
              "        async function convertToInteractive(key) {\n",
              "          const element = document.querySelector('#df-1818f4a2-cff7-40ed-b2b3-f87f6a33fd21');\n",
              "          const dataTable =\n",
              "            await google.colab.kernel.invokeFunction('convertToInteractive',\n",
              "                                                     [key], {});\n",
              "          if (!dataTable) return;\n",
              "\n",
              "          const docLinkHtml = 'Like what you see? Visit the ' +\n",
              "            '<a target=\"_blank\" href=https://colab.research.google.com/notebooks/data_table.ipynb>data table notebook</a>'\n",
              "            + ' to learn more about interactive tables.';\n",
              "          element.innerHTML = '';\n",
              "          dataTable['output_type'] = 'display_data';\n",
              "          await google.colab.output.renderOutput(dataTable, element);\n",
              "          const docLink = document.createElement('div');\n",
              "          docLink.innerHTML = docLinkHtml;\n",
              "          element.appendChild(docLink);\n",
              "        }\n",
              "      </script>\n",
              "    </div>\n",
              "  </div>\n",
              "  "
            ]
          },
          "metadata": {},
          "execution_count": 11
        }
      ]
    },
    {
      "cell_type": "code",
      "source": [
        "df.info()"
      ],
      "metadata": {
        "colab": {
          "base_uri": "https://localhost:8080/"
        },
        "id": "fEJXlNya6QJA",
        "outputId": "642c0eda-3775-4c30-e14f-5068c648a783"
      },
      "execution_count": null,
      "outputs": [
        {
          "output_type": "stream",
          "name": "stdout",
          "text": [
            "<class 'pandas.core.frame.DataFrame'>\n",
            "RangeIndex: 322035 entries, 0 to 322034\n",
            "Data columns (total 7 columns):\n",
            " #   Column        Non-Null Count   Dtype \n",
            "---  ------        --------------   ----- \n",
            " 0   q_num_by_src  322035 non-null  int64 \n",
            " 1   postag        322035 non-null  object\n",
            " 2   word          322034 non-null  object\n",
            " 3   pos           322035 non-null  object\n",
            " 4   tag           322035 non-null  object\n",
            " 5   source        322035 non-null  object\n",
            " 6   q_num         322035 non-null  int64 \n",
            "dtypes: int64(2), object(5)\n",
            "memory usage: 17.2+ MB\n"
          ]
        }
      ]
    },
    {
      "cell_type": "markdown",
      "source": [
        "# 3. Create features in the data"
      ],
      "metadata": {
        "id": "gwKAOI0C3bCt"
      }
    },
    {
      "cell_type": "code",
      "source": [
        "def word2features(l_sent: list, i) -> dict:\n",
        "\n",
        "    '''   Description:  Takes a list of sentence tuples and an integer \n",
        "                        identifying the word the function will work on and\n",
        "                        returns a dictionary containing the words in\n",
        "                        each sentence and corresponding features.\n",
        "                        \n",
        "                        l_sents: is formatted as a list of tuples where each \n",
        "                                 tuple is a:\n",
        "                                   word in the sentence, \n",
        "                                   a part of speech tag,\n",
        "                                   and an NER tag\n",
        "\n",
        "                                   (word:str, POS:str, NER:str)\n",
        "        \n",
        "          Returns:      a dictionary, where each dictionary contains\n",
        "                        features for one word in one sentence.\n",
        "    \n",
        "    '''\n",
        "    word = l_sent[i][0]\n",
        "    postag = l_sent[i][1]\n",
        "\n",
        "    features = {'bias': 1.0,\n",
        "                'word.lower()': word.lower(),\n",
        "                'word[-3:]': word[-3:],\n",
        "                'word[-2:]': word[-2:],\n",
        "                'word.isupper': word.isupper(),\n",
        "                'word.istitle()': word.istitle(),\n",
        "                'word.isdigit()': word.isdigit(),\n",
        "                'postag': postag,\n",
        "                'postag[:2]': postag[:2]\n",
        "                }\n",
        "    \n",
        "    if i > 0:\n",
        "        word1 = l_sent[i - 1][0]\n",
        "        postag1 = l_sent[i - 1][1]\n",
        "        features.update( {'-1:word.lower()': word1.lower(),\n",
        "                          '-1:word.istitle()': word1.istitle(),\n",
        "                          '-1:word.isupper': word1.isupper(),\n",
        "                          '-1:postag': postag1,\n",
        "                          '-1:postag[:2]': postag1[:2]\n",
        "                          }\n",
        "                        )\n",
        "    \n",
        "    else:\n",
        "        features['BOS'] = True\n",
        "\n",
        "    if i < len(l_sent) - 1:\n",
        "        word1 = l_sent[i + 1][0]\n",
        "        postag1 = l_sent[i + 1][1]\n",
        "        features.update({'+1:word.lower()': word1.lower(),\n",
        "                         '+1:word.istitle()': word1.istitle(),\n",
        "                         '+1:word.isupper': word1.isupper(),\n",
        "                         '+1:postag': postag1,\n",
        "                         '+1:postag[:2]': postag1[:2]\n",
        "                         }\n",
        "                        )\n",
        "    else:\n",
        "        features['EOS'] = True\n",
        "    \n",
        "    return features"
      ],
      "metadata": {
        "id": "e-LKNXBL6k-Q"
      },
      "execution_count": null,
      "outputs": []
    },
    {
      "cell_type": "code",
      "source": [
        "def sent2features(l_sent:list ) -> list:\n",
        "    '''   Description:  Takes a sentence as a list of word tuples and returns a\n",
        "                        list of dictionaries. The list contains tuples of\n",
        "                        sentences, where each tuple is broken up into a word in\n",
        "                        the sentence, a part of speech tag, and an NER tag.  \n",
        "                        \n",
        "                        l_sents: is formatted as a list of tuples where each \n",
        "                                 tuple contains a word in the sentence, the \n",
        "                                 word's part of speech tag, and an NER tag:  \n",
        "                                 (word:str, POS:str, NER:str)\n",
        "        \n",
        "          Returns:      list of dictionaries of word features\n",
        "    \n",
        "    '''\n",
        "\n",
        "    return [ word2features(l_sent, i) for i in range(len(l_sent))]"
      ],
      "metadata": {
        "id": "mBCGqZdr-qmV"
      },
      "execution_count": null,
      "outputs": []
    },
    {
      "cell_type": "code",
      "source": [
        "def sent2labels(l_sent: list) -> list:\n",
        "    '''   Description:  Takes a list of sentence word tuples and returns the ner \n",
        "                        label from each word tuple. \n",
        "                        \n",
        "                        l_sents is formatted as a list of tuples where each \n",
        "                                 tuple contains a word in the sentence, the \n",
        "                                 word's part of speech tag, and an NER tag:  \n",
        "                                 (word:str, POS:str, NER:str)\n",
        "\n",
        "          Returns:      list of dictionaries of word features\n",
        "    \n",
        "    '''\n",
        "\n",
        "    return [label for token, postag, label in l_sent]"
      ],
      "metadata": {
        "id": "TxbTzP8NF4YU"
      },
      "execution_count": null,
      "outputs": []
    },
    {
      "cell_type": "code",
      "source": [
        "agg_func = lambda s: [(w,p,t) for w, p, t in zip(s['Word'].values.tolist(),\n",
        "                                                 s['POS'].values.tolist(),\n",
        "                                                 s['Tag'].values.tolist()\n",
        "                                                 )\n",
        "                                                 ]"
      ],
      "metadata": {
        "id": "8RxF5zsfGLnU"
      },
      "execution_count": null,
      "outputs": []
    },
    {
      "cell_type": "code",
      "source": [
        "grouped_df = df_ex.groupby('Sentence #').apply(agg_func)"
      ],
      "metadata": {
        "id": "4uwFjhESHxv7"
      },
      "execution_count": null,
      "outputs": []
    },
    {
      "cell_type": "code",
      "source": [
        "grouped_df.head()"
      ],
      "metadata": {
        "colab": {
          "base_uri": "https://localhost:8080/"
        },
        "id": "v01O5VE6LaND",
        "outputId": "5bb3facf-dbe6-41c8-f988-676bebfe1a18"
      },
      "execution_count": null,
      "outputs": [
        {
          "output_type": "execute_result",
          "data": {
            "text/plain": [
              "Sentence #\n",
              "Sentence: 1        [(Thousands, NNS, O), (of, IN, O), (demonstrat...\n",
              "Sentence: 10       [(Iranian, JJ, B-gpe), (officials, NNS, O), (s...\n",
              "Sentence: 100      [(Helicopter, NN, O), (gunships, NNS, O), (Sat...\n",
              "Sentence: 1000     [(They, PRP, O), (left, VBD, O), (after, IN, O...\n",
              "Sentence: 10000    [(U.N., NNP, B-geo), (relief, NN, O), (coordin...\n",
              "dtype: object"
            ]
          },
          "metadata": {},
          "execution_count": 23
        }
      ]
    },
    {
      "cell_type": "code",
      "source": [
        "df_ex.head()"
      ],
      "metadata": {
        "colab": {
          "base_uri": "https://localhost:8080/",
          "height": 206
        },
        "id": "oWKlIwaZLkC6",
        "outputId": "d7e0f72c-cd80-40ac-fc64-ac2286cfc2f5"
      },
      "execution_count": null,
      "outputs": [
        {
          "output_type": "execute_result",
          "data": {
            "text/plain": [
              "    Sentence #           Word  POS Tag\n",
              "0  Sentence: 1      Thousands  NNS   O\n",
              "1  Sentence: 1             of   IN   O\n",
              "2  Sentence: 1  demonstrators  NNS   O\n",
              "3  Sentence: 1           have  VBP   O\n",
              "4  Sentence: 1        marched  VBN   O"
            ],
            "text/html": [
              "\n",
              "  <div id=\"df-3622f2ea-5486-4ef5-9897-5d18c56c1b4e\">\n",
              "    <div class=\"colab-df-container\">\n",
              "      <div>\n",
              "<style scoped>\n",
              "    .dataframe tbody tr th:only-of-type {\n",
              "        vertical-align: middle;\n",
              "    }\n",
              "\n",
              "    .dataframe tbody tr th {\n",
              "        vertical-align: top;\n",
              "    }\n",
              "\n",
              "    .dataframe thead th {\n",
              "        text-align: right;\n",
              "    }\n",
              "</style>\n",
              "<table border=\"1\" class=\"dataframe\">\n",
              "  <thead>\n",
              "    <tr style=\"text-align: right;\">\n",
              "      <th></th>\n",
              "      <th>Sentence #</th>\n",
              "      <th>Word</th>\n",
              "      <th>POS</th>\n",
              "      <th>Tag</th>\n",
              "    </tr>\n",
              "  </thead>\n",
              "  <tbody>\n",
              "    <tr>\n",
              "      <th>0</th>\n",
              "      <td>Sentence: 1</td>\n",
              "      <td>Thousands</td>\n",
              "      <td>NNS</td>\n",
              "      <td>O</td>\n",
              "    </tr>\n",
              "    <tr>\n",
              "      <th>1</th>\n",
              "      <td>Sentence: 1</td>\n",
              "      <td>of</td>\n",
              "      <td>IN</td>\n",
              "      <td>O</td>\n",
              "    </tr>\n",
              "    <tr>\n",
              "      <th>2</th>\n",
              "      <td>Sentence: 1</td>\n",
              "      <td>demonstrators</td>\n",
              "      <td>NNS</td>\n",
              "      <td>O</td>\n",
              "    </tr>\n",
              "    <tr>\n",
              "      <th>3</th>\n",
              "      <td>Sentence: 1</td>\n",
              "      <td>have</td>\n",
              "      <td>VBP</td>\n",
              "      <td>O</td>\n",
              "    </tr>\n",
              "    <tr>\n",
              "      <th>4</th>\n",
              "      <td>Sentence: 1</td>\n",
              "      <td>marched</td>\n",
              "      <td>VBN</td>\n",
              "      <td>O</td>\n",
              "    </tr>\n",
              "  </tbody>\n",
              "</table>\n",
              "</div>\n",
              "      <button class=\"colab-df-convert\" onclick=\"convertToInteractive('df-3622f2ea-5486-4ef5-9897-5d18c56c1b4e')\"\n",
              "              title=\"Convert this dataframe to an interactive table.\"\n",
              "              style=\"display:none;\">\n",
              "        \n",
              "  <svg xmlns=\"http://www.w3.org/2000/svg\" height=\"24px\"viewBox=\"0 0 24 24\"\n",
              "       width=\"24px\">\n",
              "    <path d=\"M0 0h24v24H0V0z\" fill=\"none\"/>\n",
              "    <path d=\"M18.56 5.44l.94 2.06.94-2.06 2.06-.94-2.06-.94-.94-2.06-.94 2.06-2.06.94zm-11 1L8.5 8.5l.94-2.06 2.06-.94-2.06-.94L8.5 2.5l-.94 2.06-2.06.94zm10 10l.94 2.06.94-2.06 2.06-.94-2.06-.94-.94-2.06-.94 2.06-2.06.94z\"/><path d=\"M17.41 7.96l-1.37-1.37c-.4-.4-.92-.59-1.43-.59-.52 0-1.04.2-1.43.59L10.3 9.45l-7.72 7.72c-.78.78-.78 2.05 0 2.83L4 21.41c.39.39.9.59 1.41.59.51 0 1.02-.2 1.41-.59l7.78-7.78 2.81-2.81c.8-.78.8-2.07 0-2.86zM5.41 20L4 18.59l7.72-7.72 1.47 1.35L5.41 20z\"/>\n",
              "  </svg>\n",
              "      </button>\n",
              "      \n",
              "  <style>\n",
              "    .colab-df-container {\n",
              "      display:flex;\n",
              "      flex-wrap:wrap;\n",
              "      gap: 12px;\n",
              "    }\n",
              "\n",
              "    .colab-df-convert {\n",
              "      background-color: #E8F0FE;\n",
              "      border: none;\n",
              "      border-radius: 50%;\n",
              "      cursor: pointer;\n",
              "      display: none;\n",
              "      fill: #1967D2;\n",
              "      height: 32px;\n",
              "      padding: 0 0 0 0;\n",
              "      width: 32px;\n",
              "    }\n",
              "\n",
              "    .colab-df-convert:hover {\n",
              "      background-color: #E2EBFA;\n",
              "      box-shadow: 0px 1px 2px rgba(60, 64, 67, 0.3), 0px 1px 3px 1px rgba(60, 64, 67, 0.15);\n",
              "      fill: #174EA6;\n",
              "    }\n",
              "\n",
              "    [theme=dark] .colab-df-convert {\n",
              "      background-color: #3B4455;\n",
              "      fill: #D2E3FC;\n",
              "    }\n",
              "\n",
              "    [theme=dark] .colab-df-convert:hover {\n",
              "      background-color: #434B5C;\n",
              "      box-shadow: 0px 1px 3px 1px rgba(0, 0, 0, 0.15);\n",
              "      filter: drop-shadow(0px 1px 2px rgba(0, 0, 0, 0.3));\n",
              "      fill: #FFFFFF;\n",
              "    }\n",
              "  </style>\n",
              "\n",
              "      <script>\n",
              "        const buttonEl =\n",
              "          document.querySelector('#df-3622f2ea-5486-4ef5-9897-5d18c56c1b4e button.colab-df-convert');\n",
              "        buttonEl.style.display =\n",
              "          google.colab.kernel.accessAllowed ? 'block' : 'none';\n",
              "\n",
              "        async function convertToInteractive(key) {\n",
              "          const element = document.querySelector('#df-3622f2ea-5486-4ef5-9897-5d18c56c1b4e');\n",
              "          const dataTable =\n",
              "            await google.colab.kernel.invokeFunction('convertToInteractive',\n",
              "                                                     [key], {});\n",
              "          if (!dataTable) return;\n",
              "\n",
              "          const docLinkHtml = 'Like what you see? Visit the ' +\n",
              "            '<a target=\"_blank\" href=https://colab.research.google.com/notebooks/data_table.ipynb>data table notebook</a>'\n",
              "            + ' to learn more about interactive tables.';\n",
              "          element.innerHTML = '';\n",
              "          dataTable['output_type'] = 'display_data';\n",
              "          await google.colab.output.renderOutput(dataTable, element);\n",
              "          const docLink = document.createElement('div');\n",
              "          docLink.innerHTML = docLinkHtml;\n",
              "          element.appendChild(docLink);\n",
              "        }\n",
              "      </script>\n",
              "    </div>\n",
              "  </div>\n",
              "  "
            ]
          },
          "metadata": {},
          "execution_count": 24
        }
      ]
    },
    {
      "cell_type": "code",
      "source": [
        "# Standard tokenized sentence with POS and NER tags\n",
        "# list of lists of tuples, where the list contains lists of sentences.\n",
        "# Each sentence list contains a word in the sentence along with the POS and NER\n",
        "l_sentences = [s for s in grouped_df]\n",
        "l_sentences[0]"
      ],
      "metadata": {
        "colab": {
          "base_uri": "https://localhost:8080/"
        },
        "id": "wcDbukyTL0MR",
        "outputId": "b7dabfe8-6b31-465a-e56e-0a06d66b520b"
      },
      "execution_count": null,
      "outputs": [
        {
          "output_type": "execute_result",
          "data": {
            "text/plain": [
              "[('Thousands', 'NNS', 'O'),\n",
              " ('of', 'IN', 'O'),\n",
              " ('demonstrators', 'NNS', 'O'),\n",
              " ('have', 'VBP', 'O'),\n",
              " ('marched', 'VBN', 'O'),\n",
              " ('through', 'IN', 'O'),\n",
              " ('London', 'NNP', 'B-geo'),\n",
              " ('to', 'TO', 'O'),\n",
              " ('protest', 'VB', 'O'),\n",
              " ('the', 'DT', 'O'),\n",
              " ('war', 'NN', 'O'),\n",
              " ('in', 'IN', 'O'),\n",
              " ('Iraq', 'NNP', 'B-geo'),\n",
              " ('and', 'CC', 'O'),\n",
              " ('demand', 'VB', 'O'),\n",
              " ('the', 'DT', 'O'),\n",
              " ('withdrawal', 'NN', 'O'),\n",
              " ('of', 'IN', 'O'),\n",
              " ('British', 'JJ', 'B-gpe'),\n",
              " ('troops', 'NNS', 'O'),\n",
              " ('from', 'IN', 'O'),\n",
              " ('that', 'DT', 'O'),\n",
              " ('country', 'NN', 'O'),\n",
              " ('.', '.', 'O')]"
            ]
          },
          "metadata": {},
          "execution_count": 25
        }
      ]
    },
    {
      "cell_type": "code",
      "source": [
        "word2features(l_sentences[0], 1)"
      ],
      "metadata": {
        "colab": {
          "base_uri": "https://localhost:8080/"
        },
        "id": "bl5CtBYI--kP",
        "outputId": "c19b25c9-ca7c-4475-d2c0-289cca69f655"
      },
      "execution_count": null,
      "outputs": [
        {
          "output_type": "execute_result",
          "data": {
            "text/plain": [
              "{'bias': 1.0,\n",
              " 'word.lower()': 'of',\n",
              " 'word[-3:]': 'of',\n",
              " 'word[-2:]': 'of',\n",
              " 'word.isupper': False,\n",
              " 'word.istitle()': False,\n",
              " 'word.isdigit()': False,\n",
              " 'postag': 'IN',\n",
              " 'postag[:2]': 'IN',\n",
              " '-1:word.lower()': 'thousands',\n",
              " '-1:word.istitle()': True,\n",
              " '-1:word.isupper': False,\n",
              " '-1:postag': 'NNS',\n",
              " '-1:postag[:2]': 'NN',\n",
              " '+1:word.lower()': 'demonstrators',\n",
              " '+1:word.istitle()': False,\n",
              " '+1:word.isupper': False,\n",
              " '+1:postag': 'NNS',\n",
              " '+1:postag[:2]': 'NN'}"
            ]
          },
          "metadata": {},
          "execution_count": 26
        }
      ]
    },
    {
      "cell_type": "code",
      "source": [
        "sent2features(l_sentences[0][5:7])"
      ],
      "metadata": {
        "id": "6eBz-cAnMKQB",
        "colab": {
          "base_uri": "https://localhost:8080/"
        },
        "outputId": "98694b03-b988-4ed6-91c8-c5c03b718578"
      },
      "execution_count": null,
      "outputs": [
        {
          "output_type": "execute_result",
          "data": {
            "text/plain": [
              "[{'bias': 1.0,\n",
              "  'word.lower()': 'through',\n",
              "  'word[-3:]': 'ugh',\n",
              "  'word[-2:]': 'gh',\n",
              "  'word.isupper': False,\n",
              "  'word.istitle()': False,\n",
              "  'word.isdigit()': False,\n",
              "  'postag': 'IN',\n",
              "  'postag[:2]': 'IN',\n",
              "  'BOS': True,\n",
              "  '+1:word.lower()': 'london',\n",
              "  '+1:word.istitle()': True,\n",
              "  '+1:word.isupper': False,\n",
              "  '+1:postag': 'NNP',\n",
              "  '+1:postag[:2]': 'NN'},\n",
              " {'bias': 1.0,\n",
              "  'word.lower()': 'london',\n",
              "  'word[-3:]': 'don',\n",
              "  'word[-2:]': 'on',\n",
              "  'word.isupper': False,\n",
              "  'word.istitle()': True,\n",
              "  'word.isdigit()': False,\n",
              "  'postag': 'NNP',\n",
              "  'postag[:2]': 'NN',\n",
              "  '-1:word.lower()': 'through',\n",
              "  '-1:word.istitle()': False,\n",
              "  '-1:word.isupper': False,\n",
              "  '-1:postag': 'IN',\n",
              "  '-1:postag[:2]': 'IN',\n",
              "  'EOS': True}]"
            ]
          },
          "metadata": {},
          "execution_count": 27
        }
      ]
    },
    {
      "cell_type": "code",
      "source": [
        "# this function gets the ner label of each word feature dictionary\n",
        "sent2labels(l_sentences[0][5:7])"
      ],
      "metadata": {
        "colab": {
          "base_uri": "https://localhost:8080/"
        },
        "id": "9BwfMW5y38Uh",
        "outputId": "b1ecb4ca-f203-4846-c7d0-5725eba94f8e"
      },
      "execution_count": null,
      "outputs": [
        {
          "output_type": "execute_result",
          "data": {
            "text/plain": [
              "['O', 'B-geo']"
            ]
          },
          "metadata": {},
          "execution_count": 28
        }
      ]
    },
    {
      "cell_type": "markdown",
      "source": [
        "# 4. Make Train/Test Datasets"
      ],
      "metadata": {
        "id": "KsOlYSAU0sv3"
      }
    },
    {
      "cell_type": "code",
      "source": [
        "# make the feature set\n",
        "X = np.array([sent2features(s) for s in l_sentences], dtype=object)\n",
        "# make the label set\n",
        "y = np.array([sent2labels(s) for s in l_sentences], dtype=object)"
      ],
      "metadata": {
        "id": "WZ9Rhlfn30cq"
      },
      "execution_count": null,
      "outputs": []
    },
    {
      "cell_type": "code",
      "source": [
        "X_train, X_test, y_train, y_test = train_test_split(X, y, test_size=0.25, random_state= 42)"
      ],
      "metadata": {
        "id": "7Fxcc0jd_D6p"
      },
      "execution_count": null,
      "outputs": []
    },
    {
      "cell_type": "code",
      "source": [
        "X_train.shape, X_test.shape"
      ],
      "metadata": {
        "colab": {
          "base_uri": "https://localhost:8080/"
        },
        "id": "aLNRvKwB_2Js",
        "outputId": "476381ff-7af0-45bb-f4db-1f4cd7fdd181"
      },
      "execution_count": null,
      "outputs": [
        {
          "output_type": "execute_result",
          "data": {
            "text/plain": [
              "((35969,), (11990,))"
            ]
          },
          "metadata": {},
          "execution_count": 31
        }
      ]
    },
    {
      "cell_type": "markdown",
      "source": [
        "# 5. Train the Model"
      ],
      "metadata": {
        "id": "k6fRgveUAFRz"
      }
    },
    {
      "cell_type": "markdown",
      "source": [
        "crf = sklearn_crfsuite.CRF(algorithm='lbfgs',\n",
        "                           c1= 0.1,\n",
        "                           c2= 0.1,\n",
        "                           max_iterations= 100,\n",
        "                           all_possible_transitions= True,\n",
        "                           verbose= True)\n",
        "\n",
        "crf.fit(X_train, y_train)"
      ],
      "metadata": {
        "id": "gapfjSiwA1tc"
      }
    },
    {
      "cell_type": "markdown",
      "source": [
        "joblib.dump()"
      ],
      "metadata": {
        "id": "BJ7ehhzlE8YU"
      }
    },
    {
      "cell_type": "code",
      "source": [
        "joblib.dump(crf, '/content/drive/MyDrive/Colab Notebooks/0. Data 606 - Capstone/Models/crf_ner_model.pkl')"
      ],
      "metadata": {
        "id": "yrGXm3TRBdfG",
        "colab": {
          "base_uri": "https://localhost:8080/"
        },
        "outputId": "3987ac3d-3e1c-4392-ee4d-975034ac20f8"
      },
      "execution_count": null,
      "outputs": [
        {
          "output_type": "execute_result",
          "data": {
            "text/plain": [
              "['/content/drive/MyDrive/Colab Notebooks/0. Data 606 - Capstone/Models/crf_ner_model.pkl']"
            ]
          },
          "metadata": {},
          "execution_count": 122
        }
      ]
    },
    {
      "cell_type": "code",
      "source": [
        "crf = joblib.load('/content/drive/MyDrive/Colab Notebooks/0. Data 606 - Capstone/Models/crf_ner_model.pkl')"
      ],
      "metadata": {
        "id": "dBa2-64XE46I",
        "colab": {
          "base_uri": "https://localhost:8080/",
          "height": 301
        },
        "outputId": "b21c3f8a-b5dd-4b64-cd18-66a58ce9a5f7"
      },
      "execution_count": null,
      "outputs": [
        {
          "output_type": "error",
          "ename": "FileNotFoundError",
          "evalue": "ignored",
          "traceback": [
            "\u001b[0;31m---------------------------------------------------------------------------\u001b[0m",
            "\u001b[0;31mFileNotFoundError\u001b[0m                         Traceback (most recent call last)",
            "\u001b[0;32m<ipython-input-121-44dfe1b6316b>\u001b[0m in \u001b[0;36m<module>\u001b[0;34m\u001b[0m\n\u001b[0;32m----> 1\u001b[0;31m \u001b[0mcrf\u001b[0m \u001b[0;34m=\u001b[0m \u001b[0mjoblib\u001b[0m\u001b[0;34m.\u001b[0m\u001b[0mload\u001b[0m\u001b[0;34m(\u001b[0m\u001b[0;34m'/content/drive/MyDrive/Colab Notebooks/0. Data 606 - Capstone/Models/crf_ner_model.pkl'\u001b[0m\u001b[0;34m)\u001b[0m\u001b[0;34m\u001b[0m\u001b[0;34m\u001b[0m\u001b[0m\n\u001b[0m",
            "\u001b[0;32m/usr/local/lib/python3.8/dist-packages/joblib/numpy_pickle.py\u001b[0m in \u001b[0;36mload\u001b[0;34m(filename, mmap_mode)\u001b[0m\n\u001b[1;32m    648\u001b[0m             \u001b[0mobj\u001b[0m \u001b[0;34m=\u001b[0m \u001b[0m_unpickle\u001b[0m\u001b[0;34m(\u001b[0m\u001b[0mfobj\u001b[0m\u001b[0;34m)\u001b[0m\u001b[0;34m\u001b[0m\u001b[0;34m\u001b[0m\u001b[0m\n\u001b[1;32m    649\u001b[0m     \u001b[0;32melse\u001b[0m\u001b[0;34m:\u001b[0m\u001b[0;34m\u001b[0m\u001b[0;34m\u001b[0m\u001b[0m\n\u001b[0;32m--> 650\u001b[0;31m         \u001b[0;32mwith\u001b[0m \u001b[0mopen\u001b[0m\u001b[0;34m(\u001b[0m\u001b[0mfilename\u001b[0m\u001b[0;34m,\u001b[0m \u001b[0;34m'rb'\u001b[0m\u001b[0;34m)\u001b[0m \u001b[0;32mas\u001b[0m \u001b[0mf\u001b[0m\u001b[0;34m:\u001b[0m\u001b[0;34m\u001b[0m\u001b[0;34m\u001b[0m\u001b[0m\n\u001b[0m\u001b[1;32m    651\u001b[0m             \u001b[0;32mwith\u001b[0m \u001b[0m_read_fileobject\u001b[0m\u001b[0;34m(\u001b[0m\u001b[0mf\u001b[0m\u001b[0;34m,\u001b[0m \u001b[0mfilename\u001b[0m\u001b[0;34m,\u001b[0m \u001b[0mmmap_mode\u001b[0m\u001b[0;34m)\u001b[0m \u001b[0;32mas\u001b[0m \u001b[0mfobj\u001b[0m\u001b[0;34m:\u001b[0m\u001b[0;34m\u001b[0m\u001b[0;34m\u001b[0m\u001b[0m\n\u001b[1;32m    652\u001b[0m                 \u001b[0;32mif\u001b[0m \u001b[0misinstance\u001b[0m\u001b[0;34m(\u001b[0m\u001b[0mfobj\u001b[0m\u001b[0;34m,\u001b[0m \u001b[0mstr\u001b[0m\u001b[0;34m)\u001b[0m\u001b[0;34m:\u001b[0m\u001b[0;34m\u001b[0m\u001b[0;34m\u001b[0m\u001b[0m\n",
            "\u001b[0;31mFileNotFoundError\u001b[0m: [Errno 2] No such file or directory: '/content/drive/MyDrive/Colab Notebooks/0. Data 606 - Capstone/Models/crf_ner_model.pkl'"
          ]
        }
      ]
    },
    {
      "cell_type": "code",
      "source": [
        "y_pred = crf.predict(X_test)"
      ],
      "metadata": {
        "id": "0vi1PeFxFTGq"
      },
      "execution_count": null,
      "outputs": []
    },
    {
      "cell_type": "code",
      "source": [
        "labels = crf.classes_\n",
        "labels.remove('O')\n",
        "print(crf_metrics.flat_classification_report(y_test,y_pred, labels=labels))"
      ],
      "metadata": {
        "colab": {
          "base_uri": "https://localhost:8080/"
        },
        "id": "gTgnTz1cFYf7",
        "outputId": "36e2aaaf-ce71-48bb-889e-fc53316e73d6"
      },
      "execution_count": null,
      "outputs": [
        {
          "output_type": "stream",
          "name": "stderr",
          "text": [
            "/usr/local/lib/python3.8/dist-packages/sklearn/utils/validation.py:67: FutureWarning: Pass labels=['B-org', 'B-per', 'I-per', 'B-geo', 'I-geo', 'B-tim', 'I-org', 'B-gpe', 'I-tim', 'B-nat', 'B-eve', 'B-art', 'I-art', 'I-eve', 'I-gpe', 'I-nat'] as keyword args. From version 0.25 passing these as positional arguments will result in an error\n",
            "  warnings.warn(\"Pass {} as keyword args. From version 0.25 \"\n"
          ]
        },
        {
          "output_type": "stream",
          "name": "stdout",
          "text": [
            "              precision    recall  f1-score   support\n",
            "\n",
            "       B-org       0.81      0.73      0.77      5116\n",
            "       B-per       0.85      0.84      0.84      4239\n",
            "       I-per       0.85      0.90      0.88      4273\n",
            "       B-geo       0.86      0.91      0.89      9403\n",
            "       I-geo       0.81      0.80      0.81      1826\n",
            "       B-tim       0.93      0.89      0.91      5095\n",
            "       I-org       0.82      0.79      0.80      4195\n",
            "       B-gpe       0.97      0.94      0.96      3961\n",
            "       I-tim       0.84      0.81      0.82      1604\n",
            "       B-nat       0.50      0.24      0.32        55\n",
            "       B-eve       0.51      0.33      0.40        80\n",
            "       B-art       0.36      0.14      0.20       102\n",
            "       I-art       0.24      0.07      0.10        90\n",
            "       I-eve       0.45      0.19      0.27        74\n",
            "       I-gpe       0.86      0.53      0.66        36\n",
            "       I-nat       0.57      0.22      0.32        18\n",
            "\n",
            "   micro avg       0.86      0.85      0.86     40167\n",
            "   macro avg       0.70      0.58      0.62     40167\n",
            "weighted avg       0.86      0.85      0.85     40167\n",
            "\n"
          ]
        }
      ]
    },
    {
      "cell_type": "markdown",
      "source": [
        "# 6. Implement Model for Movie Data"
      ],
      "metadata": {
        "id": "Jh5vuHx_FlnT"
      }
    },
    {
      "cell_type": "markdown",
      "source": [
        "## 6.1 Convert Movie Data Format"
      ],
      "metadata": {
        "id": "CilVpTOhGS8F"
      }
    },
    {
      "cell_type": "code",
      "source": [
        "df.head()"
      ],
      "metadata": {
        "colab": {
          "base_uri": "https://localhost:8080/",
          "height": 206
        },
        "id": "8QOxzsfJGazk",
        "outputId": "f287a7bd-b649-4293-e93f-844b43f4fea5"
      },
      "execution_count": null,
      "outputs": [
        {
          "output_type": "execute_result",
          "data": {
            "text/plain": [
              "   quest_num      label    word pos   entity     source  q_num\n",
              "0          1  o-outside    what   o  outside  eng_train      1\n",
              "1          1  o-outside  movies   o  outside  eng_train      1\n",
              "2          1  o-outside    star   o  outside  eng_train      1\n",
              "3          1    b-actor   bruce   b    actor  eng_train      1\n",
              "4          1    i-actor  willis   i    actor  eng_train      1"
            ],
            "text/html": [
              "\n",
              "  <div id=\"df-a28af325-ac3f-4b0d-b176-f2edff7c76fe\">\n",
              "    <div class=\"colab-df-container\">\n",
              "      <div>\n",
              "<style scoped>\n",
              "    .dataframe tbody tr th:only-of-type {\n",
              "        vertical-align: middle;\n",
              "    }\n",
              "\n",
              "    .dataframe tbody tr th {\n",
              "        vertical-align: top;\n",
              "    }\n",
              "\n",
              "    .dataframe thead th {\n",
              "        text-align: right;\n",
              "    }\n",
              "</style>\n",
              "<table border=\"1\" class=\"dataframe\">\n",
              "  <thead>\n",
              "    <tr style=\"text-align: right;\">\n",
              "      <th></th>\n",
              "      <th>quest_num</th>\n",
              "      <th>label</th>\n",
              "      <th>word</th>\n",
              "      <th>pos</th>\n",
              "      <th>entity</th>\n",
              "      <th>source</th>\n",
              "      <th>q_num</th>\n",
              "    </tr>\n",
              "  </thead>\n",
              "  <tbody>\n",
              "    <tr>\n",
              "      <th>0</th>\n",
              "      <td>1</td>\n",
              "      <td>o-outside</td>\n",
              "      <td>what</td>\n",
              "      <td>o</td>\n",
              "      <td>outside</td>\n",
              "      <td>eng_train</td>\n",
              "      <td>1</td>\n",
              "    </tr>\n",
              "    <tr>\n",
              "      <th>1</th>\n",
              "      <td>1</td>\n",
              "      <td>o-outside</td>\n",
              "      <td>movies</td>\n",
              "      <td>o</td>\n",
              "      <td>outside</td>\n",
              "      <td>eng_train</td>\n",
              "      <td>1</td>\n",
              "    </tr>\n",
              "    <tr>\n",
              "      <th>2</th>\n",
              "      <td>1</td>\n",
              "      <td>o-outside</td>\n",
              "      <td>star</td>\n",
              "      <td>o</td>\n",
              "      <td>outside</td>\n",
              "      <td>eng_train</td>\n",
              "      <td>1</td>\n",
              "    </tr>\n",
              "    <tr>\n",
              "      <th>3</th>\n",
              "      <td>1</td>\n",
              "      <td>b-actor</td>\n",
              "      <td>bruce</td>\n",
              "      <td>b</td>\n",
              "      <td>actor</td>\n",
              "      <td>eng_train</td>\n",
              "      <td>1</td>\n",
              "    </tr>\n",
              "    <tr>\n",
              "      <th>4</th>\n",
              "      <td>1</td>\n",
              "      <td>i-actor</td>\n",
              "      <td>willis</td>\n",
              "      <td>i</td>\n",
              "      <td>actor</td>\n",
              "      <td>eng_train</td>\n",
              "      <td>1</td>\n",
              "    </tr>\n",
              "  </tbody>\n",
              "</table>\n",
              "</div>\n",
              "      <button class=\"colab-df-convert\" onclick=\"convertToInteractive('df-a28af325-ac3f-4b0d-b176-f2edff7c76fe')\"\n",
              "              title=\"Convert this dataframe to an interactive table.\"\n",
              "              style=\"display:none;\">\n",
              "        \n",
              "  <svg xmlns=\"http://www.w3.org/2000/svg\" height=\"24px\"viewBox=\"0 0 24 24\"\n",
              "       width=\"24px\">\n",
              "    <path d=\"M0 0h24v24H0V0z\" fill=\"none\"/>\n",
              "    <path d=\"M18.56 5.44l.94 2.06.94-2.06 2.06-.94-2.06-.94-.94-2.06-.94 2.06-2.06.94zm-11 1L8.5 8.5l.94-2.06 2.06-.94-2.06-.94L8.5 2.5l-.94 2.06-2.06.94zm10 10l.94 2.06.94-2.06 2.06-.94-2.06-.94-.94-2.06-.94 2.06-2.06.94z\"/><path d=\"M17.41 7.96l-1.37-1.37c-.4-.4-.92-.59-1.43-.59-.52 0-1.04.2-1.43.59L10.3 9.45l-7.72 7.72c-.78.78-.78 2.05 0 2.83L4 21.41c.39.39.9.59 1.41.59.51 0 1.02-.2 1.41-.59l7.78-7.78 2.81-2.81c.8-.78.8-2.07 0-2.86zM5.41 20L4 18.59l7.72-7.72 1.47 1.35L5.41 20z\"/>\n",
              "  </svg>\n",
              "      </button>\n",
              "      \n",
              "  <style>\n",
              "    .colab-df-container {\n",
              "      display:flex;\n",
              "      flex-wrap:wrap;\n",
              "      gap: 12px;\n",
              "    }\n",
              "\n",
              "    .colab-df-convert {\n",
              "      background-color: #E8F0FE;\n",
              "      border: none;\n",
              "      border-radius: 50%;\n",
              "      cursor: pointer;\n",
              "      display: none;\n",
              "      fill: #1967D2;\n",
              "      height: 32px;\n",
              "      padding: 0 0 0 0;\n",
              "      width: 32px;\n",
              "    }\n",
              "\n",
              "    .colab-df-convert:hover {\n",
              "      background-color: #E2EBFA;\n",
              "      box-shadow: 0px 1px 2px rgba(60, 64, 67, 0.3), 0px 1px 3px 1px rgba(60, 64, 67, 0.15);\n",
              "      fill: #174EA6;\n",
              "    }\n",
              "\n",
              "    [theme=dark] .colab-df-convert {\n",
              "      background-color: #3B4455;\n",
              "      fill: #D2E3FC;\n",
              "    }\n",
              "\n",
              "    [theme=dark] .colab-df-convert:hover {\n",
              "      background-color: #434B5C;\n",
              "      box-shadow: 0px 1px 3px 1px rgba(0, 0, 0, 0.15);\n",
              "      filter: drop-shadow(0px 1px 2px rgba(0, 0, 0, 0.3));\n",
              "      fill: #FFFFFF;\n",
              "    }\n",
              "  </style>\n",
              "\n",
              "      <script>\n",
              "        const buttonEl =\n",
              "          document.querySelector('#df-a28af325-ac3f-4b0d-b176-f2edff7c76fe button.colab-df-convert');\n",
              "        buttonEl.style.display =\n",
              "          google.colab.kernel.accessAllowed ? 'block' : 'none';\n",
              "\n",
              "        async function convertToInteractive(key) {\n",
              "          const element = document.querySelector('#df-a28af325-ac3f-4b0d-b176-f2edff7c76fe');\n",
              "          const dataTable =\n",
              "            await google.colab.kernel.invokeFunction('convertToInteractive',\n",
              "                                                     [key], {});\n",
              "          if (!dataTable) return;\n",
              "\n",
              "          const docLinkHtml = 'Like what you see? Visit the ' +\n",
              "            '<a target=\"_blank\" href=https://colab.research.google.com/notebooks/data_table.ipynb>data table notebook</a>'\n",
              "            + ' to learn more about interactive tables.';\n",
              "          element.innerHTML = '';\n",
              "          dataTable['output_type'] = 'display_data';\n",
              "          await google.colab.output.renderOutput(dataTable, element);\n",
              "          const docLink = document.createElement('div');\n",
              "          docLink.innerHTML = docLinkHtml;\n",
              "          element.appendChild(docLink);\n",
              "        }\n",
              "      </script>\n",
              "    </div>\n",
              "  </div>\n",
              "  "
            ]
          },
          "metadata": {},
          "execution_count": 5
        }
      ]
    },
    {
      "cell_type": "code",
      "source": [
        "# copy original data\n",
        "df1 = df.copy()"
      ],
      "metadata": {
        "id": "Gq6_B6hVGyLN"
      },
      "execution_count": null,
      "outputs": []
    },
    {
      "cell_type": "code",
      "source": [
        "df1.columns"
      ],
      "metadata": {
        "colab": {
          "base_uri": "https://localhost:8080/"
        },
        "id": "IHNvIcagHFxv",
        "outputId": "eab916ca-7000-42d5-d3a1-7347fa93e7b4"
      },
      "execution_count": null,
      "outputs": [
        {
          "output_type": "execute_result",
          "data": {
            "text/plain": [
              "Index(['q_num_by_src', 'postag', 'word', 'pos', 'tag', 'source', 'q_num'], dtype='object')"
            ]
          },
          "metadata": {},
          "execution_count": 20
        }
      ]
    },
    {
      "cell_type": "code",
      "source": [
        "# remove the extra columns\n",
        "df1.drop(columns=['q_num_by_src', 'pos', 'tag', 'source'], inplace=True)"
      ],
      "metadata": {
        "id": "Dm39wGn7G4ZG"
      },
      "execution_count": null,
      "outputs": []
    },
    {
      "cell_type": "code",
      "source": [
        "df1.head()"
      ],
      "metadata": {
        "colab": {
          "base_uri": "https://localhost:8080/",
          "height": 206
        },
        "id": "57a1FSV5HPhe",
        "outputId": "f631a241-2605-4548-aafe-c503d82e2295"
      },
      "execution_count": null,
      "outputs": [
        {
          "output_type": "execute_result",
          "data": {
            "text/plain": [
              "      postag    word  q_num\n",
              "0  o-outside    what      1\n",
              "1  o-outside  movies      1\n",
              "2  o-outside    star      1\n",
              "3    b-actor   bruce      1\n",
              "4    i-actor  willis      1"
            ],
            "text/html": [
              "\n",
              "  <div id=\"df-bf3628ff-8ba5-4a49-9c1b-e2a946d89016\">\n",
              "    <div class=\"colab-df-container\">\n",
              "      <div>\n",
              "<style scoped>\n",
              "    .dataframe tbody tr th:only-of-type {\n",
              "        vertical-align: middle;\n",
              "    }\n",
              "\n",
              "    .dataframe tbody tr th {\n",
              "        vertical-align: top;\n",
              "    }\n",
              "\n",
              "    .dataframe thead th {\n",
              "        text-align: right;\n",
              "    }\n",
              "</style>\n",
              "<table border=\"1\" class=\"dataframe\">\n",
              "  <thead>\n",
              "    <tr style=\"text-align: right;\">\n",
              "      <th></th>\n",
              "      <th>postag</th>\n",
              "      <th>word</th>\n",
              "      <th>q_num</th>\n",
              "    </tr>\n",
              "  </thead>\n",
              "  <tbody>\n",
              "    <tr>\n",
              "      <th>0</th>\n",
              "      <td>o-outside</td>\n",
              "      <td>what</td>\n",
              "      <td>1</td>\n",
              "    </tr>\n",
              "    <tr>\n",
              "      <th>1</th>\n",
              "      <td>o-outside</td>\n",
              "      <td>movies</td>\n",
              "      <td>1</td>\n",
              "    </tr>\n",
              "    <tr>\n",
              "      <th>2</th>\n",
              "      <td>o-outside</td>\n",
              "      <td>star</td>\n",
              "      <td>1</td>\n",
              "    </tr>\n",
              "    <tr>\n",
              "      <th>3</th>\n",
              "      <td>b-actor</td>\n",
              "      <td>bruce</td>\n",
              "      <td>1</td>\n",
              "    </tr>\n",
              "    <tr>\n",
              "      <th>4</th>\n",
              "      <td>i-actor</td>\n",
              "      <td>willis</td>\n",
              "      <td>1</td>\n",
              "    </tr>\n",
              "  </tbody>\n",
              "</table>\n",
              "</div>\n",
              "      <button class=\"colab-df-convert\" onclick=\"convertToInteractive('df-bf3628ff-8ba5-4a49-9c1b-e2a946d89016')\"\n",
              "              title=\"Convert this dataframe to an interactive table.\"\n",
              "              style=\"display:none;\">\n",
              "        \n",
              "  <svg xmlns=\"http://www.w3.org/2000/svg\" height=\"24px\"viewBox=\"0 0 24 24\"\n",
              "       width=\"24px\">\n",
              "    <path d=\"M0 0h24v24H0V0z\" fill=\"none\"/>\n",
              "    <path d=\"M18.56 5.44l.94 2.06.94-2.06 2.06-.94-2.06-.94-.94-2.06-.94 2.06-2.06.94zm-11 1L8.5 8.5l.94-2.06 2.06-.94-2.06-.94L8.5 2.5l-.94 2.06-2.06.94zm10 10l.94 2.06.94-2.06 2.06-.94-2.06-.94-.94-2.06-.94 2.06-2.06.94z\"/><path d=\"M17.41 7.96l-1.37-1.37c-.4-.4-.92-.59-1.43-.59-.52 0-1.04.2-1.43.59L10.3 9.45l-7.72 7.72c-.78.78-.78 2.05 0 2.83L4 21.41c.39.39.9.59 1.41.59.51 0 1.02-.2 1.41-.59l7.78-7.78 2.81-2.81c.8-.78.8-2.07 0-2.86zM5.41 20L4 18.59l7.72-7.72 1.47 1.35L5.41 20z\"/>\n",
              "  </svg>\n",
              "      </button>\n",
              "      \n",
              "  <style>\n",
              "    .colab-df-container {\n",
              "      display:flex;\n",
              "      flex-wrap:wrap;\n",
              "      gap: 12px;\n",
              "    }\n",
              "\n",
              "    .colab-df-convert {\n",
              "      background-color: #E8F0FE;\n",
              "      border: none;\n",
              "      border-radius: 50%;\n",
              "      cursor: pointer;\n",
              "      display: none;\n",
              "      fill: #1967D2;\n",
              "      height: 32px;\n",
              "      padding: 0 0 0 0;\n",
              "      width: 32px;\n",
              "    }\n",
              "\n",
              "    .colab-df-convert:hover {\n",
              "      background-color: #E2EBFA;\n",
              "      box-shadow: 0px 1px 2px rgba(60, 64, 67, 0.3), 0px 1px 3px 1px rgba(60, 64, 67, 0.15);\n",
              "      fill: #174EA6;\n",
              "    }\n",
              "\n",
              "    [theme=dark] .colab-df-convert {\n",
              "      background-color: #3B4455;\n",
              "      fill: #D2E3FC;\n",
              "    }\n",
              "\n",
              "    [theme=dark] .colab-df-convert:hover {\n",
              "      background-color: #434B5C;\n",
              "      box-shadow: 0px 1px 3px 1px rgba(0, 0, 0, 0.15);\n",
              "      filter: drop-shadow(0px 1px 2px rgba(0, 0, 0, 0.3));\n",
              "      fill: #FFFFFF;\n",
              "    }\n",
              "  </style>\n",
              "\n",
              "      <script>\n",
              "        const buttonEl =\n",
              "          document.querySelector('#df-bf3628ff-8ba5-4a49-9c1b-e2a946d89016 button.colab-df-convert');\n",
              "        buttonEl.style.display =\n",
              "          google.colab.kernel.accessAllowed ? 'block' : 'none';\n",
              "\n",
              "        async function convertToInteractive(key) {\n",
              "          const element = document.querySelector('#df-bf3628ff-8ba5-4a49-9c1b-e2a946d89016');\n",
              "          const dataTable =\n",
              "            await google.colab.kernel.invokeFunction('convertToInteractive',\n",
              "                                                     [key], {});\n",
              "          if (!dataTable) return;\n",
              "\n",
              "          const docLinkHtml = 'Like what you see? Visit the ' +\n",
              "            '<a target=\"_blank\" href=https://colab.research.google.com/notebooks/data_table.ipynb>data table notebook</a>'\n",
              "            + ' to learn more about interactive tables.';\n",
              "          element.innerHTML = '';\n",
              "          dataTable['output_type'] = 'display_data';\n",
              "          await google.colab.output.renderOutput(dataTable, element);\n",
              "          const docLink = document.createElement('div');\n",
              "          docLink.innerHTML = docLinkHtml;\n",
              "          element.appendChild(docLink);\n",
              "        }\n",
              "      </script>\n",
              "    </div>\n",
              "  </div>\n",
              "  "
            ]
          },
          "metadata": {},
          "execution_count": 22
        }
      ]
    },
    {
      "cell_type": "code",
      "source": [
        "#convert the word format to string\n",
        "#rename the columns to match the Sarkar Tool\n",
        "df1.word = df1.word.astype(str)\n",
        "df1.rename(columns={'q_num': 'Sentence #',\n",
        "                    'word': 'Word',\n",
        "                    'postag': 'Tag'}, inplace=True)"
      ],
      "metadata": {
        "id": "X-UmH4LMHscz"
      },
      "execution_count": null,
      "outputs": []
    },
    {
      "cell_type": "code",
      "source": [
        "# check for null values\n",
        "df1.loc[df1.Word.isnull()]"
      ],
      "metadata": {
        "colab": {
          "base_uri": "https://localhost:8080/",
          "height": 49
        },
        "id": "Y1xHJ3btH4vN",
        "outputId": "ac48edaa-cab0-4c14-92da-2b9d1e35a08e"
      },
      "execution_count": null,
      "outputs": [
        {
          "output_type": "execute_result",
          "data": {
            "text/plain": [
              "Empty DataFrame\n",
              "Columns: [Tag, Word, Sentence #]\n",
              "Index: []"
            ],
            "text/html": [
              "\n",
              "  <div id=\"df-a2886ec8-2d6f-4e23-8557-61633505dbf1\">\n",
              "    <div class=\"colab-df-container\">\n",
              "      <div>\n",
              "<style scoped>\n",
              "    .dataframe tbody tr th:only-of-type {\n",
              "        vertical-align: middle;\n",
              "    }\n",
              "\n",
              "    .dataframe tbody tr th {\n",
              "        vertical-align: top;\n",
              "    }\n",
              "\n",
              "    .dataframe thead th {\n",
              "        text-align: right;\n",
              "    }\n",
              "</style>\n",
              "<table border=\"1\" class=\"dataframe\">\n",
              "  <thead>\n",
              "    <tr style=\"text-align: right;\">\n",
              "      <th></th>\n",
              "      <th>Tag</th>\n",
              "      <th>Word</th>\n",
              "      <th>Sentence #</th>\n",
              "    </tr>\n",
              "  </thead>\n",
              "  <tbody>\n",
              "  </tbody>\n",
              "</table>\n",
              "</div>\n",
              "      <button class=\"colab-df-convert\" onclick=\"convertToInteractive('df-a2886ec8-2d6f-4e23-8557-61633505dbf1')\"\n",
              "              title=\"Convert this dataframe to an interactive table.\"\n",
              "              style=\"display:none;\">\n",
              "        \n",
              "  <svg xmlns=\"http://www.w3.org/2000/svg\" height=\"24px\"viewBox=\"0 0 24 24\"\n",
              "       width=\"24px\">\n",
              "    <path d=\"M0 0h24v24H0V0z\" fill=\"none\"/>\n",
              "    <path d=\"M18.56 5.44l.94 2.06.94-2.06 2.06-.94-2.06-.94-.94-2.06-.94 2.06-2.06.94zm-11 1L8.5 8.5l.94-2.06 2.06-.94-2.06-.94L8.5 2.5l-.94 2.06-2.06.94zm10 10l.94 2.06.94-2.06 2.06-.94-2.06-.94-.94-2.06-.94 2.06-2.06.94z\"/><path d=\"M17.41 7.96l-1.37-1.37c-.4-.4-.92-.59-1.43-.59-.52 0-1.04.2-1.43.59L10.3 9.45l-7.72 7.72c-.78.78-.78 2.05 0 2.83L4 21.41c.39.39.9.59 1.41.59.51 0 1.02-.2 1.41-.59l7.78-7.78 2.81-2.81c.8-.78.8-2.07 0-2.86zM5.41 20L4 18.59l7.72-7.72 1.47 1.35L5.41 20z\"/>\n",
              "  </svg>\n",
              "      </button>\n",
              "      \n",
              "  <style>\n",
              "    .colab-df-container {\n",
              "      display:flex;\n",
              "      flex-wrap:wrap;\n",
              "      gap: 12px;\n",
              "    }\n",
              "\n",
              "    .colab-df-convert {\n",
              "      background-color: #E8F0FE;\n",
              "      border: none;\n",
              "      border-radius: 50%;\n",
              "      cursor: pointer;\n",
              "      display: none;\n",
              "      fill: #1967D2;\n",
              "      height: 32px;\n",
              "      padding: 0 0 0 0;\n",
              "      width: 32px;\n",
              "    }\n",
              "\n",
              "    .colab-df-convert:hover {\n",
              "      background-color: #E2EBFA;\n",
              "      box-shadow: 0px 1px 2px rgba(60, 64, 67, 0.3), 0px 1px 3px 1px rgba(60, 64, 67, 0.15);\n",
              "      fill: #174EA6;\n",
              "    }\n",
              "\n",
              "    [theme=dark] .colab-df-convert {\n",
              "      background-color: #3B4455;\n",
              "      fill: #D2E3FC;\n",
              "    }\n",
              "\n",
              "    [theme=dark] .colab-df-convert:hover {\n",
              "      background-color: #434B5C;\n",
              "      box-shadow: 0px 1px 3px 1px rgba(0, 0, 0, 0.15);\n",
              "      filter: drop-shadow(0px 1px 2px rgba(0, 0, 0, 0.3));\n",
              "      fill: #FFFFFF;\n",
              "    }\n",
              "  </style>\n",
              "\n",
              "      <script>\n",
              "        const buttonEl =\n",
              "          document.querySelector('#df-a2886ec8-2d6f-4e23-8557-61633505dbf1 button.colab-df-convert');\n",
              "        buttonEl.style.display =\n",
              "          google.colab.kernel.accessAllowed ? 'block' : 'none';\n",
              "\n",
              "        async function convertToInteractive(key) {\n",
              "          const element = document.querySelector('#df-a2886ec8-2d6f-4e23-8557-61633505dbf1');\n",
              "          const dataTable =\n",
              "            await google.colab.kernel.invokeFunction('convertToInteractive',\n",
              "                                                     [key], {});\n",
              "          if (!dataTable) return;\n",
              "\n",
              "          const docLinkHtml = 'Like what you see? Visit the ' +\n",
              "            '<a target=\"_blank\" href=https://colab.research.google.com/notebooks/data_table.ipynb>data table notebook</a>'\n",
              "            + ' to learn more about interactive tables.';\n",
              "          element.innerHTML = '';\n",
              "          dataTable['output_type'] = 'display_data';\n",
              "          await google.colab.output.renderOutput(dataTable, element);\n",
              "          const docLink = document.createElement('div');\n",
              "          docLink.innerHTML = docLinkHtml;\n",
              "          element.appendChild(docLink);\n",
              "        }\n",
              "      </script>\n",
              "    </div>\n",
              "  </div>\n",
              "  "
            ]
          },
          "metadata": {},
          "execution_count": 24
        }
      ]
    },
    {
      "cell_type": "code",
      "source": [
        "df1.dropna(inplace=True)"
      ],
      "metadata": {
        "id": "6f-s2pCtIDoX"
      },
      "execution_count": null,
      "outputs": []
    },
    {
      "cell_type": "code",
      "source": [
        "# create the part of speech (POS) variable\n",
        "df1['POS'] = [pos for word, pos in nltk.pos_tag(df1['Word'])]"
      ],
      "metadata": {
        "id": "aKgdIeuaHQXl"
      },
      "execution_count": null,
      "outputs": []
    },
    {
      "cell_type": "code",
      "source": [
        "df1['Tag'].replace({'o-outside': 'o'}, inplace=True)"
      ],
      "metadata": {
        "id": "tS3rhxm-4U1d"
      },
      "execution_count": null,
      "outputs": []
    },
    {
      "cell_type": "code",
      "source": [
        "df1.head()"
      ],
      "metadata": {
        "colab": {
          "base_uri": "https://localhost:8080/",
          "height": 206
        },
        "id": "cmp4GZlZHiJr",
        "outputId": "8874c0ed-efed-4861-dd9c-68b72b591baf"
      },
      "execution_count": null,
      "outputs": [
        {
          "output_type": "execute_result",
          "data": {
            "text/plain": [
              "       Tag    Word  Sentence #  POS\n",
              "0        o    what           1   WP\n",
              "1        o  movies           1  NNS\n",
              "2        o    star           1  VBP\n",
              "3  b-actor   bruce           1   NN\n",
              "4  i-actor  willis           1   NN"
            ],
            "text/html": [
              "\n",
              "  <div id=\"df-6b4bb10f-e6c6-4eb6-b149-eeae07dc7c2b\">\n",
              "    <div class=\"colab-df-container\">\n",
              "      <div>\n",
              "<style scoped>\n",
              "    .dataframe tbody tr th:only-of-type {\n",
              "        vertical-align: middle;\n",
              "    }\n",
              "\n",
              "    .dataframe tbody tr th {\n",
              "        vertical-align: top;\n",
              "    }\n",
              "\n",
              "    .dataframe thead th {\n",
              "        text-align: right;\n",
              "    }\n",
              "</style>\n",
              "<table border=\"1\" class=\"dataframe\">\n",
              "  <thead>\n",
              "    <tr style=\"text-align: right;\">\n",
              "      <th></th>\n",
              "      <th>Tag</th>\n",
              "      <th>Word</th>\n",
              "      <th>Sentence #</th>\n",
              "      <th>POS</th>\n",
              "    </tr>\n",
              "  </thead>\n",
              "  <tbody>\n",
              "    <tr>\n",
              "      <th>0</th>\n",
              "      <td>o</td>\n",
              "      <td>what</td>\n",
              "      <td>1</td>\n",
              "      <td>WP</td>\n",
              "    </tr>\n",
              "    <tr>\n",
              "      <th>1</th>\n",
              "      <td>o</td>\n",
              "      <td>movies</td>\n",
              "      <td>1</td>\n",
              "      <td>NNS</td>\n",
              "    </tr>\n",
              "    <tr>\n",
              "      <th>2</th>\n",
              "      <td>o</td>\n",
              "      <td>star</td>\n",
              "      <td>1</td>\n",
              "      <td>VBP</td>\n",
              "    </tr>\n",
              "    <tr>\n",
              "      <th>3</th>\n",
              "      <td>b-actor</td>\n",
              "      <td>bruce</td>\n",
              "      <td>1</td>\n",
              "      <td>NN</td>\n",
              "    </tr>\n",
              "    <tr>\n",
              "      <th>4</th>\n",
              "      <td>i-actor</td>\n",
              "      <td>willis</td>\n",
              "      <td>1</td>\n",
              "      <td>NN</td>\n",
              "    </tr>\n",
              "  </tbody>\n",
              "</table>\n",
              "</div>\n",
              "      <button class=\"colab-df-convert\" onclick=\"convertToInteractive('df-6b4bb10f-e6c6-4eb6-b149-eeae07dc7c2b')\"\n",
              "              title=\"Convert this dataframe to an interactive table.\"\n",
              "              style=\"display:none;\">\n",
              "        \n",
              "  <svg xmlns=\"http://www.w3.org/2000/svg\" height=\"24px\"viewBox=\"0 0 24 24\"\n",
              "       width=\"24px\">\n",
              "    <path d=\"M0 0h24v24H0V0z\" fill=\"none\"/>\n",
              "    <path d=\"M18.56 5.44l.94 2.06.94-2.06 2.06-.94-2.06-.94-.94-2.06-.94 2.06-2.06.94zm-11 1L8.5 8.5l.94-2.06 2.06-.94-2.06-.94L8.5 2.5l-.94 2.06-2.06.94zm10 10l.94 2.06.94-2.06 2.06-.94-2.06-.94-.94-2.06-.94 2.06-2.06.94z\"/><path d=\"M17.41 7.96l-1.37-1.37c-.4-.4-.92-.59-1.43-.59-.52 0-1.04.2-1.43.59L10.3 9.45l-7.72 7.72c-.78.78-.78 2.05 0 2.83L4 21.41c.39.39.9.59 1.41.59.51 0 1.02-.2 1.41-.59l7.78-7.78 2.81-2.81c.8-.78.8-2.07 0-2.86zM5.41 20L4 18.59l7.72-7.72 1.47 1.35L5.41 20z\"/>\n",
              "  </svg>\n",
              "      </button>\n",
              "      \n",
              "  <style>\n",
              "    .colab-df-container {\n",
              "      display:flex;\n",
              "      flex-wrap:wrap;\n",
              "      gap: 12px;\n",
              "    }\n",
              "\n",
              "    .colab-df-convert {\n",
              "      background-color: #E8F0FE;\n",
              "      border: none;\n",
              "      border-radius: 50%;\n",
              "      cursor: pointer;\n",
              "      display: none;\n",
              "      fill: #1967D2;\n",
              "      height: 32px;\n",
              "      padding: 0 0 0 0;\n",
              "      width: 32px;\n",
              "    }\n",
              "\n",
              "    .colab-df-convert:hover {\n",
              "      background-color: #E2EBFA;\n",
              "      box-shadow: 0px 1px 2px rgba(60, 64, 67, 0.3), 0px 1px 3px 1px rgba(60, 64, 67, 0.15);\n",
              "      fill: #174EA6;\n",
              "    }\n",
              "\n",
              "    [theme=dark] .colab-df-convert {\n",
              "      background-color: #3B4455;\n",
              "      fill: #D2E3FC;\n",
              "    }\n",
              "\n",
              "    [theme=dark] .colab-df-convert:hover {\n",
              "      background-color: #434B5C;\n",
              "      box-shadow: 0px 1px 3px 1px rgba(0, 0, 0, 0.15);\n",
              "      filter: drop-shadow(0px 1px 2px rgba(0, 0, 0, 0.3));\n",
              "      fill: #FFFFFF;\n",
              "    }\n",
              "  </style>\n",
              "\n",
              "      <script>\n",
              "        const buttonEl =\n",
              "          document.querySelector('#df-6b4bb10f-e6c6-4eb6-b149-eeae07dc7c2b button.colab-df-convert');\n",
              "        buttonEl.style.display =\n",
              "          google.colab.kernel.accessAllowed ? 'block' : 'none';\n",
              "\n",
              "        async function convertToInteractive(key) {\n",
              "          const element = document.querySelector('#df-6b4bb10f-e6c6-4eb6-b149-eeae07dc7c2b');\n",
              "          const dataTable =\n",
              "            await google.colab.kernel.invokeFunction('convertToInteractive',\n",
              "                                                     [key], {});\n",
              "          if (!dataTable) return;\n",
              "\n",
              "          const docLinkHtml = 'Like what you see? Visit the ' +\n",
              "            '<a target=\"_blank\" href=https://colab.research.google.com/notebooks/data_table.ipynb>data table notebook</a>'\n",
              "            + ' to learn more about interactive tables.';\n",
              "          element.innerHTML = '';\n",
              "          dataTable['output_type'] = 'display_data';\n",
              "          await google.colab.output.renderOutput(dataTable, element);\n",
              "          const docLink = document.createElement('div');\n",
              "          docLink.innerHTML = docLinkHtml;\n",
              "          element.appendChild(docLink);\n",
              "        }\n",
              "      </script>\n",
              "    </div>\n",
              "  </div>\n",
              "  "
            ]
          },
          "metadata": {},
          "execution_count": 30
        }
      ]
    },
    {
      "cell_type": "markdown",
      "source": [
        "#### Create the spaCy dataset format"
      ],
      "metadata": {
        "id": "nPStZOc-8zyX"
      }
    },
    {
      "cell_type": "code",
      "source": [
        "df_word_pos_iob = df1[['Sentence #', 'Word', 'POS', 'Tag' ]].copy()"
      ],
      "metadata": {
        "id": "rdQJzzhg4N1C"
      },
      "execution_count": null,
      "outputs": []
    },
    {
      "cell_type": "code",
      "source": [
        "df_word_pos_iob.to_csv('/content/drive/MyDrive/Colab Notebooks/0. Data 606 - Capstone/Project Data/movie_data_word_pos_iob_w_space_sep.iob', sep= ' ',index=False)"
      ],
      "metadata": {
        "id": "WXmymXT043XU"
      },
      "execution_count": null,
      "outputs": []
    },
    {
      "cell_type": "markdown",
      "source": [
        "#### End - Create the spaCy dataset format"
      ],
      "metadata": {
        "id": "z-gCXyGS87ZX"
      }
    },
    {
      "cell_type": "code",
      "source": [
        "# create the initial data format list of tuples (Word, POS, Tag)\n",
        "grouped_df1 = df1.groupby('Sentence #').apply(agg_func)\n",
        "l_sentences = [s for s in grouped_df1]"
      ],
      "metadata": {
        "id": "mNOk8WWrIw8A"
      },
      "execution_count": null,
      "outputs": []
    },
    {
      "cell_type": "code",
      "source": [
        "l_sentences[0]"
      ],
      "metadata": {
        "colab": {
          "base_uri": "https://localhost:8080/"
        },
        "id": "hMmCqK98Jdc5",
        "outputId": "c4885fc5-108e-4fd3-f5b7-c44a33e39ef8"
      },
      "execution_count": null,
      "outputs": [
        {
          "output_type": "execute_result",
          "data": {
            "text/plain": [
              "[('what', 'WP', 'o-outside'),\n",
              " ('movies', 'NNS', 'o-outside'),\n",
              " ('star', 'VBP', 'o-outside'),\n",
              " ('bruce', 'NN', 'b-actor'),\n",
              " ('willis', 'NN', 'i-actor')]"
            ]
          },
          "metadata": {},
          "execution_count": 70
        }
      ]
    },
    {
      "cell_type": "code",
      "source": [
        "# make the feature set\n",
        "X = np.array([sent2features(s) for s in l_sentences], dtype=object)\n",
        "# make the label set\n",
        "y = np.array([sent2labels(s) for s in l_sentences], dtype=object)"
      ],
      "metadata": {
        "id": "9fUIVZYEJhkx"
      },
      "execution_count": null,
      "outputs": []
    },
    {
      "cell_type": "code",
      "source": [
        "X_train, X_test, y_train, y_test = train_test_split(X, y, test_size=0.25, random_state= 42)\n",
        "X_train.shape, X_test.shape"
      ],
      "metadata": {
        "colab": {
          "base_uri": "https://localhost:8080/"
        },
        "id": "mphVx5yN7uXt",
        "outputId": "7a0ec06b-324d-401f-95cc-19213f225c9a"
      },
      "execution_count": null,
      "outputs": [
        {
          "output_type": "execute_result",
          "data": {
            "text/plain": [
              "((16490,), (5497,))"
            ]
          },
          "metadata": {},
          "execution_count": 74
        }
      ]
    },
    {
      "cell_type": "code",
      "source": [
        "crf = sklearn_crfsuite.CRF(algorithm='lbfgs', c1= 0.1, c2= 0.1, max_iterations= 100, all_possible_transitions= True, verbose= True)\n",
        "crf.fit(X_train, y_train)"
      ],
      "metadata": {
        "colab": {
          "base_uri": "https://localhost:8080/"
        },
        "id": "ffjfQ28C8StG",
        "outputId": "507a208e-785b-4cc4-f90e-5a4e32f02b07"
      },
      "execution_count": null,
      "outputs": [
        {
          "output_type": "stream",
          "name": "stderr",
          "text": [
            "loading training data to CRFsuite: 100%|██████████| 16490/16490 [00:04<00:00, 4047.66it/s]\n"
          ]
        },
        {
          "output_type": "stream",
          "name": "stdout",
          "text": [
            "\n",
            "Feature generation\n",
            "type: CRF1d\n",
            "feature.minfreq: 0.000000\n",
            "feature.possible_states: 0\n",
            "feature.possible_transitions: 1\n",
            "0....1....2....3....4....5....6....7....8....9....10\n",
            "Number of features: 91322\n",
            "Seconds required: 0.643\n",
            "\n",
            "L-BFGS optimization\n",
            "c1: 0.100000\n",
            "c2: 0.100000\n",
            "num_memories: 6\n",
            "max_iterations: 100\n",
            "epsilon: 0.000010\n",
            "stop: 10\n",
            "delta: 0.000010\n",
            "linesearch: MoreThuente\n",
            "linesearch.max_iterations: 20\n",
            "\n",
            "Iter 1   time=1.46  loss=650159.30 active=89841 feature_norm=1.00\n",
            "Iter 2   time=2.22  loss=454812.58 active=88609 feature_norm=3.73\n",
            "Iter 3   time=0.82  loss=415481.49 active=85123 feature_norm=3.86\n",
            "Iter 4   time=0.86  loss=385990.76 active=88472 feature_norm=3.48\n",
            "Iter 5   time=0.74  loss=372468.08 active=88805 feature_norm=3.63\n",
            "Iter 6   time=0.74  loss=355992.18 active=89412 feature_norm=4.16\n",
            "Iter 7   time=0.76  loss=329547.71 active=90067 feature_norm=4.36\n",
            "Iter 8   time=0.74  loss=278664.42 active=89461 feature_norm=5.97\n",
            "Iter 9   time=0.72  loss=271178.94 active=89478 feature_norm=7.59\n",
            "Iter 10  time=1.04  loss=253134.39 active=90337 feature_norm=8.57\n",
            "Iter 11  time=1.20  loss=240829.96 active=90608 feature_norm=8.70\n",
            "Iter 12  time=1.23  loss=232200.19 active=90450 feature_norm=9.18\n",
            "Iter 13  time=0.75  loss=218194.07 active=90453 feature_norm=9.98\n",
            "Iter 14  time=0.72  loss=201163.81 active=89957 feature_norm=12.25\n",
            "Iter 15  time=0.73  loss=178313.33 active=90144 feature_norm=14.56\n",
            "Iter 16  time=0.76  loss=167425.73 active=90524 feature_norm=15.85\n",
            "Iter 17  time=0.76  loss=153727.09 active=90310 feature_norm=19.66\n",
            "Iter 18  time=0.75  loss=146138.08 active=90637 feature_norm=19.55\n",
            "Iter 19  time=0.74  loss=139540.79 active=90546 feature_norm=20.87\n",
            "Iter 20  time=0.74  loss=126133.30 active=89445 feature_norm=25.86\n",
            "Iter 21  time=0.73  loss=117540.83 active=90001 feature_norm=27.58\n",
            "Iter 22  time=0.74  loss=110624.05 active=90190 feature_norm=29.46\n",
            "Iter 23  time=0.77  loss=101601.85 active=89547 feature_norm=34.80\n",
            "Iter 24  time=0.75  loss=96672.27 active=90184 feature_norm=36.18\n",
            "Iter 25  time=0.74  loss=90935.19 active=89727 feature_norm=40.17\n",
            "Iter 26  time=1.00  loss=85618.39 active=89903 feature_norm=41.95\n",
            "Iter 27  time=1.19  loss=84908.98 active=89107 feature_norm=46.39\n",
            "Iter 28  time=1.23  loss=79292.52 active=89489 feature_norm=44.72\n",
            "Iter 29  time=0.80  loss=77904.31 active=89910 feature_norm=45.54\n",
            "Iter 30  time=1.48  loss=76182.60 active=88555 feature_norm=50.70\n",
            "Iter 31  time=0.77  loss=70725.71 active=88438 feature_norm=53.70\n",
            "Iter 32  time=0.73  loss=69032.92 active=88806 feature_norm=54.50\n",
            "Iter 33  time=0.74  loss=67497.71 active=88850 feature_norm=55.56\n",
            "Iter 34  time=0.74  loss=65084.39 active=87899 feature_norm=58.19\n",
            "Iter 35  time=0.73  loss=62492.76 active=87353 feature_norm=61.05\n",
            "Iter 36  time=0.76  loss=59234.19 active=86558 feature_norm=66.21\n",
            "Iter 37  time=1.50  loss=57419.07 active=85982 feature_norm=69.92\n",
            "Iter 38  time=0.76  loss=55082.68 active=86110 feature_norm=73.21\n",
            "Iter 39  time=0.78  loss=52673.63 active=85584 feature_norm=79.78\n",
            "Iter 40  time=1.03  loss=50715.52 active=85328 feature_norm=84.69\n",
            "Iter 41  time=1.21  loss=48560.57 active=84809 feature_norm=91.03\n",
            "Iter 42  time=1.16  loss=46418.29 active=84281 feature_norm=98.97\n",
            "Iter 43  time=0.77  loss=45074.23 active=84011 feature_norm=105.60\n",
            "Iter 44  time=0.79  loss=43636.67 active=84366 feature_norm=108.52\n",
            "Iter 45  time=0.77  loss=42624.44 active=84147 feature_norm=111.95\n",
            "Iter 46  time=0.78  loss=40639.71 active=83519 feature_norm=120.77\n",
            "Iter 47  time=0.78  loss=39867.66 active=82740 feature_norm=126.87\n",
            "Iter 48  time=0.77  loss=38391.07 active=82865 feature_norm=133.12\n",
            "Iter 49  time=0.77  loss=37290.93 active=82656 feature_norm=139.80\n",
            "Iter 50  time=0.77  loss=35901.09 active=82116 feature_norm=149.44\n",
            "Iter 51  time=0.77  loss=34658.07 active=81446 feature_norm=159.04\n",
            "Iter 52  time=0.79  loss=33734.48 active=80297 feature_norm=167.77\n",
            "Iter 53  time=0.74  loss=32968.08 active=79356 feature_norm=177.58\n",
            "Iter 54  time=0.76  loss=32319.82 active=79012 feature_norm=187.90\n",
            "Iter 55  time=1.16  loss=31981.36 active=78938 feature_norm=190.01\n",
            "Iter 56  time=1.27  loss=31555.28 active=78205 feature_norm=195.71\n",
            "Iter 57  time=0.78  loss=31251.08 active=77135 feature_norm=200.74\n",
            "Iter 58  time=0.73  loss=31033.62 active=77537 feature_norm=201.24\n",
            "Iter 59  time=0.74  loss=30853.57 active=77299 feature_norm=202.76\n",
            "Iter 60  time=0.73  loss=30620.41 active=76951 feature_norm=205.23\n",
            "Iter 61  time=0.75  loss=30422.03 active=76141 feature_norm=206.12\n",
            "Iter 62  time=0.76  loss=30238.89 active=75191 feature_norm=207.81\n",
            "Iter 63  time=0.74  loss=30073.16 active=75076 feature_norm=208.28\n",
            "Iter 64  time=0.75  loss=29896.73 active=74438 feature_norm=209.36\n",
            "Iter 65  time=0.74  loss=29735.66 active=73758 feature_norm=210.14\n",
            "Iter 66  time=0.75  loss=29599.76 active=73450 feature_norm=211.08\n",
            "Iter 67  time=0.76  loss=29462.67 active=72750 feature_norm=211.90\n",
            "Iter 68  time=0.74  loss=29335.90 active=72473 feature_norm=212.94\n",
            "Iter 69  time=0.78  loss=29229.38 active=72355 feature_norm=213.51\n",
            "Iter 70  time=1.23  loss=29129.18 active=72075 feature_norm=214.20\n",
            "Iter 71  time=1.21  loss=29034.53 active=71861 feature_norm=214.80\n",
            "Iter 72  time=1.10  loss=28952.18 active=71680 feature_norm=215.40\n",
            "Iter 73  time=0.79  loss=28873.62 active=71394 feature_norm=215.94\n",
            "Iter 74  time=0.76  loss=28796.69 active=71165 feature_norm=216.49\n",
            "Iter 75  time=0.74  loss=28728.60 active=71011 feature_norm=216.92\n",
            "Iter 76  time=0.73  loss=28669.15 active=70820 feature_norm=217.32\n",
            "Iter 77  time=0.74  loss=28610.47 active=70625 feature_norm=217.59\n",
            "Iter 78  time=0.73  loss=28553.28 active=70367 feature_norm=217.82\n",
            "Iter 79  time=0.73  loss=28500.18 active=69908 feature_norm=217.98\n",
            "Iter 80  time=0.74  loss=28454.01 active=69670 feature_norm=218.14\n",
            "Iter 81  time=0.74  loss=28407.23 active=69489 feature_norm=218.24\n",
            "Iter 82  time=0.74  loss=28363.34 active=69289 feature_norm=218.39\n",
            "Iter 83  time=0.73  loss=28322.87 active=69148 feature_norm=218.43\n",
            "Iter 84  time=0.77  loss=28285.61 active=68996 feature_norm=218.49\n",
            "Iter 85  time=0.77  loss=28251.22 active=68806 feature_norm=218.47\n",
            "Iter 86  time=1.19  loss=28218.72 active=68607 feature_norm=218.51\n",
            "Iter 87  time=1.19  loss=28190.87 active=68450 feature_norm=218.51\n",
            "Iter 88  time=1.11  loss=28165.27 active=68319 feature_norm=218.53\n",
            "Iter 89  time=0.99  loss=28141.01 active=68251 feature_norm=218.52\n",
            "Iter 90  time=0.95  loss=28115.94 active=68088 feature_norm=218.53\n",
            "Iter 91  time=0.75  loss=28090.33 active=67910 feature_norm=218.49\n",
            "Iter 92  time=0.74  loss=28068.01 active=67742 feature_norm=218.51\n",
            "Iter 93  time=0.74  loss=28046.77 active=67706 feature_norm=218.48\n",
            "Iter 94  time=0.75  loss=28026.28 active=67619 feature_norm=218.52\n",
            "Iter 95  time=0.95  loss=28006.00 active=67459 feature_norm=218.49\n",
            "Iter 96  time=0.91  loss=27987.72 active=67375 feature_norm=218.56\n",
            "Iter 97  time=0.77  loss=27969.38 active=67326 feature_norm=218.56\n",
            "Iter 98  time=1.01  loss=27953.50 active=67271 feature_norm=218.61\n",
            "Iter 99  time=1.16  loss=27937.10 active=67177 feature_norm=218.62\n",
            "Iter 100 time=1.20  loss=27921.79 active=67053 feature_norm=218.67\n",
            "L-BFGS terminated with the maximum number of iterations\n",
            "Total seconds required for training: 87.932\n",
            "\n",
            "Storing the model\n",
            "Number of active features: 67053 (91322)\n",
            "Number of active attributes: 28362 (42108)\n",
            "Number of active labels: 31 (31)\n",
            "Writing labels\n",
            "Writing attributes\n",
            "Writing feature references for transitions\n",
            "Writing feature references for attributes\n",
            "Seconds required: 0.028\n",
            "\n"
          ]
        },
        {
          "output_type": "stream",
          "name": "stderr",
          "text": [
            "/usr/local/lib/python3.8/dist-packages/sklearn/base.py:209: FutureWarning: From version 0.24, get_params will raise an AttributeError if a parameter cannot be retrieved as an instance attribute. Previously it would return None.\n",
            "  warnings.warn('From version 0.24, get_params will raise an '\n"
          ]
        },
        {
          "output_type": "execute_result",
          "data": {
            "text/plain": [
              "CRF(algorithm='lbfgs', all_possible_transitions=True, c1=0.1, c2=0.1,\n",
              "    keep_tempfiles=None, max_iterations=100, verbose=True)"
            ]
          },
          "metadata": {},
          "execution_count": 75
        }
      ]
    },
    {
      "cell_type": "code",
      "source": [
        "joblib.dump(crf, '/content/drive/MyDrive/Colab Notebooks/0. Data 606 - Capstone/Models/crf_ner_movie_model.pkl')"
      ],
      "metadata": {
        "colab": {
          "base_uri": "https://localhost:8080/"
        },
        "id": "MCZjt_vc8bev",
        "outputId": "b0bbf23e-0179-41a2-9257-42f00a883b57"
      },
      "execution_count": null,
      "outputs": [
        {
          "output_type": "execute_result",
          "data": {
            "text/plain": [
              "['/content/drive/MyDrive/Colab Notebooks/0. Data 606 - Capstone/Models/crf_ner_movie_model.pkl']"
            ]
          },
          "metadata": {},
          "execution_count": 123
        }
      ]
    },
    {
      "cell_type": "code",
      "source": [
        "y_pred = crf.predict(X_test)"
      ],
      "metadata": {
        "id": "Wk5QcNQ68yM2"
      },
      "execution_count": null,
      "outputs": []
    },
    {
      "cell_type": "code",
      "source": [
        "labels = crf.classes_\n",
        "labels"
      ],
      "metadata": {
        "colab": {
          "base_uri": "https://localhost:8080/"
        },
        "id": "-DS0ID5y85am",
        "outputId": "ebacaf24-bde8-4da1-e453-15448d7c08e0"
      },
      "execution_count": null,
      "outputs": [
        {
          "output_type": "execute_result",
          "data": {
            "text/plain": [
              "['o-outside',\n",
              " 'b-genre',\n",
              " 'b-director',\n",
              " 'i-director',\n",
              " 'b-title',\n",
              " 'i-title',\n",
              " 'b-year',\n",
              " 'i-genre',\n",
              " 'b-award',\n",
              " 'i-award',\n",
              " 'b-review',\n",
              " 'b-plot',\n",
              " 'i-plot',\n",
              " 'i-review',\n",
              " 'b-rating',\n",
              " 'i-rating',\n",
              " 'b-actor',\n",
              " 'i-actor',\n",
              " 'b-relationship',\n",
              " 'i-year',\n",
              " 'b-character',\n",
              " 'i-character',\n",
              " 'i-relationship',\n",
              " 'b-origin',\n",
              " 'i-origin',\n",
              " 'b-quote',\n",
              " 'i-quote',\n",
              " 'b-song',\n",
              " 'i-song',\n",
              " 'b-trailer',\n",
              " 'i-trailer']"
            ]
          },
          "metadata": {},
          "execution_count": 79
        }
      ]
    },
    {
      "cell_type": "code",
      "source": [
        "if 'o-outside' in labels:\n",
        "    labels.remove('o-outside')\n",
        "str_class_report = (crf_metrics.flat_classification_report(y_test,y_pred, labels=labels))\n",
        "print(str_class_report)"
      ],
      "metadata": {
        "colab": {
          "base_uri": "https://localhost:8080/"
        },
        "id": "Xl-HIy8Y9BJ6",
        "outputId": "cadd94ec-96b0-41f7-a541-94f27298feea"
      },
      "execution_count": null,
      "outputs": [
        {
          "output_type": "stream",
          "name": "stderr",
          "text": [
            "/usr/local/lib/python3.8/dist-packages/sklearn/utils/validation.py:67: FutureWarning: Pass labels=['b-genre', 'b-director', 'i-director', 'b-title', 'i-title', 'b-year', 'i-genre', 'b-award', 'i-award', 'b-review', 'b-plot', 'i-plot', 'i-review', 'b-rating', 'i-rating', 'b-actor', 'i-actor', 'b-relationship', 'i-year', 'b-character', 'i-character', 'i-relationship', 'b-origin', 'i-origin', 'b-quote', 'i-quote', 'b-song', 'i-song', 'b-trailer', 'i-trailer'] as keyword args. From version 0.25 passing these as positional arguments will result in an error\n",
            "  warnings.warn(\"Pass {} as keyword args. From version 0.25 \"\n",
            "/usr/local/lib/python3.8/dist-packages/sklearn/metrics/_classification.py:1221: UndefinedMetricWarning: Precision and F-score are ill-defined and being set to 0.0 in labels with no predicted samples. Use `zero_division` parameter to control this behavior.\n",
            "  _warn_prf(average, modifier, msg_start, len(result))\n"
          ]
        },
        {
          "output_type": "stream",
          "name": "stdout",
          "text": [
            "                precision    recall  f1-score   support\n",
            "\n",
            "       b-genre       0.89      0.89      0.89      2416\n",
            "    b-director       0.87      0.83      0.85      1076\n",
            "    i-director       0.90      0.83      0.87      1096\n",
            "       b-title       0.81      0.68      0.74       735\n",
            "       i-title       0.83      0.65      0.73      1082\n",
            "        b-year       0.96      0.96      0.96      1722\n",
            "       i-genre       0.75      0.73      0.74       876\n",
            "       b-award       0.60      0.52      0.56       110\n",
            "       i-award       0.66      0.71      0.69       267\n",
            "      b-review       0.78      0.71      0.74       935\n",
            "        b-plot       0.50      0.48      0.49      2565\n",
            "        i-plot       0.84      0.92      0.88     19162\n",
            "      i-review       0.74      0.71      0.73       725\n",
            "      b-rating       0.98      0.97      0.98       647\n",
            "      i-rating       0.96      0.86      0.91       278\n",
            "       b-actor       0.92      0.94      0.93      2576\n",
            "       i-actor       0.92      0.93      0.93      3010\n",
            "b-relationship       0.65      0.44      0.53       201\n",
            "        i-year       0.93      0.95      0.94       887\n",
            "   b-character       0.71      0.49      0.58       448\n",
            "   i-character       0.69      0.56      0.62       345\n",
            "i-relationship       0.55      0.35      0.43       377\n",
            "      b-origin       0.38      0.31      0.34       220\n",
            "      i-origin       0.64      0.58      0.61       961\n",
            "       b-quote       0.45      0.26      0.33        39\n",
            "       i-quote       0.68      0.47      0.56       276\n",
            "        b-song       0.78      0.43      0.56        92\n",
            "        i-song       0.79      0.33      0.46       215\n",
            "     b-trailer       0.65      0.71      0.68        31\n",
            "     i-trailer       0.00      0.00      0.00         6\n",
            "\n",
            "     micro avg       0.83      0.83      0.83     43376\n",
            "     macro avg       0.73      0.64      0.67     43376\n",
            "  weighted avg       0.82      0.83      0.83     43376\n",
            "\n"
          ]
        }
      ]
    },
    {
      "cell_type": "code",
      "source": [
        "dict_class_report = dict(crf_metrics.flat_classification_report(y_test,y_pred, labels=labels, output_dict=True))"
      ],
      "metadata": {
        "colab": {
          "base_uri": "https://localhost:8080/"
        },
        "id": "QiVHOi5D9M3G",
        "outputId": "66f7c06f-33d0-4f38-b6c3-1a603b93d565"
      },
      "execution_count": null,
      "outputs": [
        {
          "output_type": "stream",
          "name": "stderr",
          "text": [
            "/usr/local/lib/python3.8/dist-packages/sklearn/utils/validation.py:67: FutureWarning: Pass labels=['b-genre', 'b-director', 'i-director', 'b-title', 'i-title', 'b-year', 'i-genre', 'b-award', 'i-award', 'b-review', 'b-plot', 'i-plot', 'i-review', 'b-rating', 'i-rating', 'b-actor', 'i-actor', 'b-relationship', 'i-year', 'b-character', 'i-character', 'i-relationship', 'b-origin', 'i-origin', 'b-quote', 'i-quote', 'b-song', 'i-song', 'b-trailer', 'i-trailer'] as keyword args. From version 0.25 passing these as positional arguments will result in an error\n",
            "  warnings.warn(\"Pass {} as keyword args. From version 0.25 \"\n",
            "/usr/local/lib/python3.8/dist-packages/sklearn/metrics/_classification.py:1221: UndefinedMetricWarning: Precision and F-score are ill-defined and being set to 0.0 in labels with no predicted samples. Use `zero_division` parameter to control this behavior.\n",
            "  _warn_prf(average, modifier, msg_start, len(result))\n"
          ]
        }
      ]
    },
    {
      "cell_type": "code",
      "source": [],
      "metadata": {
        "id": "WYznGw4GAUAI"
      },
      "execution_count": null,
      "outputs": []
    },
    {
      "cell_type": "code",
      "source": [
        "df_metrics = pd.DataFrame(dict_class_report).T\n",
        "df_metrics.rename(index={'index': 'Tag'}, inplace=True)\n",
        "df_metrics.head()"
      ],
      "metadata": {
        "colab": {
          "base_uri": "https://localhost:8080/",
          "height": 206
        },
        "id": "tU0h6TYu_wZd",
        "outputId": "e2b56d62-b1d5-44f3-d3bd-1aef18213ad9"
      },
      "execution_count": null,
      "outputs": [
        {
          "output_type": "execute_result",
          "data": {
            "text/plain": [
              "            precision    recall  f1-score  support\n",
              "b-genre      0.890586  0.892798  0.891691   2416.0\n",
              "b-director   0.874140  0.826208  0.849498   1076.0\n",
              "i-director   0.904055  0.833942  0.867584   1096.0\n",
              "b-title      0.810373  0.680272  0.739645    735.0\n",
              "i-title      0.827423  0.646950  0.726141   1082.0"
            ],
            "text/html": [
              "\n",
              "  <div id=\"df-54d01c4d-e573-4116-966f-af36420ef27e\">\n",
              "    <div class=\"colab-df-container\">\n",
              "      <div>\n",
              "<style scoped>\n",
              "    .dataframe tbody tr th:only-of-type {\n",
              "        vertical-align: middle;\n",
              "    }\n",
              "\n",
              "    .dataframe tbody tr th {\n",
              "        vertical-align: top;\n",
              "    }\n",
              "\n",
              "    .dataframe thead th {\n",
              "        text-align: right;\n",
              "    }\n",
              "</style>\n",
              "<table border=\"1\" class=\"dataframe\">\n",
              "  <thead>\n",
              "    <tr style=\"text-align: right;\">\n",
              "      <th></th>\n",
              "      <th>precision</th>\n",
              "      <th>recall</th>\n",
              "      <th>f1-score</th>\n",
              "      <th>support</th>\n",
              "    </tr>\n",
              "  </thead>\n",
              "  <tbody>\n",
              "    <tr>\n",
              "      <th>b-genre</th>\n",
              "      <td>0.890586</td>\n",
              "      <td>0.892798</td>\n",
              "      <td>0.891691</td>\n",
              "      <td>2416.0</td>\n",
              "    </tr>\n",
              "    <tr>\n",
              "      <th>b-director</th>\n",
              "      <td>0.874140</td>\n",
              "      <td>0.826208</td>\n",
              "      <td>0.849498</td>\n",
              "      <td>1076.0</td>\n",
              "    </tr>\n",
              "    <tr>\n",
              "      <th>i-director</th>\n",
              "      <td>0.904055</td>\n",
              "      <td>0.833942</td>\n",
              "      <td>0.867584</td>\n",
              "      <td>1096.0</td>\n",
              "    </tr>\n",
              "    <tr>\n",
              "      <th>b-title</th>\n",
              "      <td>0.810373</td>\n",
              "      <td>0.680272</td>\n",
              "      <td>0.739645</td>\n",
              "      <td>735.0</td>\n",
              "    </tr>\n",
              "    <tr>\n",
              "      <th>i-title</th>\n",
              "      <td>0.827423</td>\n",
              "      <td>0.646950</td>\n",
              "      <td>0.726141</td>\n",
              "      <td>1082.0</td>\n",
              "    </tr>\n",
              "  </tbody>\n",
              "</table>\n",
              "</div>\n",
              "      <button class=\"colab-df-convert\" onclick=\"convertToInteractive('df-54d01c4d-e573-4116-966f-af36420ef27e')\"\n",
              "              title=\"Convert this dataframe to an interactive table.\"\n",
              "              style=\"display:none;\">\n",
              "        \n",
              "  <svg xmlns=\"http://www.w3.org/2000/svg\" height=\"24px\"viewBox=\"0 0 24 24\"\n",
              "       width=\"24px\">\n",
              "    <path d=\"M0 0h24v24H0V0z\" fill=\"none\"/>\n",
              "    <path d=\"M18.56 5.44l.94 2.06.94-2.06 2.06-.94-2.06-.94-.94-2.06-.94 2.06-2.06.94zm-11 1L8.5 8.5l.94-2.06 2.06-.94-2.06-.94L8.5 2.5l-.94 2.06-2.06.94zm10 10l.94 2.06.94-2.06 2.06-.94-2.06-.94-.94-2.06-.94 2.06-2.06.94z\"/><path d=\"M17.41 7.96l-1.37-1.37c-.4-.4-.92-.59-1.43-.59-.52 0-1.04.2-1.43.59L10.3 9.45l-7.72 7.72c-.78.78-.78 2.05 0 2.83L4 21.41c.39.39.9.59 1.41.59.51 0 1.02-.2 1.41-.59l7.78-7.78 2.81-2.81c.8-.78.8-2.07 0-2.86zM5.41 20L4 18.59l7.72-7.72 1.47 1.35L5.41 20z\"/>\n",
              "  </svg>\n",
              "      </button>\n",
              "      \n",
              "  <style>\n",
              "    .colab-df-container {\n",
              "      display:flex;\n",
              "      flex-wrap:wrap;\n",
              "      gap: 12px;\n",
              "    }\n",
              "\n",
              "    .colab-df-convert {\n",
              "      background-color: #E8F0FE;\n",
              "      border: none;\n",
              "      border-radius: 50%;\n",
              "      cursor: pointer;\n",
              "      display: none;\n",
              "      fill: #1967D2;\n",
              "      height: 32px;\n",
              "      padding: 0 0 0 0;\n",
              "      width: 32px;\n",
              "    }\n",
              "\n",
              "    .colab-df-convert:hover {\n",
              "      background-color: #E2EBFA;\n",
              "      box-shadow: 0px 1px 2px rgba(60, 64, 67, 0.3), 0px 1px 3px 1px rgba(60, 64, 67, 0.15);\n",
              "      fill: #174EA6;\n",
              "    }\n",
              "\n",
              "    [theme=dark] .colab-df-convert {\n",
              "      background-color: #3B4455;\n",
              "      fill: #D2E3FC;\n",
              "    }\n",
              "\n",
              "    [theme=dark] .colab-df-convert:hover {\n",
              "      background-color: #434B5C;\n",
              "      box-shadow: 0px 1px 3px 1px rgba(0, 0, 0, 0.15);\n",
              "      filter: drop-shadow(0px 1px 2px rgba(0, 0, 0, 0.3));\n",
              "      fill: #FFFFFF;\n",
              "    }\n",
              "  </style>\n",
              "\n",
              "      <script>\n",
              "        const buttonEl =\n",
              "          document.querySelector('#df-54d01c4d-e573-4116-966f-af36420ef27e button.colab-df-convert');\n",
              "        buttonEl.style.display =\n",
              "          google.colab.kernel.accessAllowed ? 'block' : 'none';\n",
              "\n",
              "        async function convertToInteractive(key) {\n",
              "          const element = document.querySelector('#df-54d01c4d-e573-4116-966f-af36420ef27e');\n",
              "          const dataTable =\n",
              "            await google.colab.kernel.invokeFunction('convertToInteractive',\n",
              "                                                     [key], {});\n",
              "          if (!dataTable) return;\n",
              "\n",
              "          const docLinkHtml = 'Like what you see? Visit the ' +\n",
              "            '<a target=\"_blank\" href=https://colab.research.google.com/notebooks/data_table.ipynb>data table notebook</a>'\n",
              "            + ' to learn more about interactive tables.';\n",
              "          element.innerHTML = '';\n",
              "          dataTable['output_type'] = 'display_data';\n",
              "          await google.colab.output.renderOutput(dataTable, element);\n",
              "          const docLink = document.createElement('div');\n",
              "          docLink.innerHTML = docLinkHtml;\n",
              "          element.appendChild(docLink);\n",
              "        }\n",
              "      </script>\n",
              "    </div>\n",
              "  </div>\n",
              "  "
            ]
          },
          "metadata": {},
          "execution_count": 112
        }
      ]
    },
    {
      "cell_type": "code",
      "source": [
        "# https://stackoverflow.com/questions/28200786/how-to-plot-scikit-learn-classification-report\n",
        "#https://stackoverflow.com/questions/38913965/make-the-size-of-a-heatmap-bigger-with-seaborn\n",
        "fig, ax = plt.subplots(figsize=(10,10))         # Sample figsize in inches\n",
        "sns.heatmap(df_metrics.iloc[:,:-1], annot=True, linewidths=.5, ax=ax)"
      ],
      "metadata": {
        "colab": {
          "base_uri": "https://localhost:8080/",
          "height": 610
        },
        "id": "38uiCZZwBIfX",
        "outputId": "b0ab2acb-3bbe-44cd-b99b-c3e29ec24be3"
      },
      "execution_count": null,
      "outputs": [
        {
          "output_type": "execute_result",
          "data": {
            "text/plain": [
              "<matplotlib.axes._subplots.AxesSubplot at 0x7fa15c600a60>"
            ]
          },
          "metadata": {},
          "execution_count": 120
        },
        {
          "output_type": "display_data",
          "data": {
            "text/plain": [
              "<Figure size 720x720 with 2 Axes>"
            ],
            "image/png": "[encoded data removed]"
          },
          "metadata": {
            "needs_background": "light"
          }
        }
      ]
    },
    {
      "cell_type": "code",
      "source": [],
      "metadata": {
        "id": "FjGVyxGyCeji"
      },
      "execution_count": null,
      "outputs": []
    }
  ]
}